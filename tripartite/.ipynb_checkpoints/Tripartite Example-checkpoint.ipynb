{
 "cells": [
  {
   "cell_type": "code",
   "execution_count": 1,
   "metadata": {},
   "outputs": [],
   "source": [
    "import numpy as np\n",
    "import matplotlib.pyplot as plt\n",
    "%matplotlib inline"
   ]
  },
  {
   "cell_type": "code",
   "execution_count": 2,
   "metadata": {},
   "outputs": [],
   "source": [
    "import os\n",
    "import sys\n",
    "linkpred_path = os.path.abspath(os.path.join('../linkpred/'))\n",
    "if linkpred_path not in sys.path:\n",
    "    sys.path.append(linkpred_path)"
   ]
  },
  {
   "cell_type": "code",
   "execution_count": 3,
   "metadata": {},
   "outputs": [],
   "source": [
    "import b_datasets as ds\n",
    "import b_val as val\n",
    "import b_lcp as lcp\n",
    "import b_mi as mi\n",
    "import b_si as si\n",
    "import b_probas as probas"
   ]
  },
  {
   "cell_type": "code",
   "execution_count": 4,
   "metadata": {},
   "outputs": [],
   "source": [
    "fraction = 0.1\n",
    "loops = 1\n",
    "verbose=True\n",
    "plot=False"
   ]
  },
  {
   "cell_type": "code",
   "execution_count": 6,
   "metadata": {},
   "outputs": [],
   "source": [
    "s_nt, nt_nr, nr_t = ds.load_elegans_data()"
   ]
  },
  {
   "cell_type": "code",
   "execution_count": 8,
   "metadata": {},
   "outputs": [],
   "source": [
    "links_to_del_s_nt = val.get_links_to_del(s_nt, fraction=fraction, loops=loops)\n",
    "links_to_del_nt_nr = val.get_links_to_del(nt_nr, fraction=fraction, loops=loops)\n",
    "links_to_del_nr_t = val.get_links_to_del(nr_t, fraction=fraction, loops=loops)"
   ]
  },
  {
   "cell_type": "markdown",
   "metadata": {},
   "source": [
    "For the tripartite MI code, all the options are similar but you need to pass another biadjacency matrix - denoted $y$ - which describes the other bipartite layer of the tripartite network."
   ]
  },
  {
   "cell_type": "code",
   "execution_count": 10,
   "metadata": {},
   "outputs": [
    {
     "name": "stdout",
     "output_type": "stream",
     "text": [
      "Trial 1 of 1\n",
      "Computing mutual information\n",
      "82.62 %, 0.01 minutes\n",
      "[0.01417271 0.61059771]\n",
      "[0. 0.]\n"
     ]
    }
   ],
   "source": [
    "r = val.cross_val(si.si_scores, s_nt, links_to_del_s_nt, *(probas.proba_comb_deg_all, mi.mi_lcl_cc), \n",
    "                   y=nt_nr, mode='si_tp', loops=loops, verbose=verbose, plot=plot)\n",
    "print(np.mean(r, axis=0))\n",
    "print(np.std(r, axis=0))"
   ]
  },
  {
   "cell_type": "markdown",
   "metadata": {},
   "source": [
    "LCLs are also implemented for the tripartite case, in theory this could be extended to other metrics which are ust a weighting of LCLs. Similar to the MI example shown above, you have to specify the biadjacency matrix where the link prediction will take place and the biadjacency matrix of the other layer of the tripartite network."
   ]
  },
  {
   "cell_type": "code",
   "execution_count": 11,
   "metadata": {},
   "outputs": [
    {
     "name": "stdout",
     "output_type": "stream",
     "text": [
      "Trial 1 of 1\n",
      "[0.01323524 0.53581988]\n",
      "[0. 0.]\n"
     ]
    }
   ],
   "source": [
    "r = val.cross_val(lcp.tripartite_lcls, s_nt, links_to_del_s_nt, (True,),\n",
    "                   y=nt_nr, mode='lcp_tp', loops=loops, verbose=verbose, plot=plot)\n",
    "print(np.mean(r, axis=0))\n",
    "print(np.std(r, axis=0))"
   ]
  },
  {
   "cell_type": "code",
   "execution_count": null,
   "metadata": {},
   "outputs": [],
   "source": []
  }
 ],
 "metadata": {
  "kernelspec": {
   "display_name": "Python 3",
   "language": "python",
   "name": "python3"
  },
  "language_info": {
   "codemirror_mode": {
    "name": "ipython",
    "version": 3
   },
   "file_extension": ".py",
   "mimetype": "text/x-python",
   "name": "python",
   "nbconvert_exporter": "python",
   "pygments_lexer": "ipython3",
   "version": "3.6.9"
  }
 },
 "nbformat": 4,
 "nbformat_minor": 2
}
