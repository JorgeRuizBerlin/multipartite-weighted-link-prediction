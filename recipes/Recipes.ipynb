{
 "cells": [
  {
   "cell_type": "code",
   "execution_count": 1,
   "metadata": {},
   "outputs": [],
   "source": [
    "import numpy as np\n",
    "import networkx as nx\n",
    "import matplotlib.pyplot as plt\n",
    "import pandas as pd\n",
    "from networkx.algorithms import bipartite"
   ]
  },
  {
   "cell_type": "markdown",
   "metadata": {},
   "source": [
    "### Component info"
   ]
  },
  {
   "cell_type": "code",
   "execution_count": 2,
   "metadata": {},
   "outputs": [],
   "source": [
    "comp_info = np.loadtxt('../data/recipes/comp_info.tsv', dtype=str, delimiter='\\t')"
   ]
  },
  {
   "cell_type": "code",
   "execution_count": 3,
   "metadata": {},
   "outputs": [
    {
     "data": {
      "text/plain": [
       "array([['0', 'jasmone', '488-10-8'],\n",
       "       ['1', '5-methylhexanoic_acid', '628-46-6'],\n",
       "       ['2', 'l-glutamine', '56-85-9'],\n",
       "       ...,\n",
       "       ['1104', 'guaiacol', '90-05-1'],\n",
       "       ['1105', '(+/?)-methyl_5-acetoxyhexanoate', '35234-22-1'],\n",
       "       ['1106', 'ethyl_sorbate', '2396-84-1']], dtype='<U93')"
      ]
     },
     "execution_count": 3,
     "metadata": {},
     "output_type": "execute_result"
    }
   ],
   "source": [
    "comp_info"
   ]
  },
  {
   "cell_type": "code",
   "execution_count": 4,
   "metadata": {},
   "outputs": [],
   "source": [
    "id_comp_dict = dict()\n",
    "for line in comp_info:\n",
    "    id_comp_dict[int(line[0])] = line[1]\n",
    "comp_id_dict = {v:k for k, v in id_comp_dict.items()}"
   ]
  },
  {
   "cell_type": "markdown",
   "metadata": {},
   "source": [
    "### Ingredient info"
   ]
  },
  {
   "cell_type": "code",
   "execution_count": 5,
   "metadata": {},
   "outputs": [],
   "source": [
    "ingr_info = np.loadtxt('../data/recipes/ingr_info.tsv', dtype=str, delimiter='\\t')"
   ]
  },
  {
   "cell_type": "code",
   "execution_count": 6,
   "metadata": {},
   "outputs": [
    {
     "data": {
      "text/plain": [
       "array([['0', 'magnolia_tripetala', 'flower'],\n",
       "       ['1', 'calyptranthes_parriculata', 'plant'],\n",
       "       ['2', 'chamaecyparis_pisifera_oil', 'plant derivative'],\n",
       "       ...,\n",
       "       ['1527', 'green_tea', 'plant derivative'],\n",
       "       ['1528', 'artemisia_porrecta_oil', 'plant derivative'],\n",
       "       ['1529', 'munster_cheese', 'dairy']], dtype='<U35')"
      ]
     },
     "execution_count": 6,
     "metadata": {},
     "output_type": "execute_result"
    }
   ],
   "source": [
    "ingr_info"
   ]
  },
  {
   "cell_type": "code",
   "execution_count": 7,
   "metadata": {},
   "outputs": [],
   "source": [
    "id_ingr_dict = dict()\n",
    "for line in ingr_info:\n",
    "    id_ingr_dict[int(line[0])] = line[1]\n",
    "ingr_id_dict = {v:k for k, v in id_ingr_dict.items()}"
   ]
  },
  {
   "cell_type": "markdown",
   "metadata": {},
   "source": [
    "### Recipes and regions"
   ]
  },
  {
   "cell_type": "code",
   "execution_count": 8,
   "metadata": {},
   "outputs": [],
   "source": [
    "recipes_dict = dict()\n",
    "regions_dict = dict()"
   ]
  },
  {
   "cell_type": "code",
   "execution_count": 9,
   "metadata": {},
   "outputs": [],
   "source": [
    "with open('../data/recipes/menu_recipes.txt') as f:\n",
    "    for i, line in enumerate(f):\n",
    "        alist = line.rstrip('\\n').split()\n",
    "        region = alist[0]\n",
    "        ingr = alist[1:]\n",
    "        regions_dict[i] = region\n",
    "        recipes_dict[i] = ingr"
   ]
  },
  {
   "cell_type": "code",
   "execution_count": 10,
   "metadata": {},
   "outputs": [],
   "source": [
    "id_region_dict = dict()\n",
    "region_id_dict = dict()\n",
    "for i, region in enumerate(set(regions_dict.values())):\n",
    "    id_region_dict[i] = region\n",
    "    region_id_dict[region] = i"
   ]
  },
  {
   "cell_type": "markdown",
   "metadata": {},
   "source": [
    "### Region/recipe biadjacency matrix"
   ]
  },
  {
   "cell_type": "code",
   "execution_count": 11,
   "metadata": {},
   "outputs": [],
   "source": [
    "bmat_region_recipe = np.zeros((len(id_region_dict), len(recipes_dict)))\n",
    "for recipe, region in regions_dict.items():\n",
    "    j = recipe\n",
    "    i = region_id_dict[region]\n",
    "    bmat_region_recipe[i, j] = 1"
   ]
  },
  {
   "cell_type": "code",
   "execution_count": 12,
   "metadata": {},
   "outputs": [
    {
     "data": {
      "text/plain": [
       "(8, 2458)"
      ]
     },
     "execution_count": 12,
     "metadata": {},
     "output_type": "execute_result"
    }
   ],
   "source": [
    "bmat_region_recipe.shape"
   ]
  },
  {
   "cell_type": "markdown",
   "metadata": {},
   "source": [
    "### Recipe/ingredient biadjacency matrix"
   ]
  },
  {
   "cell_type": "code",
   "execution_count": 13,
   "metadata": {},
   "outputs": [],
   "source": [
    "bmat_recipe_ingr = np.zeros((len(recipes_dict), len(id_ingr_dict)))\n",
    "for recipe, ingreds in recipes_dict.items():\n",
    "    i = recipe\n",
    "    jlist = [ingr_id_dict[x] for x in ingreds]\n",
    "    bmat_recipe_ingr[i, jlist] = 1"
   ]
  },
  {
   "cell_type": "code",
   "execution_count": 14,
   "metadata": {},
   "outputs": [
    {
     "name": "stdout",
     "output_type": "stream",
     "text": [
      "['sesame_oil', 'garlic', 'lettuce', 'beef', 'sake', 'beef_broth', 'scallion', 'oyster', 'vegetable_oil', 'soy_sauce', 'starch', 'onion']\n",
      "['onion', 'beef', 'starch', 'sake', 'soy_sauce', 'scallion', 'lettuce', 'garlic', 'vegetable_oil', 'beef_broth', 'oyster', 'sesame_oil']\n"
     ]
    }
   ],
   "source": [
    "print([id_ingr_dict[x] for x in np.argwhere(bmat_recipe_ingr[0]).flatten()])\n",
    "print(recipes_dict[0])"
   ]
  },
  {
   "cell_type": "code",
   "execution_count": 15,
   "metadata": {},
   "outputs": [
    {
     "data": {
      "text/plain": [
       "(2458, 1530)"
      ]
     },
     "execution_count": 15,
     "metadata": {},
     "output_type": "execute_result"
    }
   ],
   "source": [
    "bmat_recipe_ingr.shape"
   ]
  },
  {
   "cell_type": "markdown",
   "metadata": {},
   "source": [
    "### Ingredient/compound biadjacency matrix"
   ]
  },
  {
   "cell_type": "code",
   "execution_count": 16,
   "metadata": {},
   "outputs": [],
   "source": [
    "ingr_comp = np.loadtxt('../data/recipes/ingr_comp.tsv', dtype=int, delimiter='\\t')"
   ]
  },
  {
   "cell_type": "code",
   "execution_count": 17,
   "metadata": {},
   "outputs": [
    {
     "data": {
      "text/plain": [
       "array([[1392,  906],\n",
       "       [1259,  861],\n",
       "       [1079,  673],\n",
       "       ...,\n",
       "       [ 689,  650],\n",
       "       [ 689,  297],\n",
       "       [1080,   13]])"
      ]
     },
     "execution_count": 17,
     "metadata": {},
     "output_type": "execute_result"
    }
   ],
   "source": [
    "ingr_comp"
   ]
  },
  {
   "cell_type": "code",
   "execution_count": 18,
   "metadata": {},
   "outputs": [],
   "source": [
    "bmat_ingr_comp = np.zeros((len(id_ingr_dict), len(id_comp_dict)))\n",
    "for item in ingr_comp:\n",
    "    i, j = item\n",
    "    bmat_ingr_comp[i, j] = 1"
   ]
  },
  {
   "cell_type": "code",
   "execution_count": 19,
   "metadata": {},
   "outputs": [
    {
     "name": "stdout",
     "output_type": "stream",
     "text": [
      "1.0\n",
      "0.0\n"
     ]
    }
   ],
   "source": [
    "print(bmat_ingr_comp[1392, 906])\n",
    "print(bmat_ingr_comp[1392, 907])"
   ]
  },
  {
   "cell_type": "code",
   "execution_count": 20,
   "metadata": {},
   "outputs": [
    {
     "data": {
      "text/plain": [
       "(1530, 1107)"
      ]
     },
     "execution_count": 20,
     "metadata": {},
     "output_type": "execute_result"
    }
   ],
   "source": [
    "bmat_ingr_comp.shape"
   ]
  },
  {
   "cell_type": "markdown",
   "metadata": {},
   "source": [
    "### Setup for link prediction"
   ]
  },
  {
   "cell_type": "code",
   "execution_count": 21,
   "metadata": {},
   "outputs": [],
   "source": [
    "import os\n",
    "import sys\n",
    "linkpred_path = os.path.abspath(os.path.join('../linkpred/'))\n",
    "if linkpred_path not in sys.path:\n",
    "    sys.path.append(linkpred_path)\n",
    "\n",
    "import b_lcp, b_mi, b_probas, b_si, b_util, b_val"
   ]
  },
  {
   "cell_type": "code",
   "execution_count": 22,
   "metadata": {},
   "outputs": [],
   "source": [
    "fraction = 0.1\n",
    "loops = 100 #1\n",
    "verbose=True\n",
    "plot=True"
   ]
  },
  {
   "cell_type": "code",
   "execution_count": 23,
   "metadata": {},
   "outputs": [],
   "source": [
    "# Precompute links to delete for all datasets\n",
    "links_to_del_region_recipe = b_val.get_links_to_del(bmat_region_recipe, fraction=fraction, loops=loops)\n",
    "links_to_del_recipe_ingr = b_val.get_links_to_del(bmat_recipe_ingr, fraction=fraction, loops=loops)\n",
    "links_to_del_ingr_comp = b_val.get_links_to_del(bmat_ingr_comp, fraction=fraction, loops=loops)"
   ]
  },
  {
   "cell_type": "code",
   "execution_count": null,
   "metadata": {},
   "outputs": [],
   "source": []
  },
  {
   "cell_type": "markdown",
   "metadata": {},
   "source": [
    "# Jorge's approach:\n",
    "## to calculate ALL the scores for a given dataset and deleted links, then call it in the next functions"
   ]
  },
  {
   "cell_type": "code",
   "execution_count": 24,
   "metadata": {},
   "outputs": [],
   "source": [
    "def delete_links(x, links_to_del):\n",
    "    \"\"\"Deletes the specified links from an adjacency matrix.\"\"\"\n",
    "    x_ = np.copy(x)\n",
    "    for link in links_to_del:\n",
    "        x_[link[0], link[1]] = 0\n",
    "        \n",
    "    return x_"
   ]
  },
  {
   "cell_type": "code",
   "execution_count": null,
   "metadata": {},
   "outputs": [],
   "source": [
    "bmat_recipe_ingr.shape"
   ]
  },
  {
   "cell_type": "code",
   "execution_count": null,
   "metadata": {},
   "outputs": [],
   "source": [
    "links_to_del_recipe_ingr.shape"
   ]
  },
  {
   "cell_type": "code",
   "execution_count": null,
   "metadata": {},
   "outputs": [],
   "source": [
    "scores_list = []\n",
    "for i in range(loops):    \n",
    "    x_ = delete_links(bmat_recipe_ingr, links_to_del_recipe_ingr[i])\n",
    "    missing = np.argwhere(x_ == 0)\n",
    "    ## SAVE ALL THE SCORES:\n",
    "    lcp_scores = b_lcp.bipartite_lcp_all(x_, missing, verbose=verbose)\n",
    "    scores_list.append(lcp_scores)\n",
    "scores_array = np.array(scores_list)"
   ]
  },
  {
   "cell_type": "code",
   "execution_count": null,
   "metadata": {},
   "outputs": [],
   "source": [
    "scores_array.shape"
   ]
  },
  {
   "cell_type": "code",
   "execution_count": null,
   "metadata": {},
   "outputs": [],
   "source": [
    "assert links_to_del_recipe_ingr.shape[0] == loops"
   ]
  },
  {
   "cell_type": "code",
   "execution_count": null,
   "metadata": {},
   "outputs": [],
   "source": [
    "metrics_list = ['lcl', 'cn', 'jc', 'car', 'cjc', 'cpa', 'ra', 'aa', 'cra', 'caa', 'cpi']\n",
    "\n",
    "def cross_val(scores, metric, loops=10, raw_output=False, verbose=True, plot=False):\n",
    "    if raw_output:\n",
    "        scores_list = []\n",
    "        true_list = []\n",
    "    else:\n",
    "        results = np.zeros((loops, 2))\n",
    "\n",
    "    for i in range(loops):\n",
    "        if verbose:\n",
    "            print('Trial {} of {}'.format(i + 1, loops))\n",
    "        x_ = delete_links(bmat_recipe_ingr, links_to_del_recipe_ingr[i])\n",
    "        missing = np.argwhere(x_ == 0)\n",
    "        true = bmat_recipe_ingr[missing[:,0], missing[:,1]]\n",
    "        \n",
    "        score = scores_array[i, metrics_list.index(metric)]\n",
    "        \n",
    "        if raw_output:\n",
    "            scores_list.append(score)\n",
    "            true_list.append(true)\n",
    "        else:\n",
    "            results[i] = b_val.evaluate_predictions(true, score, plot=plot)\n",
    "        \n",
    "    if raw_output:\n",
    "        return true_list, scores_list\n",
    "    else:\n",
    "        return results"
   ]
  },
  {
   "cell_type": "code",
   "execution_count": null,
   "metadata": {
    "scrolled": true
   },
   "outputs": [],
   "source": [
    "r_cn = cross_val(lcp_scores, 'cn', loops=loops, verbose=verbose, plot=plot)\n",
    "print(np.mean(r_cn, axis=0))\n",
    "print(np.std(r_cn, axis=0))"
   ]
  },
  {
   "cell_type": "code",
   "execution_count": null,
   "metadata": {},
   "outputs": [],
   "source": [
    "r_cn"
   ]
  },
  {
   "cell_type": "code",
   "execution_count": null,
   "metadata": {
    "scrolled": true
   },
   "outputs": [],
   "source": [
    "r_lcl = cross_val(lcp_scores, 'lcl', loops=loops, verbose=verbose, plot=plot)\n",
    "print(np.mean(r_lcl, axis=0))\n",
    "print(np.std(r_lcl, axis=0))"
   ]
  },
  {
   "cell_type": "code",
   "execution_count": null,
   "metadata": {},
   "outputs": [],
   "source": [
    "r_lcl"
   ]
  },
  {
   "cell_type": "markdown",
   "metadata": {},
   "source": [
    "### Recipe-Ingredient"
   ]
  },
  {
   "cell_type": "code",
   "execution_count": null,
   "metadata": {},
   "outputs": [],
   "source": [
    "# CN\n",
    "r01 = b_val.cross_val(b_lcp.bipartite_lcp_single, bmat_recipe_ingr, links_to_del_recipe_ingr, \n",
    "                    *('cn',), mode='lcp', loops=loops, verbose=verbose, plot=plot)\n",
    "print(np.mean(r01, axis=0))\n",
    "print(np.std(r01, axis=0))"
   ]
  },
  {
   "cell_type": "code",
   "execution_count": null,
   "metadata": {
    "scrolled": true
   },
   "outputs": [],
   "source": [
    "# LCL\n",
    "r02 = b_val.cross_val(b_lcp.bipartite_lcp_single, bmat_recipe_ingr, links_to_del_recipe_ingr, \n",
    "                    *('lcl',), mode='lcp', loops=loops, verbose=verbose, plot=plot)\n",
    "print(np.mean(r02, axis=0))\n",
    "print(np.std(r02, axis=0))"
   ]
  },
  {
   "cell_type": "code",
   "execution_count": null,
   "metadata": {},
   "outputs": [],
   "source": []
  },
  {
   "cell_type": "markdown",
   "metadata": {},
   "source": [
    "# IT WORKS!\n",
    "## Now I have to parallelize the trials"
   ]
  },
  {
   "cell_type": "code",
   "execution_count": 25,
   "metadata": {},
   "outputs": [],
   "source": [
    "import time"
   ]
  },
  {
   "cell_type": "code",
   "execution_count": 26,
   "metadata": {},
   "outputs": [],
   "source": [
    "import dask"
   ]
  },
  {
   "cell_type": "code",
   "execution_count": 27,
   "metadata": {},
   "outputs": [],
   "source": [
    "from dask import delayed  # DON'T CHANGE (explained later)\n",
    "\n",
    "def func(i):\n",
    "    print(f'Trial {i} starting...')\n",
    "    scores_list = []\n",
    "    x_ = delete_links(bmat_recipe_ingr, links_to_del_recipe_ingr[i])\n",
    "    missing = np.argwhere(x_ == 0)\n",
    "    lcp_scores = b_lcp.bipartite_lcp_all(x_, missing, verbose=verbose)\n",
    "    scores_list.append(lcp_scores)\n",
    "    print(f'... Trial {i} done')\n",
    "    return scores_list\n",
    "\n",
    "#loops = 2\n",
    "#lazy = [delayed(func)(i) for i in range(2)]#loops)]  # DON'T CHANGE (explained later)"
   ]
  },
  {
   "cell_type": "code",
   "execution_count": null,
   "metadata": {},
   "outputs": [],
   "source": [
    "#dask.visualize(lazy)"
   ]
  },
  {
   "cell_type": "code",
   "execution_count": null,
   "metadata": {},
   "outputs": [],
   "source": [
    "\"\"\"%%time\n",
    "start = time.time()\n",
    "scheduler = 'single-threaded'\n",
    "res = dask.compute(lazy, scheduler=scheduler)\n",
    "print(res)\n",
    "\n",
    "print(time.time()-start, \"seconds\")\"\"\""
   ]
  },
  {
   "cell_type": "code",
   "execution_count": null,
   "metadata": {},
   "outputs": [],
   "source": [
    "\"\"\"%%time\n",
    "start = time.time()\n",
    "scheduler = 'threads'\n",
    "res = dask.compute(lazy, scheduler=scheduler)\n",
    "print(res)\n",
    "\n",
    "print(time.time()-start, \"seconds\")\"\"\""
   ]
  },
  {
   "cell_type": "code",
   "execution_count": null,
   "metadata": {
    "scrolled": true
   },
   "outputs": [],
   "source": [
    "\"\"\"%%time\n",
    "start = time.time()\n",
    "scheduler = 'processes'\n",
    "res = dask.compute(lazy, scheduler=scheduler)\n",
    "print(res)\n",
    "\n",
    "print(time.time()-start, \"seconds\")\"\"\""
   ]
  },
  {
   "cell_type": "code",
   "execution_count": null,
   "metadata": {
    "scrolled": true
   },
   "outputs": [],
   "source": [
    "#res[0]#.shape"
   ]
  },
  {
   "cell_type": "code",
   "execution_count": null,
   "metadata": {},
   "outputs": [],
   "source": [
    "#for r, rr in enumerate(res[0]):\n",
    "#    print(r, rr[0])"
   ]
  },
  {
   "cell_type": "code",
   "execution_count": null,
   "metadata": {},
   "outputs": [],
   "source": [
    "#res[0][0][0].shape"
   ]
  },
  {
   "cell_type": "code",
   "execution_count": null,
   "metadata": {},
   "outputs": [],
   "source": [
    "#res[0][0][0].shape[1]"
   ]
  },
  {
   "cell_type": "code",
   "execution_count": null,
   "metadata": {},
   "outputs": [],
   "source": [
    "#res[0][1][0].shape"
   ]
  },
  {
   "cell_type": "code",
   "execution_count": null,
   "metadata": {},
   "outputs": [],
   "source": []
  },
  {
   "cell_type": "code",
   "execution_count": 30,
   "metadata": {},
   "outputs": [
    {
     "name": "stdout",
     "output_type": "stream",
     "text": [
      "Trial 9 starting...\n",
      "Trial 8 starting...\n",
      "Trial 4 starting...\n",
      "Trial 5 starting...\n",
      "Trial 2 starting...\n",
      "Trial 0 starting...\n",
      "Trial 3 starting...\n",
      "Trial 7 starting...\n",
      "Computing bipartite LCP\n"
     ]
    },
    {
     "name": "stderr",
     "output_type": "stream",
     "text": [
      "/home/jorge/Documents/2019/Camerino/ASSP2019/multipartite-weighted-link-prediction/linkpred/b_lcp.py:100: RuntimeWarning: invalid value encountered in double_scalars\n",
      "  cpi[i] = np.log2(fav / (fav + unfav))\n"
     ]
    },
    {
     "name": "stdout",
     "output_type": "stream",
     "text": [
      "Computing bipartite LCP\n"
     ]
    },
    {
     "name": "stderr",
     "output_type": "stream",
     "text": [
      "/home/jorge/Documents/2019/Camerino/ASSP2019/multipartite-weighted-link-prediction/linkpred/b_lcp.py:100: RuntimeWarning: invalid value encountered in double_scalars\n",
      "  cpi[i] = np.log2(fav / (fav + unfav))\n"
     ]
    },
    {
     "name": "stdout",
     "output_type": "stream",
     "text": [
      "Computing bipartite LCP\n"
     ]
    },
    {
     "name": "stderr",
     "output_type": "stream",
     "text": [
      "/home/jorge/Documents/2019/Camerino/ASSP2019/multipartite-weighted-link-prediction/linkpred/b_lcp.py:100: RuntimeWarning: invalid value encountered in double_scalars\n",
      "  cpi[i] = np.log2(fav / (fav + unfav))\n"
     ]
    },
    {
     "name": "stdout",
     "output_type": "stream",
     "text": [
      "Computing bipartite LCP\n"
     ]
    },
    {
     "name": "stderr",
     "output_type": "stream",
     "text": [
      "/home/jorge/Documents/2019/Camerino/ASSP2019/multipartite-weighted-link-prediction/linkpred/b_lcp.py:100: RuntimeWarning: invalid value encountered in double_scalars\n",
      "  cpi[i] = np.log2(fav / (fav + unfav))\n",
      "/home/jorge/Documents/2019/Camerino/ASSP2019/multipartite-weighted-link-prediction/linkpred/b_lcp.py:98: RuntimeWarning: overflow encountered in double_scalars\n",
      "  fav = comb(x.shape[1]-1, deg_r-1) * comb(x.shape[0]-1, deg_c-1)\n",
      "/home/jorge/Documents/2019/Camerino/ASSP2019/multipartite-weighted-link-prediction/linkpred/b_lcp.py:99: RuntimeWarning: overflow encountered in double_scalars\n",
      "  unfav = comb(x.shape[1]-1, deg_r) * comb(x.shape[0]-1, deg_c)\n",
      "/home/jorge/Documents/2019/Camerino/ASSP2019/multipartite-weighted-link-prediction/linkpred/b_lcp.py:98: RuntimeWarning: overflow encountered in double_scalars\n",
      "  fav = comb(x.shape[1]-1, deg_r-1) * comb(x.shape[0]-1, deg_c-1)\n",
      "/home/jorge/Documents/2019/Camerino/ASSP2019/multipartite-weighted-link-prediction/linkpred/b_lcp.py:99: RuntimeWarning: overflow encountered in double_scalars\n",
      "  unfav = comb(x.shape[1]-1, deg_r) * comb(x.shape[0]-1, deg_c)\n",
      "/home/jorge/Documents/2019/Camerino/ASSP2019/multipartite-weighted-link-prediction/linkpred/b_lcp.py:99: RuntimeWarning: overflow encountered in double_scalars\n",
      "  unfav = comb(x.shape[1]-1, deg_r) * comb(x.shape[0]-1, deg_c)\n",
      "/home/jorge/Documents/2019/Camerino/ASSP2019/multipartite-weighted-link-prediction/linkpred/b_lcp.py:100: RuntimeWarning: divide by zero encountered in log2\n",
      "  cpi[i] = np.log2(fav / (fav + unfav))\n",
      "/home/jorge/Documents/2019/Camerino/ASSP2019/multipartite-weighted-link-prediction/linkpred/b_lcp.py:98: RuntimeWarning: overflow encountered in double_scalars\n",
      "  fav = comb(x.shape[1]-1, deg_r-1) * comb(x.shape[0]-1, deg_c-1)\n",
      "/home/jorge/Documents/2019/Camerino/ASSP2019/multipartite-weighted-link-prediction/linkpred/b_lcp.py:98: RuntimeWarning: overflow encountered in double_scalars\n",
      "  fav = comb(x.shape[1]-1, deg_r-1) * comb(x.shape[0]-1, deg_c-1)\n"
     ]
    },
    {
     "name": "stdout",
     "output_type": "stream",
     "text": [
      "Computing bipartite LCP\n"
     ]
    },
    {
     "name": "stderr",
     "output_type": "stream",
     "text": [
      "/home/jorge/Documents/2019/Camerino/ASSP2019/multipartite-weighted-link-prediction/linkpred/b_lcp.py:99: RuntimeWarning: overflow encountered in double_scalars\n",
      "  unfav = comb(x.shape[1]-1, deg_r) * comb(x.shape[0]-1, deg_c)\n",
      "/home/jorge/Documents/2019/Camerino/ASSP2019/multipartite-weighted-link-prediction/linkpred/b_lcp.py:100: RuntimeWarning: divide by zero encountered in log2\n",
      "  cpi[i] = np.log2(fav / (fav + unfav))\n",
      "/home/jorge/Documents/2019/Camerino/ASSP2019/multipartite-weighted-link-prediction/linkpred/b_lcp.py:100: RuntimeWarning: invalid value encountered in double_scalars\n",
      "  cpi[i] = np.log2(fav / (fav + unfav))\n",
      "/home/jorge/Documents/2019/Camerino/ASSP2019/multipartite-weighted-link-prediction/linkpred/b_lcp.py:98: RuntimeWarning: overflow encountered in double_scalars\n",
      "  fav = comb(x.shape[1]-1, deg_r-1) * comb(x.shape[0]-1, deg_c-1)\n",
      "/home/jorge/Documents/2019/Camerino/ASSP2019/multipartite-weighted-link-prediction/linkpred/b_lcp.py:99: RuntimeWarning: overflow encountered in double_scalars\n",
      "  unfav = comb(x.shape[1]-1, deg_r) * comb(x.shape[0]-1, deg_c)\n",
      "/home/jorge/Documents/2019/Camerino/ASSP2019/multipartite-weighted-link-prediction/linkpred/b_lcp.py:100: RuntimeWarning: divide by zero encountered in log2\n",
      "  cpi[i] = np.log2(fav / (fav + unfav))\n"
     ]
    },
    {
     "name": "stdout",
     "output_type": "stream",
     "text": [
      "Computing bipartite LCP\n",
      "Computing bipartite LCP\n"
     ]
    },
    {
     "name": "stderr",
     "output_type": "stream",
     "text": [
      "/home/jorge/Documents/2019/Camerino/ASSP2019/multipartite-weighted-link-prediction/linkpred/b_lcp.py:100: RuntimeWarning: invalid value encountered in double_scalars\n",
      "  cpi[i] = np.log2(fav / (fav + unfav))\n",
      "/home/jorge/Documents/2019/Camerino/ASSP2019/multipartite-weighted-link-prediction/linkpred/b_lcp.py:100: RuntimeWarning: invalid value encountered in double_scalars\n",
      "  cpi[i] = np.log2(fav / (fav + unfav))\n",
      "/home/jorge/Documents/2019/Camerino/ASSP2019/multipartite-weighted-link-prediction/linkpred/b_lcp.py:98: RuntimeWarning: overflow encountered in double_scalars\n",
      "  fav = comb(x.shape[1]-1, deg_r-1) * comb(x.shape[0]-1, deg_c-1)\n",
      "/home/jorge/Documents/2019/Camerino/ASSP2019/multipartite-weighted-link-prediction/linkpred/b_lcp.py:99: RuntimeWarning: overflow encountered in double_scalars\n",
      "  unfav = comb(x.shape[1]-1, deg_r) * comb(x.shape[0]-1, deg_c)\n"
     ]
    },
    {
     "name": "stdout",
     "output_type": "stream",
     "text": [
      "Computing bipartite LCP\n"
     ]
    },
    {
     "name": "stderr",
     "output_type": "stream",
     "text": [
      "/home/jorge/Documents/2019/Camerino/ASSP2019/multipartite-weighted-link-prediction/linkpred/b_lcp.py:100: RuntimeWarning: invalid value encountered in double_scalars\n",
      "  cpi[i] = np.log2(fav / (fav + unfav))\n",
      "/home/jorge/Documents/2019/Camerino/ASSP2019/multipartite-weighted-link-prediction/linkpred/b_lcp.py:98: RuntimeWarning: overflow encountered in double_scalars\n",
      "  fav = comb(x.shape[1]-1, deg_r-1) * comb(x.shape[0]-1, deg_c-1)\n",
      "/home/jorge/Documents/2019/Camerino/ASSP2019/multipartite-weighted-link-prediction/linkpred/b_lcp.py:99: RuntimeWarning: overflow encountered in double_scalars\n",
      "  unfav = comb(x.shape[1]-1, deg_r) * comb(x.shape[0]-1, deg_c)\n",
      "/home/jorge/Documents/2019/Camerino/ASSP2019/multipartite-weighted-link-prediction/linkpred/b_lcp.py:100: RuntimeWarning: divide by zero encountered in log2\n",
      "  cpi[i] = np.log2(fav / (fav + unfav))\n",
      "/home/jorge/Documents/2019/Camerino/ASSP2019/multipartite-weighted-link-prediction/linkpred/b_lcp.py:98: RuntimeWarning: overflow encountered in double_scalars\n",
      "  fav = comb(x.shape[1]-1, deg_r-1) * comb(x.shape[0]-1, deg_c-1)\n",
      "/home/jorge/Documents/2019/Camerino/ASSP2019/multipartite-weighted-link-prediction/linkpred/b_lcp.py:99: RuntimeWarning: overflow encountered in double_scalars\n",
      "  unfav = comb(x.shape[1]-1, deg_r) * comb(x.shape[0]-1, deg_c)\n",
      "/home/jorge/Documents/2019/Camerino/ASSP2019/multipartite-weighted-link-prediction/linkpred/b_lcp.py:100: RuntimeWarning: divide by zero encountered in log2\n",
      "  cpi[i] = np.log2(fav / (fav + unfav))\n",
      "/home/jorge/Documents/2019/Camerino/ASSP2019/multipartite-weighted-link-prediction/linkpred/b_lcp.py:100: RuntimeWarning: divide by zero encountered in log2\n",
      "  cpi[i] = np.log2(fav / (fav + unfav))\n",
      "/home/jorge/Documents/2019/Camerino/ASSP2019/multipartite-weighted-link-prediction/linkpred/b_lcp.py:100: RuntimeWarning: divide by zero encountered in log2\n",
      "  cpi[i] = np.log2(fav / (fav + unfav))\n",
      "/home/jorge/Documents/2019/Camerino/ASSP2019/multipartite-weighted-link-prediction/linkpred/b_lcp.py:100: RuntimeWarning: divide by zero encountered in log2\n",
      "  cpi[i] = np.log2(fav / (fav + unfav))\n"
     ]
    },
    {
     "name": "stdout",
     "output_type": "stream",
     "text": [
      "100.00 %, 12.23 minutes\n",
      "... Trial 7 done\n",
      "Trial 6 starting...\n",
      "Computing bipartite LCP\n",
      "100.00 %, 12.36 minutes\n",
      "... Trial 0 done\n",
      "100.00 %, 12.44 minutes\n",
      "... Trial 2 done\n",
      "Trial 1 starting...\n",
      "Computing bipartite LCP\n",
      "100.00 %, 12.52 minutes\n",
      "... Trial 9 done\n",
      "100.00 %, 12.54 minutes\n",
      "... Trial 5 done\n",
      "100.00 %, 12.58 minutes\n",
      "... Trial 4 done\n",
      "100.00 %, 12.59 minutes\n",
      "... Trial 8 done\n",
      "100.00 %, 12.64 minutes\n",
      "... Trial 3 done\n",
      "100.00 %, 4.59 minutes\n",
      "... Trial 6 done\n",
      "100.00 %, 4.50 minutes\n",
      "... Trial 1 done\n",
      "Trial 15 starting...\n",
      "Trial 12 starting...\n",
      "Trial 11 starting...\n",
      "Trial 17 starting...\n",
      "Trial 18 starting...\n",
      "Trial 10 starting...\n",
      "Computing bipartite LCP\n"
     ]
    },
    {
     "name": "stderr",
     "output_type": "stream",
     "text": [
      "/home/jorge/Documents/2019/Camerino/ASSP2019/multipartite-weighted-link-prediction/linkpred/b_lcp.py:100: RuntimeWarning: invalid value encountered in double_scalars\n",
      "  cpi[i] = np.log2(fav / (fav + unfav))\n"
     ]
    },
    {
     "name": "stdout",
     "output_type": "stream",
     "text": [
      "Trial 13 starting...\n",
      "Computing bipartite LCP\n"
     ]
    },
    {
     "name": "stderr",
     "output_type": "stream",
     "text": [
      "/home/jorge/Documents/2019/Camerino/ASSP2019/multipartite-weighted-link-prediction/linkpred/b_lcp.py:100: RuntimeWarning: invalid value encountered in double_scalars\n",
      "  cpi[i] = np.log2(fav / (fav + unfav))\n",
      "/home/jorge/Documents/2019/Camerino/ASSP2019/multipartite-weighted-link-prediction/linkpred/b_lcp.py:99: RuntimeWarning: overflow encountered in double_scalars\n",
      "  unfav = comb(x.shape[1]-1, deg_r) * comb(x.shape[0]-1, deg_c)\n",
      "/home/jorge/Documents/2019/Camerino/ASSP2019/multipartite-weighted-link-prediction/linkpred/b_lcp.py:98: RuntimeWarning: overflow encountered in double_scalars\n",
      "  fav = comb(x.shape[1]-1, deg_r-1) * comb(x.shape[0]-1, deg_c-1)\n"
     ]
    },
    {
     "name": "stdout",
     "output_type": "stream",
     "text": [
      "Trial 19 starting...\n"
     ]
    },
    {
     "name": "stderr",
     "output_type": "stream",
     "text": [
      "/home/jorge/Documents/2019/Camerino/ASSP2019/multipartite-weighted-link-prediction/linkpred/b_lcp.py:99: RuntimeWarning: overflow encountered in double_scalars\n",
      "  unfav = comb(x.shape[1]-1, deg_r) * comb(x.shape[0]-1, deg_c)\n",
      "/home/jorge/Documents/2019/Camerino/ASSP2019/multipartite-weighted-link-prediction/linkpred/b_lcp.py:100: RuntimeWarning: divide by zero encountered in log2\n",
      "  cpi[i] = np.log2(fav / (fav + unfav))\n"
     ]
    },
    {
     "name": "stdout",
     "output_type": "stream",
     "text": [
      "Computing bipartite LCP\n"
     ]
    },
    {
     "name": "stderr",
     "output_type": "stream",
     "text": [
      "/home/jorge/Documents/2019/Camerino/ASSP2019/multipartite-weighted-link-prediction/linkpred/b_lcp.py:100: RuntimeWarning: invalid value encountered in double_scalars\n",
      "  cpi[i] = np.log2(fav / (fav + unfav))\n"
     ]
    },
    {
     "name": "stdout",
     "output_type": "stream",
     "text": [
      "Computing bipartite LCP\n"
     ]
    },
    {
     "name": "stderr",
     "output_type": "stream",
     "text": [
      "/home/jorge/Documents/2019/Camerino/ASSP2019/multipartite-weighted-link-prediction/linkpred/b_lcp.py:100: RuntimeWarning: invalid value encountered in double_scalars\n",
      "  cpi[i] = np.log2(fav / (fav + unfav))\n",
      "/home/jorge/Documents/2019/Camerino/ASSP2019/multipartite-weighted-link-prediction/linkpred/b_lcp.py:99: RuntimeWarning: overflow encountered in double_scalars\n",
      "  unfav = comb(x.shape[1]-1, deg_r) * comb(x.shape[0]-1, deg_c)\n",
      "/home/jorge/Documents/2019/Camerino/ASSP2019/multipartite-weighted-link-prediction/linkpred/b_lcp.py:100: RuntimeWarning: divide by zero encountered in log2\n",
      "  cpi[i] = np.log2(fav / (fav + unfav))\n",
      "/home/jorge/Documents/2019/Camerino/ASSP2019/multipartite-weighted-link-prediction/linkpred/b_lcp.py:98: RuntimeWarning: overflow encountered in double_scalars\n",
      "  fav = comb(x.shape[1]-1, deg_r-1) * comb(x.shape[0]-1, deg_c-1)\n",
      "/home/jorge/Documents/2019/Camerino/ASSP2019/multipartite-weighted-link-prediction/linkpred/b_lcp.py:99: RuntimeWarning: overflow encountered in double_scalars\n",
      "  unfav = comb(x.shape[1]-1, deg_r) * comb(x.shape[0]-1, deg_c)\n",
      "/home/jorge/Documents/2019/Camerino/ASSP2019/multipartite-weighted-link-prediction/linkpred/b_lcp.py:98: RuntimeWarning: overflow encountered in double_scalars\n",
      "  fav = comb(x.shape[1]-1, deg_r-1) * comb(x.shape[0]-1, deg_c-1)\n"
     ]
    },
    {
     "name": "stdout",
     "output_type": "stream",
     "text": [
      "Computing bipartite LCP\n"
     ]
    },
    {
     "name": "stderr",
     "output_type": "stream",
     "text": [
      "/home/jorge/Documents/2019/Camerino/ASSP2019/multipartite-weighted-link-prediction/linkpred/b_lcp.py:100: RuntimeWarning: invalid value encountered in double_scalars\n",
      "  cpi[i] = np.log2(fav / (fav + unfav))\n",
      "/home/jorge/Documents/2019/Camerino/ASSP2019/multipartite-weighted-link-prediction/linkpred/b_lcp.py:99: RuntimeWarning: overflow encountered in double_scalars\n",
      "  unfav = comb(x.shape[1]-1, deg_r) * comb(x.shape[0]-1, deg_c)\n",
      "/home/jorge/Documents/2019/Camerino/ASSP2019/multipartite-weighted-link-prediction/linkpred/b_lcp.py:100: RuntimeWarning: divide by zero encountered in log2\n",
      "  cpi[i] = np.log2(fav / (fav + unfav))\n",
      "/home/jorge/Documents/2019/Camerino/ASSP2019/multipartite-weighted-link-prediction/linkpred/b_lcp.py:98: RuntimeWarning: overflow encountered in double_scalars\n",
      "  fav = comb(x.shape[1]-1, deg_r-1) * comb(x.shape[0]-1, deg_c-1)\n"
     ]
    },
    {
     "name": "stdout",
     "output_type": "stream",
     "text": [
      "Computing bipartite LCP\n"
     ]
    },
    {
     "name": "stderr",
     "output_type": "stream",
     "text": [
      "/home/jorge/Documents/2019/Camerino/ASSP2019/multipartite-weighted-link-prediction/linkpred/b_lcp.py:100: RuntimeWarning: invalid value encountered in double_scalars\n",
      "  cpi[i] = np.log2(fav / (fav + unfav))\n",
      "/home/jorge/Documents/2019/Camerino/ASSP2019/multipartite-weighted-link-prediction/linkpred/b_lcp.py:98: RuntimeWarning: overflow encountered in double_scalars\n",
      "  fav = comb(x.shape[1]-1, deg_r-1) * comb(x.shape[0]-1, deg_c-1)\n",
      "/home/jorge/Documents/2019/Camerino/ASSP2019/multipartite-weighted-link-prediction/linkpred/b_lcp.py:98: RuntimeWarning: overflow encountered in double_scalars\n",
      "  fav = comb(x.shape[1]-1, deg_r-1) * comb(x.shape[0]-1, deg_c-1)\n",
      "/home/jorge/Documents/2019/Camerino/ASSP2019/multipartite-weighted-link-prediction/linkpred/b_lcp.py:99: RuntimeWarning: overflow encountered in double_scalars\n",
      "  unfav = comb(x.shape[1]-1, deg_r) * comb(x.shape[0]-1, deg_c)\n"
     ]
    },
    {
     "name": "stdout",
     "output_type": "stream",
     "text": [
      "Computing bipartite LCP\n"
     ]
    },
    {
     "name": "stderr",
     "output_type": "stream",
     "text": [
      "/home/jorge/Documents/2019/Camerino/ASSP2019/multipartite-weighted-link-prediction/linkpred/b_lcp.py:100: RuntimeWarning: invalid value encountered in double_scalars\n",
      "  cpi[i] = np.log2(fav / (fav + unfav))\n",
      "/home/jorge/Documents/2019/Camerino/ASSP2019/multipartite-weighted-link-prediction/linkpred/b_lcp.py:100: RuntimeWarning: divide by zero encountered in log2\n",
      "  cpi[i] = np.log2(fav / (fav + unfav))\n",
      "/home/jorge/Documents/2019/Camerino/ASSP2019/multipartite-weighted-link-prediction/linkpred/b_lcp.py:98: RuntimeWarning: overflow encountered in double_scalars\n",
      "  fav = comb(x.shape[1]-1, deg_r-1) * comb(x.shape[0]-1, deg_c-1)\n",
      "/home/jorge/Documents/2019/Camerino/ASSP2019/multipartite-weighted-link-prediction/linkpred/b_lcp.py:99: RuntimeWarning: overflow encountered in double_scalars\n",
      "  unfav = comb(x.shape[1]-1, deg_r) * comb(x.shape[0]-1, deg_c)\n"
     ]
    },
    {
     "name": "stdout",
     "output_type": "stream",
     "text": [
      "Computing bipartite LCP\n"
     ]
    },
    {
     "name": "stderr",
     "output_type": "stream",
     "text": [
      "/home/jorge/Documents/2019/Camerino/ASSP2019/multipartite-weighted-link-prediction/linkpred/b_lcp.py:100: RuntimeWarning: invalid value encountered in double_scalars\n",
      "  cpi[i] = np.log2(fav / (fav + unfav))\n",
      "/home/jorge/Documents/2019/Camerino/ASSP2019/multipartite-weighted-link-prediction/linkpred/b_lcp.py:99: RuntimeWarning: overflow encountered in double_scalars\n",
      "  unfav = comb(x.shape[1]-1, deg_r) * comb(x.shape[0]-1, deg_c)\n",
      "/home/jorge/Documents/2019/Camerino/ASSP2019/multipartite-weighted-link-prediction/linkpred/b_lcp.py:100: RuntimeWarning: divide by zero encountered in log2\n",
      "  cpi[i] = np.log2(fav / (fav + unfav))\n",
      "/home/jorge/Documents/2019/Camerino/ASSP2019/multipartite-weighted-link-prediction/linkpred/b_lcp.py:98: RuntimeWarning: overflow encountered in double_scalars\n",
      "  fav = comb(x.shape[1]-1, deg_r-1) * comb(x.shape[0]-1, deg_c-1)\n",
      "/home/jorge/Documents/2019/Camerino/ASSP2019/multipartite-weighted-link-prediction/linkpred/b_lcp.py:100: RuntimeWarning: divide by zero encountered in log2\n",
      "  cpi[i] = np.log2(fav / (fav + unfav))\n",
      "/home/jorge/Documents/2019/Camerino/ASSP2019/multipartite-weighted-link-prediction/linkpred/b_lcp.py:100: RuntimeWarning: divide by zero encountered in log2\n",
      "  cpi[i] = np.log2(fav / (fav + unfav))\n",
      "/home/jorge/Documents/2019/Camerino/ASSP2019/multipartite-weighted-link-prediction/linkpred/b_lcp.py:100: RuntimeWarning: divide by zero encountered in log2\n",
      "  cpi[i] = np.log2(fav / (fav + unfav))\n"
     ]
    },
    {
     "name": "stdout",
     "output_type": "stream",
     "text": [
      "100.00 %, 12.43 minutes\n",
      "... Trial 17 done\n",
      "Trial 14 starting...\n",
      "Computing bipartite LCP\n",
      "100.00 %, 12.55 minutes\n",
      "... Trial 11 done\n",
      "Trial 16 starting...\n",
      "Computing bipartite LCP\n",
      "100.00 %, 12.68 minutes\n",
      "... Trial 12 done\n",
      "100.00 %, 12.73 minutes\n",
      "... Trial 10 done\n",
      "100.00 %, 12.80 minutes\n",
      "100.00 %, 12.77 minutes\n",
      "... Trial 15 done\n",
      "... Trial 13 done\n",
      "100.00 %, 12.78 minutes\n",
      "... Trial 19 done\n",
      "100.00 %, 12.97 minutes\n",
      "... Trial 18 done\n",
      "100.00 %, 4.41 minutes\n",
      "... Trial 14 done\n",
      "100.00 %, 4.35 minutes\n",
      "... Trial 16 done\n",
      "Trial 26 starting...\n",
      "Trial 24 starting...\n",
      "Trial 20 starting...\n",
      "Trial 21 starting...\n",
      "Trial 28 starting...\n",
      "Trial 22 starting...\n",
      "Trial 23 starting...\n",
      "Trial 27 starting...\n",
      "Computing bipartite LCP\n"
     ]
    },
    {
     "name": "stderr",
     "output_type": "stream",
     "text": [
      "/home/jorge/Documents/2019/Camerino/ASSP2019/multipartite-weighted-link-prediction/linkpred/b_lcp.py:100: RuntimeWarning: invalid value encountered in double_scalars\n",
      "  cpi[i] = np.log2(fav / (fav + unfav))\n"
     ]
    },
    {
     "name": "stdout",
     "output_type": "stream",
     "text": [
      "Computing bipartite LCP\n",
      "Computing bipartite LCP\n",
      "Computing bipartite LCP\n"
     ]
    },
    {
     "name": "stderr",
     "output_type": "stream",
     "text": [
      "/home/jorge/Documents/2019/Camerino/ASSP2019/multipartite-weighted-link-prediction/linkpred/b_lcp.py:100: RuntimeWarning: invalid value encountered in double_scalars\n",
      "  cpi[i] = np.log2(fav / (fav + unfav))\n",
      "/home/jorge/Documents/2019/Camerino/ASSP2019/multipartite-weighted-link-prediction/linkpred/b_lcp.py:100: RuntimeWarning: invalid value encountered in double_scalars\n",
      "  cpi[i] = np.log2(fav / (fav + unfav))\n",
      "/home/jorge/Documents/2019/Camerino/ASSP2019/multipartite-weighted-link-prediction/linkpred/b_lcp.py:100: RuntimeWarning: invalid value encountered in double_scalars\n",
      "  cpi[i] = np.log2(fav / (fav + unfav))\n"
     ]
    },
    {
     "name": "stdout",
     "output_type": "stream",
     "text": [
      "Computing bipartite LCP\n",
      "Computing bipartite LCP\n",
      "Computing bipartite LCP\n"
     ]
    },
    {
     "name": "stderr",
     "output_type": "stream",
     "text": [
      "/home/jorge/Documents/2019/Camerino/ASSP2019/multipartite-weighted-link-prediction/linkpred/b_lcp.py:100: RuntimeWarning: invalid value encountered in double_scalars\n",
      "  cpi[i] = np.log2(fav / (fav + unfav))\n",
      "/home/jorge/Documents/2019/Camerino/ASSP2019/multipartite-weighted-link-prediction/linkpred/b_lcp.py:100: RuntimeWarning: invalid value encountered in double_scalars\n",
      "  cpi[i] = np.log2(fav / (fav + unfav))\n",
      "/home/jorge/Documents/2019/Camerino/ASSP2019/multipartite-weighted-link-prediction/linkpred/b_lcp.py:100: RuntimeWarning: invalid value encountered in double_scalars\n",
      "  cpi[i] = np.log2(fav / (fav + unfav))\n"
     ]
    },
    {
     "name": "stdout",
     "output_type": "stream",
     "text": [
      "Computing bipartite LCP\n"
     ]
    },
    {
     "name": "stderr",
     "output_type": "stream",
     "text": [
      "/home/jorge/Documents/2019/Camerino/ASSP2019/multipartite-weighted-link-prediction/linkpred/b_lcp.py:100: RuntimeWarning: invalid value encountered in double_scalars\n",
      "  cpi[i] = np.log2(fav / (fav + unfav))\n",
      "/home/jorge/Documents/2019/Camerino/ASSP2019/multipartite-weighted-link-prediction/linkpred/b_lcp.py:98: RuntimeWarning: overflow encountered in double_scalars\n",
      "  fav = comb(x.shape[1]-1, deg_r-1) * comb(x.shape[0]-1, deg_c-1)\n",
      "/home/jorge/Documents/2019/Camerino/ASSP2019/multipartite-weighted-link-prediction/linkpred/b_lcp.py:99: RuntimeWarning: overflow encountered in double_scalars\n",
      "  unfav = comb(x.shape[1]-1, deg_r) * comb(x.shape[0]-1, deg_c)\n",
      "/home/jorge/Documents/2019/Camerino/ASSP2019/multipartite-weighted-link-prediction/linkpred/b_lcp.py:99: RuntimeWarning: overflow encountered in double_scalars\n",
      "  unfav = comb(x.shape[1]-1, deg_r) * comb(x.shape[0]-1, deg_c)\n",
      "/home/jorge/Documents/2019/Camerino/ASSP2019/multipartite-weighted-link-prediction/linkpred/b_lcp.py:100: RuntimeWarning: divide by zero encountered in log2\n",
      "  cpi[i] = np.log2(fav / (fav + unfav))\n",
      "/home/jorge/Documents/2019/Camerino/ASSP2019/multipartite-weighted-link-prediction/linkpred/b_lcp.py:98: RuntimeWarning: overflow encountered in double_scalars\n",
      "  fav = comb(x.shape[1]-1, deg_r-1) * comb(x.shape[0]-1, deg_c-1)\n",
      "/home/jorge/Documents/2019/Camerino/ASSP2019/multipartite-weighted-link-prediction/linkpred/b_lcp.py:99: RuntimeWarning: overflow encountered in double_scalars\n",
      "  unfav = comb(x.shape[1]-1, deg_r) * comb(x.shape[0]-1, deg_c)\n",
      "/home/jorge/Documents/2019/Camerino/ASSP2019/multipartite-weighted-link-prediction/linkpred/b_lcp.py:100: RuntimeWarning: divide by zero encountered in log2\n",
      "  cpi[i] = np.log2(fav / (fav + unfav))\n",
      "/home/jorge/Documents/2019/Camerino/ASSP2019/multipartite-weighted-link-prediction/linkpred/b_lcp.py:98: RuntimeWarning: overflow encountered in double_scalars\n",
      "  fav = comb(x.shape[1]-1, deg_r-1) * comb(x.shape[0]-1, deg_c-1)\n",
      "/home/jorge/Documents/2019/Camerino/ASSP2019/multipartite-weighted-link-prediction/linkpred/b_lcp.py:98: RuntimeWarning: overflow encountered in double_scalars\n",
      "  fav = comb(x.shape[1]-1, deg_r-1) * comb(x.shape[0]-1, deg_c-1)\n",
      "/home/jorge/Documents/2019/Camerino/ASSP2019/multipartite-weighted-link-prediction/linkpred/b_lcp.py:98: RuntimeWarning: overflow encountered in double_scalars\n",
      "  fav = comb(x.shape[1]-1, deg_r-1) * comb(x.shape[0]-1, deg_c-1)\n",
      "/home/jorge/Documents/2019/Camerino/ASSP2019/multipartite-weighted-link-prediction/linkpred/b_lcp.py:99: RuntimeWarning: overflow encountered in double_scalars\n",
      "  unfav = comb(x.shape[1]-1, deg_r) * comb(x.shape[0]-1, deg_c)\n",
      "/home/jorge/Documents/2019/Camerino/ASSP2019/multipartite-weighted-link-prediction/linkpred/b_lcp.py:99: RuntimeWarning: overflow encountered in double_scalars\n",
      "  unfav = comb(x.shape[1]-1, deg_r) * comb(x.shape[0]-1, deg_c)\n",
      "/home/jorge/Documents/2019/Camerino/ASSP2019/multipartite-weighted-link-prediction/linkpred/b_lcp.py:98: RuntimeWarning: overflow encountered in double_scalars\n",
      "  fav = comb(x.shape[1]-1, deg_r-1) * comb(x.shape[0]-1, deg_c-1)\n",
      "/home/jorge/Documents/2019/Camerino/ASSP2019/multipartite-weighted-link-prediction/linkpred/b_lcp.py:99: RuntimeWarning: overflow encountered in double_scalars\n",
      "  unfav = comb(x.shape[1]-1, deg_r) * comb(x.shape[0]-1, deg_c)\n",
      "/home/jorge/Documents/2019/Camerino/ASSP2019/multipartite-weighted-link-prediction/linkpred/b_lcp.py:99: RuntimeWarning: overflow encountered in double_scalars\n",
      "  unfav = comb(x.shape[1]-1, deg_r) * comb(x.shape[0]-1, deg_c)\n",
      "/home/jorge/Documents/2019/Camerino/ASSP2019/multipartite-weighted-link-prediction/linkpred/b_lcp.py:100: RuntimeWarning: divide by zero encountered in log2\n",
      "  cpi[i] = np.log2(fav / (fav + unfav))\n",
      "/home/jorge/Documents/2019/Camerino/ASSP2019/multipartite-weighted-link-prediction/linkpred/b_lcp.py:98: RuntimeWarning: overflow encountered in double_scalars\n",
      "  fav = comb(x.shape[1]-1, deg_r-1) * comb(x.shape[0]-1, deg_c-1)\n",
      "/home/jorge/Documents/2019/Camerino/ASSP2019/multipartite-weighted-link-prediction/linkpred/b_lcp.py:99: RuntimeWarning: overflow encountered in double_scalars\n",
      "  unfav = comb(x.shape[1]-1, deg_r) * comb(x.shape[0]-1, deg_c)\n",
      "/home/jorge/Documents/2019/Camerino/ASSP2019/multipartite-weighted-link-prediction/linkpred/b_lcp.py:100: RuntimeWarning: divide by zero encountered in log2\n",
      "  cpi[i] = np.log2(fav / (fav + unfav))\n",
      "/home/jorge/Documents/2019/Camerino/ASSP2019/multipartite-weighted-link-prediction/linkpred/b_lcp.py:100: RuntimeWarning: divide by zero encountered in log2\n",
      "  cpi[i] = np.log2(fav / (fav + unfav))\n",
      "/home/jorge/Documents/2019/Camerino/ASSP2019/multipartite-weighted-link-prediction/linkpred/b_lcp.py:100: RuntimeWarning: divide by zero encountered in log2\n",
      "  cpi[i] = np.log2(fav / (fav + unfav))\n",
      "/home/jorge/Documents/2019/Camerino/ASSP2019/multipartite-weighted-link-prediction/linkpred/b_lcp.py:100: RuntimeWarning: divide by zero encountered in log2\n",
      "  cpi[i] = np.log2(fav / (fav + unfav))\n",
      "/home/jorge/Documents/2019/Camerino/ASSP2019/multipartite-weighted-link-prediction/linkpred/b_lcp.py:100: RuntimeWarning: divide by zero encountered in log2\n",
      "  cpi[i] = np.log2(fav / (fav + unfav))\n",
      "/home/jorge/Documents/2019/Camerino/ASSP2019/multipartite-weighted-link-prediction/linkpred/b_lcp.py:98: RuntimeWarning: overflow encountered in double_scalars\n",
      "  fav = comb(x.shape[1]-1, deg_r-1) * comb(x.shape[0]-1, deg_c-1)\n"
     ]
    },
    {
     "name": "stdout",
     "output_type": "stream",
     "text": [
      "100.00 %, 12.29 minutes\n",
      "100.00 %, 12.30 minutes\n",
      "... Trial 24 done\n",
      "... Trial 23 done\n",
      "100.00 %, 12.30 minutes\n",
      "... Trial 27 done\n",
      "100.00 %, 12.35 minutes\n",
      "... Trial 22 done\n",
      "Trial 29 starting...\n",
      "100.00 %, 12.40 minutes\n",
      "... Trial 20 done\n",
      "Computing bipartite LCP\n",
      "100.00 %, 12.40 minutes\n",
      "... Trial 26 done\n",
      "Trial 25 starting...\n",
      "Computing bipartite LCP\n",
      "100.00 %, 12.45 minutes\n",
      "... Trial 21 done\n",
      "100.00 %, 12.59 minutes\n",
      "... Trial 28 done\n",
      "100.00 %, 4.27 minutes\n",
      "... Trial 29 done\n",
      "100.00 %, 4.24 minutes\n",
      "... Trial 25 done\n",
      "Trial 36 starting...\n",
      "Trial 30 starting...\n",
      "Trial 35 starting...\n",
      "Trial 39 starting...\n",
      "Trial 38 starting...\n",
      "Trial 32 starting...\n",
      "Trial 37 starting...\n",
      "Trial 33 starting...\n",
      "Computing bipartite LCP\n"
     ]
    },
    {
     "name": "stderr",
     "output_type": "stream",
     "text": [
      "/home/jorge/Documents/2019/Camerino/ASSP2019/multipartite-weighted-link-prediction/linkpred/b_lcp.py:100: RuntimeWarning: invalid value encountered in double_scalars\n",
      "  cpi[i] = np.log2(fav / (fav + unfav))\n",
      "/home/jorge/Documents/2019/Camerino/ASSP2019/multipartite-weighted-link-prediction/linkpred/b_lcp.py:98: RuntimeWarning: overflow encountered in double_scalars\n",
      "  fav = comb(x.shape[1]-1, deg_r-1) * comb(x.shape[0]-1, deg_c-1)\n",
      "/home/jorge/Documents/2019/Camerino/ASSP2019/multipartite-weighted-link-prediction/linkpred/b_lcp.py:99: RuntimeWarning: overflow encountered in double_scalars\n",
      "  unfav = comb(x.shape[1]-1, deg_r) * comb(x.shape[0]-1, deg_c)\n"
     ]
    },
    {
     "name": "stdout",
     "output_type": "stream",
     "text": [
      "Computing bipartite LCP\n",
      "Computing bipartite LCP\n"
     ]
    },
    {
     "name": "stderr",
     "output_type": "stream",
     "text": [
      "/home/jorge/Documents/2019/Camerino/ASSP2019/multipartite-weighted-link-prediction/linkpred/b_lcp.py:100: RuntimeWarning: invalid value encountered in double_scalars\n",
      "  cpi[i] = np.log2(fav / (fav + unfav))\n",
      "/home/jorge/Documents/2019/Camerino/ASSP2019/multipartite-weighted-link-prediction/linkpred/b_lcp.py:100: RuntimeWarning: invalid value encountered in double_scalars\n",
      "  cpi[i] = np.log2(fav / (fav + unfav))\n"
     ]
    },
    {
     "name": "stdout",
     "output_type": "stream",
     "text": [
      "Computing bipartite LCP\n"
     ]
    },
    {
     "name": "stderr",
     "output_type": "stream",
     "text": [
      "/home/jorge/Documents/2019/Camerino/ASSP2019/multipartite-weighted-link-prediction/linkpred/b_lcp.py:100: RuntimeWarning: invalid value encountered in double_scalars\n",
      "  cpi[i] = np.log2(fav / (fav + unfav))\n"
     ]
    },
    {
     "name": "stdout",
     "output_type": "stream",
     "text": [
      "Computing bipartite LCP\n"
     ]
    },
    {
     "name": "stderr",
     "output_type": "stream",
     "text": [
      "/home/jorge/Documents/2019/Camerino/ASSP2019/multipartite-weighted-link-prediction/linkpred/b_lcp.py:100: RuntimeWarning: invalid value encountered in double_scalars\n",
      "  cpi[i] = np.log2(fav / (fav + unfav))\n"
     ]
    },
    {
     "name": "stdout",
     "output_type": "stream",
     "text": [
      "Computing bipartite LCP\n",
      "Computing bipartite LCP\n",
      "Computing bipartite LCP\n"
     ]
    },
    {
     "name": "stderr",
     "output_type": "stream",
     "text": [
      "/home/jorge/Documents/2019/Camerino/ASSP2019/multipartite-weighted-link-prediction/linkpred/b_lcp.py:100: RuntimeWarning: invalid value encountered in double_scalars\n",
      "  cpi[i] = np.log2(fav / (fav + unfav))\n",
      "/home/jorge/Documents/2019/Camerino/ASSP2019/multipartite-weighted-link-prediction/linkpred/b_lcp.py:100: RuntimeWarning: invalid value encountered in double_scalars\n",
      "  cpi[i] = np.log2(fav / (fav + unfav))\n",
      "/home/jorge/Documents/2019/Camerino/ASSP2019/multipartite-weighted-link-prediction/linkpred/b_lcp.py:100: RuntimeWarning: invalid value encountered in double_scalars\n",
      "  cpi[i] = np.log2(fav / (fav + unfav))\n",
      "/home/jorge/Documents/2019/Camerino/ASSP2019/multipartite-weighted-link-prediction/linkpred/b_lcp.py:98: RuntimeWarning: overflow encountered in double_scalars\n",
      "  fav = comb(x.shape[1]-1, deg_r-1) * comb(x.shape[0]-1, deg_c-1)\n",
      "/home/jorge/Documents/2019/Camerino/ASSP2019/multipartite-weighted-link-prediction/linkpred/b_lcp.py:99: RuntimeWarning: overflow encountered in double_scalars\n",
      "  unfav = comb(x.shape[1]-1, deg_r) * comb(x.shape[0]-1, deg_c)\n",
      "/home/jorge/Documents/2019/Camerino/ASSP2019/multipartite-weighted-link-prediction/linkpred/b_lcp.py:98: RuntimeWarning: overflow encountered in double_scalars\n",
      "  fav = comb(x.shape[1]-1, deg_r-1) * comb(x.shape[0]-1, deg_c-1)\n",
      "/home/jorge/Documents/2019/Camerino/ASSP2019/multipartite-weighted-link-prediction/linkpred/b_lcp.py:99: RuntimeWarning: overflow encountered in double_scalars\n",
      "  unfav = comb(x.shape[1]-1, deg_r) * comb(x.shape[0]-1, deg_c)\n",
      "/home/jorge/Documents/2019/Camerino/ASSP2019/multipartite-weighted-link-prediction/linkpred/b_lcp.py:98: RuntimeWarning: overflow encountered in double_scalars\n",
      "  fav = comb(x.shape[1]-1, deg_r-1) * comb(x.shape[0]-1, deg_c-1)\n",
      "/home/jorge/Documents/2019/Camerino/ASSP2019/multipartite-weighted-link-prediction/linkpred/b_lcp.py:99: RuntimeWarning: overflow encountered in double_scalars\n",
      "  unfav = comb(x.shape[1]-1, deg_r) * comb(x.shape[0]-1, deg_c)\n",
      "/home/jorge/Documents/2019/Camerino/ASSP2019/multipartite-weighted-link-prediction/linkpred/b_lcp.py:98: RuntimeWarning: overflow encountered in double_scalars\n",
      "  fav = comb(x.shape[1]-1, deg_r-1) * comb(x.shape[0]-1, deg_c-1)\n",
      "/home/jorge/Documents/2019/Camerino/ASSP2019/multipartite-weighted-link-prediction/linkpred/b_lcp.py:99: RuntimeWarning: overflow encountered in double_scalars\n",
      "  unfav = comb(x.shape[1]-1, deg_r) * comb(x.shape[0]-1, deg_c)\n",
      "/home/jorge/Documents/2019/Camerino/ASSP2019/multipartite-weighted-link-prediction/linkpred/b_lcp.py:98: RuntimeWarning: overflow encountered in double_scalars\n",
      "  fav = comb(x.shape[1]-1, deg_r-1) * comb(x.shape[0]-1, deg_c-1)\n",
      "/home/jorge/Documents/2019/Camerino/ASSP2019/multipartite-weighted-link-prediction/linkpred/b_lcp.py:99: RuntimeWarning: overflow encountered in double_scalars\n",
      "  unfav = comb(x.shape[1]-1, deg_r) * comb(x.shape[0]-1, deg_c)\n",
      "/home/jorge/Documents/2019/Camerino/ASSP2019/multipartite-weighted-link-prediction/linkpred/b_lcp.py:99: RuntimeWarning: overflow encountered in double_scalars\n",
      "  unfav = comb(x.shape[1]-1, deg_r) * comb(x.shape[0]-1, deg_c)\n",
      "/home/jorge/Documents/2019/Camerino/ASSP2019/multipartite-weighted-link-prediction/linkpred/b_lcp.py:100: RuntimeWarning: divide by zero encountered in log2\n",
      "  cpi[i] = np.log2(fav / (fav + unfav))\n",
      "/home/jorge/Documents/2019/Camerino/ASSP2019/multipartite-weighted-link-prediction/linkpred/b_lcp.py:100: RuntimeWarning: divide by zero encountered in log2\n",
      "  cpi[i] = np.log2(fav / (fav + unfav))\n",
      "/home/jorge/Documents/2019/Camerino/ASSP2019/multipartite-weighted-link-prediction/linkpred/b_lcp.py:98: RuntimeWarning: overflow encountered in double_scalars\n",
      "  fav = comb(x.shape[1]-1, deg_r-1) * comb(x.shape[0]-1, deg_c-1)\n",
      "/home/jorge/Documents/2019/Camerino/ASSP2019/multipartite-weighted-link-prediction/linkpred/b_lcp.py:99: RuntimeWarning: overflow encountered in double_scalars\n",
      "  unfav = comb(x.shape[1]-1, deg_r) * comb(x.shape[0]-1, deg_c)\n",
      "/home/jorge/Documents/2019/Camerino/ASSP2019/multipartite-weighted-link-prediction/linkpred/b_lcp.py:100: RuntimeWarning: divide by zero encountered in log2\n",
      "  cpi[i] = np.log2(fav / (fav + unfav))\n",
      "/home/jorge/Documents/2019/Camerino/ASSP2019/multipartite-weighted-link-prediction/linkpred/b_lcp.py:100: RuntimeWarning: divide by zero encountered in log2\n",
      "  cpi[i] = np.log2(fav / (fav + unfav))\n",
      "/home/jorge/Documents/2019/Camerino/ASSP2019/multipartite-weighted-link-prediction/linkpred/b_lcp.py:98: RuntimeWarning: overflow encountered in double_scalars\n",
      "  fav = comb(x.shape[1]-1, deg_r-1) * comb(x.shape[0]-1, deg_c-1)\n",
      "/home/jorge/Documents/2019/Camerino/ASSP2019/multipartite-weighted-link-prediction/linkpred/b_lcp.py:100: RuntimeWarning: divide by zero encountered in log2\n",
      "  cpi[i] = np.log2(fav / (fav + unfav))\n",
      "/home/jorge/Documents/2019/Camerino/ASSP2019/multipartite-weighted-link-prediction/linkpred/b_lcp.py:100: RuntimeWarning: divide by zero encountered in log2\n",
      "  cpi[i] = np.log2(fav / (fav + unfav))\n",
      "/home/jorge/Documents/2019/Camerino/ASSP2019/multipartite-weighted-link-prediction/linkpred/b_lcp.py:100: RuntimeWarning: divide by zero encountered in log2\n",
      "  cpi[i] = np.log2(fav / (fav + unfav))\n",
      "/home/jorge/Documents/2019/Camerino/ASSP2019/multipartite-weighted-link-prediction/linkpred/b_lcp.py:100: RuntimeWarning: divide by zero encountered in log2\n",
      "  cpi[i] = np.log2(fav / (fav + unfav))\n"
     ]
    },
    {
     "name": "stdout",
     "output_type": "stream",
     "text": [
      "100.00 %, 12.13 minutes\n",
      "... Trial 33 done\n",
      "100.00 %, 12.15 minutes\n",
      "100.00 %, 12.15 minutes\n",
      "... Trial 36 done\n",
      "... Trial 30 done\n",
      "100.00 %, 12.17 minutes\n",
      "... Trial 32 done\n",
      "100.00 %, 12.22 minutes\n",
      "... Trial 39 done\n",
      "Trial 34 starting...\n",
      "Computing bipartite LCP\n",
      "Trial 31 starting...\n",
      "Computing bipartite LCP\n",
      "100.00 %, 12.29 minutes\n",
      "... Trial 35 done\n",
      "100.00 %, 12.33 minutes\n",
      "... Trial 38 done\n",
      "100.00 %, 12.37 minutes\n",
      "... Trial 37 done\n",
      "100.00 %, 4.23 minutes\n",
      "... Trial 34 done\n",
      "100.00 %, 4.29 minutes\n",
      "... Trial 31 done\n",
      "Trial 43 starting...\n",
      "Trial 48 starting...\n",
      "Trial 46 starting...\n",
      "Trial 44 starting...\n",
      "Trial 42 starting...\n",
      "Trial 40 starting...\n",
      "Computing bipartite LCP\n",
      "Trial 47 starting...\n"
     ]
    },
    {
     "name": "stderr",
     "output_type": "stream",
     "text": [
      "/home/jorge/Documents/2019/Camerino/ASSP2019/multipartite-weighted-link-prediction/linkpred/b_lcp.py:100: RuntimeWarning: invalid value encountered in double_scalars\n",
      "  cpi[i] = np.log2(fav / (fav + unfav))\n"
     ]
    },
    {
     "name": "stdout",
     "output_type": "stream",
     "text": [
      "Trial 49 starting...\n"
     ]
    },
    {
     "name": "stderr",
     "output_type": "stream",
     "text": [
      "/home/jorge/Documents/2019/Camerino/ASSP2019/multipartite-weighted-link-prediction/linkpred/b_lcp.py:98: RuntimeWarning: overflow encountered in double_scalars\n",
      "  fav = comb(x.shape[1]-1, deg_r-1) * comb(x.shape[0]-1, deg_c-1)\n",
      "/home/jorge/Documents/2019/Camerino/ASSP2019/multipartite-weighted-link-prediction/linkpred/b_lcp.py:99: RuntimeWarning: overflow encountered in double_scalars\n",
      "  unfav = comb(x.shape[1]-1, deg_r) * comb(x.shape[0]-1, deg_c)\n"
     ]
    },
    {
     "name": "stdout",
     "output_type": "stream",
     "text": [
      "Computing bipartite LCP\n"
     ]
    },
    {
     "name": "stderr",
     "output_type": "stream",
     "text": [
      "/home/jorge/Documents/2019/Camerino/ASSP2019/multipartite-weighted-link-prediction/linkpred/b_lcp.py:100: RuntimeWarning: invalid value encountered in double_scalars\n",
      "  cpi[i] = np.log2(fav / (fav + unfav))\n",
      "/home/jorge/Documents/2019/Camerino/ASSP2019/multipartite-weighted-link-prediction/linkpred/b_lcp.py:98: RuntimeWarning: overflow encountered in double_scalars\n",
      "  fav = comb(x.shape[1]-1, deg_r-1) * comb(x.shape[0]-1, deg_c-1)\n",
      "/home/jorge/Documents/2019/Camerino/ASSP2019/multipartite-weighted-link-prediction/linkpred/b_lcp.py:99: RuntimeWarning: overflow encountered in double_scalars\n",
      "  unfav = comb(x.shape[1]-1, deg_r) * comb(x.shape[0]-1, deg_c)\n"
     ]
    },
    {
     "name": "stdout",
     "output_type": "stream",
     "text": [
      "Computing bipartite LCP\n",
      "Computing bipartite LCP\n"
     ]
    },
    {
     "name": "stderr",
     "output_type": "stream",
     "text": [
      "/home/jorge/Documents/2019/Camerino/ASSP2019/multipartite-weighted-link-prediction/linkpred/b_lcp.py:100: RuntimeWarning: invalid value encountered in double_scalars\n",
      "  cpi[i] = np.log2(fav / (fav + unfav))\n"
     ]
    },
    {
     "name": "stdout",
     "output_type": "stream",
     "text": [
      "Computing bipartite LCP\n"
     ]
    },
    {
     "name": "stderr",
     "output_type": "stream",
     "text": [
      "/home/jorge/Documents/2019/Camerino/ASSP2019/multipartite-weighted-link-prediction/linkpred/b_lcp.py:100: RuntimeWarning: invalid value encountered in double_scalars\n",
      "  cpi[i] = np.log2(fav / (fav + unfav))\n",
      "/home/jorge/Documents/2019/Camerino/ASSP2019/multipartite-weighted-link-prediction/linkpred/b_lcp.py:100: RuntimeWarning: invalid value encountered in double_scalars\n",
      "  cpi[i] = np.log2(fav / (fav + unfav))\n",
      "/home/jorge/Documents/2019/Camerino/ASSP2019/multipartite-weighted-link-prediction/linkpred/b_lcp.py:99: RuntimeWarning: overflow encountered in double_scalars\n",
      "  unfav = comb(x.shape[1]-1, deg_r) * comb(x.shape[0]-1, deg_c)\n",
      "/home/jorge/Documents/2019/Camerino/ASSP2019/multipartite-weighted-link-prediction/linkpred/b_lcp.py:100: RuntimeWarning: divide by zero encountered in log2\n",
      "  cpi[i] = np.log2(fav / (fav + unfav))\n",
      "/home/jorge/Documents/2019/Camerino/ASSP2019/multipartite-weighted-link-prediction/linkpred/b_lcp.py:98: RuntimeWarning: overflow encountered in double_scalars\n",
      "  fav = comb(x.shape[1]-1, deg_r-1) * comb(x.shape[0]-1, deg_c-1)\n",
      "/home/jorge/Documents/2019/Camerino/ASSP2019/multipartite-weighted-link-prediction/linkpred/b_lcp.py:99: RuntimeWarning: overflow encountered in double_scalars\n",
      "  unfav = comb(x.shape[1]-1, deg_r) * comb(x.shape[0]-1, deg_c)\n",
      "/home/jorge/Documents/2019/Camerino/ASSP2019/multipartite-weighted-link-prediction/linkpred/b_lcp.py:98: RuntimeWarning: overflow encountered in double_scalars\n",
      "  fav = comb(x.shape[1]-1, deg_r-1) * comb(x.shape[0]-1, deg_c-1)\n",
      "/home/jorge/Documents/2019/Camerino/ASSP2019/multipartite-weighted-link-prediction/linkpred/b_lcp.py:99: RuntimeWarning: overflow encountered in double_scalars\n",
      "  unfav = comb(x.shape[1]-1, deg_r) * comb(x.shape[0]-1, deg_c)\n"
     ]
    },
    {
     "name": "stdout",
     "output_type": "stream",
     "text": [
      "Computing bipartite LCP\n"
     ]
    },
    {
     "name": "stderr",
     "output_type": "stream",
     "text": [
      "/home/jorge/Documents/2019/Camerino/ASSP2019/multipartite-weighted-link-prediction/linkpred/b_lcp.py:100: RuntimeWarning: invalid value encountered in double_scalars\n",
      "  cpi[i] = np.log2(fav / (fav + unfav))\n"
     ]
    },
    {
     "name": "stdout",
     "output_type": "stream",
     "text": [
      "Computing bipartite LCP\n"
     ]
    },
    {
     "name": "stderr",
     "output_type": "stream",
     "text": [
      "/home/jorge/Documents/2019/Camerino/ASSP2019/multipartite-weighted-link-prediction/linkpred/b_lcp.py:100: RuntimeWarning: invalid value encountered in double_scalars\n",
      "  cpi[i] = np.log2(fav / (fav + unfav))\n",
      "/home/jorge/Documents/2019/Camerino/ASSP2019/multipartite-weighted-link-prediction/linkpred/b_lcp.py:98: RuntimeWarning: overflow encountered in double_scalars\n",
      "  fav = comb(x.shape[1]-1, deg_r-1) * comb(x.shape[0]-1, deg_c-1)\n",
      "/home/jorge/Documents/2019/Camerino/ASSP2019/multipartite-weighted-link-prediction/linkpred/b_lcp.py:99: RuntimeWarning: overflow encountered in double_scalars\n",
      "  unfav = comb(x.shape[1]-1, deg_r) * comb(x.shape[0]-1, deg_c)\n"
     ]
    },
    {
     "name": "stdout",
     "output_type": "stream",
     "text": [
      "Computing bipartite LCP\n"
     ]
    },
    {
     "name": "stderr",
     "output_type": "stream",
     "text": [
      "/home/jorge/Documents/2019/Camerino/ASSP2019/multipartite-weighted-link-prediction/linkpred/b_lcp.py:100: RuntimeWarning: invalid value encountered in double_scalars\n",
      "  cpi[i] = np.log2(fav / (fav + unfav))\n",
      "/home/jorge/Documents/2019/Camerino/ASSP2019/multipartite-weighted-link-prediction/linkpred/b_lcp.py:99: RuntimeWarning: overflow encountered in double_scalars\n",
      "  unfav = comb(x.shape[1]-1, deg_r) * comb(x.shape[0]-1, deg_c)\n",
      "/home/jorge/Documents/2019/Camerino/ASSP2019/multipartite-weighted-link-prediction/linkpred/b_lcp.py:100: RuntimeWarning: divide by zero encountered in log2\n",
      "  cpi[i] = np.log2(fav / (fav + unfav))\n",
      "/home/jorge/Documents/2019/Camerino/ASSP2019/multipartite-weighted-link-prediction/linkpred/b_lcp.py:100: RuntimeWarning: divide by zero encountered in log2\n",
      "  cpi[i] = np.log2(fav / (fav + unfav))\n",
      "/home/jorge/Documents/2019/Camerino/ASSP2019/multipartite-weighted-link-prediction/linkpred/b_lcp.py:98: RuntimeWarning: overflow encountered in double_scalars\n",
      "  fav = comb(x.shape[1]-1, deg_r-1) * comb(x.shape[0]-1, deg_c-1)\n",
      "/home/jorge/Documents/2019/Camerino/ASSP2019/multipartite-weighted-link-prediction/linkpred/b_lcp.py:98: RuntimeWarning: overflow encountered in double_scalars\n",
      "  fav = comb(x.shape[1]-1, deg_r-1) * comb(x.shape[0]-1, deg_c-1)\n",
      "/home/jorge/Documents/2019/Camerino/ASSP2019/multipartite-weighted-link-prediction/linkpred/b_lcp.py:99: RuntimeWarning: overflow encountered in double_scalars\n",
      "  unfav = comb(x.shape[1]-1, deg_r) * comb(x.shape[0]-1, deg_c)\n",
      "/home/jorge/Documents/2019/Camerino/ASSP2019/multipartite-weighted-link-prediction/linkpred/b_lcp.py:100: RuntimeWarning: divide by zero encountered in log2\n",
      "  cpi[i] = np.log2(fav / (fav + unfav))\n",
      "/home/jorge/Documents/2019/Camerino/ASSP2019/multipartite-weighted-link-prediction/linkpred/b_lcp.py:98: RuntimeWarning: overflow encountered in double_scalars\n",
      "  fav = comb(x.shape[1]-1, deg_r-1) * comb(x.shape[0]-1, deg_c-1)\n",
      "/home/jorge/Documents/2019/Camerino/ASSP2019/multipartite-weighted-link-prediction/linkpred/b_lcp.py:100: RuntimeWarning: divide by zero encountered in log2\n",
      "  cpi[i] = np.log2(fav / (fav + unfav))\n",
      "/home/jorge/Documents/2019/Camerino/ASSP2019/multipartite-weighted-link-prediction/linkpred/b_lcp.py:100: RuntimeWarning: divide by zero encountered in log2\n",
      "  cpi[i] = np.log2(fav / (fav + unfav))\n",
      "/home/jorge/Documents/2019/Camerino/ASSP2019/multipartite-weighted-link-prediction/linkpred/b_lcp.py:100: RuntimeWarning: divide by zero encountered in log2\n",
      "  cpi[i] = np.log2(fav / (fav + unfav))\n",
      "/home/jorge/Documents/2019/Camerino/ASSP2019/multipartite-weighted-link-prediction/linkpred/b_lcp.py:100: RuntimeWarning: divide by zero encountered in log2\n",
      "  cpi[i] = np.log2(fav / (fav + unfav))\n"
     ]
    },
    {
     "name": "stdout",
     "output_type": "stream",
     "text": [
      "100.00 %, 12.20 minutes\n",
      "... Trial 44 done\n",
      "100.00 %, 12.26 minutes\n",
      "... Trial 40 done\n",
      "100.00 %, 12.30 minutes\n",
      "... Trial 43 done\n",
      "100.00 %, 12.29 minutes\n",
      "Trial 45 starting...\n",
      "100.00 %, 12.29 minutes\n",
      "... Trial 42 done\n",
      "... Trial 47 done\n",
      "Computing bipartite LCP\n",
      "100.00 %, 12.47 minutes\n",
      "... Trial 46 done\n",
      "100.00 %, 12.48 minutes\n",
      "... Trial 49 done\n",
      "100.00 %, 12.63 minutes\n",
      "Trial 41 starting...\n",
      "... Trial 48 done\n",
      "Computing bipartite LCP\n",
      "100.00 %, 4.82 minutes\n",
      "... Trial 45 done\n",
      "100.00 %, 4.66 minutes\n",
      "... Trial 41 done\n",
      "Trial 56 starting...\n",
      "Trial 53 starting...\n",
      "Trial 55 starting...\n",
      "Trial 54 starting...\n",
      "Trial 57 starting...\n",
      "Trial 52 starting...\n",
      "Trial 59 starting...\n",
      "Trial 50 starting...\n",
      "Computing bipartite LCP\n"
     ]
    },
    {
     "name": "stderr",
     "output_type": "stream",
     "text": [
      "/home/jorge/Documents/2019/Camerino/ASSP2019/multipartite-weighted-link-prediction/linkpred/b_lcp.py:100: RuntimeWarning: invalid value encountered in double_scalars\n",
      "  cpi[i] = np.log2(fav / (fav + unfav))\n"
     ]
    },
    {
     "name": "stdout",
     "output_type": "stream",
     "text": [
      "Computing bipartite LCP\n"
     ]
    },
    {
     "name": "stderr",
     "output_type": "stream",
     "text": [
      "/home/jorge/Documents/2019/Camerino/ASSP2019/multipartite-weighted-link-prediction/linkpred/b_lcp.py:100: RuntimeWarning: invalid value encountered in double_scalars\n",
      "  cpi[i] = np.log2(fav / (fav + unfav))\n"
     ]
    },
    {
     "name": "stdout",
     "output_type": "stream",
     "text": [
      "Computing bipartite LCP\n",
      "Computing bipartite LCP\n"
     ]
    },
    {
     "name": "stderr",
     "output_type": "stream",
     "text": [
      "/home/jorge/Documents/2019/Camerino/ASSP2019/multipartite-weighted-link-prediction/linkpred/b_lcp.py:100: RuntimeWarning: invalid value encountered in double_scalars\n",
      "  cpi[i] = np.log2(fav / (fav + unfav))\n",
      "/home/jorge/Documents/2019/Camerino/ASSP2019/multipartite-weighted-link-prediction/linkpred/b_lcp.py:100: RuntimeWarning: invalid value encountered in double_scalars\n",
      "  cpi[i] = np.log2(fav / (fav + unfav))\n"
     ]
    },
    {
     "name": "stdout",
     "output_type": "stream",
     "text": [
      "Computing bipartite LCP\n"
     ]
    },
    {
     "name": "stderr",
     "output_type": "stream",
     "text": [
      "/home/jorge/Documents/2019/Camerino/ASSP2019/multipartite-weighted-link-prediction/linkpred/b_lcp.py:100: RuntimeWarning: invalid value encountered in double_scalars\n",
      "  cpi[i] = np.log2(fav / (fav + unfav))\n"
     ]
    },
    {
     "name": "stdout",
     "output_type": "stream",
     "text": [
      "Computing bipartite LCP\n",
      "Computing bipartite LCP\n",
      "Computing bipartite LCP\n"
     ]
    },
    {
     "name": "stderr",
     "output_type": "stream",
     "text": [
      "/home/jorge/Documents/2019/Camerino/ASSP2019/multipartite-weighted-link-prediction/linkpred/b_lcp.py:100: RuntimeWarning: invalid value encountered in double_scalars\n",
      "  cpi[i] = np.log2(fav / (fav + unfav))\n",
      "/home/jorge/Documents/2019/Camerino/ASSP2019/multipartite-weighted-link-prediction/linkpred/b_lcp.py:100: RuntimeWarning: invalid value encountered in double_scalars\n",
      "  cpi[i] = np.log2(fav / (fav + unfav))\n",
      "/home/jorge/Documents/2019/Camerino/ASSP2019/multipartite-weighted-link-prediction/linkpred/b_lcp.py:100: RuntimeWarning: invalid value encountered in double_scalars\n",
      "  cpi[i] = np.log2(fav / (fav + unfav))\n",
      "/home/jorge/Documents/2019/Camerino/ASSP2019/multipartite-weighted-link-prediction/linkpred/b_lcp.py:98: RuntimeWarning: overflow encountered in double_scalars\n",
      "  fav = comb(x.shape[1]-1, deg_r-1) * comb(x.shape[0]-1, deg_c-1)\n",
      "/home/jorge/Documents/2019/Camerino/ASSP2019/multipartite-weighted-link-prediction/linkpred/b_lcp.py:99: RuntimeWarning: overflow encountered in double_scalars\n",
      "  unfav = comb(x.shape[1]-1, deg_r) * comb(x.shape[0]-1, deg_c)\n",
      "/home/jorge/Documents/2019/Camerino/ASSP2019/multipartite-weighted-link-prediction/linkpred/b_lcp.py:98: RuntimeWarning: overflow encountered in double_scalars\n",
      "  fav = comb(x.shape[1]-1, deg_r-1) * comb(x.shape[0]-1, deg_c-1)\n",
      "/home/jorge/Documents/2019/Camerino/ASSP2019/multipartite-weighted-link-prediction/linkpred/b_lcp.py:99: RuntimeWarning: overflow encountered in double_scalars\n",
      "  unfav = comb(x.shape[1]-1, deg_r) * comb(x.shape[0]-1, deg_c)\n",
      "/home/jorge/Documents/2019/Camerino/ASSP2019/multipartite-weighted-link-prediction/linkpred/b_lcp.py:98: RuntimeWarning: overflow encountered in double_scalars\n",
      "  fav = comb(x.shape[1]-1, deg_r-1) * comb(x.shape[0]-1, deg_c-1)\n",
      "/home/jorge/Documents/2019/Camerino/ASSP2019/multipartite-weighted-link-prediction/linkpred/b_lcp.py:98: RuntimeWarning: overflow encountered in double_scalars\n",
      "  fav = comb(x.shape[1]-1, deg_r-1) * comb(x.shape[0]-1, deg_c-1)\n",
      "/home/jorge/Documents/2019/Camerino/ASSP2019/multipartite-weighted-link-prediction/linkpred/b_lcp.py:99: RuntimeWarning: overflow encountered in double_scalars\n",
      "  unfav = comb(x.shape[1]-1, deg_r) * comb(x.shape[0]-1, deg_c)\n",
      "/home/jorge/Documents/2019/Camerino/ASSP2019/multipartite-weighted-link-prediction/linkpred/b_lcp.py:99: RuntimeWarning: overflow encountered in double_scalars\n",
      "  unfav = comb(x.shape[1]-1, deg_r) * comb(x.shape[0]-1, deg_c)\n",
      "/home/jorge/Documents/2019/Camerino/ASSP2019/multipartite-weighted-link-prediction/linkpred/b_lcp.py:99: RuntimeWarning: overflow encountered in double_scalars\n",
      "  unfav = comb(x.shape[1]-1, deg_r) * comb(x.shape[0]-1, deg_c)\n",
      "/home/jorge/Documents/2019/Camerino/ASSP2019/multipartite-weighted-link-prediction/linkpred/b_lcp.py:100: RuntimeWarning: divide by zero encountered in log2\n",
      "  cpi[i] = np.log2(fav / (fav + unfav))\n",
      "/home/jorge/Documents/2019/Camerino/ASSP2019/multipartite-weighted-link-prediction/linkpred/b_lcp.py:99: RuntimeWarning: overflow encountered in double_scalars\n",
      "  unfav = comb(x.shape[1]-1, deg_r) * comb(x.shape[0]-1, deg_c)\n",
      "/home/jorge/Documents/2019/Camerino/ASSP2019/multipartite-weighted-link-prediction/linkpred/b_lcp.py:100: RuntimeWarning: divide by zero encountered in log2\n",
      "  cpi[i] = np.log2(fav / (fav + unfav))\n",
      "/home/jorge/Documents/2019/Camerino/ASSP2019/multipartite-weighted-link-prediction/linkpred/b_lcp.py:100: RuntimeWarning: divide by zero encountered in log2\n",
      "  cpi[i] = np.log2(fav / (fav + unfav))\n",
      "/home/jorge/Documents/2019/Camerino/ASSP2019/multipartite-weighted-link-prediction/linkpred/b_lcp.py:98: RuntimeWarning: overflow encountered in double_scalars\n",
      "  fav = comb(x.shape[1]-1, deg_r-1) * comb(x.shape[0]-1, deg_c-1)\n",
      "/home/jorge/Documents/2019/Camerino/ASSP2019/multipartite-weighted-link-prediction/linkpred/b_lcp.py:98: RuntimeWarning: overflow encountered in double_scalars\n",
      "  fav = comb(x.shape[1]-1, deg_r-1) * comb(x.shape[0]-1, deg_c-1)\n",
      "/home/jorge/Documents/2019/Camerino/ASSP2019/multipartite-weighted-link-prediction/linkpred/b_lcp.py:99: RuntimeWarning: overflow encountered in double_scalars\n",
      "  unfav = comb(x.shape[1]-1, deg_r) * comb(x.shape[0]-1, deg_c)\n",
      "/home/jorge/Documents/2019/Camerino/ASSP2019/multipartite-weighted-link-prediction/linkpred/b_lcp.py:99: RuntimeWarning: overflow encountered in double_scalars\n",
      "  unfav = comb(x.shape[1]-1, deg_r) * comb(x.shape[0]-1, deg_c)\n",
      "/home/jorge/Documents/2019/Camerino/ASSP2019/multipartite-weighted-link-prediction/linkpred/b_lcp.py:100: RuntimeWarning: divide by zero encountered in log2\n",
      "  cpi[i] = np.log2(fav / (fav + unfav))\n",
      "/home/jorge/Documents/2019/Camerino/ASSP2019/multipartite-weighted-link-prediction/linkpred/b_lcp.py:98: RuntimeWarning: overflow encountered in double_scalars\n",
      "  fav = comb(x.shape[1]-1, deg_r-1) * comb(x.shape[0]-1, deg_c-1)\n",
      "/home/jorge/Documents/2019/Camerino/ASSP2019/multipartite-weighted-link-prediction/linkpred/b_lcp.py:98: RuntimeWarning: overflow encountered in double_scalars\n",
      "  fav = comb(x.shape[1]-1, deg_r-1) * comb(x.shape[0]-1, deg_c-1)\n",
      "/home/jorge/Documents/2019/Camerino/ASSP2019/multipartite-weighted-link-prediction/linkpred/b_lcp.py:100: RuntimeWarning: divide by zero encountered in log2\n",
      "  cpi[i] = np.log2(fav / (fav + unfav))\n",
      "/home/jorge/Documents/2019/Camerino/ASSP2019/multipartite-weighted-link-prediction/linkpred/b_lcp.py:100: RuntimeWarning: divide by zero encountered in log2\n",
      "  cpi[i] = np.log2(fav / (fav + unfav))\n",
      "/home/jorge/Documents/2019/Camerino/ASSP2019/multipartite-weighted-link-prediction/linkpred/b_lcp.py:100: RuntimeWarning: divide by zero encountered in log2\n",
      "  cpi[i] = np.log2(fav / (fav + unfav))\n",
      "/home/jorge/Documents/2019/Camerino/ASSP2019/multipartite-weighted-link-prediction/linkpred/b_lcp.py:100: RuntimeWarning: divide by zero encountered in log2\n",
      "  cpi[i] = np.log2(fav / (fav + unfav))\n"
     ]
    },
    {
     "name": "stdout",
     "output_type": "stream",
     "text": [
      "100.00 %, 13.18 minutes\n",
      "... Trial 57 done\n",
      "Trial 58 starting...\n",
      "100.00 %, 13.28 minutes\n",
      "... Trial 52 done\n",
      "Computing bipartite LCP\n",
      "100.00 %, 13.36 minutes\n",
      "... Trial 54 done\n",
      "100.00 %, 13.38 minutes\n",
      "... Trial 55 done\n",
      "Trial 51 starting...\n",
      "Computing bipartite LCP\n",
      "100.00 %, 13.43 minutes\n",
      "... Trial 56 done\n",
      "100.00 %, 13.43 minutes\n",
      "... Trial 50 done\n",
      "100.00 %, 13.47 minutes\n",
      "... Trial 53 done\n",
      "100.00 %, 13.48 minutes\n",
      "... Trial 59 done\n",
      "100.00 %, 4.62 minutes\n",
      "... Trial 58 done\n",
      "100.00 %, 4.53 minutes\n",
      "... Trial 51 done\n",
      "Trial 66 starting...\n",
      "Trial 68 starting...\n",
      "Trial 63 starting...\n",
      "Trial 65 starting...\n",
      "Trial 67 starting...\n",
      "Trial 69 starting...\n",
      "Trial 60 starting...\n",
      "Trial 62 starting...\n",
      "Computing bipartite LCP\n",
      "Computing bipartite LCP\n"
     ]
    },
    {
     "name": "stderr",
     "output_type": "stream",
     "text": [
      "/home/jorge/Documents/2019/Camerino/ASSP2019/multipartite-weighted-link-prediction/linkpred/b_lcp.py:100: RuntimeWarning: invalid value encountered in double_scalars\n",
      "  cpi[i] = np.log2(fav / (fav + unfav))\n",
      "/home/jorge/Documents/2019/Camerino/ASSP2019/multipartite-weighted-link-prediction/linkpred/b_lcp.py:100: RuntimeWarning: invalid value encountered in double_scalars\n",
      "  cpi[i] = np.log2(fav / (fav + unfav))\n"
     ]
    },
    {
     "name": "stdout",
     "output_type": "stream",
     "text": [
      "Computing bipartite LCP\n"
     ]
    },
    {
     "name": "stderr",
     "output_type": "stream",
     "text": [
      "/home/jorge/Documents/2019/Camerino/ASSP2019/multipartite-weighted-link-prediction/linkpred/b_lcp.py:100: RuntimeWarning: invalid value encountered in double_scalars\n",
      "  cpi[i] = np.log2(fav / (fav + unfav))\n"
     ]
    },
    {
     "name": "stdout",
     "output_type": "stream",
     "text": [
      "Computing bipartite LCP\n",
      "Computing bipartite LCP\n"
     ]
    },
    {
     "name": "stderr",
     "output_type": "stream",
     "text": [
      "/home/jorge/Documents/2019/Camerino/ASSP2019/multipartite-weighted-link-prediction/linkpred/b_lcp.py:100: RuntimeWarning: invalid value encountered in double_scalars\n",
      "  cpi[i] = np.log2(fav / (fav + unfav))\n",
      "/home/jorge/Documents/2019/Camerino/ASSP2019/multipartite-weighted-link-prediction/linkpred/b_lcp.py:100: RuntimeWarning: invalid value encountered in double_scalars\n",
      "  cpi[i] = np.log2(fav / (fav + unfav))\n",
      "/home/jorge/Documents/2019/Camerino/ASSP2019/multipartite-weighted-link-prediction/linkpred/b_lcp.py:98: RuntimeWarning: overflow encountered in double_scalars\n",
      "  fav = comb(x.shape[1]-1, deg_r-1) * comb(x.shape[0]-1, deg_c-1)\n",
      "/home/jorge/Documents/2019/Camerino/ASSP2019/multipartite-weighted-link-prediction/linkpred/b_lcp.py:99: RuntimeWarning: overflow encountered in double_scalars\n",
      "  unfav = comb(x.shape[1]-1, deg_r) * comb(x.shape[0]-1, deg_c)\n",
      "/home/jorge/Documents/2019/Camerino/ASSP2019/multipartite-weighted-link-prediction/linkpred/b_lcp.py:98: RuntimeWarning: overflow encountered in double_scalars\n",
      "  fav = comb(x.shape[1]-1, deg_r-1) * comb(x.shape[0]-1, deg_c-1)\n",
      "/home/jorge/Documents/2019/Camerino/ASSP2019/multipartite-weighted-link-prediction/linkpred/b_lcp.py:99: RuntimeWarning: overflow encountered in double_scalars\n",
      "  unfav = comb(x.shape[1]-1, deg_r) * comb(x.shape[0]-1, deg_c)\n",
      "/home/jorge/Documents/2019/Camerino/ASSP2019/multipartite-weighted-link-prediction/linkpred/b_lcp.py:98: RuntimeWarning: overflow encountered in double_scalars\n",
      "  fav = comb(x.shape[1]-1, deg_r-1) * comb(x.shape[0]-1, deg_c-1)\n",
      "/home/jorge/Documents/2019/Camerino/ASSP2019/multipartite-weighted-link-prediction/linkpred/b_lcp.py:99: RuntimeWarning: overflow encountered in double_scalars\n",
      "  unfav = comb(x.shape[1]-1, deg_r) * comb(x.shape[0]-1, deg_c)\n"
     ]
    },
    {
     "name": "stdout",
     "output_type": "stream",
     "text": [
      "Computing bipartite LCP\n"
     ]
    },
    {
     "name": "stderr",
     "output_type": "stream",
     "text": [
      "/home/jorge/Documents/2019/Camerino/ASSP2019/multipartite-weighted-link-prediction/linkpred/b_lcp.py:100: RuntimeWarning: invalid value encountered in double_scalars\n",
      "  cpi[i] = np.log2(fav / (fav + unfav))\n"
     ]
    },
    {
     "name": "stdout",
     "output_type": "stream",
     "text": [
      "Computing bipartite LCP\n"
     ]
    },
    {
     "name": "stderr",
     "output_type": "stream",
     "text": [
      "/home/jorge/Documents/2019/Camerino/ASSP2019/multipartite-weighted-link-prediction/linkpred/b_lcp.py:99: RuntimeWarning: overflow encountered in double_scalars\n",
      "  unfav = comb(x.shape[1]-1, deg_r) * comb(x.shape[0]-1, deg_c)\n",
      "/home/jorge/Documents/2019/Camerino/ASSP2019/multipartite-weighted-link-prediction/linkpred/b_lcp.py:100: RuntimeWarning: divide by zero encountered in log2\n",
      "  cpi[i] = np.log2(fav / (fav + unfav))\n",
      "/home/jorge/Documents/2019/Camerino/ASSP2019/multipartite-weighted-link-prediction/linkpred/b_lcp.py:100: RuntimeWarning: invalid value encountered in double_scalars\n",
      "  cpi[i] = np.log2(fav / (fav + unfav))\n",
      "/home/jorge/Documents/2019/Camerino/ASSP2019/multipartite-weighted-link-prediction/linkpred/b_lcp.py:98: RuntimeWarning: overflow encountered in double_scalars\n",
      "  fav = comb(x.shape[1]-1, deg_r-1) * comb(x.shape[0]-1, deg_c-1)\n",
      "/home/jorge/Documents/2019/Camerino/ASSP2019/multipartite-weighted-link-prediction/linkpred/b_lcp.py:99: RuntimeWarning: overflow encountered in double_scalars\n",
      "  unfav = comb(x.shape[1]-1, deg_r) * comb(x.shape[0]-1, deg_c)\n",
      "/home/jorge/Documents/2019/Camerino/ASSP2019/multipartite-weighted-link-prediction/linkpred/b_lcp.py:98: RuntimeWarning: overflow encountered in double_scalars\n",
      "  fav = comb(x.shape[1]-1, deg_r-1) * comb(x.shape[0]-1, deg_c-1)\n"
     ]
    },
    {
     "name": "stdout",
     "output_type": "stream",
     "text": [
      "Computing bipartite LCP\n"
     ]
    },
    {
     "name": "stderr",
     "output_type": "stream",
     "text": [
      "/home/jorge/Documents/2019/Camerino/ASSP2019/multipartite-weighted-link-prediction/linkpred/b_lcp.py:100: RuntimeWarning: divide by zero encountered in log2\n",
      "  cpi[i] = np.log2(fav / (fav + unfav))\n",
      "/home/jorge/Documents/2019/Camerino/ASSP2019/multipartite-weighted-link-prediction/linkpred/b_lcp.py:100: RuntimeWarning: invalid value encountered in double_scalars\n",
      "  cpi[i] = np.log2(fav / (fav + unfav))\n",
      "/home/jorge/Documents/2019/Camerino/ASSP2019/multipartite-weighted-link-prediction/linkpred/b_lcp.py:98: RuntimeWarning: overflow encountered in double_scalars\n",
      "  fav = comb(x.shape[1]-1, deg_r-1) * comb(x.shape[0]-1, deg_c-1)\n",
      "/home/jorge/Documents/2019/Camerino/ASSP2019/multipartite-weighted-link-prediction/linkpred/b_lcp.py:98: RuntimeWarning: overflow encountered in double_scalars\n",
      "  fav = comb(x.shape[1]-1, deg_r-1) * comb(x.shape[0]-1, deg_c-1)\n",
      "/home/jorge/Documents/2019/Camerino/ASSP2019/multipartite-weighted-link-prediction/linkpred/b_lcp.py:99: RuntimeWarning: overflow encountered in double_scalars\n",
      "  unfav = comb(x.shape[1]-1, deg_r) * comb(x.shape[0]-1, deg_c)\n",
      "/home/jorge/Documents/2019/Camerino/ASSP2019/multipartite-weighted-link-prediction/linkpred/b_lcp.py:99: RuntimeWarning: overflow encountered in double_scalars\n",
      "  unfav = comb(x.shape[1]-1, deg_r) * comb(x.shape[0]-1, deg_c)\n",
      "/home/jorge/Documents/2019/Camerino/ASSP2019/multipartite-weighted-link-prediction/linkpred/b_lcp.py:98: RuntimeWarning: overflow encountered in double_scalars\n",
      "  fav = comb(x.shape[1]-1, deg_r-1) * comb(x.shape[0]-1, deg_c-1)\n",
      "/home/jorge/Documents/2019/Camerino/ASSP2019/multipartite-weighted-link-prediction/linkpred/b_lcp.py:99: RuntimeWarning: overflow encountered in double_scalars\n",
      "  unfav = comb(x.shape[1]-1, deg_r) * comb(x.shape[0]-1, deg_c)\n",
      "/home/jorge/Documents/2019/Camerino/ASSP2019/multipartite-weighted-link-prediction/linkpred/b_lcp.py:100: RuntimeWarning: divide by zero encountered in log2\n",
      "  cpi[i] = np.log2(fav / (fav + unfav))\n",
      "/home/jorge/Documents/2019/Camerino/ASSP2019/multipartite-weighted-link-prediction/linkpred/b_lcp.py:100: RuntimeWarning: divide by zero encountered in log2\n",
      "  cpi[i] = np.log2(fav / (fav + unfav))\n",
      "/home/jorge/Documents/2019/Camerino/ASSP2019/multipartite-weighted-link-prediction/linkpred/b_lcp.py:100: RuntimeWarning: divide by zero encountered in log2\n",
      "  cpi[i] = np.log2(fav / (fav + unfav))\n",
      "/home/jorge/Documents/2019/Camerino/ASSP2019/multipartite-weighted-link-prediction/linkpred/b_lcp.py:100: RuntimeWarning: divide by zero encountered in log2\n",
      "  cpi[i] = np.log2(fav / (fav + unfav))\n",
      "/home/jorge/Documents/2019/Camerino/ASSP2019/multipartite-weighted-link-prediction/linkpred/b_lcp.py:100: RuntimeWarning: divide by zero encountered in log2\n",
      "  cpi[i] = np.log2(fav / (fav + unfav))\n",
      "/home/jorge/Documents/2019/Camerino/ASSP2019/multipartite-weighted-link-prediction/linkpred/b_lcp.py:100: RuntimeWarning: divide by zero encountered in log2\n",
      "  cpi[i] = np.log2(fav / (fav + unfav))\n"
     ]
    },
    {
     "name": "stdout",
     "output_type": "stream",
     "text": [
      "100.00 %, 13.26 minutes\n",
      "... Trial 60 done\n",
      "100.00 %, 13.28 minutes\n",
      "... Trial 66 done\n",
      "100.00 %, 13.32 minutes\n",
      "... Trial 62 done\n",
      "100.00 %, 13.34 minutes\n",
      "... Trial 67 done\n",
      "100.00 %, 13.35 minutes\n",
      "Trial 64 starting...\n",
      "... Trial 68 done\n",
      "Computing bipartite LCP\n",
      "Trial 61 starting...\n",
      "100.00 %, 13.40 minutes\n",
      "... Trial 65 done\n",
      "Computing bipartite LCP\n",
      "100.00 %, 13.42 minutes\n",
      "... Trial 63 done\n",
      "100.00 %, 13.45 minutes\n",
      "... Trial 69 done\n",
      "100.00 %, 4.50 minutes\n",
      "... Trial 61 done\n",
      "100.00 %, 4.56 minutes\n",
      "... Trial 64 done\n",
      "Trial 72 starting...\n",
      "Trial 76 starting...\n",
      "Trial 73 starting...\n",
      "Trial 74 starting...\n",
      "Trial 78 starting...\n",
      "Computing bipartite LCP\n"
     ]
    },
    {
     "name": "stderr",
     "output_type": "stream",
     "text": [
      "/home/jorge/Documents/2019/Camerino/ASSP2019/multipartite-weighted-link-prediction/linkpred/b_lcp.py:100: RuntimeWarning: invalid value encountered in double_scalars\n",
      "  cpi[i] = np.log2(fav / (fav + unfav))\n"
     ]
    },
    {
     "name": "stdout",
     "output_type": "stream",
     "text": [
      "Trial 79 starting...\n"
     ]
    },
    {
     "name": "stderr",
     "output_type": "stream",
     "text": [
      "/home/jorge/Documents/2019/Camerino/ASSP2019/multipartite-weighted-link-prediction/linkpred/b_lcp.py:98: RuntimeWarning: overflow encountered in double_scalars\n",
      "  fav = comb(x.shape[1]-1, deg_r-1) * comb(x.shape[0]-1, deg_c-1)\n",
      "/home/jorge/Documents/2019/Camerino/ASSP2019/multipartite-weighted-link-prediction/linkpred/b_lcp.py:99: RuntimeWarning: overflow encountered in double_scalars\n",
      "  unfav = comb(x.shape[1]-1, deg_r) * comb(x.shape[0]-1, deg_c)\n"
     ]
    },
    {
     "name": "stdout",
     "output_type": "stream",
     "text": [
      "Trial 70 starting...\n",
      "Computing bipartite LCP\n"
     ]
    },
    {
     "name": "stderr",
     "output_type": "stream",
     "text": [
      "/home/jorge/Documents/2019/Camerino/ASSP2019/multipartite-weighted-link-prediction/linkpred/b_lcp.py:100: RuntimeWarning: invalid value encountered in double_scalars\n",
      "  cpi[i] = np.log2(fav / (fav + unfav))\n"
     ]
    },
    {
     "name": "stdout",
     "output_type": "stream",
     "text": [
      "Trial 75 starting...\n",
      "Computing bipartite LCP\n"
     ]
    },
    {
     "name": "stderr",
     "output_type": "stream",
     "text": [
      "/home/jorge/Documents/2019/Camerino/ASSP2019/multipartite-weighted-link-prediction/linkpred/b_lcp.py:100: RuntimeWarning: invalid value encountered in double_scalars\n",
      "  cpi[i] = np.log2(fav / (fav + unfav))\n",
      "/home/jorge/Documents/2019/Camerino/ASSP2019/multipartite-weighted-link-prediction/linkpred/b_lcp.py:98: RuntimeWarning: overflow encountered in double_scalars\n",
      "  fav = comb(x.shape[1]-1, deg_r-1) * comb(x.shape[0]-1, deg_c-1)\n",
      "/home/jorge/Documents/2019/Camerino/ASSP2019/multipartite-weighted-link-prediction/linkpred/b_lcp.py:99: RuntimeWarning: overflow encountered in double_scalars\n",
      "  unfav = comb(x.shape[1]-1, deg_r) * comb(x.shape[0]-1, deg_c)\n",
      "/home/jorge/Documents/2019/Camerino/ASSP2019/multipartite-weighted-link-prediction/linkpred/b_lcp.py:99: RuntimeWarning: overflow encountered in double_scalars\n",
      "  unfav = comb(x.shape[1]-1, deg_r) * comb(x.shape[0]-1, deg_c)\n",
      "/home/jorge/Documents/2019/Camerino/ASSP2019/multipartite-weighted-link-prediction/linkpred/b_lcp.py:100: RuntimeWarning: divide by zero encountered in log2\n",
      "  cpi[i] = np.log2(fav / (fav + unfav))\n",
      "/home/jorge/Documents/2019/Camerino/ASSP2019/multipartite-weighted-link-prediction/linkpred/b_lcp.py:98: RuntimeWarning: overflow encountered in double_scalars\n",
      "  fav = comb(x.shape[1]-1, deg_r-1) * comb(x.shape[0]-1, deg_c-1)\n"
     ]
    },
    {
     "name": "stdout",
     "output_type": "stream",
     "text": [
      "Computing bipartite LCP\n"
     ]
    },
    {
     "name": "stderr",
     "output_type": "stream",
     "text": [
      "/home/jorge/Documents/2019/Camerino/ASSP2019/multipartite-weighted-link-prediction/linkpred/b_lcp.py:100: RuntimeWarning: invalid value encountered in double_scalars\n",
      "  cpi[i] = np.log2(fav / (fav + unfav))\n",
      "/home/jorge/Documents/2019/Camerino/ASSP2019/multipartite-weighted-link-prediction/linkpred/b_lcp.py:98: RuntimeWarning: overflow encountered in double_scalars\n",
      "  fav = comb(x.shape[1]-1, deg_r-1) * comb(x.shape[0]-1, deg_c-1)\n",
      "/home/jorge/Documents/2019/Camerino/ASSP2019/multipartite-weighted-link-prediction/linkpred/b_lcp.py:99: RuntimeWarning: overflow encountered in double_scalars\n",
      "  unfav = comb(x.shape[1]-1, deg_r) * comb(x.shape[0]-1, deg_c)\n"
     ]
    },
    {
     "name": "stdout",
     "output_type": "stream",
     "text": [
      "Computing bipartite LCP\n"
     ]
    },
    {
     "name": "stderr",
     "output_type": "stream",
     "text": [
      "/home/jorge/Documents/2019/Camerino/ASSP2019/multipartite-weighted-link-prediction/linkpred/b_lcp.py:100: RuntimeWarning: invalid value encountered in double_scalars\n",
      "  cpi[i] = np.log2(fav / (fav + unfav))\n"
     ]
    },
    {
     "name": "stdout",
     "output_type": "stream",
     "text": [
      "Computing bipartite LCP\n",
      "Computing bipartite LCP\n"
     ]
    },
    {
     "name": "stderr",
     "output_type": "stream",
     "text": [
      "/home/jorge/Documents/2019/Camerino/ASSP2019/multipartite-weighted-link-prediction/linkpred/b_lcp.py:100: RuntimeWarning: invalid value encountered in double_scalars\n",
      "  cpi[i] = np.log2(fav / (fav + unfav))\n",
      "/home/jorge/Documents/2019/Camerino/ASSP2019/multipartite-weighted-link-prediction/linkpred/b_lcp.py:100: RuntimeWarning: invalid value encountered in double_scalars\n",
      "  cpi[i] = np.log2(fav / (fav + unfav))\n",
      "/home/jorge/Documents/2019/Camerino/ASSP2019/multipartite-weighted-link-prediction/linkpred/b_lcp.py:98: RuntimeWarning: overflow encountered in double_scalars\n",
      "  fav = comb(x.shape[1]-1, deg_r-1) * comb(x.shape[0]-1, deg_c-1)\n",
      "/home/jorge/Documents/2019/Camerino/ASSP2019/multipartite-weighted-link-prediction/linkpred/b_lcp.py:99: RuntimeWarning: overflow encountered in double_scalars\n",
      "  unfav = comb(x.shape[1]-1, deg_r) * comb(x.shape[0]-1, deg_c)\n",
      "/home/jorge/Documents/2019/Camerino/ASSP2019/multipartite-weighted-link-prediction/linkpred/b_lcp.py:98: RuntimeWarning: overflow encountered in double_scalars\n",
      "  fav = comb(x.shape[1]-1, deg_r-1) * comb(x.shape[0]-1, deg_c-1)\n",
      "/home/jorge/Documents/2019/Camerino/ASSP2019/multipartite-weighted-link-prediction/linkpred/b_lcp.py:99: RuntimeWarning: overflow encountered in double_scalars\n",
      "  unfav = comb(x.shape[1]-1, deg_r) * comb(x.shape[0]-1, deg_c)\n",
      "/home/jorge/Documents/2019/Camerino/ASSP2019/multipartite-weighted-link-prediction/linkpred/b_lcp.py:100: RuntimeWarning: divide by zero encountered in log2\n",
      "  cpi[i] = np.log2(fav / (fav + unfav))\n"
     ]
    },
    {
     "name": "stdout",
     "output_type": "stream",
     "text": [
      "Computing bipartite LCP\n"
     ]
    },
    {
     "name": "stderr",
     "output_type": "stream",
     "text": [
      "/home/jorge/Documents/2019/Camerino/ASSP2019/multipartite-weighted-link-prediction/linkpred/b_lcp.py:100: RuntimeWarning: invalid value encountered in double_scalars\n",
      "  cpi[i] = np.log2(fav / (fav + unfav))\n",
      "/home/jorge/Documents/2019/Camerino/ASSP2019/multipartite-weighted-link-prediction/linkpred/b_lcp.py:100: RuntimeWarning: divide by zero encountered in log2\n",
      "  cpi[i] = np.log2(fav / (fav + unfav))\n",
      "/home/jorge/Documents/2019/Camerino/ASSP2019/multipartite-weighted-link-prediction/linkpred/b_lcp.py:99: RuntimeWarning: overflow encountered in double_scalars\n",
      "  unfav = comb(x.shape[1]-1, deg_r) * comb(x.shape[0]-1, deg_c)\n",
      "/home/jorge/Documents/2019/Camerino/ASSP2019/multipartite-weighted-link-prediction/linkpred/b_lcp.py:100: RuntimeWarning: divide by zero encountered in log2\n",
      "  cpi[i] = np.log2(fav / (fav + unfav))\n",
      "/home/jorge/Documents/2019/Camerino/ASSP2019/multipartite-weighted-link-prediction/linkpred/b_lcp.py:99: RuntimeWarning: overflow encountered in double_scalars\n",
      "  unfav = comb(x.shape[1]-1, deg_r) * comb(x.shape[0]-1, deg_c)\n",
      "/home/jorge/Documents/2019/Camerino/ASSP2019/multipartite-weighted-link-prediction/linkpred/b_lcp.py:100: RuntimeWarning: divide by zero encountered in log2\n",
      "  cpi[i] = np.log2(fav / (fav + unfav))\n",
      "/home/jorge/Documents/2019/Camerino/ASSP2019/multipartite-weighted-link-prediction/linkpred/b_lcp.py:100: RuntimeWarning: divide by zero encountered in log2\n",
      "  cpi[i] = np.log2(fav / (fav + unfav))\n",
      "/home/jorge/Documents/2019/Camerino/ASSP2019/multipartite-weighted-link-prediction/linkpred/b_lcp.py:98: RuntimeWarning: overflow encountered in double_scalars\n",
      "  fav = comb(x.shape[1]-1, deg_r-1) * comb(x.shape[0]-1, deg_c-1)\n",
      "/home/jorge/Documents/2019/Camerino/ASSP2019/multipartite-weighted-link-prediction/linkpred/b_lcp.py:98: RuntimeWarning: overflow encountered in double_scalars\n",
      "  fav = comb(x.shape[1]-1, deg_r-1) * comb(x.shape[0]-1, deg_c-1)\n",
      "/home/jorge/Documents/2019/Camerino/ASSP2019/multipartite-weighted-link-prediction/linkpred/b_lcp.py:100: RuntimeWarning: divide by zero encountered in log2\n",
      "  cpi[i] = np.log2(fav / (fav + unfav))\n",
      "/home/jorge/Documents/2019/Camerino/ASSP2019/multipartite-weighted-link-prediction/linkpred/b_lcp.py:100: RuntimeWarning: divide by zero encountered in log2\n",
      "  cpi[i] = np.log2(fav / (fav + unfav))\n"
     ]
    },
    {
     "name": "stdout",
     "output_type": "stream",
     "text": [
      "100.00 %, 13.03 minutes\n",
      "... Trial 78 done\n",
      "Trial 77 starting...\n",
      "Computing bipartite LCP\n",
      "100.00 %, 13.15 minutes\n",
      "... Trial 79 done\n",
      "100.00 %, 13.21 minutes\n",
      "... Trial 76 done\n",
      "100.00 %, 13.22 minutes\n",
      "... Trial 70 done\n",
      "100.00 %, 13.23 minutes\n",
      "... Trial 75 done\n",
      "Trial 71 starting...\n",
      "Computing bipartite LCP\n",
      "100.00 %, 13.33 minutes\n",
      "... Trial 72 done\n",
      "100.00 %, 13.34 minutes\n",
      "... Trial 73 done\n",
      "100.00 %, 13.40 minutes\n",
      "... Trial 74 done\n",
      "100.00 %, 4.59 minutes\n",
      "... Trial 77 done\n",
      "100.00 %, 4.48 minutes\n",
      "... Trial 71 done\n",
      "Trial 80 starting...\n",
      "Trial 81 starting...\n",
      "Trial 85 starting...\n",
      "Trial 83 starting...\n",
      "Trial 86 starting...\n",
      "Trial 84 starting...\n",
      "Trial 88 starting...\n",
      "Computing bipartite LCP\n",
      "Trial 89 starting...\n"
     ]
    },
    {
     "name": "stderr",
     "output_type": "stream",
     "text": [
      "/home/jorge/Documents/2019/Camerino/ASSP2019/multipartite-weighted-link-prediction/linkpred/b_lcp.py:100: RuntimeWarning: invalid value encountered in double_scalars\n",
      "  cpi[i] = np.log2(fav / (fav + unfav))\n"
     ]
    },
    {
     "name": "stdout",
     "output_type": "stream",
     "text": [
      "Computing bipartite LCP\n"
     ]
    },
    {
     "name": "stderr",
     "output_type": "stream",
     "text": [
      "/home/jorge/Documents/2019/Camerino/ASSP2019/multipartite-weighted-link-prediction/linkpred/b_lcp.py:100: RuntimeWarning: invalid value encountered in double_scalars\n",
      "  cpi[i] = np.log2(fav / (fav + unfav))\n"
     ]
    },
    {
     "name": "stdout",
     "output_type": "stream",
     "text": [
      "Computing bipartite LCP\n"
     ]
    },
    {
     "name": "stderr",
     "output_type": "stream",
     "text": [
      "/home/jorge/Documents/2019/Camerino/ASSP2019/multipartite-weighted-link-prediction/linkpred/b_lcp.py:100: RuntimeWarning: invalid value encountered in double_scalars\n",
      "  cpi[i] = np.log2(fav / (fav + unfav))\n",
      "/home/jorge/Documents/2019/Camerino/ASSP2019/multipartite-weighted-link-prediction/linkpred/b_lcp.py:98: RuntimeWarning: overflow encountered in double_scalars\n",
      "  fav = comb(x.shape[1]-1, deg_r-1) * comb(x.shape[0]-1, deg_c-1)\n",
      "/home/jorge/Documents/2019/Camerino/ASSP2019/multipartite-weighted-link-prediction/linkpred/b_lcp.py:99: RuntimeWarning: overflow encountered in double_scalars\n",
      "  unfav = comb(x.shape[1]-1, deg_r) * comb(x.shape[0]-1, deg_c)\n",
      "/home/jorge/Documents/2019/Camerino/ASSP2019/multipartite-weighted-link-prediction/linkpred/b_lcp.py:98: RuntimeWarning: overflow encountered in double_scalars\n",
      "  fav = comb(x.shape[1]-1, deg_r-1) * comb(x.shape[0]-1, deg_c-1)\n",
      "/home/jorge/Documents/2019/Camerino/ASSP2019/multipartite-weighted-link-prediction/linkpred/b_lcp.py:99: RuntimeWarning: overflow encountered in double_scalars\n",
      "  unfav = comb(x.shape[1]-1, deg_r) * comb(x.shape[0]-1, deg_c)\n",
      "/home/jorge/Documents/2019/Camerino/ASSP2019/multipartite-weighted-link-prediction/linkpred/b_lcp.py:99: RuntimeWarning: overflow encountered in double_scalars\n",
      "  unfav = comb(x.shape[1]-1, deg_r) * comb(x.shape[0]-1, deg_c)\n",
      "/home/jorge/Documents/2019/Camerino/ASSP2019/multipartite-weighted-link-prediction/linkpred/b_lcp.py:100: RuntimeWarning: divide by zero encountered in log2\n",
      "  cpi[i] = np.log2(fav / (fav + unfav))\n",
      "/home/jorge/Documents/2019/Camerino/ASSP2019/multipartite-weighted-link-prediction/linkpred/b_lcp.py:98: RuntimeWarning: overflow encountered in double_scalars\n",
      "  fav = comb(x.shape[1]-1, deg_r-1) * comb(x.shape[0]-1, deg_c-1)\n"
     ]
    },
    {
     "name": "stdout",
     "output_type": "stream",
     "text": [
      "Computing bipartite LCP\n"
     ]
    },
    {
     "name": "stderr",
     "output_type": "stream",
     "text": [
      "/home/jorge/Documents/2019/Camerino/ASSP2019/multipartite-weighted-link-prediction/linkpred/b_lcp.py:100: RuntimeWarning: invalid value encountered in double_scalars\n",
      "  cpi[i] = np.log2(fav / (fav + unfav))\n",
      "/home/jorge/Documents/2019/Camerino/ASSP2019/multipartite-weighted-link-prediction/linkpred/b_lcp.py:100: RuntimeWarning: divide by zero encountered in log2\n",
      "  cpi[i] = np.log2(fav / (fav + unfav))\n",
      "/home/jorge/Documents/2019/Camerino/ASSP2019/multipartite-weighted-link-prediction/linkpred/b_lcp.py:98: RuntimeWarning: overflow encountered in double_scalars\n",
      "  fav = comb(x.shape[1]-1, deg_r-1) * comb(x.shape[0]-1, deg_c-1)\n"
     ]
    },
    {
     "name": "stdout",
     "output_type": "stream",
     "text": [
      "Computing bipartite LCP\n"
     ]
    },
    {
     "name": "stderr",
     "output_type": "stream",
     "text": [
      "/home/jorge/Documents/2019/Camerino/ASSP2019/multipartite-weighted-link-prediction/linkpred/b_lcp.py:99: RuntimeWarning: overflow encountered in double_scalars\n",
      "  unfav = comb(x.shape[1]-1, deg_r) * comb(x.shape[0]-1, deg_c)\n"
     ]
    },
    {
     "name": "stdout",
     "output_type": "stream",
     "text": [
      "Computing bipartite LCP\n"
     ]
    },
    {
     "name": "stderr",
     "output_type": "stream",
     "text": [
      "/home/jorge/Documents/2019/Camerino/ASSP2019/multipartite-weighted-link-prediction/linkpred/b_lcp.py:100: RuntimeWarning: invalid value encountered in double_scalars\n",
      "  cpi[i] = np.log2(fav / (fav + unfav))\n",
      "/home/jorge/Documents/2019/Camerino/ASSP2019/multipartite-weighted-link-prediction/linkpred/b_lcp.py:100: RuntimeWarning: invalid value encountered in double_scalars\n",
      "  cpi[i] = np.log2(fav / (fav + unfav))\n",
      "/home/jorge/Documents/2019/Camerino/ASSP2019/multipartite-weighted-link-prediction/linkpred/b_lcp.py:99: RuntimeWarning: overflow encountered in double_scalars\n",
      "  unfav = comb(x.shape[1]-1, deg_r) * comb(x.shape[0]-1, deg_c)\n",
      "/home/jorge/Documents/2019/Camerino/ASSP2019/multipartite-weighted-link-prediction/linkpred/b_lcp.py:100: RuntimeWarning: divide by zero encountered in log2\n",
      "  cpi[i] = np.log2(fav / (fav + unfav))\n",
      "/home/jorge/Documents/2019/Camerino/ASSP2019/multipartite-weighted-link-prediction/linkpred/b_lcp.py:98: RuntimeWarning: overflow encountered in double_scalars\n",
      "  fav = comb(x.shape[1]-1, deg_r-1) * comb(x.shape[0]-1, deg_c-1)\n",
      "/home/jorge/Documents/2019/Camerino/ASSP2019/multipartite-weighted-link-prediction/linkpred/b_lcp.py:100: RuntimeWarning: divide by zero encountered in log2\n",
      "  cpi[i] = np.log2(fav / (fav + unfav))\n"
     ]
    },
    {
     "name": "stdout",
     "output_type": "stream",
     "text": [
      "Computing bipartite LCP\n",
      "Computing bipartite LCP\n"
     ]
    },
    {
     "name": "stderr",
     "output_type": "stream",
     "text": [
      "/home/jorge/Documents/2019/Camerino/ASSP2019/multipartite-weighted-link-prediction/linkpred/b_lcp.py:100: RuntimeWarning: invalid value encountered in double_scalars\n",
      "  cpi[i] = np.log2(fav / (fav + unfav))\n",
      "/home/jorge/Documents/2019/Camerino/ASSP2019/multipartite-weighted-link-prediction/linkpred/b_lcp.py:100: RuntimeWarning: invalid value encountered in double_scalars\n",
      "  cpi[i] = np.log2(fav / (fav + unfav))\n",
      "/home/jorge/Documents/2019/Camerino/ASSP2019/multipartite-weighted-link-prediction/linkpred/b_lcp.py:98: RuntimeWarning: overflow encountered in double_scalars\n",
      "  fav = comb(x.shape[1]-1, deg_r-1) * comb(x.shape[0]-1, deg_c-1)\n",
      "/home/jorge/Documents/2019/Camerino/ASSP2019/multipartite-weighted-link-prediction/linkpred/b_lcp.py:99: RuntimeWarning: overflow encountered in double_scalars\n",
      "  unfav = comb(x.shape[1]-1, deg_r) * comb(x.shape[0]-1, deg_c)\n",
      "/home/jorge/Documents/2019/Camerino/ASSP2019/multipartite-weighted-link-prediction/linkpred/b_lcp.py:99: RuntimeWarning: overflow encountered in double_scalars\n",
      "  unfav = comb(x.shape[1]-1, deg_r) * comb(x.shape[0]-1, deg_c)\n",
      "/home/jorge/Documents/2019/Camerino/ASSP2019/multipartite-weighted-link-prediction/linkpred/b_lcp.py:100: RuntimeWarning: divide by zero encountered in log2\n",
      "  cpi[i] = np.log2(fav / (fav + unfav))\n",
      "/home/jorge/Documents/2019/Camerino/ASSP2019/multipartite-weighted-link-prediction/linkpred/b_lcp.py:98: RuntimeWarning: overflow encountered in double_scalars\n",
      "  fav = comb(x.shape[1]-1, deg_r-1) * comb(x.shape[0]-1, deg_c-1)\n",
      "/home/jorge/Documents/2019/Camerino/ASSP2019/multipartite-weighted-link-prediction/linkpred/b_lcp.py:98: RuntimeWarning: overflow encountered in double_scalars\n",
      "  fav = comb(x.shape[1]-1, deg_r-1) * comb(x.shape[0]-1, deg_c-1)\n",
      "/home/jorge/Documents/2019/Camerino/ASSP2019/multipartite-weighted-link-prediction/linkpred/b_lcp.py:99: RuntimeWarning: overflow encountered in double_scalars\n",
      "  unfav = comb(x.shape[1]-1, deg_r) * comb(x.shape[0]-1, deg_c)\n",
      "/home/jorge/Documents/2019/Camerino/ASSP2019/multipartite-weighted-link-prediction/linkpred/b_lcp.py:100: RuntimeWarning: divide by zero encountered in log2\n",
      "  cpi[i] = np.log2(fav / (fav + unfav))\n",
      "/home/jorge/Documents/2019/Camerino/ASSP2019/multipartite-weighted-link-prediction/linkpred/b_lcp.py:100: RuntimeWarning: divide by zero encountered in log2\n",
      "  cpi[i] = np.log2(fav / (fav + unfav))\n",
      "/home/jorge/Documents/2019/Camerino/ASSP2019/multipartite-weighted-link-prediction/linkpred/b_lcp.py:100: RuntimeWarning: divide by zero encountered in log2\n",
      "  cpi[i] = np.log2(fav / (fav + unfav))\n"
     ]
    },
    {
     "name": "stdout",
     "output_type": "stream",
     "text": [
      "100.00 %, 13.19 minutes\n",
      "... Trial 86 done\n",
      "100.00 %, 13.25 minutes\n",
      "... Trial 80 done\n",
      "100.00 %, 13.25 minutes\n",
      "... Trial 83 done\n",
      "100.00 %, 13.27 minutes\n",
      "... Trial 85 done\n",
      "100.00 %, 13.28 minutes\n",
      "... Trial 88 done\n",
      "Trial 82 starting...\n",
      "Computing bipartite LCP\n",
      "Trial 87 starting...\n",
      "Computing bipartite LCP\n",
      "100.00 %, 13.34 minutes\n",
      "... Trial 89 done\n",
      "100.00 %, 13.42 minutes\n",
      "... Trial 81 done\n",
      "100.00 %, 13.41 minutes\n",
      "... Trial 84 done\n",
      "100.00 %, 4.45 minutes\n",
      "... Trial 87 done\n",
      "100.00 %, 4.51 minutes\n",
      "... Trial 82 done\n",
      "Trial 95 starting...\n",
      "Trial 97 starting...\n",
      "Trial 90 starting...\n",
      "Trial 98 starting...\n",
      "Trial 99 starting...\n",
      "Trial 91 starting...\n",
      "Computing bipartite LCP\n"
     ]
    },
    {
     "name": "stderr",
     "output_type": "stream",
     "text": [
      "/home/jorge/Documents/2019/Camerino/ASSP2019/multipartite-weighted-link-prediction/linkpred/b_lcp.py:100: RuntimeWarning: invalid value encountered in double_scalars\n",
      "  cpi[i] = np.log2(fav / (fav + unfav))\n"
     ]
    },
    {
     "name": "stdout",
     "output_type": "stream",
     "text": [
      "Trial 92 starting...\n"
     ]
    },
    {
     "name": "stderr",
     "output_type": "stream",
     "text": [
      "/home/jorge/Documents/2019/Camerino/ASSP2019/multipartite-weighted-link-prediction/linkpred/b_lcp.py:98: RuntimeWarning: overflow encountered in double_scalars\n",
      "  fav = comb(x.shape[1]-1, deg_r-1) * comb(x.shape[0]-1, deg_c-1)\n",
      "/home/jorge/Documents/2019/Camerino/ASSP2019/multipartite-weighted-link-prediction/linkpred/b_lcp.py:99: RuntimeWarning: overflow encountered in double_scalars\n",
      "  unfav = comb(x.shape[1]-1, deg_r) * comb(x.shape[0]-1, deg_c)\n"
     ]
    },
    {
     "name": "stdout",
     "output_type": "stream",
     "text": [
      "Trial 94 starting...\n",
      "Computing bipartite LCP\n"
     ]
    },
    {
     "name": "stderr",
     "output_type": "stream",
     "text": [
      "/home/jorge/Documents/2019/Camerino/ASSP2019/multipartite-weighted-link-prediction/linkpred/b_lcp.py:100: RuntimeWarning: invalid value encountered in double_scalars\n",
      "  cpi[i] = np.log2(fav / (fav + unfav))\n"
     ]
    },
    {
     "name": "stdout",
     "output_type": "stream",
     "text": [
      "Computing bipartite LCP\n"
     ]
    },
    {
     "name": "stderr",
     "output_type": "stream",
     "text": [
      "/home/jorge/Documents/2019/Camerino/ASSP2019/multipartite-weighted-link-prediction/linkpred/b_lcp.py:100: RuntimeWarning: invalid value encountered in double_scalars\n",
      "  cpi[i] = np.log2(fav / (fav + unfav))\n"
     ]
    },
    {
     "name": "stdout",
     "output_type": "stream",
     "text": [
      "Computing bipartite LCP\n"
     ]
    },
    {
     "name": "stderr",
     "output_type": "stream",
     "text": [
      "/home/jorge/Documents/2019/Camerino/ASSP2019/multipartite-weighted-link-prediction/linkpred/b_lcp.py:98: RuntimeWarning: overflow encountered in double_scalars\n",
      "  fav = comb(x.shape[1]-1, deg_r-1) * comb(x.shape[0]-1, deg_c-1)\n",
      "/home/jorge/Documents/2019/Camerino/ASSP2019/multipartite-weighted-link-prediction/linkpred/b_lcp.py:100: RuntimeWarning: invalid value encountered in double_scalars\n",
      "  cpi[i] = np.log2(fav / (fav + unfav))\n",
      "/home/jorge/Documents/2019/Camerino/ASSP2019/multipartite-weighted-link-prediction/linkpred/b_lcp.py:99: RuntimeWarning: overflow encountered in double_scalars\n",
      "  unfav = comb(x.shape[1]-1, deg_r) * comb(x.shape[0]-1, deg_c)\n",
      "/home/jorge/Documents/2019/Camerino/ASSP2019/multipartite-weighted-link-prediction/linkpred/b_lcp.py:98: RuntimeWarning: overflow encountered in double_scalars\n",
      "  fav = comb(x.shape[1]-1, deg_r-1) * comb(x.shape[0]-1, deg_c-1)\n",
      "/home/jorge/Documents/2019/Camerino/ASSP2019/multipartite-weighted-link-prediction/linkpred/b_lcp.py:100: RuntimeWarning: divide by zero encountered in log2\n",
      "  cpi[i] = np.log2(fav / (fav + unfav))\n",
      "/home/jorge/Documents/2019/Camerino/ASSP2019/multipartite-weighted-link-prediction/linkpred/b_lcp.py:99: RuntimeWarning: overflow encountered in double_scalars\n",
      "  unfav = comb(x.shape[1]-1, deg_r) * comb(x.shape[0]-1, deg_c)\n"
     ]
    },
    {
     "name": "stdout",
     "output_type": "stream",
     "text": [
      "Computing bipartite LCP\n"
     ]
    },
    {
     "name": "stderr",
     "output_type": "stream",
     "text": [
      "/home/jorge/Documents/2019/Camerino/ASSP2019/multipartite-weighted-link-prediction/linkpred/b_lcp.py:100: RuntimeWarning: invalid value encountered in double_scalars\n",
      "  cpi[i] = np.log2(fav / (fav + unfav))\n"
     ]
    },
    {
     "name": "stdout",
     "output_type": "stream",
     "text": [
      "Computing bipartite LCP\n"
     ]
    },
    {
     "name": "stderr",
     "output_type": "stream",
     "text": [
      "/home/jorge/Documents/2019/Camerino/ASSP2019/multipartite-weighted-link-prediction/linkpred/b_lcp.py:100: RuntimeWarning: invalid value encountered in double_scalars\n",
      "  cpi[i] = np.log2(fav / (fav + unfav))\n",
      "/home/jorge/Documents/2019/Camerino/ASSP2019/multipartite-weighted-link-prediction/linkpred/b_lcp.py:98: RuntimeWarning: overflow encountered in double_scalars\n",
      "  fav = comb(x.shape[1]-1, deg_r-1) * comb(x.shape[0]-1, deg_c-1)\n",
      "/home/jorge/Documents/2019/Camerino/ASSP2019/multipartite-weighted-link-prediction/linkpred/b_lcp.py:99: RuntimeWarning: overflow encountered in double_scalars\n",
      "  unfav = comb(x.shape[1]-1, deg_r) * comb(x.shape[0]-1, deg_c)\n"
     ]
    },
    {
     "name": "stdout",
     "output_type": "stream",
     "text": [
      "Computing bipartite LCP\n"
     ]
    },
    {
     "name": "stderr",
     "output_type": "stream",
     "text": [
      "/home/jorge/Documents/2019/Camerino/ASSP2019/multipartite-weighted-link-prediction/linkpred/b_lcp.py:98: RuntimeWarning: overflow encountered in double_scalars\n",
      "  fav = comb(x.shape[1]-1, deg_r-1) * comb(x.shape[0]-1, deg_c-1)\n",
      "/home/jorge/Documents/2019/Camerino/ASSP2019/multipartite-weighted-link-prediction/linkpred/b_lcp.py:99: RuntimeWarning: overflow encountered in double_scalars\n",
      "  unfav = comb(x.shape[1]-1, deg_r) * comb(x.shape[0]-1, deg_c)\n",
      "/home/jorge/Documents/2019/Camerino/ASSP2019/multipartite-weighted-link-prediction/linkpred/b_lcp.py:100: RuntimeWarning: invalid value encountered in double_scalars\n",
      "  cpi[i] = np.log2(fav / (fav + unfav))\n",
      "/home/jorge/Documents/2019/Camerino/ASSP2019/multipartite-weighted-link-prediction/linkpred/b_lcp.py:98: RuntimeWarning: overflow encountered in double_scalars\n",
      "  fav = comb(x.shape[1]-1, deg_r-1) * comb(x.shape[0]-1, deg_c-1)\n",
      "/home/jorge/Documents/2019/Camerino/ASSP2019/multipartite-weighted-link-prediction/linkpred/b_lcp.py:99: RuntimeWarning: overflow encountered in double_scalars\n",
      "  unfav = comb(x.shape[1]-1, deg_r) * comb(x.shape[0]-1, deg_c)\n",
      "/home/jorge/Documents/2019/Camerino/ASSP2019/multipartite-weighted-link-prediction/linkpred/b_lcp.py:100: RuntimeWarning: divide by zero encountered in log2\n",
      "  cpi[i] = np.log2(fav / (fav + unfav))\n",
      "/home/jorge/Documents/2019/Camerino/ASSP2019/multipartite-weighted-link-prediction/linkpred/b_lcp.py:98: RuntimeWarning: overflow encountered in double_scalars\n",
      "  fav = comb(x.shape[1]-1, deg_r-1) * comb(x.shape[0]-1, deg_c-1)\n",
      "/home/jorge/Documents/2019/Camerino/ASSP2019/multipartite-weighted-link-prediction/linkpred/b_lcp.py:99: RuntimeWarning: overflow encountered in double_scalars\n",
      "  unfav = comb(x.shape[1]-1, deg_r) * comb(x.shape[0]-1, deg_c)\n",
      "/home/jorge/Documents/2019/Camerino/ASSP2019/multipartite-weighted-link-prediction/linkpred/b_lcp.py:100: RuntimeWarning: divide by zero encountered in log2\n",
      "  cpi[i] = np.log2(fav / (fav + unfav))\n"
     ]
    },
    {
     "name": "stdout",
     "output_type": "stream",
     "text": [
      "Computing bipartite LCP\n"
     ]
    },
    {
     "name": "stderr",
     "output_type": "stream",
     "text": [
      "/home/jorge/Documents/2019/Camerino/ASSP2019/multipartite-weighted-link-prediction/linkpred/b_lcp.py:100: RuntimeWarning: invalid value encountered in double_scalars\n",
      "  cpi[i] = np.log2(fav / (fav + unfav))\n",
      "/home/jorge/Documents/2019/Camerino/ASSP2019/multipartite-weighted-link-prediction/linkpred/b_lcp.py:98: RuntimeWarning: overflow encountered in double_scalars\n",
      "  fav = comb(x.shape[1]-1, deg_r-1) * comb(x.shape[0]-1, deg_c-1)\n",
      "/home/jorge/Documents/2019/Camerino/ASSP2019/multipartite-weighted-link-prediction/linkpred/b_lcp.py:99: RuntimeWarning: overflow encountered in double_scalars\n",
      "  unfav = comb(x.shape[1]-1, deg_r) * comb(x.shape[0]-1, deg_c)\n",
      "/home/jorge/Documents/2019/Camerino/ASSP2019/multipartite-weighted-link-prediction/linkpred/b_lcp.py:100: RuntimeWarning: divide by zero encountered in log2\n",
      "  cpi[i] = np.log2(fav / (fav + unfav))\n",
      "/home/jorge/Documents/2019/Camerino/ASSP2019/multipartite-weighted-link-prediction/linkpred/b_lcp.py:100: RuntimeWarning: divide by zero encountered in log2\n",
      "  cpi[i] = np.log2(fav / (fav + unfav))\n",
      "/home/jorge/Documents/2019/Camerino/ASSP2019/multipartite-weighted-link-prediction/linkpred/b_lcp.py:100: RuntimeWarning: divide by zero encountered in log2\n",
      "  cpi[i] = np.log2(fav / (fav + unfav))\n",
      "/home/jorge/Documents/2019/Camerino/ASSP2019/multipartite-weighted-link-prediction/linkpred/b_lcp.py:100: RuntimeWarning: divide by zero encountered in log2\n",
      "  cpi[i] = np.log2(fav / (fav + unfav))\n",
      "/home/jorge/Documents/2019/Camerino/ASSP2019/multipartite-weighted-link-prediction/linkpred/b_lcp.py:100: RuntimeWarning: divide by zero encountered in log2\n",
      "  cpi[i] = np.log2(fav / (fav + unfav))\n"
     ]
    },
    {
     "name": "stdout",
     "output_type": "stream",
     "text": [
      "100.00 %, 12.77 minutes\n",
      "... Trial 99 done\n",
      "Trial 93 starting...\n",
      "100.00 %, 12.87 minutes\n",
      "... Trial 91 done\n",
      "Computing bipartite LCP\n",
      "100.00 %, 12.94 minutes\n",
      "... Trial 97 done\n",
      "100.00 %, 12.96 minutes\n",
      "... Trial 98 done\n",
      "Trial 96 starting...\n",
      "Computing bipartite LCP\n",
      "100.00 %, 12.98 minutes\n",
      "... Trial 94 done\n",
      "100.00 %, 13.03 minutes\n",
      "... Trial 90 done\n",
      "100.00 %, 13.05 minutes\n",
      "... Trial 95 done\n",
      "100.00 %, 13.07 minutes\n",
      "... Trial 92 done\n",
      "100.00 %, 4.29 minutes\n",
      "... Trial 93 done\n",
      "100.00 %, 4.19 minutes\n",
      "... Trial 96 done\n"
     ]
    }
   ],
   "source": [
    "loops = 100\n",
    "sub_loops = int(np.sqrt(loops))\n",
    "#C = np.zeros((loops, res[0][0][0].shape[0], res[0][0][0].shape[1]))\n",
    "#C = np.zeros((loops, 11, 3741081))\n",
    "\n",
    "k = 0\n",
    "for i in range(sub_loops):\n",
    "    l = []\n",
    "    kk = k\n",
    "    for j in range(sub_loops):\n",
    "        l.append(k)\n",
    "        k += 1\n",
    "    lazy = [delayed(func)(kkk) for kkk in range(kk, k)]\n",
    "    res = dask.compute(lazy, scheduler='processes')\n",
    "    for r, rr in enumerate(res[0]):\n",
    "        A = rr[0]\n",
    "        np.save('{}_array'.format(l[r]), A)\n",
    "        del A\n",
    "        #C[l[r],:,:] = np.load('{}_array.npy'.format(l[r]))"
   ]
  },
  {
   "cell_type": "code",
   "execution_count": 31,
   "metadata": {},
   "outputs": [],
   "source": [
    "#C.shape"
   ]
  },
  {
   "cell_type": "code",
   "execution_count": 34,
   "metadata": {},
   "outputs": [],
   "source": [
    "ttt = 0\n",
    "B = np.load('{}_array.npy'.format(ttt))"
   ]
  },
  {
   "cell_type": "code",
   "execution_count": 36,
   "metadata": {},
   "outputs": [
    {
     "data": {
      "text/plain": [
       "<11x3741081 sparse matrix of type '<class 'numpy.float64'>'\n",
       "\twith 4806703 stored elements in Compressed Sparse Row format>"
      ]
     },
     "execution_count": 36,
     "metadata": {},
     "output_type": "execute_result"
    }
   ],
   "source": [
    "from scipy.sparse import csr_matrix\n",
    "S = csr_matrix(B)\n",
    "S"
   ]
  },
  {
   "cell_type": "code",
   "execution_count": 39,
   "metadata": {},
   "outputs": [],
   "source": [
    "import scipy.sparse\n",
    "scipy.sparse.save_npz('sparse_test.npz', S) # weight reduced in around 90%!"
   ]
  },
  {
   "cell_type": "code",
   "execution_count": null,
   "metadata": {},
   "outputs": [],
   "source": []
  },
  {
   "cell_type": "code",
   "execution_count": null,
   "metadata": {},
   "outputs": [],
   "source": [
    "# JC\n",
    "r = b_val.cross_val(b_lcp.bipartite_lcp_single, bmat_recipe_ingr, links_to_del_recipe_ingr, \n",
    "                    *('jc',), mode='lcp', loops=loops, verbose=verbose, plot=plot)\n",
    "print(np.mean(r, axis=0))\n",
    "print(np.std(r, axis=0))"
   ]
  },
  {
   "cell_type": "code",
   "execution_count": null,
   "metadata": {},
   "outputs": [],
   "source": [
    "# CJC\n",
    "r = b_val.cross_val(b_lcp.bipartite_lcp_single, bmat_recipe_ingr, links_to_del_recipe_ingr, \n",
    "                    *('cjc',), mode='lcp', loops=loops, verbose=verbose, plot=plot)\n",
    "print(np.mean(r, axis=0))\n",
    "print(np.std(r, axis=0))"
   ]
  },
  {
   "cell_type": "code",
   "execution_count": null,
   "metadata": {},
   "outputs": [],
   "source": [
    "# CRA\n",
    "r = b_val.cross_val(b_lcp.bipartite_lcp_single, bmat_recipe_ingr, links_to_del_recipe_ingr, \n",
    "                    *('cra',), mode='lcp', loops=loops, verbose=verbose, plot=plot)\n",
    "print(np.mean(r, axis=0))\n",
    "print(np.std(r, axis=0))"
   ]
  },
  {
   "cell_type": "code",
   "execution_count": null,
   "metadata": {},
   "outputs": [],
   "source": [
    "# CAR\n",
    "r = b_val.cross_val(b_lcp.bipartite_lcp_single, bmat_recipe_ingr, links_to_del_recipe_ingr, \n",
    "                    *('cn',), mode='lcp', loops=loops, verbose=verbose, plot=plot)\n",
    "print(np.mean(r, axis=0))\n",
    "print(np.std(r, axis=0))"
   ]
  },
  {
   "cell_type": "code",
   "execution_count": null,
   "metadata": {},
   "outputs": [],
   "source": [
    "# RA\n",
    "r = b_val.cross_val(b_lcp.bipartite_lcp_single, bmat_recipe_ingr, links_to_del_recipe_ingr, \n",
    "                    *('ra',), mode='lcp', loops=loops, verbose=verbose, plot=plot)\n",
    "print(np.mean(r, axis=0))\n",
    "print(np.std(r, axis=0))"
   ]
  },
  {
   "cell_type": "code",
   "execution_count": null,
   "metadata": {},
   "outputs": [],
   "source": [
    "# CPA\n",
    "r = b_val.cross_val(b_lcp.bipartite_lcp_single, bmat_recipe_ingr, links_to_del_recipe_ingr, \n",
    "                    *('cpa',), mode='lcp', loops=loops, verbose=verbose, plot=plot)\n",
    "print(np.mean(r, axis=0))\n",
    "print(np.std(r, axis=0))"
   ]
  },
  {
   "cell_type": "code",
   "execution_count": null,
   "metadata": {},
   "outputs": [],
   "source": [
    "# MI links\n",
    "r = b_val.cross_val(b_si.si_scores, bmat_recipe_ingr, links_to_del_recipe_ingr, \n",
    "                    *(b_probas.proba_comb_links_all, b_mi.mi_lcl_cc), \n",
    "                   mode='si_bp', loops=loops, verbose=verbose, plot=plot)\n",
    "print(np.mean(r, axis=0))\n",
    "print(np.std(r, axis=0))"
   ]
  },
  {
   "cell_type": "code",
   "execution_count": null,
   "metadata": {},
   "outputs": [],
   "source": [
    "# MI degree\n",
    "r = b_val.cross_val(b_si.si_scores, bmat_recipe_ingr, links_to_del_recipe_ingr, \n",
    "                    *(b_probas.proba_comb_deg_all, b_mi.mi_lcl_cc), \n",
    "                   mode='si_bp', loops=loops, verbose=verbose, plot=plot)\n",
    "print(np.mean(r, axis=0))\n",
    "print(np.std(r, axis=0))"
   ]
  },
  {
   "cell_type": "markdown",
   "metadata": {},
   "source": [
    "### Ingredient-Compound"
   ]
  },
  {
   "cell_type": "code",
   "execution_count": null,
   "metadata": {
    "scrolled": true
   },
   "outputs": [],
   "source": [
    "# CN\n",
    "r = b_val.cross_val(b_lcp.bipartite_lcp_single, bmat_ingr_comp, links_to_del_ingr_comp, \n",
    "                    *('cn',), mode='lcp', loops=loops, verbose=verbose, plot=plot)\n",
    "print(np.mean(r, axis=0))\n",
    "print(np.std(r, axis=0))"
   ]
  },
  {
   "cell_type": "code",
   "execution_count": null,
   "metadata": {},
   "outputs": [],
   "source": [
    "# LCL\n",
    "r = b_val.cross_val(b_lcp.bipartite_lcp_single, bmat_ingr_comp, links_to_del_ingr_comp, \n",
    "                    *('lcl',), mode='lcp', loops=loops, verbose=verbose, plot=plot)\n",
    "print(np.mean(r, axis=0))\n",
    "print(np.std(r, axis=0))"
   ]
  },
  {
   "cell_type": "code",
   "execution_count": null,
   "metadata": {},
   "outputs": [],
   "source": [
    "# JC\n",
    "r = b_val.cross_val(b_lcp.bipartite_lcp_single, bmat_ingr_comp, links_to_del_ingr_comp, \n",
    "                    *('jc',), mode='lcp', loops=loops, verbose=verbose, plot=plot)\n",
    "print(np.mean(r, axis=0))\n",
    "print(np.std(r, axis=0))"
   ]
  },
  {
   "cell_type": "code",
   "execution_count": null,
   "metadata": {},
   "outputs": [],
   "source": [
    "# CJC\n",
    "r = b_val.cross_val(b_lcp.bipartite_lcp_single, bmat_ingr_comp, links_to_del_ingr_comp, \n",
    "                    *('cjc',), mode='lcp', loops=loops, verbose=verbose, plot=plot)\n",
    "print(np.mean(r, axis=0))\n",
    "print(np.std(r, axis=0))"
   ]
  },
  {
   "cell_type": "code",
   "execution_count": null,
   "metadata": {},
   "outputs": [],
   "source": [
    "# CRA\n",
    "r = b_val.cross_val(b_lcp.bipartite_lcp_single, bmat_ingr_comp, links_to_del_ingr_comp, \n",
    "                    *('cra',), mode='lcp', loops=loops, verbose=verbose, plot=plot)\n",
    "print(np.mean(r, axis=0))\n",
    "print(np.std(r, axis=0))"
   ]
  },
  {
   "cell_type": "code",
   "execution_count": null,
   "metadata": {},
   "outputs": [],
   "source": [
    "# CAR\n",
    "r = b_val.cross_val(b_lcp.bipartite_lcp_single, bmat_ingr_comp, links_to_del_ingr_comp, \n",
    "                    *('cn',), mode='lcp', loops=loops, verbose=verbose, plot=plot)\n",
    "print(np.mean(r, axis=0))\n",
    "print(np.std(r, axis=0))"
   ]
  },
  {
   "cell_type": "code",
   "execution_count": null,
   "metadata": {},
   "outputs": [],
   "source": [
    "# RA\n",
    "r = b_val.cross_val(b_lcp.bipartite_lcp_single, bmat_ingr_comp, links_to_del_ingr_comp, \n",
    "                    *('ra',), mode='lcp', loops=loops, verbose=verbose, plot=plot)\n",
    "print(np.mean(r, axis=0))\n",
    "print(np.std(r, axis=0))"
   ]
  },
  {
   "cell_type": "code",
   "execution_count": null,
   "metadata": {},
   "outputs": [],
   "source": [
    "# CPA\n",
    "r = b_val.cross_val(b_lcp.bipartite_lcp_single, bmat_ingr_comp, links_to_del_ingr_comp, \n",
    "                    *('cpa',), mode='lcp', loops=loops, verbose=verbose, plot=plot)\n",
    "print(np.mean(r, axis=0))\n",
    "print(np.std(r, axis=0))"
   ]
  },
  {
   "cell_type": "code",
   "execution_count": null,
   "metadata": {},
   "outputs": [],
   "source": [
    "# MI links\n",
    "r = b_val.cross_val(b_si.si_scores, bmat_ingr_comp, links_to_del_ingr_comp, \n",
    "                    *(b_probas.proba_comb_links_all, b_mi.mi_lcl_cc), \n",
    "                   mode='si_bp', loops=loops, verbose=verbose, plot=plot)\n",
    "print(np.mean(r, axis=0))\n",
    "print(np.std(r, axis=0))"
   ]
  },
  {
   "cell_type": "code",
   "execution_count": null,
   "metadata": {},
   "outputs": [],
   "source": [
    "# MI degree\n",
    "r = b_val.cross_val(b_si.si_scores, bmat_ingr_comp, links_to_del_ingr_comp, \n",
    "                    *(b_probas.proba_comb_deg_all, b_mi.mi_lcl_cc), \n",
    "                   mode='si_bp', loops=loops, verbose=verbose, plot=plot)\n",
    "print(np.mean(r, axis=0))\n",
    "print(np.std(r, axis=0))"
   ]
  },
  {
   "cell_type": "code",
   "execution_count": null,
   "metadata": {},
   "outputs": [],
   "source": []
  }
 ],
 "metadata": {
  "kernelspec": {
   "display_name": "Python 3",
   "language": "python",
   "name": "python3"
  },
  "language_info": {
   "codemirror_mode": {
    "name": "ipython",
    "version": 3
   },
   "file_extension": ".py",
   "mimetype": "text/x-python",
   "name": "python",
   "nbconvert_exporter": "python",
   "pygments_lexer": "ipython3",
   "version": "3.6.8"
  }
 },
 "nbformat": 4,
 "nbformat_minor": 4
}
