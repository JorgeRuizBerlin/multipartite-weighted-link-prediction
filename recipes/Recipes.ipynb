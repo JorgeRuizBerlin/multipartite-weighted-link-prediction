{
 "cells": [
  {
   "cell_type": "code",
   "execution_count": 1,
   "metadata": {},
   "outputs": [],
   "source": [
    "import numpy as np\n",
    "import networkx as nx\n",
    "import matplotlib.pyplot as plt\n",
    "import pandas as pd\n",
    "from networkx.algorithms import bipartite"
   ]
  },
  {
   "cell_type": "markdown",
   "metadata": {},
   "source": [
    "### Component info"
   ]
  },
  {
   "cell_type": "code",
   "execution_count": 2,
   "metadata": {},
   "outputs": [],
   "source": [
    "comp_info = np.loadtxt('../data/recipes/comp_info.tsv', dtype=str, delimiter='\\t')"
   ]
  },
  {
   "cell_type": "code",
   "execution_count": 3,
   "metadata": {},
   "outputs": [
    {
     "data": {
      "text/plain": [
       "array([['0', 'jasmone', '488-10-8'],\n",
       "       ['1', '5-methylhexanoic_acid', '628-46-6'],\n",
       "       ['2', 'l-glutamine', '56-85-9'],\n",
       "       ...,\n",
       "       ['1104', 'guaiacol', '90-05-1'],\n",
       "       ['1105', '(+/?)-methyl_5-acetoxyhexanoate', '35234-22-1'],\n",
       "       ['1106', 'ethyl_sorbate', '2396-84-1']], dtype='<U93')"
      ]
     },
     "execution_count": 3,
     "metadata": {},
     "output_type": "execute_result"
    }
   ],
   "source": [
    "comp_info"
   ]
  },
  {
   "cell_type": "code",
   "execution_count": 4,
   "metadata": {},
   "outputs": [],
   "source": [
    "id_comp_dict = dict()\n",
    "for line in comp_info:\n",
    "    id_comp_dict[int(line[0])] = line[1]\n",
    "comp_id_dict = {v:k for k, v in id_comp_dict.items()}"
   ]
  },
  {
   "cell_type": "markdown",
   "metadata": {},
   "source": [
    "### Ingredient info"
   ]
  },
  {
   "cell_type": "code",
   "execution_count": 5,
   "metadata": {},
   "outputs": [],
   "source": [
    "ingr_info = np.loadtxt('../data/recipes/ingr_info.tsv', dtype=str, delimiter='\\t')"
   ]
  },
  {
   "cell_type": "code",
   "execution_count": 6,
   "metadata": {},
   "outputs": [
    {
     "data": {
      "text/plain": [
       "array([['0', 'magnolia_tripetala', 'flower'],\n",
       "       ['1', 'calyptranthes_parriculata', 'plant'],\n",
       "       ['2', 'chamaecyparis_pisifera_oil', 'plant derivative'],\n",
       "       ...,\n",
       "       ['1527', 'green_tea', 'plant derivative'],\n",
       "       ['1528', 'artemisia_porrecta_oil', 'plant derivative'],\n",
       "       ['1529', 'munster_cheese', 'dairy']], dtype='<U35')"
      ]
     },
     "execution_count": 6,
     "metadata": {},
     "output_type": "execute_result"
    }
   ],
   "source": [
    "ingr_info"
   ]
  },
  {
   "cell_type": "code",
   "execution_count": 7,
   "metadata": {},
   "outputs": [],
   "source": [
    "id_ingr_dict = dict()\n",
    "for line in ingr_info:\n",
    "    id_ingr_dict[int(line[0])] = line[1]\n",
    "ingr_id_dict = {v:k for k, v in id_ingr_dict.items()}"
   ]
  },
  {
   "cell_type": "markdown",
   "metadata": {},
   "source": [
    "### Recipes and regions"
   ]
  },
  {
   "cell_type": "code",
   "execution_count": 8,
   "metadata": {},
   "outputs": [],
   "source": [
    "recipes_dict = dict()\n",
    "regions_dict = dict()"
   ]
  },
  {
   "cell_type": "code",
   "execution_count": 9,
   "metadata": {},
   "outputs": [],
   "source": [
    "with open('../data/recipes/menu_recipes.txt') as f:\n",
    "    for i, line in enumerate(f):\n",
    "        alist = line.rstrip('\\n').split()\n",
    "        region = alist[0]\n",
    "        ingr = alist[1:]\n",
    "        regions_dict[i] = region\n",
    "        recipes_dict[i] = ingr"
   ]
  },
  {
   "cell_type": "code",
   "execution_count": 10,
   "metadata": {},
   "outputs": [],
   "source": [
    "id_region_dict = dict()\n",
    "region_id_dict = dict()\n",
    "for i, region in enumerate(set(regions_dict.values())):\n",
    "    id_region_dict[i] = region\n",
    "    region_id_dict[region] = i"
   ]
  },
  {
   "cell_type": "markdown",
   "metadata": {},
   "source": [
    "### Region/recipe biadjacency matrix"
   ]
  },
  {
   "cell_type": "code",
   "execution_count": 11,
   "metadata": {},
   "outputs": [],
   "source": [
    "bmat_region_recipe = np.zeros((len(id_region_dict), len(recipes_dict)))\n",
    "for recipe, region in regions_dict.items():\n",
    "    j = recipe\n",
    "    i = region_id_dict[region]\n",
    "    bmat_region_recipe[i, j] = 1"
   ]
  },
  {
   "cell_type": "code",
   "execution_count": 12,
   "metadata": {},
   "outputs": [
    {
     "data": {
      "text/plain": [
       "(8, 2458)"
      ]
     },
     "execution_count": 12,
     "metadata": {},
     "output_type": "execute_result"
    }
   ],
   "source": [
    "bmat_region_recipe.shape"
   ]
  },
  {
   "cell_type": "markdown",
   "metadata": {},
   "source": [
    "### Recipe/ingredient biadjacency matrix"
   ]
  },
  {
   "cell_type": "code",
   "execution_count": 13,
   "metadata": {},
   "outputs": [],
   "source": [
    "bmat_recipe_ingr = np.zeros((len(recipes_dict), len(id_ingr_dict)))\n",
    "for recipe, ingreds in recipes_dict.items():\n",
    "    i = recipe\n",
    "    jlist = [ingr_id_dict[x] for x in ingreds]\n",
    "    bmat_recipe_ingr[i, jlist] = 1"
   ]
  },
  {
   "cell_type": "code",
   "execution_count": 14,
   "metadata": {},
   "outputs": [
    {
     "name": "stdout",
     "output_type": "stream",
     "text": [
      "['sesame_oil', 'garlic', 'lettuce', 'beef', 'sake', 'beef_broth', 'scallion', 'oyster', 'vegetable_oil', 'soy_sauce', 'starch', 'onion']\n",
      "['onion', 'beef', 'starch', 'sake', 'soy_sauce', 'scallion', 'lettuce', 'garlic', 'vegetable_oil', 'beef_broth', 'oyster', 'sesame_oil']\n"
     ]
    }
   ],
   "source": [
    "print([id_ingr_dict[x] for x in np.argwhere(bmat_recipe_ingr[0]).flatten()])\n",
    "print(recipes_dict[0])"
   ]
  },
  {
   "cell_type": "code",
   "execution_count": 15,
   "metadata": {},
   "outputs": [
    {
     "data": {
      "text/plain": [
       "(2458, 1530)"
      ]
     },
     "execution_count": 15,
     "metadata": {},
     "output_type": "execute_result"
    }
   ],
   "source": [
    "bmat_recipe_ingr.shape"
   ]
  },
  {
   "cell_type": "markdown",
   "metadata": {},
   "source": [
    "### Ingredient/compound biadjacency matrix"
   ]
  },
  {
   "cell_type": "code",
   "execution_count": 16,
   "metadata": {},
   "outputs": [],
   "source": [
    "ingr_comp = np.loadtxt('../data/recipes/ingr_comp.tsv', dtype=int, delimiter='\\t')"
   ]
  },
  {
   "cell_type": "code",
   "execution_count": 17,
   "metadata": {},
   "outputs": [
    {
     "data": {
      "text/plain": [
       "array([[1392,  906],\n",
       "       [1259,  861],\n",
       "       [1079,  673],\n",
       "       ...,\n",
       "       [ 689,  650],\n",
       "       [ 689,  297],\n",
       "       [1080,   13]])"
      ]
     },
     "execution_count": 17,
     "metadata": {},
     "output_type": "execute_result"
    }
   ],
   "source": [
    "ingr_comp"
   ]
  },
  {
   "cell_type": "code",
   "execution_count": 18,
   "metadata": {},
   "outputs": [],
   "source": [
    "bmat_ingr_comp = np.zeros((len(id_ingr_dict), len(id_comp_dict)))\n",
    "for item in ingr_comp:\n",
    "    i, j = item\n",
    "    bmat_ingr_comp[i, j] = 1"
   ]
  },
  {
   "cell_type": "code",
   "execution_count": 19,
   "metadata": {},
   "outputs": [
    {
     "name": "stdout",
     "output_type": "stream",
     "text": [
      "1.0\n",
      "0.0\n"
     ]
    }
   ],
   "source": [
    "print(bmat_ingr_comp[1392, 906])\n",
    "print(bmat_ingr_comp[1392, 907])"
   ]
  },
  {
   "cell_type": "code",
   "execution_count": 20,
   "metadata": {},
   "outputs": [
    {
     "data": {
      "text/plain": [
       "(1530, 1107)"
      ]
     },
     "execution_count": 20,
     "metadata": {},
     "output_type": "execute_result"
    }
   ],
   "source": [
    "bmat_ingr_comp.shape"
   ]
  },
  {
   "cell_type": "markdown",
   "metadata": {},
   "source": [
    "### Setup for link prediction"
   ]
  },
  {
   "cell_type": "code",
   "execution_count": 21,
   "metadata": {},
   "outputs": [],
   "source": [
    "import os\n",
    "import sys\n",
    "linkpred_path = os.path.abspath(os.path.join('../linkpred/'))\n",
    "if linkpred_path not in sys.path:\n",
    "    sys.path.append(linkpred_path)\n",
    "\n",
    "import b_lcp, b_mi, b_probas, b_si, b_util, b_val"
   ]
  },
  {
   "cell_type": "code",
   "execution_count": 22,
   "metadata": {},
   "outputs": [],
   "source": [
    "fraction = 0.1\n",
    "loops = 100 #1\n",
    "verbose=True\n",
    "plot=True"
   ]
  },
  {
   "cell_type": "code",
   "execution_count": 23,
   "metadata": {},
   "outputs": [],
   "source": [
    "# Precompute links to delete for all datasets\n",
    "links_to_del_region_recipe = b_val.get_links_to_del(bmat_region_recipe, fraction=fraction, loops=loops)\n",
    "links_to_del_recipe_ingr = b_val.get_links_to_del(bmat_recipe_ingr, fraction=fraction, loops=loops)\n",
    "links_to_del_ingr_comp = b_val.get_links_to_del(bmat_ingr_comp, fraction=fraction, loops=loops)"
   ]
  },
  {
   "cell_type": "code",
   "execution_count": null,
   "metadata": {},
   "outputs": [],
   "source": []
  },
  {
   "cell_type": "markdown",
   "metadata": {},
   "source": [
    "# Jorge's approach:\n",
    "## to calculate ALL the scores for a given dataset and deleted links, then call it in the next functions"
   ]
  },
  {
   "cell_type": "code",
   "execution_count": 24,
   "metadata": {},
   "outputs": [],
   "source": [
    "def delete_links(x, links_to_del):\n",
    "    \"\"\"Deletes the specified links from an adjacency matrix.\"\"\"\n",
    "    x_ = np.copy(x)\n",
    "    for link in links_to_del:\n",
    "        x_[link[0], link[1]] = 0\n",
    "        \n",
    "    return x_"
   ]
  },
  {
   "cell_type": "code",
   "execution_count": null,
   "metadata": {},
   "outputs": [],
   "source": [
    "bmat_recipe_ingr.shape"
   ]
  },
  {
   "cell_type": "code",
   "execution_count": null,
   "metadata": {},
   "outputs": [],
   "source": [
    "links_to_del_recipe_ingr.shape"
   ]
  },
  {
   "cell_type": "code",
   "execution_count": 62,
   "metadata": {},
   "outputs": [
    {
     "name": "stdout",
     "output_type": "stream",
     "text": [
      "Computing bipartite LCP\n"
     ]
    },
    {
     "name": "stderr",
     "output_type": "stream",
     "text": [
      "/home/jorge/Documents/2019/Camerino/ASSP2019/multipartite-weighted-link-prediction/linkpred/b_lcp.py:100: RuntimeWarning: invalid value encountered in double_scalars\n",
      "  cpi[i] = np.log2(fav / (fav + unfav))\n",
      "/home/jorge/Documents/2019/Camerino/ASSP2019/multipartite-weighted-link-prediction/linkpred/b_lcp.py:98: RuntimeWarning: overflow encountered in double_scalars\n",
      "  fav = comb(x.shape[1]-1, deg_r-1) * comb(x.shape[0]-1, deg_c-1)\n",
      "/home/jorge/Documents/2019/Camerino/ASSP2019/multipartite-weighted-link-prediction/linkpred/b_lcp.py:99: RuntimeWarning: overflow encountered in double_scalars\n",
      "  unfav = comb(x.shape[1]-1, deg_r) * comb(x.shape[0]-1, deg_c)\n",
      "/home/jorge/Documents/2019/Camerino/ASSP2019/multipartite-weighted-link-prediction/linkpred/b_lcp.py:100: RuntimeWarning: divide by zero encountered in log2\n",
      "  cpi[i] = np.log2(fav / (fav + unfav))\n"
     ]
    },
    {
     "name": "stdout",
     "output_type": "stream",
     "text": [
      "100.00 %, 4.11 minutes\n"
     ]
    }
   ],
   "source": [
    "scores_list = []\n",
    "for i in range(1):#loops):    \n",
    "    x_ = delete_links(bmat_recipe_ingr, links_to_del_recipe_ingr[i])\n",
    "    missing = np.argwhere(x_ == 0)\n",
    "    ## SAVE ALL THE SCORES:\n",
    "    lcp_scores = b_lcp.bipartite_lcp_all(x_, missing, verbose=verbose)\n",
    "    scores_list.append(lcp_scores)\n",
    "scores_array = np.array(scores_list)"
   ]
  },
  {
   "cell_type": "code",
   "execution_count": null,
   "metadata": {},
   "outputs": [],
   "source": [
    "scores_array.shape"
   ]
  },
  {
   "cell_type": "code",
   "execution_count": null,
   "metadata": {},
   "outputs": [],
   "source": [
    "assert links_to_del_recipe_ingr.shape[0] == loops"
   ]
  },
  {
   "cell_type": "code",
   "execution_count": 63,
   "metadata": {},
   "outputs": [],
   "source": [
    "metrics_list = ['lcl', 'cn', 'jc', 'car', 'cjc', 'cpa', 'ra', 'aa', 'cra', 'caa', 'cpi']\n",
    "\n",
    "def cross_val(scores, metric, loops=1, raw_output=False, verbose=True, plot=False):\n",
    "    if raw_output:\n",
    "        scores_list = []\n",
    "        true_list = []\n",
    "    else:\n",
    "        results = np.zeros((loops, 2))\n",
    "\n",
    "    for i in range(loops):\n",
    "        if verbose:\n",
    "            print('Trial {} of {}'.format(i + 1, loops))\n",
    "        x_ = delete_links(bmat_recipe_ingr, links_to_del_recipe_ingr[i])\n",
    "        missing = np.argwhere(x_ == 0)\n",
    "        true = bmat_recipe_ingr[missing[:,0], missing[:,1]]\n",
    "        \n",
    "        score = scores_array[i, metrics_list.index(metric)]\n",
    "        \n",
    "        if raw_output:\n",
    "            scores_list.append(score)\n",
    "            true_list.append(true)\n",
    "        else:\n",
    "            results[i] = b_val.evaluate_predictions(true, score, plot=plot)\n",
    "        \n",
    "    if raw_output:\n",
    "        return true_list, scores_list\n",
    "    else:\n",
    "        return results"
   ]
  },
  {
   "cell_type": "code",
   "execution_count": 64,
   "metadata": {
    "scrolled": true
   },
   "outputs": [
    {
     "name": "stdout",
     "output_type": "stream",
     "text": [
      "Trial 1 of 1\n"
     ]
    },
    {
     "data": {
      "image/png": "[encoded data removed]",
      "text/plain": [
       "<Figure size 432x288 with 1 Axes>"
      ]
     },
     "metadata": {},
     "output_type": "display_data"
    },
    {
     "name": "stdout",
     "output_type": "stream",
     "text": [
      "[0.08077459 0.98405654]\n",
      "[0. 0.]\n"
     ]
    }
   ],
   "source": [
    "r_cn = cross_val(lcp_scores, 'cn', loops=1, verbose=verbose, plot=plot)\n",
    "print(np.mean(r_cn, axis=0))\n",
    "print(np.std(r_cn, axis=0))"
   ]
  },
  {
   "cell_type": "code",
   "execution_count": 65,
   "metadata": {},
   "outputs": [
    {
     "data": {
      "text/plain": [
       "array([[0.08077459, 0.98405654]])"
      ]
     },
     "execution_count": 65,
     "metadata": {},
     "output_type": "execute_result"
    }
   ],
   "source": [
    "r_cn"
   ]
  },
  {
   "cell_type": "code",
   "execution_count": 66,
   "metadata": {
    "scrolled": true
   },
   "outputs": [
    {
     "name": "stdout",
     "output_type": "stream",
     "text": [
      "Trial 1 of 1\n"
     ]
    },
    {
     "data": {
      "image/png": "[encoded data removed]",
      "text/plain": [
       "<Figure size 432x288 with 1 Axes>"
      ]
     },
     "metadata": {},
     "output_type": "display_data"
    },
    {
     "name": "stdout",
     "output_type": "stream",
     "text": [
      "[0.0896664  0.98454393]\n",
      "[0. 0.]\n"
     ]
    }
   ],
   "source": [
    "r_lcl = cross_val(lcp_scores, 'lcl', loops=1, verbose=verbose, plot=plot)\n",
    "print(np.mean(r_lcl, axis=0))\n",
    "print(np.std(r_lcl, axis=0))"
   ]
  },
  {
   "cell_type": "code",
   "execution_count": 67,
   "metadata": {},
   "outputs": [
    {
     "data": {
      "text/plain": [
       "array([[0.0896664 , 0.98454393]])"
      ]
     },
     "execution_count": 67,
     "metadata": {},
     "output_type": "execute_result"
    }
   ],
   "source": [
    "r_lcl"
   ]
  },
  {
   "cell_type": "markdown",
   "metadata": {},
   "source": [
    "### Recipe-Ingredient"
   ]
  },
  {
   "cell_type": "code",
   "execution_count": 68,
   "metadata": {},
   "outputs": [
    {
     "ename": "AssertionError",
     "evalue": "",
     "output_type": "error",
     "traceback": [
      "\u001b[0;31m---------------------------------------------------------------------------\u001b[0m",
      "\u001b[0;31mAssertionError\u001b[0m                            Traceback (most recent call last)",
      "\u001b[0;32m<ipython-input-68-c7f0b5e14901>\u001b[0m in \u001b[0;36m<module>\u001b[0;34m()\u001b[0m\n\u001b[1;32m      1\u001b[0m \u001b[0;31m# CN\u001b[0m\u001b[0;34m\u001b[0m\u001b[0;34m\u001b[0m\u001b[0;34m\u001b[0m\u001b[0m\n\u001b[1;32m      2\u001b[0m r01 = b_val.cross_val(b_lcp.bipartite_lcp_single, bmat_recipe_ingr, links_to_del_recipe_ingr, \n\u001b[0;32m----> 3\u001b[0;31m                     *('cn',), mode='lcp', loops=1, verbose=verbose, plot=plot)\n\u001b[0m\u001b[1;32m      4\u001b[0m \u001b[0mprint\u001b[0m\u001b[0;34m(\u001b[0m\u001b[0mnp\u001b[0m\u001b[0;34m.\u001b[0m\u001b[0mmean\u001b[0m\u001b[0;34m(\u001b[0m\u001b[0mr01\u001b[0m\u001b[0;34m,\u001b[0m \u001b[0maxis\u001b[0m\u001b[0;34m=\u001b[0m\u001b[0;36m0\u001b[0m\u001b[0;34m)\u001b[0m\u001b[0;34m)\u001b[0m\u001b[0;34m\u001b[0m\u001b[0;34m\u001b[0m\u001b[0m\n\u001b[1;32m      5\u001b[0m \u001b[0mprint\u001b[0m\u001b[0;34m(\u001b[0m\u001b[0mnp\u001b[0m\u001b[0;34m.\u001b[0m\u001b[0mstd\u001b[0m\u001b[0;34m(\u001b[0m\u001b[0mr01\u001b[0m\u001b[0;34m,\u001b[0m \u001b[0maxis\u001b[0m\u001b[0;34m=\u001b[0m\u001b[0;36m0\u001b[0m\u001b[0;34m)\u001b[0m\u001b[0;34m)\u001b[0m\u001b[0;34m\u001b[0m\u001b[0;34m\u001b[0m\u001b[0m\n",
      "\u001b[0;32m~/Documents/2019/Camerino/ASSP2019/multipartite-weighted-link-prediction/linkpred/b_val.py\u001b[0m in \u001b[0;36mcross_val\u001b[0;34m(f, x, links_to_del, y, mode, loops, raw_output, verbose, plot, *args)\u001b[0m\n\u001b[1;32m     52\u001b[0m def cross_val(f, x, links_to_del, *args, y=None, mode='lcp', loops=10, \n\u001b[1;32m     53\u001b[0m               raw_output=False, verbose=True, plot=False):\n\u001b[0;32m---> 54\u001b[0;31m     \u001b[0;32massert\u001b[0m \u001b[0mlinks_to_del\u001b[0m\u001b[0;34m.\u001b[0m\u001b[0mshape\u001b[0m\u001b[0;34m[\u001b[0m\u001b[0;36m0\u001b[0m\u001b[0;34m]\u001b[0m \u001b[0;34m==\u001b[0m \u001b[0mloops\u001b[0m\u001b[0;34m\u001b[0m\u001b[0;34m\u001b[0m\u001b[0m\n\u001b[0m\u001b[1;32m     55\u001b[0m     \u001b[0;32mif\u001b[0m \u001b[0mraw_output\u001b[0m\u001b[0;34m:\u001b[0m\u001b[0;34m\u001b[0m\u001b[0;34m\u001b[0m\u001b[0m\n\u001b[1;32m     56\u001b[0m         \u001b[0mscores_list\u001b[0m \u001b[0;34m=\u001b[0m \u001b[0;34m[\u001b[0m\u001b[0;34m]\u001b[0m\u001b[0;34m\u001b[0m\u001b[0;34m\u001b[0m\u001b[0m\n",
      "\u001b[0;31mAssertionError\u001b[0m: "
     ]
    }
   ],
   "source": [
    "# CN\n",
    "r01 = b_val.cross_val(b_lcp.bipartite_lcp_single, bmat_recipe_ingr, links_to_del_recipe_ingr, \n",
    "                    *('cn',), mode='lcp', loops=1, verbose=verbose, plot=plot)\n",
    "print(np.mean(r01, axis=0))\n",
    "print(np.std(r01, axis=0))"
   ]
  },
  {
   "cell_type": "code",
   "execution_count": null,
   "metadata": {
    "scrolled": true
   },
   "outputs": [],
   "source": [
    "# LCL\n",
    "r02 = b_val.cross_val(b_lcp.bipartite_lcp_single, bmat_recipe_ingr, links_to_del_recipe_ingr, \n",
    "                    *('lcl',), mode='lcp', loops=1, verbose=verbose, plot=plot)\n",
    "print(np.mean(r02, axis=0))\n",
    "print(np.std(r02, axis=0))"
   ]
  },
  {
   "cell_type": "code",
   "execution_count": null,
   "metadata": {},
   "outputs": [],
   "source": []
  },
  {
   "cell_type": "markdown",
   "metadata": {},
   "source": [
    "# IT WORKS!\n",
    "## Now I have to parallelize the trials"
   ]
  },
  {
   "cell_type": "code",
   "execution_count": 25,
   "metadata": {},
   "outputs": [],
   "source": [
    "import time"
   ]
  },
  {
   "cell_type": "code",
   "execution_count": 26,
   "metadata": {},
   "outputs": [],
   "source": [
    "import dask"
   ]
  },
  {
   "cell_type": "code",
   "execution_count": 27,
   "metadata": {},
   "outputs": [],
   "source": [
    "from dask import delayed  # DON'T CHANGE (explained later)\n",
    "\n",
    "def func(i):\n",
    "    print(f'Trial {i} starting...')\n",
    "    scores_list = []\n",
    "    x_ = delete_links(bmat_recipe_ingr, links_to_del_recipe_ingr[i])\n",
    "    missing = np.argwhere(x_ == 0)\n",
    "    lcp_scores = b_lcp.bipartite_lcp_all(x_, missing, verbose=verbose)\n",
    "    scores_list.append(lcp_scores)\n",
    "    print(f'... Trial {i} done')\n",
    "    return scores_list\n",
    "\n",
    "#loops = 2\n",
    "#lazy = [delayed(func)(i) for i in range(2)]#loops)]  # DON'T CHANGE (explained later)"
   ]
  },
  {
   "cell_type": "code",
   "execution_count": null,
   "metadata": {},
   "outputs": [],
   "source": [
    "#dask.visualize(lazy)"
   ]
  },
  {
   "cell_type": "code",
   "execution_count": null,
   "metadata": {},
   "outputs": [],
   "source": [
    "\"\"\"%%time\n",
    "start = time.time()\n",
    "scheduler = 'single-threaded'\n",
    "res = dask.compute(lazy, scheduler=scheduler)\n",
    "print(res)\n",
    "\n",
    "print(time.time()-start, \"seconds\")\"\"\""
   ]
  },
  {
   "cell_type": "code",
   "execution_count": null,
   "metadata": {},
   "outputs": [],
   "source": [
    "\"\"\"%%time\n",
    "start = time.time()\n",
    "scheduler = 'threads'\n",
    "res = dask.compute(lazy, scheduler=scheduler)\n",
    "print(res)\n",
    "\n",
    "print(time.time()-start, \"seconds\")\"\"\""
   ]
  },
  {
   "cell_type": "code",
   "execution_count": null,
   "metadata": {
    "scrolled": true
   },
   "outputs": [],
   "source": [
    "\"\"\"%%time\n",
    "start = time.time()\n",
    "scheduler = 'processes'\n",
    "res = dask.compute(lazy, scheduler=scheduler)\n",
    "print(res)\n",
    "\n",
    "print(time.time()-start, \"seconds\")\"\"\""
   ]
  },
  {
   "cell_type": "code",
   "execution_count": null,
   "metadata": {
    "scrolled": true
   },
   "outputs": [],
   "source": [
    "#res[0]#.shape"
   ]
  },
  {
   "cell_type": "code",
   "execution_count": null,
   "metadata": {},
   "outputs": [],
   "source": [
    "#for r, rr in enumerate(res[0]):\n",
    "#    print(r, rr[0])"
   ]
  },
  {
   "cell_type": "code",
   "execution_count": null,
   "metadata": {},
   "outputs": [],
   "source": [
    "#res[0][0][0].shape"
   ]
  },
  {
   "cell_type": "code",
   "execution_count": null,
   "metadata": {},
   "outputs": [],
   "source": [
    "#res[0][0][0].shape[1]"
   ]
  },
  {
   "cell_type": "code",
   "execution_count": null,
   "metadata": {},
   "outputs": [],
   "source": [
    "#res[0][1][0].shape"
   ]
  },
  {
   "cell_type": "code",
   "execution_count": null,
   "metadata": {},
   "outputs": [],
   "source": []
  },
  {
   "cell_type": "markdown",
   "metadata": {},
   "source": [
    "# DON'T RUN the next line again, it takes a couple of hours to create the 100 npy files"
   ]
  },
  {
   "cell_type": "code",
   "execution_count": 30,
   "metadata": {},
   "outputs": [
    {
     "name": "stdout",
     "output_type": "stream",
     "text": [
      "Trial 9 starting...\n",
      "Trial 8 starting...\n",
      "Trial 4 starting...\n",
      "Trial 5 starting...\n",
      "Trial 2 starting...\n",
      "Trial 0 starting...\n",
      "Trial 3 starting...\n",
      "Trial 7 starting...\n",
      "Computing bipartite LCP\n"
     ]
    },
    {
     "name": "stderr",
     "output_type": "stream",
     "text": [
      "/home/jorge/Documents/2019/Camerino/ASSP2019/multipartite-weighted-link-prediction/linkpred/b_lcp.py:100: RuntimeWarning: invalid value encountered in double_scalars\n",
      "  cpi[i] = np.log2(fav / (fav + unfav))\n"
     ]
    },
    {
     "name": "stdout",
     "output_type": "stream",
     "text": [
      "Computing bipartite LCP\n"
     ]
    },
    {
     "name": "stderr",
     "output_type": "stream",
     "text": [
      "/home/jorge/Documents/2019/Camerino/ASSP2019/multipartite-weighted-link-prediction/linkpred/b_lcp.py:100: RuntimeWarning: invalid value encountered in double_scalars\n",
      "  cpi[i] = np.log2(fav / (fav + unfav))\n"
     ]
    },
    {
     "name": "stdout",
     "output_type": "stream",
     "text": [
      "Computing bipartite LCP\n"
     ]
    },
    {
     "name": "stderr",
     "output_type": "stream",
     "text": [
      "/home/jorge/Documents/2019/Camerino/ASSP2019/multipartite-weighted-link-prediction/linkpred/b_lcp.py:100: RuntimeWarning: invalid value encountered in double_scalars\n",
      "  cpi[i] = np.log2(fav / (fav + unfav))\n"
     ]
    },
    {
     "name": "stdout",
     "output_type": "stream",
     "text": [
      "Computing bipartite LCP\n"
     ]
    },
    {
     "name": "stderr",
     "output_type": "stream",
     "text": [
      "/home/jorge/Documents/2019/Camerino/ASSP2019/multipartite-weighted-link-prediction/linkpred/b_lcp.py:100: RuntimeWarning: invalid value encountered in double_scalars\n",
      "  cpi[i] = np.log2(fav / (fav + unfav))\n",
      "/home/jorge/Documents/2019/Camerino/ASSP2019/multipartite-weighted-link-prediction/linkpred/b_lcp.py:98: RuntimeWarning: overflow encountered in double_scalars\n",
      "  fav = comb(x.shape[1]-1, deg_r-1) * comb(x.shape[0]-1, deg_c-1)\n",
      "/home/jorge/Documents/2019/Camerino/ASSP2019/multipartite-weighted-link-prediction/linkpred/b_lcp.py:99: RuntimeWarning: overflow encountered in double_scalars\n",
      "  unfav = comb(x.shape[1]-1, deg_r) * comb(x.shape[0]-1, deg_c)\n",
      "/home/jorge/Documents/2019/Camerino/ASSP2019/multipartite-weighted-link-prediction/linkpred/b_lcp.py:98: RuntimeWarning: overflow encountered in double_scalars\n",
      "  fav = comb(x.shape[1]-1, deg_r-1) * comb(x.shape[0]-1, deg_c-1)\n",
      "/home/jorge/Documents/2019/Camerino/ASSP2019/multipartite-weighted-link-prediction/linkpred/b_lcp.py:99: RuntimeWarning: overflow encountered in double_scalars\n",
      "  unfav = comb(x.shape[1]-1, deg_r) * comb(x.shape[0]-1, deg_c)\n",
      "/home/jorge/Documents/2019/Camerino/ASSP2019/multipartite-weighted-link-prediction/linkpred/b_lcp.py:99: RuntimeWarning: overflow encountered in double_scalars\n",
      "  unfav = comb(x.shape[1]-1, deg_r) * comb(x.shape[0]-1, deg_c)\n",
      "/home/jorge/Documents/2019/Camerino/ASSP2019/multipartite-weighted-link-prediction/linkpred/b_lcp.py:100: RuntimeWarning: divide by zero encountered in log2\n",
      "  cpi[i] = np.log2(fav / (fav + unfav))\n",
      "/home/jorge/Documents/2019/Camerino/ASSP2019/multipartite-weighted-link-prediction/linkpred/b_lcp.py:98: RuntimeWarning: overflow encountered in double_scalars\n",
      "  fav = comb(x.shape[1]-1, deg_r-1) * comb(x.shape[0]-1, deg_c-1)\n",
      "/home/jorge/Documents/2019/Camerino/ASSP2019/multipartite-weighted-link-prediction/linkpred/b_lcp.py:98: RuntimeWarning: overflow encountered in double_scalars\n",
      "  fav = comb(x.shape[1]-1, deg_r-1) * comb(x.shape[0]-1, deg_c-1)\n"
     ]
    },
    {
     "name": "stdout",
     "output_type": "stream",
     "text": [
      "Computing bipartite LCP\n"
     ]
    },
    {
     "name": "stderr",
     "output_type": "stream",
     "text": [
      "/home/jorge/Documents/2019/Camerino/ASSP2019/multipartite-weighted-link-prediction/linkpred/b_lcp.py:99: RuntimeWarning: overflow encountered in double_scalars\n",
      "  unfav = comb(x.shape[1]-1, deg_r) * comb(x.shape[0]-1, deg_c)\n",
      "/home/jorge/Documents/2019/Camerino/ASSP2019/multipartite-weighted-link-prediction/linkpred/b_lcp.py:100: RuntimeWarning: divide by zero encountered in log2\n",
      "  cpi[i] = np.log2(fav / (fav + unfav))\n",
      "/home/jorge/Documents/2019/Camerino/ASSP2019/multipartite-weighted-link-prediction/linkpred/b_lcp.py:100: RuntimeWarning: invalid value encountered in double_scalars\n",
      "  cpi[i] = np.log2(fav / (fav + unfav))\n",
      "/home/jorge/Documents/2019/Camerino/ASSP2019/multipartite-weighted-link-prediction/linkpred/b_lcp.py:98: RuntimeWarning: overflow encountered in double_scalars\n",
      "  fav = comb(x.shape[1]-1, deg_r-1) * comb(x.shape[0]-1, deg_c-1)\n",
      "/home/jorge/Documents/2019/Camerino/ASSP2019/multipartite-weighted-link-prediction/linkpred/b_lcp.py:99: RuntimeWarning: overflow encountered in double_scalars\n",
      "  unfav = comb(x.shape[1]-1, deg_r) * comb(x.shape[0]-1, deg_c)\n",
      "/home/jorge/Documents/2019/Camerino/ASSP2019/multipartite-weighted-link-prediction/linkpred/b_lcp.py:100: RuntimeWarning: divide by zero encountered in log2\n",
      "  cpi[i] = np.log2(fav / (fav + unfav))\n"
     ]
    },
    {
     "name": "stdout",
     "output_type": "stream",
     "text": [
      "Computing bipartite LCP\n",
      "Computing bipartite LCP\n"
     ]
    },
    {
     "name": "stderr",
     "output_type": "stream",
     "text": [
      "/home/jorge/Documents/2019/Camerino/ASSP2019/multipartite-weighted-link-prediction/linkpred/b_lcp.py:100: RuntimeWarning: invalid value encountered in double_scalars\n",
      "  cpi[i] = np.log2(fav / (fav + unfav))\n",
      "/home/jorge/Documents/2019/Camerino/ASSP2019/multipartite-weighted-link-prediction/linkpred/b_lcp.py:100: RuntimeWarning: invalid value encountered in double_scalars\n",
      "  cpi[i] = np.log2(fav / (fav + unfav))\n",
      "/home/jorge/Documents/2019/Camerino/ASSP2019/multipartite-weighted-link-prediction/linkpred/b_lcp.py:98: RuntimeWarning: overflow encountered in double_scalars\n",
      "  fav = comb(x.shape[1]-1, deg_r-1) * comb(x.shape[0]-1, deg_c-1)\n",
      "/home/jorge/Documents/2019/Camerino/ASSP2019/multipartite-weighted-link-prediction/linkpred/b_lcp.py:99: RuntimeWarning: overflow encountered in double_scalars\n",
      "  unfav = comb(x.shape[1]-1, deg_r) * comb(x.shape[0]-1, deg_c)\n"
     ]
    },
    {
     "name": "stdout",
     "output_type": "stream",
     "text": [
      "Computing bipartite LCP\n"
     ]
    },
    {
     "name": "stderr",
     "output_type": "stream",
     "text": [
      "/home/jorge/Documents/2019/Camerino/ASSP2019/multipartite-weighted-link-prediction/linkpred/b_lcp.py:100: RuntimeWarning: invalid value encountered in double_scalars\n",
      "  cpi[i] = np.log2(fav / (fav + unfav))\n",
      "/home/jorge/Documents/2019/Camerino/ASSP2019/multipartite-weighted-link-prediction/linkpred/b_lcp.py:98: RuntimeWarning: overflow encountered in double_scalars\n",
      "  fav = comb(x.shape[1]-1, deg_r-1) * comb(x.shape[0]-1, deg_c-1)\n",
      "/home/jorge/Documents/2019/Camerino/ASSP2019/multipartite-weighted-link-prediction/linkpred/b_lcp.py:99: RuntimeWarning: overflow encountered in double_scalars\n",
      "  unfav = comb(x.shape[1]-1, deg_r) * comb(x.shape[0]-1, deg_c)\n",
      "/home/jorge/Documents/2019/Camerino/ASSP2019/multipartite-weighted-link-prediction/linkpred/b_lcp.py:100: RuntimeWarning: divide by zero encountered in log2\n",
      "  cpi[i] = np.log2(fav / (fav + unfav))\n",
      "/home/jorge/Documents/2019/Camerino/ASSP2019/multipartite-weighted-link-prediction/linkpred/b_lcp.py:98: RuntimeWarning: overflow encountered in double_scalars\n",
      "  fav = comb(x.shape[1]-1, deg_r-1) * comb(x.shape[0]-1, deg_c-1)\n",
      "/home/jorge/Documents/2019/Camerino/ASSP2019/multipartite-weighted-link-prediction/linkpred/b_lcp.py:99: RuntimeWarning: overflow encountered in double_scalars\n",
      "  unfav = comb(x.shape[1]-1, deg_r) * comb(x.shape[0]-1, deg_c)\n",
      "/home/jorge/Documents/2019/Camerino/ASSP2019/multipartite-weighted-link-prediction/linkpred/b_lcp.py:100: RuntimeWarning: divide by zero encountered in log2\n",
      "  cpi[i] = np.log2(fav / (fav + unfav))\n",
      "/home/jorge/Documents/2019/Camerino/ASSP2019/multipartite-weighted-link-prediction/linkpred/b_lcp.py:100: RuntimeWarning: divide by zero encountered in log2\n",
      "  cpi[i] = np.log2(fav / (fav + unfav))\n",
      "/home/jorge/Documents/2019/Camerino/ASSP2019/multipartite-weighted-link-prediction/linkpred/b_lcp.py:100: RuntimeWarning: divide by zero encountered in log2\n",
      "  cpi[i] = np.log2(fav / (fav + unfav))\n",
      "/home/jorge/Documents/2019/Camerino/ASSP2019/multipartite-weighted-link-prediction/linkpred/b_lcp.py:100: RuntimeWarning: divide by zero encountered in log2\n",
      "  cpi[i] = np.log2(fav / (fav + unfav))\n"
     ]
    },
    {
     "name": "stdout",
     "output_type": "stream",
     "text": [
      "100.00 %, 12.23 minutes\n",
      "... Trial 7 done\n",
      "Trial 6 starting...\n",
      "Computing bipartite LCP\n",
      "100.00 %, 12.36 minutes\n",
      "... Trial 0 done\n",
      "100.00 %, 12.44 minutes\n",
      "... Trial 2 done\n",
      "Trial 1 starting...\n",
      "Computing bipartite LCP\n",
      "100.00 %, 12.52 minutes\n",
      "... Trial 9 done\n",
      "100.00 %, 12.54 minutes\n",
      "... Trial 5 done\n",
      "100.00 %, 12.58 minutes\n",
      "... Trial 4 done\n",
      "100.00 %, 12.59 minutes\n",
      "... Trial 8 done\n",
      "100.00 %, 12.64 minutes\n",
      "... Trial 3 done\n",
      "100.00 %, 4.59 minutes\n",
      "... Trial 6 done\n",
      "100.00 %, 4.50 minutes\n",
      "... Trial 1 done\n",
      "Trial 15 starting...\n",
      "Trial 12 starting...\n",
      "Trial 11 starting...\n",
      "Trial 17 starting...\n",
      "Trial 18 starting...\n",
      "Trial 10 starting...\n",
      "Computing bipartite LCP\n"
     ]
    },
    {
     "name": "stderr",
     "output_type": "stream",
     "text": [
      "/home/jorge/Documents/2019/Camerino/ASSP2019/multipartite-weighted-link-prediction/linkpred/b_lcp.py:100: RuntimeWarning: invalid value encountered in double_scalars\n",
      "  cpi[i] = np.log2(fav / (fav + unfav))\n"
     ]
    },
    {
     "name": "stdout",
     "output_type": "stream",
     "text": [
      "Trial 13 starting...\n",
      "Computing bipartite LCP\n"
     ]
    },
    {
     "name": "stderr",
     "output_type": "stream",
     "text": [
      "/home/jorge/Documents/2019/Camerino/ASSP2019/multipartite-weighted-link-prediction/linkpred/b_lcp.py:100: RuntimeWarning: invalid value encountered in double_scalars\n",
      "  cpi[i] = np.log2(fav / (fav + unfav))\n",
      "/home/jorge/Documents/2019/Camerino/ASSP2019/multipartite-weighted-link-prediction/linkpred/b_lcp.py:99: RuntimeWarning: overflow encountered in double_scalars\n",
      "  unfav = comb(x.shape[1]-1, deg_r) * comb(x.shape[0]-1, deg_c)\n",
      "/home/jorge/Documents/2019/Camerino/ASSP2019/multipartite-weighted-link-prediction/linkpred/b_lcp.py:98: RuntimeWarning: overflow encountered in double_scalars\n",
      "  fav = comb(x.shape[1]-1, deg_r-1) * comb(x.shape[0]-1, deg_c-1)\n"
     ]
    },
    {
     "name": "stdout",
     "output_type": "stream",
     "text": [
      "Trial 19 starting...\n"
     ]
    },
    {
     "name": "stderr",
     "output_type": "stream",
     "text": [
      "/home/jorge/Documents/2019/Camerino/ASSP2019/multipartite-weighted-link-prediction/linkpred/b_lcp.py:99: RuntimeWarning: overflow encountered in double_scalars\n",
      "  unfav = comb(x.shape[1]-1, deg_r) * comb(x.shape[0]-1, deg_c)\n",
      "/home/jorge/Documents/2019/Camerino/ASSP2019/multipartite-weighted-link-prediction/linkpred/b_lcp.py:100: RuntimeWarning: divide by zero encountered in log2\n",
      "  cpi[i] = np.log2(fav / (fav + unfav))\n"
     ]
    },
    {
     "name": "stdout",
     "output_type": "stream",
     "text": [
      "Computing bipartite LCP\n"
     ]
    },
    {
     "name": "stderr",
     "output_type": "stream",
     "text": [
      "/home/jorge/Documents/2019/Camerino/ASSP2019/multipartite-weighted-link-prediction/linkpred/b_lcp.py:100: RuntimeWarning: invalid value encountered in double_scalars\n",
      "  cpi[i] = np.log2(fav / (fav + unfav))\n"
     ]
    },
    {
     "name": "stdout",
     "output_type": "stream",
     "text": [
      "Computing bipartite LCP\n"
     ]
    },
    {
     "name": "stderr",
     "output_type": "stream",
     "text": [
      "/home/jorge/Documents/2019/Camerino/ASSP2019/multipartite-weighted-link-prediction/linkpred/b_lcp.py:100: RuntimeWarning: invalid value encountered in double_scalars\n",
      "  cpi[i] = np.log2(fav / (fav + unfav))\n",
      "/home/jorge/Documents/2019/Camerino/ASSP2019/multipartite-weighted-link-prediction/linkpred/b_lcp.py:99: RuntimeWarning: overflow encountered in double_scalars\n",
      "  unfav = comb(x.shape[1]-1, deg_r) * comb(x.shape[0]-1, deg_c)\n",
      "/home/jorge/Documents/2019/Camerino/ASSP2019/multipartite-weighted-link-prediction/linkpred/b_lcp.py:100: RuntimeWarning: divide by zero encountered in log2\n",
      "  cpi[i] = np.log2(fav / (fav + unfav))\n",
      "/home/jorge/Documents/2019/Camerino/ASSP2019/multipartite-weighted-link-prediction/linkpred/b_lcp.py:98: RuntimeWarning: overflow encountered in double_scalars\n",
      "  fav = comb(x.shape[1]-1, deg_r-1) * comb(x.shape[0]-1, deg_c-1)\n",
      "/home/jorge/Documents/2019/Camerino/ASSP2019/multipartite-weighted-link-prediction/linkpred/b_lcp.py:99: RuntimeWarning: overflow encountered in double_scalars\n",
      "  unfav = comb(x.shape[1]-1, deg_r) * comb(x.shape[0]-1, deg_c)\n",
      "/home/jorge/Documents/2019/Camerino/ASSP2019/multipartite-weighted-link-prediction/linkpred/b_lcp.py:98: RuntimeWarning: overflow encountered in double_scalars\n",
      "  fav = comb(x.shape[1]-1, deg_r-1) * comb(x.shape[0]-1, deg_c-1)\n"
     ]
    },
    {
     "name": "stdout",
     "output_type": "stream",
     "text": [
      "Computing bipartite LCP\n"
     ]
    },
    {
     "name": "stderr",
     "output_type": "stream",
     "text": [
      "/home/jorge/Documents/2019/Camerino/ASSP2019/multipartite-weighted-link-prediction/linkpred/b_lcp.py:100: RuntimeWarning: invalid value encountered in double_scalars\n",
      "  cpi[i] = np.log2(fav / (fav + unfav))\n",
      "/home/jorge/Documents/2019/Camerino/ASSP2019/multipartite-weighted-link-prediction/linkpred/b_lcp.py:99: RuntimeWarning: overflow encountered in double_scalars\n",
      "  unfav = comb(x.shape[1]-1, deg_r) * comb(x.shape[0]-1, deg_c)\n",
      "/home/jorge/Documents/2019/Camerino/ASSP2019/multipartite-weighted-link-prediction/linkpred/b_lcp.py:100: RuntimeWarning: divide by zero encountered in log2\n",
      "  cpi[i] = np.log2(fav / (fav + unfav))\n",
      "/home/jorge/Documents/2019/Camerino/ASSP2019/multipartite-weighted-link-prediction/linkpred/b_lcp.py:98: RuntimeWarning: overflow encountered in double_scalars\n",
      "  fav = comb(x.shape[1]-1, deg_r-1) * comb(x.shape[0]-1, deg_c-1)\n"
     ]
    },
    {
     "name": "stdout",
     "output_type": "stream",
     "text": [
      "Computing bipartite LCP\n"
     ]
    },
    {
     "name": "stderr",
     "output_type": "stream",
     "text": [
      "/home/jorge/Documents/2019/Camerino/ASSP2019/multipartite-weighted-link-prediction/linkpred/b_lcp.py:100: RuntimeWarning: invalid value encountered in double_scalars\n",
      "  cpi[i] = np.log2(fav / (fav + unfav))\n",
      "/home/jorge/Documents/2019/Camerino/ASSP2019/multipartite-weighted-link-prediction/linkpred/b_lcp.py:98: RuntimeWarning: overflow encountered in double_scalars\n",
      "  fav = comb(x.shape[1]-1, deg_r-1) * comb(x.shape[0]-1, deg_c-1)\n",
      "/home/jorge/Documents/2019/Camerino/ASSP2019/multipartite-weighted-link-prediction/linkpred/b_lcp.py:98: RuntimeWarning: overflow encountered in double_scalars\n",
      "  fav = comb(x.shape[1]-1, deg_r-1) * comb(x.shape[0]-1, deg_c-1)\n",
      "/home/jorge/Documents/2019/Camerino/ASSP2019/multipartite-weighted-link-prediction/linkpred/b_lcp.py:99: RuntimeWarning: overflow encountered in double_scalars\n",
      "  unfav = comb(x.shape[1]-1, deg_r) * comb(x.shape[0]-1, deg_c)\n"
     ]
    },
    {
     "name": "stdout",
     "output_type": "stream",
     "text": [
      "Computing bipartite LCP\n"
     ]
    },
    {
     "name": "stderr",
     "output_type": "stream",
     "text": [
      "/home/jorge/Documents/2019/Camerino/ASSP2019/multipartite-weighted-link-prediction/linkpred/b_lcp.py:100: RuntimeWarning: invalid value encountered in double_scalars\n",
      "  cpi[i] = np.log2(fav / (fav + unfav))\n",
      "/home/jorge/Documents/2019/Camerino/ASSP2019/multipartite-weighted-link-prediction/linkpred/b_lcp.py:100: RuntimeWarning: divide by zero encountered in log2\n",
      "  cpi[i] = np.log2(fav / (fav + unfav))\n",
      "/home/jorge/Documents/2019/Camerino/ASSP2019/multipartite-weighted-link-prediction/linkpred/b_lcp.py:98: RuntimeWarning: overflow encountered in double_scalars\n",
      "  fav = comb(x.shape[1]-1, deg_r-1) * comb(x.shape[0]-1, deg_c-1)\n",
      "/home/jorge/Documents/2019/Camerino/ASSP2019/multipartite-weighted-link-prediction/linkpred/b_lcp.py:99: RuntimeWarning: overflow encountered in double_scalars\n",
      "  unfav = comb(x.shape[1]-1, deg_r) * comb(x.shape[0]-1, deg_c)\n"
     ]
    },
    {
     "name": "stdout",
     "output_type": "stream",
     "text": [
      "Computing bipartite LCP\n"
     ]
    },
    {
     "name": "stderr",
     "output_type": "stream",
     "text": [
      "/home/jorge/Documents/2019/Camerino/ASSP2019/multipartite-weighted-link-prediction/linkpred/b_lcp.py:100: RuntimeWarning: invalid value encountered in double_scalars\n",
      "  cpi[i] = np.log2(fav / (fav + unfav))\n",
      "/home/jorge/Documents/2019/Camerino/ASSP2019/multipartite-weighted-link-prediction/linkpred/b_lcp.py:99: RuntimeWarning: overflow encountered in double_scalars\n",
      "  unfav = comb(x.shape[1]-1, deg_r) * comb(x.shape[0]-1, deg_c)\n",
      "/home/jorge/Documents/2019/Camerino/ASSP2019/multipartite-weighted-link-prediction/linkpred/b_lcp.py:100: RuntimeWarning: divide by zero encountered in log2\n",
      "  cpi[i] = np.log2(fav / (fav + unfav))\n",
      "/home/jorge/Documents/2019/Camerino/ASSP2019/multipartite-weighted-link-prediction/linkpred/b_lcp.py:98: RuntimeWarning: overflow encountered in double_scalars\n",
      "  fav = comb(x.shape[1]-1, deg_r-1) * comb(x.shape[0]-1, deg_c-1)\n",
      "/home/jorge/Documents/2019/Camerino/ASSP2019/multipartite-weighted-link-prediction/linkpred/b_lcp.py:100: RuntimeWarning: divide by zero encountered in log2\n",
      "  cpi[i] = np.log2(fav / (fav + unfav))\n",
      "/home/jorge/Documents/2019/Camerino/ASSP2019/multipartite-weighted-link-prediction/linkpred/b_lcp.py:100: RuntimeWarning: divide by zero encountered in log2\n",
      "  cpi[i] = np.log2(fav / (fav + unfav))\n",
      "/home/jorge/Documents/2019/Camerino/ASSP2019/multipartite-weighted-link-prediction/linkpred/b_lcp.py:100: RuntimeWarning: divide by zero encountered in log2\n",
      "  cpi[i] = np.log2(fav / (fav + unfav))\n"
     ]
    },
    {
     "name": "stdout",
     "output_type": "stream",
     "text": [
      "100.00 %, 12.43 minutes\n",
      "... Trial 17 done\n",
      "Trial 14 starting...\n",
      "Computing bipartite LCP\n",
      "100.00 %, 12.55 minutes\n",
      "... Trial 11 done\n",
      "Trial 16 starting...\n",
      "Computing bipartite LCP\n",
      "100.00 %, 12.68 minutes\n",
      "... Trial 12 done\n",
      "100.00 %, 12.73 minutes\n",
      "... Trial 10 done\n",
      "100.00 %, 12.80 minutes\n",
      "100.00 %, 12.77 minutes\n",
      "... Trial 15 done\n",
      "... Trial 13 done\n",
      "100.00 %, 12.78 minutes\n",
      "... Trial 19 done\n",
      "100.00 %, 12.97 minutes\n",
      "... Trial 18 done\n",
      "100.00 %, 4.41 minutes\n",
      "... Trial 14 done\n",
      "100.00 %, 4.35 minutes\n",
      "... Trial 16 done\n",
      "Trial 26 starting...\n",
      "Trial 24 starting...\n",
      "Trial 20 starting...\n",
      "Trial 21 starting...\n",
      "Trial 28 starting...\n",
      "Trial 22 starting...\n",
      "Trial 23 starting...\n",
      "Trial 27 starting...\n",
      "Computing bipartite LCP\n"
     ]
    },
    {
     "name": "stderr",
     "output_type": "stream",
     "text": [
      "/home/jorge/Documents/2019/Camerino/ASSP2019/multipartite-weighted-link-prediction/linkpred/b_lcp.py:100: RuntimeWarning: invalid value encountered in double_scalars\n",
      "  cpi[i] = np.log2(fav / (fav + unfav))\n"
     ]
    },
    {
     "name": "stdout",
     "output_type": "stream",
     "text": [
      "Computing bipartite LCP\n",
      "Computing bipartite LCP\n",
      "Computing bipartite LCP\n"
     ]
    },
    {
     "name": "stderr",
     "output_type": "stream",
     "text": [
      "/home/jorge/Documents/2019/Camerino/ASSP2019/multipartite-weighted-link-prediction/linkpred/b_lcp.py:100: RuntimeWarning: invalid value encountered in double_scalars\n",
      "  cpi[i] = np.log2(fav / (fav + unfav))\n",
      "/home/jorge/Documents/2019/Camerino/ASSP2019/multipartite-weighted-link-prediction/linkpred/b_lcp.py:100: RuntimeWarning: invalid value encountered in double_scalars\n",
      "  cpi[i] = np.log2(fav / (fav + unfav))\n",
      "/home/jorge/Documents/2019/Camerino/ASSP2019/multipartite-weighted-link-prediction/linkpred/b_lcp.py:100: RuntimeWarning: invalid value encountered in double_scalars\n",
      "  cpi[i] = np.log2(fav / (fav + unfav))\n"
     ]
    },
    {
     "name": "stdout",
     "output_type": "stream",
     "text": [
      "Computing bipartite LCP\n",
      "Computing bipartite LCP\n",
      "Computing bipartite LCP\n"
     ]
    },
    {
     "name": "stderr",
     "output_type": "stream",
     "text": [
      "/home/jorge/Documents/2019/Camerino/ASSP2019/multipartite-weighted-link-prediction/linkpred/b_lcp.py:100: RuntimeWarning: invalid value encountered in double_scalars\n",
      "  cpi[i] = np.log2(fav / (fav + unfav))\n",
      "/home/jorge/Documents/2019/Camerino/ASSP2019/multipartite-weighted-link-prediction/linkpred/b_lcp.py:100: RuntimeWarning: invalid value encountered in double_scalars\n",
      "  cpi[i] = np.log2(fav / (fav + unfav))\n",
      "/home/jorge/Documents/2019/Camerino/ASSP2019/multipartite-weighted-link-prediction/linkpred/b_lcp.py:100: RuntimeWarning: invalid value encountered in double_scalars\n",
      "  cpi[i] = np.log2(fav / (fav + unfav))\n"
     ]
    },
    {
     "name": "stdout",
     "output_type": "stream",
     "text": [
      "Computing bipartite LCP\n"
     ]
    },
    {
     "name": "stderr",
     "output_type": "stream",
     "text": [
      "/home/jorge/Documents/2019/Camerino/ASSP2019/multipartite-weighted-link-prediction/linkpred/b_lcp.py:100: RuntimeWarning: invalid value encountered in double_scalars\n",
      "  cpi[i] = np.log2(fav / (fav + unfav))\n",
      "/home/jorge/Documents/2019/Camerino/ASSP2019/multipartite-weighted-link-prediction/linkpred/b_lcp.py:98: RuntimeWarning: overflow encountered in double_scalars\n",
      "  fav = comb(x.shape[1]-1, deg_r-1) * comb(x.shape[0]-1, deg_c-1)\n",
      "/home/jorge/Documents/2019/Camerino/ASSP2019/multipartite-weighted-link-prediction/linkpred/b_lcp.py:99: RuntimeWarning: overflow encountered in double_scalars\n",
      "  unfav = comb(x.shape[1]-1, deg_r) * comb(x.shape[0]-1, deg_c)\n",
      "/home/jorge/Documents/2019/Camerino/ASSP2019/multipartite-weighted-link-prediction/linkpred/b_lcp.py:99: RuntimeWarning: overflow encountered in double_scalars\n",
      "  unfav = comb(x.shape[1]-1, deg_r) * comb(x.shape[0]-1, deg_c)\n",
      "/home/jorge/Documents/2019/Camerino/ASSP2019/multipartite-weighted-link-prediction/linkpred/b_lcp.py:100: RuntimeWarning: divide by zero encountered in log2\n",
      "  cpi[i] = np.log2(fav / (fav + unfav))\n",
      "/home/jorge/Documents/2019/Camerino/ASSP2019/multipartite-weighted-link-prediction/linkpred/b_lcp.py:98: RuntimeWarning: overflow encountered in double_scalars\n",
      "  fav = comb(x.shape[1]-1, deg_r-1) * comb(x.shape[0]-1, deg_c-1)\n",
      "/home/jorge/Documents/2019/Camerino/ASSP2019/multipartite-weighted-link-prediction/linkpred/b_lcp.py:99: RuntimeWarning: overflow encountered in double_scalars\n",
      "  unfav = comb(x.shape[1]-1, deg_r) * comb(x.shape[0]-1, deg_c)\n",
      "/home/jorge/Documents/2019/Camerino/ASSP2019/multipartite-weighted-link-prediction/linkpred/b_lcp.py:100: RuntimeWarning: divide by zero encountered in log2\n",
      "  cpi[i] = np.log2(fav / (fav + unfav))\n",
      "/home/jorge/Documents/2019/Camerino/ASSP2019/multipartite-weighted-link-prediction/linkpred/b_lcp.py:98: RuntimeWarning: overflow encountered in double_scalars\n",
      "  fav = comb(x.shape[1]-1, deg_r-1) * comb(x.shape[0]-1, deg_c-1)\n",
      "/home/jorge/Documents/2019/Camerino/ASSP2019/multipartite-weighted-link-prediction/linkpred/b_lcp.py:98: RuntimeWarning: overflow encountered in double_scalars\n",
      "  fav = comb(x.shape[1]-1, deg_r-1) * comb(x.shape[0]-1, deg_c-1)\n",
      "/home/jorge/Documents/2019/Camerino/ASSP2019/multipartite-weighted-link-prediction/linkpred/b_lcp.py:98: RuntimeWarning: overflow encountered in double_scalars\n",
      "  fav = comb(x.shape[1]-1, deg_r-1) * comb(x.shape[0]-1, deg_c-1)\n",
      "/home/jorge/Documents/2019/Camerino/ASSP2019/multipartite-weighted-link-prediction/linkpred/b_lcp.py:99: RuntimeWarning: overflow encountered in double_scalars\n",
      "  unfav = comb(x.shape[1]-1, deg_r) * comb(x.shape[0]-1, deg_c)\n",
      "/home/jorge/Documents/2019/Camerino/ASSP2019/multipartite-weighted-link-prediction/linkpred/b_lcp.py:99: RuntimeWarning: overflow encountered in double_scalars\n",
      "  unfav = comb(x.shape[1]-1, deg_r) * comb(x.shape[0]-1, deg_c)\n",
      "/home/jorge/Documents/2019/Camerino/ASSP2019/multipartite-weighted-link-prediction/linkpred/b_lcp.py:98: RuntimeWarning: overflow encountered in double_scalars\n",
      "  fav = comb(x.shape[1]-1, deg_r-1) * comb(x.shape[0]-1, deg_c-1)\n",
      "/home/jorge/Documents/2019/Camerino/ASSP2019/multipartite-weighted-link-prediction/linkpred/b_lcp.py:99: RuntimeWarning: overflow encountered in double_scalars\n",
      "  unfav = comb(x.shape[1]-1, deg_r) * comb(x.shape[0]-1, deg_c)\n",
      "/home/jorge/Documents/2019/Camerino/ASSP2019/multipartite-weighted-link-prediction/linkpred/b_lcp.py:99: RuntimeWarning: overflow encountered in double_scalars\n",
      "  unfav = comb(x.shape[1]-1, deg_r) * comb(x.shape[0]-1, deg_c)\n",
      "/home/jorge/Documents/2019/Camerino/ASSP2019/multipartite-weighted-link-prediction/linkpred/b_lcp.py:100: RuntimeWarning: divide by zero encountered in log2\n",
      "  cpi[i] = np.log2(fav / (fav + unfav))\n",
      "/home/jorge/Documents/2019/Camerino/ASSP2019/multipartite-weighted-link-prediction/linkpred/b_lcp.py:98: RuntimeWarning: overflow encountered in double_scalars\n",
      "  fav = comb(x.shape[1]-1, deg_r-1) * comb(x.shape[0]-1, deg_c-1)\n",
      "/home/jorge/Documents/2019/Camerino/ASSP2019/multipartite-weighted-link-prediction/linkpred/b_lcp.py:99: RuntimeWarning: overflow encountered in double_scalars\n",
      "  unfav = comb(x.shape[1]-1, deg_r) * comb(x.shape[0]-1, deg_c)\n",
      "/home/jorge/Documents/2019/Camerino/ASSP2019/multipartite-weighted-link-prediction/linkpred/b_lcp.py:100: RuntimeWarning: divide by zero encountered in log2\n",
      "  cpi[i] = np.log2(fav / (fav + unfav))\n",
      "/home/jorge/Documents/2019/Camerino/ASSP2019/multipartite-weighted-link-prediction/linkpred/b_lcp.py:100: RuntimeWarning: divide by zero encountered in log2\n",
      "  cpi[i] = np.log2(fav / (fav + unfav))\n",
      "/home/jorge/Documents/2019/Camerino/ASSP2019/multipartite-weighted-link-prediction/linkpred/b_lcp.py:100: RuntimeWarning: divide by zero encountered in log2\n",
      "  cpi[i] = np.log2(fav / (fav + unfav))\n",
      "/home/jorge/Documents/2019/Camerino/ASSP2019/multipartite-weighted-link-prediction/linkpred/b_lcp.py:100: RuntimeWarning: divide by zero encountered in log2\n",
      "  cpi[i] = np.log2(fav / (fav + unfav))\n",
      "/home/jorge/Documents/2019/Camerino/ASSP2019/multipartite-weighted-link-prediction/linkpred/b_lcp.py:100: RuntimeWarning: divide by zero encountered in log2\n",
      "  cpi[i] = np.log2(fav / (fav + unfav))\n",
      "/home/jorge/Documents/2019/Camerino/ASSP2019/multipartite-weighted-link-prediction/linkpred/b_lcp.py:98: RuntimeWarning: overflow encountered in double_scalars\n",
      "  fav = comb(x.shape[1]-1, deg_r-1) * comb(x.shape[0]-1, deg_c-1)\n"
     ]
    },
    {
     "name": "stdout",
     "output_type": "stream",
     "text": [
      "100.00 %, 12.29 minutes\n",
      "100.00 %, 12.30 minutes\n",
      "... Trial 24 done\n",
      "... Trial 23 done\n",
      "100.00 %, 12.30 minutes\n",
      "... Trial 27 done\n",
      "100.00 %, 12.35 minutes\n",
      "... Trial 22 done\n",
      "Trial 29 starting...\n",
      "100.00 %, 12.40 minutes\n",
      "... Trial 20 done\n",
      "Computing bipartite LCP\n",
      "100.00 %, 12.40 minutes\n",
      "... Trial 26 done\n",
      "Trial 25 starting...\n",
      "Computing bipartite LCP\n",
      "100.00 %, 12.45 minutes\n",
      "... Trial 21 done\n",
      "100.00 %, 12.59 minutes\n",
      "... Trial 28 done\n",
      "100.00 %, 4.27 minutes\n",
      "... Trial 29 done\n",
      "100.00 %, 4.24 minutes\n",
      "... Trial 25 done\n",
      "Trial 36 starting...\n",
      "Trial 30 starting...\n",
      "Trial 35 starting...\n",
      "Trial 39 starting...\n",
      "Trial 38 starting...\n",
      "Trial 32 starting...\n",
      "Trial 37 starting...\n",
      "Trial 33 starting...\n",
      "Computing bipartite LCP\n"
     ]
    },
    {
     "name": "stderr",
     "output_type": "stream",
     "text": [
      "/home/jorge/Documents/2019/Camerino/ASSP2019/multipartite-weighted-link-prediction/linkpred/b_lcp.py:100: RuntimeWarning: invalid value encountered in double_scalars\n",
      "  cpi[i] = np.log2(fav / (fav + unfav))\n",
      "/home/jorge/Documents/2019/Camerino/ASSP2019/multipartite-weighted-link-prediction/linkpred/b_lcp.py:98: RuntimeWarning: overflow encountered in double_scalars\n",
      "  fav = comb(x.shape[1]-1, deg_r-1) * comb(x.shape[0]-1, deg_c-1)\n",
      "/home/jorge/Documents/2019/Camerino/ASSP2019/multipartite-weighted-link-prediction/linkpred/b_lcp.py:99: RuntimeWarning: overflow encountered in double_scalars\n",
      "  unfav = comb(x.shape[1]-1, deg_r) * comb(x.shape[0]-1, deg_c)\n"
     ]
    },
    {
     "name": "stdout",
     "output_type": "stream",
     "text": [
      "Computing bipartite LCP\n",
      "Computing bipartite LCP\n"
     ]
    },
    {
     "name": "stderr",
     "output_type": "stream",
     "text": [
      "/home/jorge/Documents/2019/Camerino/ASSP2019/multipartite-weighted-link-prediction/linkpred/b_lcp.py:100: RuntimeWarning: invalid value encountered in double_scalars\n",
      "  cpi[i] = np.log2(fav / (fav + unfav))\n",
      "/home/jorge/Documents/2019/Camerino/ASSP2019/multipartite-weighted-link-prediction/linkpred/b_lcp.py:100: RuntimeWarning: invalid value encountered in double_scalars\n",
      "  cpi[i] = np.log2(fav / (fav + unfav))\n"
     ]
    },
    {
     "name": "stdout",
     "output_type": "stream",
     "text": [
      "Computing bipartite LCP\n"
     ]
    },
    {
     "name": "stderr",
     "output_type": "stream",
     "text": [
      "/home/jorge/Documents/2019/Camerino/ASSP2019/multipartite-weighted-link-prediction/linkpred/b_lcp.py:100: RuntimeWarning: invalid value encountered in double_scalars\n",
      "  cpi[i] = np.log2(fav / (fav + unfav))\n"
     ]
    },
    {
     "name": "stdout",
     "output_type": "stream",
     "text": [
      "Computing bipartite LCP\n"
     ]
    },
    {
     "name": "stderr",
     "output_type": "stream",
     "text": [
      "/home/jorge/Documents/2019/Camerino/ASSP2019/multipartite-weighted-link-prediction/linkpred/b_lcp.py:100: RuntimeWarning: invalid value encountered in double_scalars\n",
      "  cpi[i] = np.log2(fav / (fav + unfav))\n"
     ]
    },
    {
     "name": "stdout",
     "output_type": "stream",
     "text": [
      "Computing bipartite LCP\n",
      "Computing bipartite LCP\n",
      "Computing bipartite LCP\n"
     ]
    },
    {
     "name": "stderr",
     "output_type": "stream",
     "text": [
      "/home/jorge/Documents/2019/Camerino/ASSP2019/multipartite-weighted-link-prediction/linkpred/b_lcp.py:100: RuntimeWarning: invalid value encountered in double_scalars\n",
      "  cpi[i] = np.log2(fav / (fav + unfav))\n",
      "/home/jorge/Documents/2019/Camerino/ASSP2019/multipartite-weighted-link-prediction/linkpred/b_lcp.py:100: RuntimeWarning: invalid value encountered in double_scalars\n",
      "  cpi[i] = np.log2(fav / (fav + unfav))\n",
      "/home/jorge/Documents/2019/Camerino/ASSP2019/multipartite-weighted-link-prediction/linkpred/b_lcp.py:100: RuntimeWarning: invalid value encountered in double_scalars\n",
      "  cpi[i] = np.log2(fav / (fav + unfav))\n",
      "/home/jorge/Documents/2019/Camerino/ASSP2019/multipartite-weighted-link-prediction/linkpred/b_lcp.py:98: RuntimeWarning: overflow encountered in double_scalars\n",
      "  fav = comb(x.shape[1]-1, deg_r-1) * comb(x.shape[0]-1, deg_c-1)\n",
      "/home/jorge/Documents/2019/Camerino/ASSP2019/multipartite-weighted-link-prediction/linkpred/b_lcp.py:99: RuntimeWarning: overflow encountered in double_scalars\n",
      "  unfav = comb(x.shape[1]-1, deg_r) * comb(x.shape[0]-1, deg_c)\n",
      "/home/jorge/Documents/2019/Camerino/ASSP2019/multipartite-weighted-link-prediction/linkpred/b_lcp.py:98: RuntimeWarning: overflow encountered in double_scalars\n",
      "  fav = comb(x.shape[1]-1, deg_r-1) * comb(x.shape[0]-1, deg_c-1)\n",
      "/home/jorge/Documents/2019/Camerino/ASSP2019/multipartite-weighted-link-prediction/linkpred/b_lcp.py:99: RuntimeWarning: overflow encountered in double_scalars\n",
      "  unfav = comb(x.shape[1]-1, deg_r) * comb(x.shape[0]-1, deg_c)\n",
      "/home/jorge/Documents/2019/Camerino/ASSP2019/multipartite-weighted-link-prediction/linkpred/b_lcp.py:98: RuntimeWarning: overflow encountered in double_scalars\n",
      "  fav = comb(x.shape[1]-1, deg_r-1) * comb(x.shape[0]-1, deg_c-1)\n",
      "/home/jorge/Documents/2019/Camerino/ASSP2019/multipartite-weighted-link-prediction/linkpred/b_lcp.py:99: RuntimeWarning: overflow encountered in double_scalars\n",
      "  unfav = comb(x.shape[1]-1, deg_r) * comb(x.shape[0]-1, deg_c)\n",
      "/home/jorge/Documents/2019/Camerino/ASSP2019/multipartite-weighted-link-prediction/linkpred/b_lcp.py:98: RuntimeWarning: overflow encountered in double_scalars\n",
      "  fav = comb(x.shape[1]-1, deg_r-1) * comb(x.shape[0]-1, deg_c-1)\n",
      "/home/jorge/Documents/2019/Camerino/ASSP2019/multipartite-weighted-link-prediction/linkpred/b_lcp.py:99: RuntimeWarning: overflow encountered in double_scalars\n",
      "  unfav = comb(x.shape[1]-1, deg_r) * comb(x.shape[0]-1, deg_c)\n",
      "/home/jorge/Documents/2019/Camerino/ASSP2019/multipartite-weighted-link-prediction/linkpred/b_lcp.py:98: RuntimeWarning: overflow encountered in double_scalars\n",
      "  fav = comb(x.shape[1]-1, deg_r-1) * comb(x.shape[0]-1, deg_c-1)\n",
      "/home/jorge/Documents/2019/Camerino/ASSP2019/multipartite-weighted-link-prediction/linkpred/b_lcp.py:99: RuntimeWarning: overflow encountered in double_scalars\n",
      "  unfav = comb(x.shape[1]-1, deg_r) * comb(x.shape[0]-1, deg_c)\n",
      "/home/jorge/Documents/2019/Camerino/ASSP2019/multipartite-weighted-link-prediction/linkpred/b_lcp.py:99: RuntimeWarning: overflow encountered in double_scalars\n",
      "  unfav = comb(x.shape[1]-1, deg_r) * comb(x.shape[0]-1, deg_c)\n",
      "/home/jorge/Documents/2019/Camerino/ASSP2019/multipartite-weighted-link-prediction/linkpred/b_lcp.py:100: RuntimeWarning: divide by zero encountered in log2\n",
      "  cpi[i] = np.log2(fav / (fav + unfav))\n",
      "/home/jorge/Documents/2019/Camerino/ASSP2019/multipartite-weighted-link-prediction/linkpred/b_lcp.py:100: RuntimeWarning: divide by zero encountered in log2\n",
      "  cpi[i] = np.log2(fav / (fav + unfav))\n",
      "/home/jorge/Documents/2019/Camerino/ASSP2019/multipartite-weighted-link-prediction/linkpred/b_lcp.py:98: RuntimeWarning: overflow encountered in double_scalars\n",
      "  fav = comb(x.shape[1]-1, deg_r-1) * comb(x.shape[0]-1, deg_c-1)\n",
      "/home/jorge/Documents/2019/Camerino/ASSP2019/multipartite-weighted-link-prediction/linkpred/b_lcp.py:99: RuntimeWarning: overflow encountered in double_scalars\n",
      "  unfav = comb(x.shape[1]-1, deg_r) * comb(x.shape[0]-1, deg_c)\n",
      "/home/jorge/Documents/2019/Camerino/ASSP2019/multipartite-weighted-link-prediction/linkpred/b_lcp.py:100: RuntimeWarning: divide by zero encountered in log2\n",
      "  cpi[i] = np.log2(fav / (fav + unfav))\n",
      "/home/jorge/Documents/2019/Camerino/ASSP2019/multipartite-weighted-link-prediction/linkpred/b_lcp.py:100: RuntimeWarning: divide by zero encountered in log2\n",
      "  cpi[i] = np.log2(fav / (fav + unfav))\n",
      "/home/jorge/Documents/2019/Camerino/ASSP2019/multipartite-weighted-link-prediction/linkpred/b_lcp.py:98: RuntimeWarning: overflow encountered in double_scalars\n",
      "  fav = comb(x.shape[1]-1, deg_r-1) * comb(x.shape[0]-1, deg_c-1)\n",
      "/home/jorge/Documents/2019/Camerino/ASSP2019/multipartite-weighted-link-prediction/linkpred/b_lcp.py:100: RuntimeWarning: divide by zero encountered in log2\n",
      "  cpi[i] = np.log2(fav / (fav + unfav))\n",
      "/home/jorge/Documents/2019/Camerino/ASSP2019/multipartite-weighted-link-prediction/linkpred/b_lcp.py:100: RuntimeWarning: divide by zero encountered in log2\n",
      "  cpi[i] = np.log2(fav / (fav + unfav))\n",
      "/home/jorge/Documents/2019/Camerino/ASSP2019/multipartite-weighted-link-prediction/linkpred/b_lcp.py:100: RuntimeWarning: divide by zero encountered in log2\n",
      "  cpi[i] = np.log2(fav / (fav + unfav))\n",
      "/home/jorge/Documents/2019/Camerino/ASSP2019/multipartite-weighted-link-prediction/linkpred/b_lcp.py:100: RuntimeWarning: divide by zero encountered in log2\n",
      "  cpi[i] = np.log2(fav / (fav + unfav))\n"
     ]
    },
    {
     "name": "stdout",
     "output_type": "stream",
     "text": [
      "100.00 %, 12.13 minutes\n",
      "... Trial 33 done\n",
      "100.00 %, 12.15 minutes\n",
      "100.00 %, 12.15 minutes\n",
      "... Trial 36 done\n",
      "... Trial 30 done\n",
      "100.00 %, 12.17 minutes\n",
      "... Trial 32 done\n",
      "100.00 %, 12.22 minutes\n",
      "... Trial 39 done\n",
      "Trial 34 starting...\n",
      "Computing bipartite LCP\n",
      "Trial 31 starting...\n",
      "Computing bipartite LCP\n",
      "100.00 %, 12.29 minutes\n",
      "... Trial 35 done\n",
      "100.00 %, 12.33 minutes\n",
      "... Trial 38 done\n",
      "100.00 %, 12.37 minutes\n",
      "... Trial 37 done\n",
      "100.00 %, 4.23 minutes\n",
      "... Trial 34 done\n",
      "100.00 %, 4.29 minutes\n",
      "... Trial 31 done\n",
      "Trial 43 starting...\n",
      "Trial 48 starting...\n",
      "Trial 46 starting...\n",
      "Trial 44 starting...\n",
      "Trial 42 starting...\n",
      "Trial 40 starting...\n",
      "Computing bipartite LCP\n",
      "Trial 47 starting...\n"
     ]
    },
    {
     "name": "stderr",
     "output_type": "stream",
     "text": [
      "/home/jorge/Documents/2019/Camerino/ASSP2019/multipartite-weighted-link-prediction/linkpred/b_lcp.py:100: RuntimeWarning: invalid value encountered in double_scalars\n",
      "  cpi[i] = np.log2(fav / (fav + unfav))\n"
     ]
    },
    {
     "name": "stdout",
     "output_type": "stream",
     "text": [
      "Trial 49 starting...\n"
     ]
    },
    {
     "name": "stderr",
     "output_type": "stream",
     "text": [
      "/home/jorge/Documents/2019/Camerino/ASSP2019/multipartite-weighted-link-prediction/linkpred/b_lcp.py:98: RuntimeWarning: overflow encountered in double_scalars\n",
      "  fav = comb(x.shape[1]-1, deg_r-1) * comb(x.shape[0]-1, deg_c-1)\n",
      "/home/jorge/Documents/2019/Camerino/ASSP2019/multipartite-weighted-link-prediction/linkpred/b_lcp.py:99: RuntimeWarning: overflow encountered in double_scalars\n",
      "  unfav = comb(x.shape[1]-1, deg_r) * comb(x.shape[0]-1, deg_c)\n"
     ]
    },
    {
     "name": "stdout",
     "output_type": "stream",
     "text": [
      "Computing bipartite LCP\n"
     ]
    },
    {
     "name": "stderr",
     "output_type": "stream",
     "text": [
      "/home/jorge/Documents/2019/Camerino/ASSP2019/multipartite-weighted-link-prediction/linkpred/b_lcp.py:100: RuntimeWarning: invalid value encountered in double_scalars\n",
      "  cpi[i] = np.log2(fav / (fav + unfav))\n",
      "/home/jorge/Documents/2019/Camerino/ASSP2019/multipartite-weighted-link-prediction/linkpred/b_lcp.py:98: RuntimeWarning: overflow encountered in double_scalars\n",
      "  fav = comb(x.shape[1]-1, deg_r-1) * comb(x.shape[0]-1, deg_c-1)\n",
      "/home/jorge/Documents/2019/Camerino/ASSP2019/multipartite-weighted-link-prediction/linkpred/b_lcp.py:99: RuntimeWarning: overflow encountered in double_scalars\n",
      "  unfav = comb(x.shape[1]-1, deg_r) * comb(x.shape[0]-1, deg_c)\n"
     ]
    },
    {
     "name": "stdout",
     "output_type": "stream",
     "text": [
      "Computing bipartite LCP\n",
      "Computing bipartite LCP\n"
     ]
    },
    {
     "name": "stderr",
     "output_type": "stream",
     "text": [
      "/home/jorge/Documents/2019/Camerino/ASSP2019/multipartite-weighted-link-prediction/linkpred/b_lcp.py:100: RuntimeWarning: invalid value encountered in double_scalars\n",
      "  cpi[i] = np.log2(fav / (fav + unfav))\n"
     ]
    },
    {
     "name": "stdout",
     "output_type": "stream",
     "text": [
      "Computing bipartite LCP\n"
     ]
    },
    {
     "name": "stderr",
     "output_type": "stream",
     "text": [
      "/home/jorge/Documents/2019/Camerino/ASSP2019/multipartite-weighted-link-prediction/linkpred/b_lcp.py:100: RuntimeWarning: invalid value encountered in double_scalars\n",
      "  cpi[i] = np.log2(fav / (fav + unfav))\n",
      "/home/jorge/Documents/2019/Camerino/ASSP2019/multipartite-weighted-link-prediction/linkpred/b_lcp.py:100: RuntimeWarning: invalid value encountered in double_scalars\n",
      "  cpi[i] = np.log2(fav / (fav + unfav))\n",
      "/home/jorge/Documents/2019/Camerino/ASSP2019/multipartite-weighted-link-prediction/linkpred/b_lcp.py:99: RuntimeWarning: overflow encountered in double_scalars\n",
      "  unfav = comb(x.shape[1]-1, deg_r) * comb(x.shape[0]-1, deg_c)\n",
      "/home/jorge/Documents/2019/Camerino/ASSP2019/multipartite-weighted-link-prediction/linkpred/b_lcp.py:100: RuntimeWarning: divide by zero encountered in log2\n",
      "  cpi[i] = np.log2(fav / (fav + unfav))\n",
      "/home/jorge/Documents/2019/Camerino/ASSP2019/multipartite-weighted-link-prediction/linkpred/b_lcp.py:98: RuntimeWarning: overflow encountered in double_scalars\n",
      "  fav = comb(x.shape[1]-1, deg_r-1) * comb(x.shape[0]-1, deg_c-1)\n",
      "/home/jorge/Documents/2019/Camerino/ASSP2019/multipartite-weighted-link-prediction/linkpred/b_lcp.py:99: RuntimeWarning: overflow encountered in double_scalars\n",
      "  unfav = comb(x.shape[1]-1, deg_r) * comb(x.shape[0]-1, deg_c)\n",
      "/home/jorge/Documents/2019/Camerino/ASSP2019/multipartite-weighted-link-prediction/linkpred/b_lcp.py:98: RuntimeWarning: overflow encountered in double_scalars\n",
      "  fav = comb(x.shape[1]-1, deg_r-1) * comb(x.shape[0]-1, deg_c-1)\n",
      "/home/jorge/Documents/2019/Camerino/ASSP2019/multipartite-weighted-link-prediction/linkpred/b_lcp.py:99: RuntimeWarning: overflow encountered in double_scalars\n",
      "  unfav = comb(x.shape[1]-1, deg_r) * comb(x.shape[0]-1, deg_c)\n"
     ]
    },
    {
     "name": "stdout",
     "output_type": "stream",
     "text": [
      "Computing bipartite LCP\n"
     ]
    },
    {
     "name": "stderr",
     "output_type": "stream",
     "text": [
      "/home/jorge/Documents/2019/Camerino/ASSP2019/multipartite-weighted-link-prediction/linkpred/b_lcp.py:100: RuntimeWarning: invalid value encountered in double_scalars\n",
      "  cpi[i] = np.log2(fav / (fav + unfav))\n"
     ]
    },
    {
     "name": "stdout",
     "output_type": "stream",
     "text": [
      "Computing bipartite LCP\n"
     ]
    },
    {
     "name": "stderr",
     "output_type": "stream",
     "text": [
      "/home/jorge/Documents/2019/Camerino/ASSP2019/multipartite-weighted-link-prediction/linkpred/b_lcp.py:100: RuntimeWarning: invalid value encountered in double_scalars\n",
      "  cpi[i] = np.log2(fav / (fav + unfav))\n",
      "/home/jorge/Documents/2019/Camerino/ASSP2019/multipartite-weighted-link-prediction/linkpred/b_lcp.py:98: RuntimeWarning: overflow encountered in double_scalars\n",
      "  fav = comb(x.shape[1]-1, deg_r-1) * comb(x.shape[0]-1, deg_c-1)\n",
      "/home/jorge/Documents/2019/Camerino/ASSP2019/multipartite-weighted-link-prediction/linkpred/b_lcp.py:99: RuntimeWarning: overflow encountered in double_scalars\n",
      "  unfav = comb(x.shape[1]-1, deg_r) * comb(x.shape[0]-1, deg_c)\n"
     ]
    },
    {
     "name": "stdout",
     "output_type": "stream",
     "text": [
      "Computing bipartite LCP\n"
     ]
    },
    {
     "name": "stderr",
     "output_type": "stream",
     "text": [
      "/home/jorge/Documents/2019/Camerino/ASSP2019/multipartite-weighted-link-prediction/linkpred/b_lcp.py:100: RuntimeWarning: invalid value encountered in double_scalars\n",
      "  cpi[i] = np.log2(fav / (fav + unfav))\n",
      "/home/jorge/Documents/2019/Camerino/ASSP2019/multipartite-weighted-link-prediction/linkpred/b_lcp.py:99: RuntimeWarning: overflow encountered in double_scalars\n",
      "  unfav = comb(x.shape[1]-1, deg_r) * comb(x.shape[0]-1, deg_c)\n",
      "/home/jorge/Documents/2019/Camerino/ASSP2019/multipartite-weighted-link-prediction/linkpred/b_lcp.py:100: RuntimeWarning: divide by zero encountered in log2\n",
      "  cpi[i] = np.log2(fav / (fav + unfav))\n",
      "/home/jorge/Documents/2019/Camerino/ASSP2019/multipartite-weighted-link-prediction/linkpred/b_lcp.py:100: RuntimeWarning: divide by zero encountered in log2\n",
      "  cpi[i] = np.log2(fav / (fav + unfav))\n",
      "/home/jorge/Documents/2019/Camerino/ASSP2019/multipartite-weighted-link-prediction/linkpred/b_lcp.py:98: RuntimeWarning: overflow encountered in double_scalars\n",
      "  fav = comb(x.shape[1]-1, deg_r-1) * comb(x.shape[0]-1, deg_c-1)\n",
      "/home/jorge/Documents/2019/Camerino/ASSP2019/multipartite-weighted-link-prediction/linkpred/b_lcp.py:98: RuntimeWarning: overflow encountered in double_scalars\n",
      "  fav = comb(x.shape[1]-1, deg_r-1) * comb(x.shape[0]-1, deg_c-1)\n",
      "/home/jorge/Documents/2019/Camerino/ASSP2019/multipartite-weighted-link-prediction/linkpred/b_lcp.py:99: RuntimeWarning: overflow encountered in double_scalars\n",
      "  unfav = comb(x.shape[1]-1, deg_r) * comb(x.shape[0]-1, deg_c)\n",
      "/home/jorge/Documents/2019/Camerino/ASSP2019/multipartite-weighted-link-prediction/linkpred/b_lcp.py:100: RuntimeWarning: divide by zero encountered in log2\n",
      "  cpi[i] = np.log2(fav / (fav + unfav))\n",
      "/home/jorge/Documents/2019/Camerino/ASSP2019/multipartite-weighted-link-prediction/linkpred/b_lcp.py:98: RuntimeWarning: overflow encountered in double_scalars\n",
      "  fav = comb(x.shape[1]-1, deg_r-1) * comb(x.shape[0]-1, deg_c-1)\n",
      "/home/jorge/Documents/2019/Camerino/ASSP2019/multipartite-weighted-link-prediction/linkpred/b_lcp.py:100: RuntimeWarning: divide by zero encountered in log2\n",
      "  cpi[i] = np.log2(fav / (fav + unfav))\n",
      "/home/jorge/Documents/2019/Camerino/ASSP2019/multipartite-weighted-link-prediction/linkpred/b_lcp.py:100: RuntimeWarning: divide by zero encountered in log2\n",
      "  cpi[i] = np.log2(fav / (fav + unfav))\n",
      "/home/jorge/Documents/2019/Camerino/ASSP2019/multipartite-weighted-link-prediction/linkpred/b_lcp.py:100: RuntimeWarning: divide by zero encountered in log2\n",
      "  cpi[i] = np.log2(fav / (fav + unfav))\n",
      "/home/jorge/Documents/2019/Camerino/ASSP2019/multipartite-weighted-link-prediction/linkpred/b_lcp.py:100: RuntimeWarning: divide by zero encountered in log2\n",
      "  cpi[i] = np.log2(fav / (fav + unfav))\n"
     ]
    },
    {
     "name": "stdout",
     "output_type": "stream",
     "text": [
      "100.00 %, 12.20 minutes\n",
      "... Trial 44 done\n",
      "100.00 %, 12.26 minutes\n",
      "... Trial 40 done\n",
      "100.00 %, 12.30 minutes\n",
      "... Trial 43 done\n",
      "100.00 %, 12.29 minutes\n",
      "Trial 45 starting...\n",
      "100.00 %, 12.29 minutes\n",
      "... Trial 42 done\n",
      "... Trial 47 done\n",
      "Computing bipartite LCP\n",
      "100.00 %, 12.47 minutes\n",
      "... Trial 46 done\n",
      "100.00 %, 12.48 minutes\n",
      "... Trial 49 done\n",
      "100.00 %, 12.63 minutes\n",
      "Trial 41 starting...\n",
      "... Trial 48 done\n",
      "Computing bipartite LCP\n",
      "100.00 %, 4.82 minutes\n",
      "... Trial 45 done\n",
      "100.00 %, 4.66 minutes\n",
      "... Trial 41 done\n",
      "Trial 56 starting...\n",
      "Trial 53 starting...\n",
      "Trial 55 starting...\n",
      "Trial 54 starting...\n",
      "Trial 57 starting...\n",
      "Trial 52 starting...\n",
      "Trial 59 starting...\n",
      "Trial 50 starting...\n",
      "Computing bipartite LCP\n"
     ]
    },
    {
     "name": "stderr",
     "output_type": "stream",
     "text": [
      "/home/jorge/Documents/2019/Camerino/ASSP2019/multipartite-weighted-link-prediction/linkpred/b_lcp.py:100: RuntimeWarning: invalid value encountered in double_scalars\n",
      "  cpi[i] = np.log2(fav / (fav + unfav))\n"
     ]
    },
    {
     "name": "stdout",
     "output_type": "stream",
     "text": [
      "Computing bipartite LCP\n"
     ]
    },
    {
     "name": "stderr",
     "output_type": "stream",
     "text": [
      "/home/jorge/Documents/2019/Camerino/ASSP2019/multipartite-weighted-link-prediction/linkpred/b_lcp.py:100: RuntimeWarning: invalid value encountered in double_scalars\n",
      "  cpi[i] = np.log2(fav / (fav + unfav))\n"
     ]
    },
    {
     "name": "stdout",
     "output_type": "stream",
     "text": [
      "Computing bipartite LCP\n",
      "Computing bipartite LCP\n"
     ]
    },
    {
     "name": "stderr",
     "output_type": "stream",
     "text": [
      "/home/jorge/Documents/2019/Camerino/ASSP2019/multipartite-weighted-link-prediction/linkpred/b_lcp.py:100: RuntimeWarning: invalid value encountered in double_scalars\n",
      "  cpi[i] = np.log2(fav / (fav + unfav))\n",
      "/home/jorge/Documents/2019/Camerino/ASSP2019/multipartite-weighted-link-prediction/linkpred/b_lcp.py:100: RuntimeWarning: invalid value encountered in double_scalars\n",
      "  cpi[i] = np.log2(fav / (fav + unfav))\n"
     ]
    },
    {
     "name": "stdout",
     "output_type": "stream",
     "text": [
      "Computing bipartite LCP\n"
     ]
    },
    {
     "name": "stderr",
     "output_type": "stream",
     "text": [
      "/home/jorge/Documents/2019/Camerino/ASSP2019/multipartite-weighted-link-prediction/linkpred/b_lcp.py:100: RuntimeWarning: invalid value encountered in double_scalars\n",
      "  cpi[i] = np.log2(fav / (fav + unfav))\n"
     ]
    },
    {
     "name": "stdout",
     "output_type": "stream",
     "text": [
      "Computing bipartite LCP\n",
      "Computing bipartite LCP\n",
      "Computing bipartite LCP\n"
     ]
    },
    {
     "name": "stderr",
     "output_type": "stream",
     "text": [
      "/home/jorge/Documents/2019/Camerino/ASSP2019/multipartite-weighted-link-prediction/linkpred/b_lcp.py:100: RuntimeWarning: invalid value encountered in double_scalars\n",
      "  cpi[i] = np.log2(fav / (fav + unfav))\n",
      "/home/jorge/Documents/2019/Camerino/ASSP2019/multipartite-weighted-link-prediction/linkpred/b_lcp.py:100: RuntimeWarning: invalid value encountered in double_scalars\n",
      "  cpi[i] = np.log2(fav / (fav + unfav))\n",
      "/home/jorge/Documents/2019/Camerino/ASSP2019/multipartite-weighted-link-prediction/linkpred/b_lcp.py:100: RuntimeWarning: invalid value encountered in double_scalars\n",
      "  cpi[i] = np.log2(fav / (fav + unfav))\n",
      "/home/jorge/Documents/2019/Camerino/ASSP2019/multipartite-weighted-link-prediction/linkpred/b_lcp.py:98: RuntimeWarning: overflow encountered in double_scalars\n",
      "  fav = comb(x.shape[1]-1, deg_r-1) * comb(x.shape[0]-1, deg_c-1)\n",
      "/home/jorge/Documents/2019/Camerino/ASSP2019/multipartite-weighted-link-prediction/linkpred/b_lcp.py:99: RuntimeWarning: overflow encountered in double_scalars\n",
      "  unfav = comb(x.shape[1]-1, deg_r) * comb(x.shape[0]-1, deg_c)\n",
      "/home/jorge/Documents/2019/Camerino/ASSP2019/multipartite-weighted-link-prediction/linkpred/b_lcp.py:98: RuntimeWarning: overflow encountered in double_scalars\n",
      "  fav = comb(x.shape[1]-1, deg_r-1) * comb(x.shape[0]-1, deg_c-1)\n",
      "/home/jorge/Documents/2019/Camerino/ASSP2019/multipartite-weighted-link-prediction/linkpred/b_lcp.py:99: RuntimeWarning: overflow encountered in double_scalars\n",
      "  unfav = comb(x.shape[1]-1, deg_r) * comb(x.shape[0]-1, deg_c)\n",
      "/home/jorge/Documents/2019/Camerino/ASSP2019/multipartite-weighted-link-prediction/linkpred/b_lcp.py:98: RuntimeWarning: overflow encountered in double_scalars\n",
      "  fav = comb(x.shape[1]-1, deg_r-1) * comb(x.shape[0]-1, deg_c-1)\n",
      "/home/jorge/Documents/2019/Camerino/ASSP2019/multipartite-weighted-link-prediction/linkpred/b_lcp.py:98: RuntimeWarning: overflow encountered in double_scalars\n",
      "  fav = comb(x.shape[1]-1, deg_r-1) * comb(x.shape[0]-1, deg_c-1)\n",
      "/home/jorge/Documents/2019/Camerino/ASSP2019/multipartite-weighted-link-prediction/linkpred/b_lcp.py:99: RuntimeWarning: overflow encountered in double_scalars\n",
      "  unfav = comb(x.shape[1]-1, deg_r) * comb(x.shape[0]-1, deg_c)\n",
      "/home/jorge/Documents/2019/Camerino/ASSP2019/multipartite-weighted-link-prediction/linkpred/b_lcp.py:99: RuntimeWarning: overflow encountered in double_scalars\n",
      "  unfav = comb(x.shape[1]-1, deg_r) * comb(x.shape[0]-1, deg_c)\n",
      "/home/jorge/Documents/2019/Camerino/ASSP2019/multipartite-weighted-link-prediction/linkpred/b_lcp.py:99: RuntimeWarning: overflow encountered in double_scalars\n",
      "  unfav = comb(x.shape[1]-1, deg_r) * comb(x.shape[0]-1, deg_c)\n",
      "/home/jorge/Documents/2019/Camerino/ASSP2019/multipartite-weighted-link-prediction/linkpred/b_lcp.py:100: RuntimeWarning: divide by zero encountered in log2\n",
      "  cpi[i] = np.log2(fav / (fav + unfav))\n",
      "/home/jorge/Documents/2019/Camerino/ASSP2019/multipartite-weighted-link-prediction/linkpred/b_lcp.py:99: RuntimeWarning: overflow encountered in double_scalars\n",
      "  unfav = comb(x.shape[1]-1, deg_r) * comb(x.shape[0]-1, deg_c)\n",
      "/home/jorge/Documents/2019/Camerino/ASSP2019/multipartite-weighted-link-prediction/linkpred/b_lcp.py:100: RuntimeWarning: divide by zero encountered in log2\n",
      "  cpi[i] = np.log2(fav / (fav + unfav))\n",
      "/home/jorge/Documents/2019/Camerino/ASSP2019/multipartite-weighted-link-prediction/linkpred/b_lcp.py:100: RuntimeWarning: divide by zero encountered in log2\n",
      "  cpi[i] = np.log2(fav / (fav + unfav))\n",
      "/home/jorge/Documents/2019/Camerino/ASSP2019/multipartite-weighted-link-prediction/linkpred/b_lcp.py:98: RuntimeWarning: overflow encountered in double_scalars\n",
      "  fav = comb(x.shape[1]-1, deg_r-1) * comb(x.shape[0]-1, deg_c-1)\n",
      "/home/jorge/Documents/2019/Camerino/ASSP2019/multipartite-weighted-link-prediction/linkpred/b_lcp.py:98: RuntimeWarning: overflow encountered in double_scalars\n",
      "  fav = comb(x.shape[1]-1, deg_r-1) * comb(x.shape[0]-1, deg_c-1)\n",
      "/home/jorge/Documents/2019/Camerino/ASSP2019/multipartite-weighted-link-prediction/linkpred/b_lcp.py:99: RuntimeWarning: overflow encountered in double_scalars\n",
      "  unfav = comb(x.shape[1]-1, deg_r) * comb(x.shape[0]-1, deg_c)\n",
      "/home/jorge/Documents/2019/Camerino/ASSP2019/multipartite-weighted-link-prediction/linkpred/b_lcp.py:99: RuntimeWarning: overflow encountered in double_scalars\n",
      "  unfav = comb(x.shape[1]-1, deg_r) * comb(x.shape[0]-1, deg_c)\n",
      "/home/jorge/Documents/2019/Camerino/ASSP2019/multipartite-weighted-link-prediction/linkpred/b_lcp.py:100: RuntimeWarning: divide by zero encountered in log2\n",
      "  cpi[i] = np.log2(fav / (fav + unfav))\n",
      "/home/jorge/Documents/2019/Camerino/ASSP2019/multipartite-weighted-link-prediction/linkpred/b_lcp.py:98: RuntimeWarning: overflow encountered in double_scalars\n",
      "  fav = comb(x.shape[1]-1, deg_r-1) * comb(x.shape[0]-1, deg_c-1)\n",
      "/home/jorge/Documents/2019/Camerino/ASSP2019/multipartite-weighted-link-prediction/linkpred/b_lcp.py:98: RuntimeWarning: overflow encountered in double_scalars\n",
      "  fav = comb(x.shape[1]-1, deg_r-1) * comb(x.shape[0]-1, deg_c-1)\n",
      "/home/jorge/Documents/2019/Camerino/ASSP2019/multipartite-weighted-link-prediction/linkpred/b_lcp.py:100: RuntimeWarning: divide by zero encountered in log2\n",
      "  cpi[i] = np.log2(fav / (fav + unfav))\n",
      "/home/jorge/Documents/2019/Camerino/ASSP2019/multipartite-weighted-link-prediction/linkpred/b_lcp.py:100: RuntimeWarning: divide by zero encountered in log2\n",
      "  cpi[i] = np.log2(fav / (fav + unfav))\n",
      "/home/jorge/Documents/2019/Camerino/ASSP2019/multipartite-weighted-link-prediction/linkpred/b_lcp.py:100: RuntimeWarning: divide by zero encountered in log2\n",
      "  cpi[i] = np.log2(fav / (fav + unfav))\n",
      "/home/jorge/Documents/2019/Camerino/ASSP2019/multipartite-weighted-link-prediction/linkpred/b_lcp.py:100: RuntimeWarning: divide by zero encountered in log2\n",
      "  cpi[i] = np.log2(fav / (fav + unfav))\n"
     ]
    },
    {
     "name": "stdout",
     "output_type": "stream",
     "text": [
      "100.00 %, 13.18 minutes\n",
      "... Trial 57 done\n",
      "Trial 58 starting...\n",
      "100.00 %, 13.28 minutes\n",
      "... Trial 52 done\n",
      "Computing bipartite LCP\n",
      "100.00 %, 13.36 minutes\n",
      "... Trial 54 done\n",
      "100.00 %, 13.38 minutes\n",
      "... Trial 55 done\n",
      "Trial 51 starting...\n",
      "Computing bipartite LCP\n",
      "100.00 %, 13.43 minutes\n",
      "... Trial 56 done\n",
      "100.00 %, 13.43 minutes\n",
      "... Trial 50 done\n",
      "100.00 %, 13.47 minutes\n",
      "... Trial 53 done\n",
      "100.00 %, 13.48 minutes\n",
      "... Trial 59 done\n",
      "100.00 %, 4.62 minutes\n",
      "... Trial 58 done\n",
      "100.00 %, 4.53 minutes\n",
      "... Trial 51 done\n",
      "Trial 66 starting...\n",
      "Trial 68 starting...\n",
      "Trial 63 starting...\n",
      "Trial 65 starting...\n",
      "Trial 67 starting...\n",
      "Trial 69 starting...\n",
      "Trial 60 starting...\n",
      "Trial 62 starting...\n",
      "Computing bipartite LCP\n",
      "Computing bipartite LCP\n"
     ]
    },
    {
     "name": "stderr",
     "output_type": "stream",
     "text": [
      "/home/jorge/Documents/2019/Camerino/ASSP2019/multipartite-weighted-link-prediction/linkpred/b_lcp.py:100: RuntimeWarning: invalid value encountered in double_scalars\n",
      "  cpi[i] = np.log2(fav / (fav + unfav))\n",
      "/home/jorge/Documents/2019/Camerino/ASSP2019/multipartite-weighted-link-prediction/linkpred/b_lcp.py:100: RuntimeWarning: invalid value encountered in double_scalars\n",
      "  cpi[i] = np.log2(fav / (fav + unfav))\n"
     ]
    },
    {
     "name": "stdout",
     "output_type": "stream",
     "text": [
      "Computing bipartite LCP\n"
     ]
    },
    {
     "name": "stderr",
     "output_type": "stream",
     "text": [
      "/home/jorge/Documents/2019/Camerino/ASSP2019/multipartite-weighted-link-prediction/linkpred/b_lcp.py:100: RuntimeWarning: invalid value encountered in double_scalars\n",
      "  cpi[i] = np.log2(fav / (fav + unfav))\n"
     ]
    },
    {
     "name": "stdout",
     "output_type": "stream",
     "text": [
      "Computing bipartite LCP\n",
      "Computing bipartite LCP\n"
     ]
    },
    {
     "name": "stderr",
     "output_type": "stream",
     "text": [
      "/home/jorge/Documents/2019/Camerino/ASSP2019/multipartite-weighted-link-prediction/linkpred/b_lcp.py:100: RuntimeWarning: invalid value encountered in double_scalars\n",
      "  cpi[i] = np.log2(fav / (fav + unfav))\n",
      "/home/jorge/Documents/2019/Camerino/ASSP2019/multipartite-weighted-link-prediction/linkpred/b_lcp.py:100: RuntimeWarning: invalid value encountered in double_scalars\n",
      "  cpi[i] = np.log2(fav / (fav + unfav))\n",
      "/home/jorge/Documents/2019/Camerino/ASSP2019/multipartite-weighted-link-prediction/linkpred/b_lcp.py:98: RuntimeWarning: overflow encountered in double_scalars\n",
      "  fav = comb(x.shape[1]-1, deg_r-1) * comb(x.shape[0]-1, deg_c-1)\n",
      "/home/jorge/Documents/2019/Camerino/ASSP2019/multipartite-weighted-link-prediction/linkpred/b_lcp.py:99: RuntimeWarning: overflow encountered in double_scalars\n",
      "  unfav = comb(x.shape[1]-1, deg_r) * comb(x.shape[0]-1, deg_c)\n",
      "/home/jorge/Documents/2019/Camerino/ASSP2019/multipartite-weighted-link-prediction/linkpred/b_lcp.py:98: RuntimeWarning: overflow encountered in double_scalars\n",
      "  fav = comb(x.shape[1]-1, deg_r-1) * comb(x.shape[0]-1, deg_c-1)\n",
      "/home/jorge/Documents/2019/Camerino/ASSP2019/multipartite-weighted-link-prediction/linkpred/b_lcp.py:99: RuntimeWarning: overflow encountered in double_scalars\n",
      "  unfav = comb(x.shape[1]-1, deg_r) * comb(x.shape[0]-1, deg_c)\n",
      "/home/jorge/Documents/2019/Camerino/ASSP2019/multipartite-weighted-link-prediction/linkpred/b_lcp.py:98: RuntimeWarning: overflow encountered in double_scalars\n",
      "  fav = comb(x.shape[1]-1, deg_r-1) * comb(x.shape[0]-1, deg_c-1)\n",
      "/home/jorge/Documents/2019/Camerino/ASSP2019/multipartite-weighted-link-prediction/linkpred/b_lcp.py:99: RuntimeWarning: overflow encountered in double_scalars\n",
      "  unfav = comb(x.shape[1]-1, deg_r) * comb(x.shape[0]-1, deg_c)\n"
     ]
    },
    {
     "name": "stdout",
     "output_type": "stream",
     "text": [
      "Computing bipartite LCP\n"
     ]
    },
    {
     "name": "stderr",
     "output_type": "stream",
     "text": [
      "/home/jorge/Documents/2019/Camerino/ASSP2019/multipartite-weighted-link-prediction/linkpred/b_lcp.py:100: RuntimeWarning: invalid value encountered in double_scalars\n",
      "  cpi[i] = np.log2(fav / (fav + unfav))\n"
     ]
    },
    {
     "name": "stdout",
     "output_type": "stream",
     "text": [
      "Computing bipartite LCP\n"
     ]
    },
    {
     "name": "stderr",
     "output_type": "stream",
     "text": [
      "/home/jorge/Documents/2019/Camerino/ASSP2019/multipartite-weighted-link-prediction/linkpred/b_lcp.py:99: RuntimeWarning: overflow encountered in double_scalars\n",
      "  unfav = comb(x.shape[1]-1, deg_r) * comb(x.shape[0]-1, deg_c)\n",
      "/home/jorge/Documents/2019/Camerino/ASSP2019/multipartite-weighted-link-prediction/linkpred/b_lcp.py:100: RuntimeWarning: divide by zero encountered in log2\n",
      "  cpi[i] = np.log2(fav / (fav + unfav))\n",
      "/home/jorge/Documents/2019/Camerino/ASSP2019/multipartite-weighted-link-prediction/linkpred/b_lcp.py:100: RuntimeWarning: invalid value encountered in double_scalars\n",
      "  cpi[i] = np.log2(fav / (fav + unfav))\n",
      "/home/jorge/Documents/2019/Camerino/ASSP2019/multipartite-weighted-link-prediction/linkpred/b_lcp.py:98: RuntimeWarning: overflow encountered in double_scalars\n",
      "  fav = comb(x.shape[1]-1, deg_r-1) * comb(x.shape[0]-1, deg_c-1)\n",
      "/home/jorge/Documents/2019/Camerino/ASSP2019/multipartite-weighted-link-prediction/linkpred/b_lcp.py:99: RuntimeWarning: overflow encountered in double_scalars\n",
      "  unfav = comb(x.shape[1]-1, deg_r) * comb(x.shape[0]-1, deg_c)\n",
      "/home/jorge/Documents/2019/Camerino/ASSP2019/multipartite-weighted-link-prediction/linkpred/b_lcp.py:98: RuntimeWarning: overflow encountered in double_scalars\n",
      "  fav = comb(x.shape[1]-1, deg_r-1) * comb(x.shape[0]-1, deg_c-1)\n"
     ]
    },
    {
     "name": "stdout",
     "output_type": "stream",
     "text": [
      "Computing bipartite LCP\n"
     ]
    },
    {
     "name": "stderr",
     "output_type": "stream",
     "text": [
      "/home/jorge/Documents/2019/Camerino/ASSP2019/multipartite-weighted-link-prediction/linkpred/b_lcp.py:100: RuntimeWarning: divide by zero encountered in log2\n",
      "  cpi[i] = np.log2(fav / (fav + unfav))\n",
      "/home/jorge/Documents/2019/Camerino/ASSP2019/multipartite-weighted-link-prediction/linkpred/b_lcp.py:100: RuntimeWarning: invalid value encountered in double_scalars\n",
      "  cpi[i] = np.log2(fav / (fav + unfav))\n",
      "/home/jorge/Documents/2019/Camerino/ASSP2019/multipartite-weighted-link-prediction/linkpred/b_lcp.py:98: RuntimeWarning: overflow encountered in double_scalars\n",
      "  fav = comb(x.shape[1]-1, deg_r-1) * comb(x.shape[0]-1, deg_c-1)\n",
      "/home/jorge/Documents/2019/Camerino/ASSP2019/multipartite-weighted-link-prediction/linkpred/b_lcp.py:98: RuntimeWarning: overflow encountered in double_scalars\n",
      "  fav = comb(x.shape[1]-1, deg_r-1) * comb(x.shape[0]-1, deg_c-1)\n",
      "/home/jorge/Documents/2019/Camerino/ASSP2019/multipartite-weighted-link-prediction/linkpred/b_lcp.py:99: RuntimeWarning: overflow encountered in double_scalars\n",
      "  unfav = comb(x.shape[1]-1, deg_r) * comb(x.shape[0]-1, deg_c)\n",
      "/home/jorge/Documents/2019/Camerino/ASSP2019/multipartite-weighted-link-prediction/linkpred/b_lcp.py:99: RuntimeWarning: overflow encountered in double_scalars\n",
      "  unfav = comb(x.shape[1]-1, deg_r) * comb(x.shape[0]-1, deg_c)\n",
      "/home/jorge/Documents/2019/Camerino/ASSP2019/multipartite-weighted-link-prediction/linkpred/b_lcp.py:98: RuntimeWarning: overflow encountered in double_scalars\n",
      "  fav = comb(x.shape[1]-1, deg_r-1) * comb(x.shape[0]-1, deg_c-1)\n",
      "/home/jorge/Documents/2019/Camerino/ASSP2019/multipartite-weighted-link-prediction/linkpred/b_lcp.py:99: RuntimeWarning: overflow encountered in double_scalars\n",
      "  unfav = comb(x.shape[1]-1, deg_r) * comb(x.shape[0]-1, deg_c)\n",
      "/home/jorge/Documents/2019/Camerino/ASSP2019/multipartite-weighted-link-prediction/linkpred/b_lcp.py:100: RuntimeWarning: divide by zero encountered in log2\n",
      "  cpi[i] = np.log2(fav / (fav + unfav))\n",
      "/home/jorge/Documents/2019/Camerino/ASSP2019/multipartite-weighted-link-prediction/linkpred/b_lcp.py:100: RuntimeWarning: divide by zero encountered in log2\n",
      "  cpi[i] = np.log2(fav / (fav + unfav))\n",
      "/home/jorge/Documents/2019/Camerino/ASSP2019/multipartite-weighted-link-prediction/linkpred/b_lcp.py:100: RuntimeWarning: divide by zero encountered in log2\n",
      "  cpi[i] = np.log2(fav / (fav + unfav))\n",
      "/home/jorge/Documents/2019/Camerino/ASSP2019/multipartite-weighted-link-prediction/linkpred/b_lcp.py:100: RuntimeWarning: divide by zero encountered in log2\n",
      "  cpi[i] = np.log2(fav / (fav + unfav))\n",
      "/home/jorge/Documents/2019/Camerino/ASSP2019/multipartite-weighted-link-prediction/linkpred/b_lcp.py:100: RuntimeWarning: divide by zero encountered in log2\n",
      "  cpi[i] = np.log2(fav / (fav + unfav))\n",
      "/home/jorge/Documents/2019/Camerino/ASSP2019/multipartite-weighted-link-prediction/linkpred/b_lcp.py:100: RuntimeWarning: divide by zero encountered in log2\n",
      "  cpi[i] = np.log2(fav / (fav + unfav))\n"
     ]
    },
    {
     "name": "stdout",
     "output_type": "stream",
     "text": [
      "100.00 %, 13.26 minutes\n",
      "... Trial 60 done\n",
      "100.00 %, 13.28 minutes\n",
      "... Trial 66 done\n",
      "100.00 %, 13.32 minutes\n",
      "... Trial 62 done\n",
      "100.00 %, 13.34 minutes\n",
      "... Trial 67 done\n",
      "100.00 %, 13.35 minutes\n",
      "Trial 64 starting...\n",
      "... Trial 68 done\n",
      "Computing bipartite LCP\n",
      "Trial 61 starting...\n",
      "100.00 %, 13.40 minutes\n",
      "... Trial 65 done\n",
      "Computing bipartite LCP\n",
      "100.00 %, 13.42 minutes\n",
      "... Trial 63 done\n",
      "100.00 %, 13.45 minutes\n",
      "... Trial 69 done\n",
      "100.00 %, 4.50 minutes\n",
      "... Trial 61 done\n",
      "100.00 %, 4.56 minutes\n",
      "... Trial 64 done\n",
      "Trial 72 starting...\n",
      "Trial 76 starting...\n",
      "Trial 73 starting...\n",
      "Trial 74 starting...\n",
      "Trial 78 starting...\n",
      "Computing bipartite LCP\n"
     ]
    },
    {
     "name": "stderr",
     "output_type": "stream",
     "text": [
      "/home/jorge/Documents/2019/Camerino/ASSP2019/multipartite-weighted-link-prediction/linkpred/b_lcp.py:100: RuntimeWarning: invalid value encountered in double_scalars\n",
      "  cpi[i] = np.log2(fav / (fav + unfav))\n"
     ]
    },
    {
     "name": "stdout",
     "output_type": "stream",
     "text": [
      "Trial 79 starting...\n"
     ]
    },
    {
     "name": "stderr",
     "output_type": "stream",
     "text": [
      "/home/jorge/Documents/2019/Camerino/ASSP2019/multipartite-weighted-link-prediction/linkpred/b_lcp.py:98: RuntimeWarning: overflow encountered in double_scalars\n",
      "  fav = comb(x.shape[1]-1, deg_r-1) * comb(x.shape[0]-1, deg_c-1)\n",
      "/home/jorge/Documents/2019/Camerino/ASSP2019/multipartite-weighted-link-prediction/linkpred/b_lcp.py:99: RuntimeWarning: overflow encountered in double_scalars\n",
      "  unfav = comb(x.shape[1]-1, deg_r) * comb(x.shape[0]-1, deg_c)\n"
     ]
    },
    {
     "name": "stdout",
     "output_type": "stream",
     "text": [
      "Trial 70 starting...\n",
      "Computing bipartite LCP\n"
     ]
    },
    {
     "name": "stderr",
     "output_type": "stream",
     "text": [
      "/home/jorge/Documents/2019/Camerino/ASSP2019/multipartite-weighted-link-prediction/linkpred/b_lcp.py:100: RuntimeWarning: invalid value encountered in double_scalars\n",
      "  cpi[i] = np.log2(fav / (fav + unfav))\n"
     ]
    },
    {
     "name": "stdout",
     "output_type": "stream",
     "text": [
      "Trial 75 starting...\n",
      "Computing bipartite LCP\n"
     ]
    },
    {
     "name": "stderr",
     "output_type": "stream",
     "text": [
      "/home/jorge/Documents/2019/Camerino/ASSP2019/multipartite-weighted-link-prediction/linkpred/b_lcp.py:100: RuntimeWarning: invalid value encountered in double_scalars\n",
      "  cpi[i] = np.log2(fav / (fav + unfav))\n",
      "/home/jorge/Documents/2019/Camerino/ASSP2019/multipartite-weighted-link-prediction/linkpred/b_lcp.py:98: RuntimeWarning: overflow encountered in double_scalars\n",
      "  fav = comb(x.shape[1]-1, deg_r-1) * comb(x.shape[0]-1, deg_c-1)\n",
      "/home/jorge/Documents/2019/Camerino/ASSP2019/multipartite-weighted-link-prediction/linkpred/b_lcp.py:99: RuntimeWarning: overflow encountered in double_scalars\n",
      "  unfav = comb(x.shape[1]-1, deg_r) * comb(x.shape[0]-1, deg_c)\n",
      "/home/jorge/Documents/2019/Camerino/ASSP2019/multipartite-weighted-link-prediction/linkpred/b_lcp.py:99: RuntimeWarning: overflow encountered in double_scalars\n",
      "  unfav = comb(x.shape[1]-1, deg_r) * comb(x.shape[0]-1, deg_c)\n",
      "/home/jorge/Documents/2019/Camerino/ASSP2019/multipartite-weighted-link-prediction/linkpred/b_lcp.py:100: RuntimeWarning: divide by zero encountered in log2\n",
      "  cpi[i] = np.log2(fav / (fav + unfav))\n",
      "/home/jorge/Documents/2019/Camerino/ASSP2019/multipartite-weighted-link-prediction/linkpred/b_lcp.py:98: RuntimeWarning: overflow encountered in double_scalars\n",
      "  fav = comb(x.shape[1]-1, deg_r-1) * comb(x.shape[0]-1, deg_c-1)\n"
     ]
    },
    {
     "name": "stdout",
     "output_type": "stream",
     "text": [
      "Computing bipartite LCP\n"
     ]
    },
    {
     "name": "stderr",
     "output_type": "stream",
     "text": [
      "/home/jorge/Documents/2019/Camerino/ASSP2019/multipartite-weighted-link-prediction/linkpred/b_lcp.py:100: RuntimeWarning: invalid value encountered in double_scalars\n",
      "  cpi[i] = np.log2(fav / (fav + unfav))\n",
      "/home/jorge/Documents/2019/Camerino/ASSP2019/multipartite-weighted-link-prediction/linkpred/b_lcp.py:98: RuntimeWarning: overflow encountered in double_scalars\n",
      "  fav = comb(x.shape[1]-1, deg_r-1) * comb(x.shape[0]-1, deg_c-1)\n",
      "/home/jorge/Documents/2019/Camerino/ASSP2019/multipartite-weighted-link-prediction/linkpred/b_lcp.py:99: RuntimeWarning: overflow encountered in double_scalars\n",
      "  unfav = comb(x.shape[1]-1, deg_r) * comb(x.shape[0]-1, deg_c)\n"
     ]
    },
    {
     "name": "stdout",
     "output_type": "stream",
     "text": [
      "Computing bipartite LCP\n"
     ]
    },
    {
     "name": "stderr",
     "output_type": "stream",
     "text": [
      "/home/jorge/Documents/2019/Camerino/ASSP2019/multipartite-weighted-link-prediction/linkpred/b_lcp.py:100: RuntimeWarning: invalid value encountered in double_scalars\n",
      "  cpi[i] = np.log2(fav / (fav + unfav))\n"
     ]
    },
    {
     "name": "stdout",
     "output_type": "stream",
     "text": [
      "Computing bipartite LCP\n",
      "Computing bipartite LCP\n"
     ]
    },
    {
     "name": "stderr",
     "output_type": "stream",
     "text": [
      "/home/jorge/Documents/2019/Camerino/ASSP2019/multipartite-weighted-link-prediction/linkpred/b_lcp.py:100: RuntimeWarning: invalid value encountered in double_scalars\n",
      "  cpi[i] = np.log2(fav / (fav + unfav))\n",
      "/home/jorge/Documents/2019/Camerino/ASSP2019/multipartite-weighted-link-prediction/linkpred/b_lcp.py:100: RuntimeWarning: invalid value encountered in double_scalars\n",
      "  cpi[i] = np.log2(fav / (fav + unfav))\n",
      "/home/jorge/Documents/2019/Camerino/ASSP2019/multipartite-weighted-link-prediction/linkpred/b_lcp.py:98: RuntimeWarning: overflow encountered in double_scalars\n",
      "  fav = comb(x.shape[1]-1, deg_r-1) * comb(x.shape[0]-1, deg_c-1)\n",
      "/home/jorge/Documents/2019/Camerino/ASSP2019/multipartite-weighted-link-prediction/linkpred/b_lcp.py:99: RuntimeWarning: overflow encountered in double_scalars\n",
      "  unfav = comb(x.shape[1]-1, deg_r) * comb(x.shape[0]-1, deg_c)\n",
      "/home/jorge/Documents/2019/Camerino/ASSP2019/multipartite-weighted-link-prediction/linkpred/b_lcp.py:98: RuntimeWarning: overflow encountered in double_scalars\n",
      "  fav = comb(x.shape[1]-1, deg_r-1) * comb(x.shape[0]-1, deg_c-1)\n",
      "/home/jorge/Documents/2019/Camerino/ASSP2019/multipartite-weighted-link-prediction/linkpred/b_lcp.py:99: RuntimeWarning: overflow encountered in double_scalars\n",
      "  unfav = comb(x.shape[1]-1, deg_r) * comb(x.shape[0]-1, deg_c)\n",
      "/home/jorge/Documents/2019/Camerino/ASSP2019/multipartite-weighted-link-prediction/linkpred/b_lcp.py:100: RuntimeWarning: divide by zero encountered in log2\n",
      "  cpi[i] = np.log2(fav / (fav + unfav))\n"
     ]
    },
    {
     "name": "stdout",
     "output_type": "stream",
     "text": [
      "Computing bipartite LCP\n"
     ]
    },
    {
     "name": "stderr",
     "output_type": "stream",
     "text": [
      "/home/jorge/Documents/2019/Camerino/ASSP2019/multipartite-weighted-link-prediction/linkpred/b_lcp.py:100: RuntimeWarning: invalid value encountered in double_scalars\n",
      "  cpi[i] = np.log2(fav / (fav + unfav))\n",
      "/home/jorge/Documents/2019/Camerino/ASSP2019/multipartite-weighted-link-prediction/linkpred/b_lcp.py:100: RuntimeWarning: divide by zero encountered in log2\n",
      "  cpi[i] = np.log2(fav / (fav + unfav))\n",
      "/home/jorge/Documents/2019/Camerino/ASSP2019/multipartite-weighted-link-prediction/linkpred/b_lcp.py:99: RuntimeWarning: overflow encountered in double_scalars\n",
      "  unfav = comb(x.shape[1]-1, deg_r) * comb(x.shape[0]-1, deg_c)\n",
      "/home/jorge/Documents/2019/Camerino/ASSP2019/multipartite-weighted-link-prediction/linkpred/b_lcp.py:100: RuntimeWarning: divide by zero encountered in log2\n",
      "  cpi[i] = np.log2(fav / (fav + unfav))\n",
      "/home/jorge/Documents/2019/Camerino/ASSP2019/multipartite-weighted-link-prediction/linkpred/b_lcp.py:99: RuntimeWarning: overflow encountered in double_scalars\n",
      "  unfav = comb(x.shape[1]-1, deg_r) * comb(x.shape[0]-1, deg_c)\n",
      "/home/jorge/Documents/2019/Camerino/ASSP2019/multipartite-weighted-link-prediction/linkpred/b_lcp.py:100: RuntimeWarning: divide by zero encountered in log2\n",
      "  cpi[i] = np.log2(fav / (fav + unfav))\n",
      "/home/jorge/Documents/2019/Camerino/ASSP2019/multipartite-weighted-link-prediction/linkpred/b_lcp.py:100: RuntimeWarning: divide by zero encountered in log2\n",
      "  cpi[i] = np.log2(fav / (fav + unfav))\n",
      "/home/jorge/Documents/2019/Camerino/ASSP2019/multipartite-weighted-link-prediction/linkpred/b_lcp.py:98: RuntimeWarning: overflow encountered in double_scalars\n",
      "  fav = comb(x.shape[1]-1, deg_r-1) * comb(x.shape[0]-1, deg_c-1)\n",
      "/home/jorge/Documents/2019/Camerino/ASSP2019/multipartite-weighted-link-prediction/linkpred/b_lcp.py:98: RuntimeWarning: overflow encountered in double_scalars\n",
      "  fav = comb(x.shape[1]-1, deg_r-1) * comb(x.shape[0]-1, deg_c-1)\n",
      "/home/jorge/Documents/2019/Camerino/ASSP2019/multipartite-weighted-link-prediction/linkpred/b_lcp.py:100: RuntimeWarning: divide by zero encountered in log2\n",
      "  cpi[i] = np.log2(fav / (fav + unfav))\n",
      "/home/jorge/Documents/2019/Camerino/ASSP2019/multipartite-weighted-link-prediction/linkpred/b_lcp.py:100: RuntimeWarning: divide by zero encountered in log2\n",
      "  cpi[i] = np.log2(fav / (fav + unfav))\n"
     ]
    },
    {
     "name": "stdout",
     "output_type": "stream",
     "text": [
      "100.00 %, 13.03 minutes\n",
      "... Trial 78 done\n",
      "Trial 77 starting...\n",
      "Computing bipartite LCP\n",
      "100.00 %, 13.15 minutes\n",
      "... Trial 79 done\n",
      "100.00 %, 13.21 minutes\n",
      "... Trial 76 done\n",
      "100.00 %, 13.22 minutes\n",
      "... Trial 70 done\n",
      "100.00 %, 13.23 minutes\n",
      "... Trial 75 done\n",
      "Trial 71 starting...\n",
      "Computing bipartite LCP\n",
      "100.00 %, 13.33 minutes\n",
      "... Trial 72 done\n",
      "100.00 %, 13.34 minutes\n",
      "... Trial 73 done\n",
      "100.00 %, 13.40 minutes\n",
      "... Trial 74 done\n",
      "100.00 %, 4.59 minutes\n",
      "... Trial 77 done\n",
      "100.00 %, 4.48 minutes\n",
      "... Trial 71 done\n",
      "Trial 80 starting...\n",
      "Trial 81 starting...\n",
      "Trial 85 starting...\n",
      "Trial 83 starting...\n",
      "Trial 86 starting...\n",
      "Trial 84 starting...\n",
      "Trial 88 starting...\n",
      "Computing bipartite LCP\n",
      "Trial 89 starting...\n"
     ]
    },
    {
     "name": "stderr",
     "output_type": "stream",
     "text": [
      "/home/jorge/Documents/2019/Camerino/ASSP2019/multipartite-weighted-link-prediction/linkpred/b_lcp.py:100: RuntimeWarning: invalid value encountered in double_scalars\n",
      "  cpi[i] = np.log2(fav / (fav + unfav))\n"
     ]
    },
    {
     "name": "stdout",
     "output_type": "stream",
     "text": [
      "Computing bipartite LCP\n"
     ]
    },
    {
     "name": "stderr",
     "output_type": "stream",
     "text": [
      "/home/jorge/Documents/2019/Camerino/ASSP2019/multipartite-weighted-link-prediction/linkpred/b_lcp.py:100: RuntimeWarning: invalid value encountered in double_scalars\n",
      "  cpi[i] = np.log2(fav / (fav + unfav))\n"
     ]
    },
    {
     "name": "stdout",
     "output_type": "stream",
     "text": [
      "Computing bipartite LCP\n"
     ]
    },
    {
     "name": "stderr",
     "output_type": "stream",
     "text": [
      "/home/jorge/Documents/2019/Camerino/ASSP2019/multipartite-weighted-link-prediction/linkpred/b_lcp.py:100: RuntimeWarning: invalid value encountered in double_scalars\n",
      "  cpi[i] = np.log2(fav / (fav + unfav))\n",
      "/home/jorge/Documents/2019/Camerino/ASSP2019/multipartite-weighted-link-prediction/linkpred/b_lcp.py:98: RuntimeWarning: overflow encountered in double_scalars\n",
      "  fav = comb(x.shape[1]-1, deg_r-1) * comb(x.shape[0]-1, deg_c-1)\n",
      "/home/jorge/Documents/2019/Camerino/ASSP2019/multipartite-weighted-link-prediction/linkpred/b_lcp.py:99: RuntimeWarning: overflow encountered in double_scalars\n",
      "  unfav = comb(x.shape[1]-1, deg_r) * comb(x.shape[0]-1, deg_c)\n",
      "/home/jorge/Documents/2019/Camerino/ASSP2019/multipartite-weighted-link-prediction/linkpred/b_lcp.py:98: RuntimeWarning: overflow encountered in double_scalars\n",
      "  fav = comb(x.shape[1]-1, deg_r-1) * comb(x.shape[0]-1, deg_c-1)\n",
      "/home/jorge/Documents/2019/Camerino/ASSP2019/multipartite-weighted-link-prediction/linkpred/b_lcp.py:99: RuntimeWarning: overflow encountered in double_scalars\n",
      "  unfav = comb(x.shape[1]-1, deg_r) * comb(x.shape[0]-1, deg_c)\n",
      "/home/jorge/Documents/2019/Camerino/ASSP2019/multipartite-weighted-link-prediction/linkpred/b_lcp.py:99: RuntimeWarning: overflow encountered in double_scalars\n",
      "  unfav = comb(x.shape[1]-1, deg_r) * comb(x.shape[0]-1, deg_c)\n",
      "/home/jorge/Documents/2019/Camerino/ASSP2019/multipartite-weighted-link-prediction/linkpred/b_lcp.py:100: RuntimeWarning: divide by zero encountered in log2\n",
      "  cpi[i] = np.log2(fav / (fav + unfav))\n",
      "/home/jorge/Documents/2019/Camerino/ASSP2019/multipartite-weighted-link-prediction/linkpred/b_lcp.py:98: RuntimeWarning: overflow encountered in double_scalars\n",
      "  fav = comb(x.shape[1]-1, deg_r-1) * comb(x.shape[0]-1, deg_c-1)\n"
     ]
    },
    {
     "name": "stdout",
     "output_type": "stream",
     "text": [
      "Computing bipartite LCP\n"
     ]
    },
    {
     "name": "stderr",
     "output_type": "stream",
     "text": [
      "/home/jorge/Documents/2019/Camerino/ASSP2019/multipartite-weighted-link-prediction/linkpred/b_lcp.py:100: RuntimeWarning: invalid value encountered in double_scalars\n",
      "  cpi[i] = np.log2(fav / (fav + unfav))\n",
      "/home/jorge/Documents/2019/Camerino/ASSP2019/multipartite-weighted-link-prediction/linkpred/b_lcp.py:100: RuntimeWarning: divide by zero encountered in log2\n",
      "  cpi[i] = np.log2(fav / (fav + unfav))\n",
      "/home/jorge/Documents/2019/Camerino/ASSP2019/multipartite-weighted-link-prediction/linkpred/b_lcp.py:98: RuntimeWarning: overflow encountered in double_scalars\n",
      "  fav = comb(x.shape[1]-1, deg_r-1) * comb(x.shape[0]-1, deg_c-1)\n"
     ]
    },
    {
     "name": "stdout",
     "output_type": "stream",
     "text": [
      "Computing bipartite LCP\n"
     ]
    },
    {
     "name": "stderr",
     "output_type": "stream",
     "text": [
      "/home/jorge/Documents/2019/Camerino/ASSP2019/multipartite-weighted-link-prediction/linkpred/b_lcp.py:99: RuntimeWarning: overflow encountered in double_scalars\n",
      "  unfav = comb(x.shape[1]-1, deg_r) * comb(x.shape[0]-1, deg_c)\n"
     ]
    },
    {
     "name": "stdout",
     "output_type": "stream",
     "text": [
      "Computing bipartite LCP\n"
     ]
    },
    {
     "name": "stderr",
     "output_type": "stream",
     "text": [
      "/home/jorge/Documents/2019/Camerino/ASSP2019/multipartite-weighted-link-prediction/linkpred/b_lcp.py:100: RuntimeWarning: invalid value encountered in double_scalars\n",
      "  cpi[i] = np.log2(fav / (fav + unfav))\n",
      "/home/jorge/Documents/2019/Camerino/ASSP2019/multipartite-weighted-link-prediction/linkpred/b_lcp.py:100: RuntimeWarning: invalid value encountered in double_scalars\n",
      "  cpi[i] = np.log2(fav / (fav + unfav))\n",
      "/home/jorge/Documents/2019/Camerino/ASSP2019/multipartite-weighted-link-prediction/linkpred/b_lcp.py:99: RuntimeWarning: overflow encountered in double_scalars\n",
      "  unfav = comb(x.shape[1]-1, deg_r) * comb(x.shape[0]-1, deg_c)\n",
      "/home/jorge/Documents/2019/Camerino/ASSP2019/multipartite-weighted-link-prediction/linkpred/b_lcp.py:100: RuntimeWarning: divide by zero encountered in log2\n",
      "  cpi[i] = np.log2(fav / (fav + unfav))\n",
      "/home/jorge/Documents/2019/Camerino/ASSP2019/multipartite-weighted-link-prediction/linkpred/b_lcp.py:98: RuntimeWarning: overflow encountered in double_scalars\n",
      "  fav = comb(x.shape[1]-1, deg_r-1) * comb(x.shape[0]-1, deg_c-1)\n",
      "/home/jorge/Documents/2019/Camerino/ASSP2019/multipartite-weighted-link-prediction/linkpred/b_lcp.py:100: RuntimeWarning: divide by zero encountered in log2\n",
      "  cpi[i] = np.log2(fav / (fav + unfav))\n"
     ]
    },
    {
     "name": "stdout",
     "output_type": "stream",
     "text": [
      "Computing bipartite LCP\n",
      "Computing bipartite LCP\n"
     ]
    },
    {
     "name": "stderr",
     "output_type": "stream",
     "text": [
      "/home/jorge/Documents/2019/Camerino/ASSP2019/multipartite-weighted-link-prediction/linkpred/b_lcp.py:100: RuntimeWarning: invalid value encountered in double_scalars\n",
      "  cpi[i] = np.log2(fav / (fav + unfav))\n",
      "/home/jorge/Documents/2019/Camerino/ASSP2019/multipartite-weighted-link-prediction/linkpred/b_lcp.py:100: RuntimeWarning: invalid value encountered in double_scalars\n",
      "  cpi[i] = np.log2(fav / (fav + unfav))\n",
      "/home/jorge/Documents/2019/Camerino/ASSP2019/multipartite-weighted-link-prediction/linkpred/b_lcp.py:98: RuntimeWarning: overflow encountered in double_scalars\n",
      "  fav = comb(x.shape[1]-1, deg_r-1) * comb(x.shape[0]-1, deg_c-1)\n",
      "/home/jorge/Documents/2019/Camerino/ASSP2019/multipartite-weighted-link-prediction/linkpred/b_lcp.py:99: RuntimeWarning: overflow encountered in double_scalars\n",
      "  unfav = comb(x.shape[1]-1, deg_r) * comb(x.shape[0]-1, deg_c)\n",
      "/home/jorge/Documents/2019/Camerino/ASSP2019/multipartite-weighted-link-prediction/linkpred/b_lcp.py:99: RuntimeWarning: overflow encountered in double_scalars\n",
      "  unfav = comb(x.shape[1]-1, deg_r) * comb(x.shape[0]-1, deg_c)\n",
      "/home/jorge/Documents/2019/Camerino/ASSP2019/multipartite-weighted-link-prediction/linkpred/b_lcp.py:100: RuntimeWarning: divide by zero encountered in log2\n",
      "  cpi[i] = np.log2(fav / (fav + unfav))\n",
      "/home/jorge/Documents/2019/Camerino/ASSP2019/multipartite-weighted-link-prediction/linkpred/b_lcp.py:98: RuntimeWarning: overflow encountered in double_scalars\n",
      "  fav = comb(x.shape[1]-1, deg_r-1) * comb(x.shape[0]-1, deg_c-1)\n",
      "/home/jorge/Documents/2019/Camerino/ASSP2019/multipartite-weighted-link-prediction/linkpred/b_lcp.py:98: RuntimeWarning: overflow encountered in double_scalars\n",
      "  fav = comb(x.shape[1]-1, deg_r-1) * comb(x.shape[0]-1, deg_c-1)\n",
      "/home/jorge/Documents/2019/Camerino/ASSP2019/multipartite-weighted-link-prediction/linkpred/b_lcp.py:99: RuntimeWarning: overflow encountered in double_scalars\n",
      "  unfav = comb(x.shape[1]-1, deg_r) * comb(x.shape[0]-1, deg_c)\n",
      "/home/jorge/Documents/2019/Camerino/ASSP2019/multipartite-weighted-link-prediction/linkpred/b_lcp.py:100: RuntimeWarning: divide by zero encountered in log2\n",
      "  cpi[i] = np.log2(fav / (fav + unfav))\n",
      "/home/jorge/Documents/2019/Camerino/ASSP2019/multipartite-weighted-link-prediction/linkpred/b_lcp.py:100: RuntimeWarning: divide by zero encountered in log2\n",
      "  cpi[i] = np.log2(fav / (fav + unfav))\n",
      "/home/jorge/Documents/2019/Camerino/ASSP2019/multipartite-weighted-link-prediction/linkpred/b_lcp.py:100: RuntimeWarning: divide by zero encountered in log2\n",
      "  cpi[i] = np.log2(fav / (fav + unfav))\n"
     ]
    },
    {
     "name": "stdout",
     "output_type": "stream",
     "text": [
      "100.00 %, 13.19 minutes\n",
      "... Trial 86 done\n",
      "100.00 %, 13.25 minutes\n",
      "... Trial 80 done\n",
      "100.00 %, 13.25 minutes\n",
      "... Trial 83 done\n",
      "100.00 %, 13.27 minutes\n",
      "... Trial 85 done\n",
      "100.00 %, 13.28 minutes\n",
      "... Trial 88 done\n",
      "Trial 82 starting...\n",
      "Computing bipartite LCP\n",
      "Trial 87 starting...\n",
      "Computing bipartite LCP\n",
      "100.00 %, 13.34 minutes\n",
      "... Trial 89 done\n",
      "100.00 %, 13.42 minutes\n",
      "... Trial 81 done\n",
      "100.00 %, 13.41 minutes\n",
      "... Trial 84 done\n",
      "100.00 %, 4.45 minutes\n",
      "... Trial 87 done\n",
      "100.00 %, 4.51 minutes\n",
      "... Trial 82 done\n",
      "Trial 95 starting...\n",
      "Trial 97 starting...\n",
      "Trial 90 starting...\n",
      "Trial 98 starting...\n",
      "Trial 99 starting...\n",
      "Trial 91 starting...\n",
      "Computing bipartite LCP\n"
     ]
    },
    {
     "name": "stderr",
     "output_type": "stream",
     "text": [
      "/home/jorge/Documents/2019/Camerino/ASSP2019/multipartite-weighted-link-prediction/linkpred/b_lcp.py:100: RuntimeWarning: invalid value encountered in double_scalars\n",
      "  cpi[i] = np.log2(fav / (fav + unfav))\n"
     ]
    },
    {
     "name": "stdout",
     "output_type": "stream",
     "text": [
      "Trial 92 starting...\n"
     ]
    },
    {
     "name": "stderr",
     "output_type": "stream",
     "text": [
      "/home/jorge/Documents/2019/Camerino/ASSP2019/multipartite-weighted-link-prediction/linkpred/b_lcp.py:98: RuntimeWarning: overflow encountered in double_scalars\n",
      "  fav = comb(x.shape[1]-1, deg_r-1) * comb(x.shape[0]-1, deg_c-1)\n",
      "/home/jorge/Documents/2019/Camerino/ASSP2019/multipartite-weighted-link-prediction/linkpred/b_lcp.py:99: RuntimeWarning: overflow encountered in double_scalars\n",
      "  unfav = comb(x.shape[1]-1, deg_r) * comb(x.shape[0]-1, deg_c)\n"
     ]
    },
    {
     "name": "stdout",
     "output_type": "stream",
     "text": [
      "Trial 94 starting...\n",
      "Computing bipartite LCP\n"
     ]
    },
    {
     "name": "stderr",
     "output_type": "stream",
     "text": [
      "/home/jorge/Documents/2019/Camerino/ASSP2019/multipartite-weighted-link-prediction/linkpred/b_lcp.py:100: RuntimeWarning: invalid value encountered in double_scalars\n",
      "  cpi[i] = np.log2(fav / (fav + unfav))\n"
     ]
    },
    {
     "name": "stdout",
     "output_type": "stream",
     "text": [
      "Computing bipartite LCP\n"
     ]
    },
    {
     "name": "stderr",
     "output_type": "stream",
     "text": [
      "/home/jorge/Documents/2019/Camerino/ASSP2019/multipartite-weighted-link-prediction/linkpred/b_lcp.py:100: RuntimeWarning: invalid value encountered in double_scalars\n",
      "  cpi[i] = np.log2(fav / (fav + unfav))\n"
     ]
    },
    {
     "name": "stdout",
     "output_type": "stream",
     "text": [
      "Computing bipartite LCP\n"
     ]
    },
    {
     "name": "stderr",
     "output_type": "stream",
     "text": [
      "/home/jorge/Documents/2019/Camerino/ASSP2019/multipartite-weighted-link-prediction/linkpred/b_lcp.py:98: RuntimeWarning: overflow encountered in double_scalars\n",
      "  fav = comb(x.shape[1]-1, deg_r-1) * comb(x.shape[0]-1, deg_c-1)\n",
      "/home/jorge/Documents/2019/Camerino/ASSP2019/multipartite-weighted-link-prediction/linkpred/b_lcp.py:100: RuntimeWarning: invalid value encountered in double_scalars\n",
      "  cpi[i] = np.log2(fav / (fav + unfav))\n",
      "/home/jorge/Documents/2019/Camerino/ASSP2019/multipartite-weighted-link-prediction/linkpred/b_lcp.py:99: RuntimeWarning: overflow encountered in double_scalars\n",
      "  unfav = comb(x.shape[1]-1, deg_r) * comb(x.shape[0]-1, deg_c)\n",
      "/home/jorge/Documents/2019/Camerino/ASSP2019/multipartite-weighted-link-prediction/linkpred/b_lcp.py:98: RuntimeWarning: overflow encountered in double_scalars\n",
      "  fav = comb(x.shape[1]-1, deg_r-1) * comb(x.shape[0]-1, deg_c-1)\n",
      "/home/jorge/Documents/2019/Camerino/ASSP2019/multipartite-weighted-link-prediction/linkpred/b_lcp.py:100: RuntimeWarning: divide by zero encountered in log2\n",
      "  cpi[i] = np.log2(fav / (fav + unfav))\n",
      "/home/jorge/Documents/2019/Camerino/ASSP2019/multipartite-weighted-link-prediction/linkpred/b_lcp.py:99: RuntimeWarning: overflow encountered in double_scalars\n",
      "  unfav = comb(x.shape[1]-1, deg_r) * comb(x.shape[0]-1, deg_c)\n"
     ]
    },
    {
     "name": "stdout",
     "output_type": "stream",
     "text": [
      "Computing bipartite LCP\n"
     ]
    },
    {
     "name": "stderr",
     "output_type": "stream",
     "text": [
      "/home/jorge/Documents/2019/Camerino/ASSP2019/multipartite-weighted-link-prediction/linkpred/b_lcp.py:100: RuntimeWarning: invalid value encountered in double_scalars\n",
      "  cpi[i] = np.log2(fav / (fav + unfav))\n"
     ]
    },
    {
     "name": "stdout",
     "output_type": "stream",
     "text": [
      "Computing bipartite LCP\n"
     ]
    },
    {
     "name": "stderr",
     "output_type": "stream",
     "text": [
      "/home/jorge/Documents/2019/Camerino/ASSP2019/multipartite-weighted-link-prediction/linkpred/b_lcp.py:100: RuntimeWarning: invalid value encountered in double_scalars\n",
      "  cpi[i] = np.log2(fav / (fav + unfav))\n",
      "/home/jorge/Documents/2019/Camerino/ASSP2019/multipartite-weighted-link-prediction/linkpred/b_lcp.py:98: RuntimeWarning: overflow encountered in double_scalars\n",
      "  fav = comb(x.shape[1]-1, deg_r-1) * comb(x.shape[0]-1, deg_c-1)\n",
      "/home/jorge/Documents/2019/Camerino/ASSP2019/multipartite-weighted-link-prediction/linkpred/b_lcp.py:99: RuntimeWarning: overflow encountered in double_scalars\n",
      "  unfav = comb(x.shape[1]-1, deg_r) * comb(x.shape[0]-1, deg_c)\n"
     ]
    },
    {
     "name": "stdout",
     "output_type": "stream",
     "text": [
      "Computing bipartite LCP\n"
     ]
    },
    {
     "name": "stderr",
     "output_type": "stream",
     "text": [
      "/home/jorge/Documents/2019/Camerino/ASSP2019/multipartite-weighted-link-prediction/linkpred/b_lcp.py:98: RuntimeWarning: overflow encountered in double_scalars\n",
      "  fav = comb(x.shape[1]-1, deg_r-1) * comb(x.shape[0]-1, deg_c-1)\n",
      "/home/jorge/Documents/2019/Camerino/ASSP2019/multipartite-weighted-link-prediction/linkpred/b_lcp.py:99: RuntimeWarning: overflow encountered in double_scalars\n",
      "  unfav = comb(x.shape[1]-1, deg_r) * comb(x.shape[0]-1, deg_c)\n",
      "/home/jorge/Documents/2019/Camerino/ASSP2019/multipartite-weighted-link-prediction/linkpred/b_lcp.py:100: RuntimeWarning: invalid value encountered in double_scalars\n",
      "  cpi[i] = np.log2(fav / (fav + unfav))\n",
      "/home/jorge/Documents/2019/Camerino/ASSP2019/multipartite-weighted-link-prediction/linkpred/b_lcp.py:98: RuntimeWarning: overflow encountered in double_scalars\n",
      "  fav = comb(x.shape[1]-1, deg_r-1) * comb(x.shape[0]-1, deg_c-1)\n",
      "/home/jorge/Documents/2019/Camerino/ASSP2019/multipartite-weighted-link-prediction/linkpred/b_lcp.py:99: RuntimeWarning: overflow encountered in double_scalars\n",
      "  unfav = comb(x.shape[1]-1, deg_r) * comb(x.shape[0]-1, deg_c)\n",
      "/home/jorge/Documents/2019/Camerino/ASSP2019/multipartite-weighted-link-prediction/linkpred/b_lcp.py:100: RuntimeWarning: divide by zero encountered in log2\n",
      "  cpi[i] = np.log2(fav / (fav + unfav))\n",
      "/home/jorge/Documents/2019/Camerino/ASSP2019/multipartite-weighted-link-prediction/linkpred/b_lcp.py:98: RuntimeWarning: overflow encountered in double_scalars\n",
      "  fav = comb(x.shape[1]-1, deg_r-1) * comb(x.shape[0]-1, deg_c-1)\n",
      "/home/jorge/Documents/2019/Camerino/ASSP2019/multipartite-weighted-link-prediction/linkpred/b_lcp.py:99: RuntimeWarning: overflow encountered in double_scalars\n",
      "  unfav = comb(x.shape[1]-1, deg_r) * comb(x.shape[0]-1, deg_c)\n",
      "/home/jorge/Documents/2019/Camerino/ASSP2019/multipartite-weighted-link-prediction/linkpred/b_lcp.py:100: RuntimeWarning: divide by zero encountered in log2\n",
      "  cpi[i] = np.log2(fav / (fav + unfav))\n"
     ]
    },
    {
     "name": "stdout",
     "output_type": "stream",
     "text": [
      "Computing bipartite LCP\n"
     ]
    },
    {
     "name": "stderr",
     "output_type": "stream",
     "text": [
      "/home/jorge/Documents/2019/Camerino/ASSP2019/multipartite-weighted-link-prediction/linkpred/b_lcp.py:100: RuntimeWarning: invalid value encountered in double_scalars\n",
      "  cpi[i] = np.log2(fav / (fav + unfav))\n",
      "/home/jorge/Documents/2019/Camerino/ASSP2019/multipartite-weighted-link-prediction/linkpred/b_lcp.py:98: RuntimeWarning: overflow encountered in double_scalars\n",
      "  fav = comb(x.shape[1]-1, deg_r-1) * comb(x.shape[0]-1, deg_c-1)\n",
      "/home/jorge/Documents/2019/Camerino/ASSP2019/multipartite-weighted-link-prediction/linkpred/b_lcp.py:99: RuntimeWarning: overflow encountered in double_scalars\n",
      "  unfav = comb(x.shape[1]-1, deg_r) * comb(x.shape[0]-1, deg_c)\n",
      "/home/jorge/Documents/2019/Camerino/ASSP2019/multipartite-weighted-link-prediction/linkpred/b_lcp.py:100: RuntimeWarning: divide by zero encountered in log2\n",
      "  cpi[i] = np.log2(fav / (fav + unfav))\n",
      "/home/jorge/Documents/2019/Camerino/ASSP2019/multipartite-weighted-link-prediction/linkpred/b_lcp.py:100: RuntimeWarning: divide by zero encountered in log2\n",
      "  cpi[i] = np.log2(fav / (fav + unfav))\n",
      "/home/jorge/Documents/2019/Camerino/ASSP2019/multipartite-weighted-link-prediction/linkpred/b_lcp.py:100: RuntimeWarning: divide by zero encountered in log2\n",
      "  cpi[i] = np.log2(fav / (fav + unfav))\n",
      "/home/jorge/Documents/2019/Camerino/ASSP2019/multipartite-weighted-link-prediction/linkpred/b_lcp.py:100: RuntimeWarning: divide by zero encountered in log2\n",
      "  cpi[i] = np.log2(fav / (fav + unfav))\n",
      "/home/jorge/Documents/2019/Camerino/ASSP2019/multipartite-weighted-link-prediction/linkpred/b_lcp.py:100: RuntimeWarning: divide by zero encountered in log2\n",
      "  cpi[i] = np.log2(fav / (fav + unfav))\n"
     ]
    },
    {
     "name": "stdout",
     "output_type": "stream",
     "text": [
      "100.00 %, 12.77 minutes\n",
      "... Trial 99 done\n",
      "Trial 93 starting...\n",
      "100.00 %, 12.87 minutes\n",
      "... Trial 91 done\n",
      "Computing bipartite LCP\n",
      "100.00 %, 12.94 minutes\n",
      "... Trial 97 done\n",
      "100.00 %, 12.96 minutes\n",
      "... Trial 98 done\n",
      "Trial 96 starting...\n",
      "Computing bipartite LCP\n",
      "100.00 %, 12.98 minutes\n",
      "... Trial 94 done\n",
      "100.00 %, 13.03 minutes\n",
      "... Trial 90 done\n",
      "100.00 %, 13.05 minutes\n",
      "... Trial 95 done\n",
      "100.00 %, 13.07 minutes\n",
      "... Trial 92 done\n",
      "100.00 %, 4.29 minutes\n",
      "... Trial 93 done\n",
      "100.00 %, 4.19 minutes\n",
      "... Trial 96 done\n"
     ]
    }
   ],
   "source": [
    "loops = 100\n",
    "sub_loops = int(np.sqrt(loops))\n",
    "#C = np.zeros((loops, res[0][0][0].shape[0], res[0][0][0].shape[1]))\n",
    "#C = np.zeros((loops, 11, 3741081))\n",
    "\n",
    "k = 0\n",
    "for i in range(sub_loops):\n",
    "    l = []\n",
    "    kk = k\n",
    "    for j in range(sub_loops):\n",
    "        l.append(k)\n",
    "        k += 1\n",
    "    lazy = [delayed(func)(kkk) for kkk in range(kk, k)]\n",
    "    res = dask.compute(lazy, scheduler='processes')\n",
    "    for r, rr in enumerate(res[0]):\n",
    "        A = rr[0]\n",
    "        np.save('{}_array'.format(l[r]), A)\n",
    "        del A\n",
    "        #C[l[r],:,:] = np.load('{}_array.npy'.format(l[r]))"
   ]
  },
  {
   "cell_type": "code",
   "execution_count": 31,
   "metadata": {},
   "outputs": [],
   "source": [
    "#C.shape"
   ]
  },
  {
   "cell_type": "code",
   "execution_count": 40,
   "metadata": {},
   "outputs": [],
   "source": [
    "ttt = 0\n",
    "B = np.load('{}_array.npy'.format(ttt))"
   ]
  },
  {
   "cell_type": "code",
   "execution_count": 41,
   "metadata": {},
   "outputs": [
    {
     "data": {
      "text/plain": [
       "<11x3741081 sparse matrix of type '<class 'numpy.float64'>'\n",
       "\twith 4806703 stored elements in Compressed Sparse Row format>"
      ]
     },
     "execution_count": 41,
     "metadata": {},
     "output_type": "execute_result"
    }
   ],
   "source": [
    "from scipy.sparse import csr_matrix\n",
    "S = csr_matrix(B)\n",
    "S"
   ]
  },
  {
   "cell_type": "code",
   "execution_count": 42,
   "metadata": {},
   "outputs": [],
   "source": [
    "import scipy.sparse\n",
    "scipy.sparse.save_npz('sparse_test.npz', S) # weight reduced in more than 90%!"
   ]
  },
  {
   "cell_type": "code",
   "execution_count": 47,
   "metadata": {},
   "outputs": [
    {
     "data": {
      "text/plain": [
       "(11, 3741081)"
      ]
     },
     "execution_count": 47,
     "metadata": {},
     "output_type": "execute_result"
    }
   ],
   "source": [
    "B.shape"
   ]
  },
  {
   "cell_type": "code",
   "execution_count": null,
   "metadata": {},
   "outputs": [],
   "source": []
  },
  {
   "cell_type": "code",
   "execution_count": 51,
   "metadata": {},
   "outputs": [],
   "source": [
    "def cross_val_from_npy(metric, loops=1, raw_output=False, verbose=True, plot=False):\n",
    "    if raw_output:\n",
    "        scores_list = []\n",
    "        true_list = []\n",
    "    else:\n",
    "        results = np.zeros((loops, 2))\n",
    "\n",
    "    for i in range(loops):\n",
    "        if verbose:\n",
    "            print('Trial {} of {}'.format(i+1, loops))\n",
    "        x_ = delete_links(bmat_recipe_ingr, links_to_del_recipe_ingr[i])\n",
    "        missing = np.argwhere(x_ == 0)\n",
    "        true = bmat_recipe_ingr[missing[:,0], missing[:,1]]\n",
    "        \n",
    "        specific_array = np.load('{}_array.npy'.format(i))\n",
    "        score = specific_array[metrics_list.index(metric)]\n",
    "        \n",
    "        if raw_output:\n",
    "            scores_list.append(score)\n",
    "            true_list.append(true)\n",
    "        else:\n",
    "            results[i] = b_val.evaluate_predictions(true, score, plot=plot)\n",
    "        \n",
    "    if raw_output:\n",
    "        return true_list, scores_list\n",
    "    else:\n",
    "        return results"
   ]
  },
  {
   "cell_type": "code",
   "execution_count": 92,
   "metadata": {},
   "outputs": [
    {
     "data": {
      "text/plain": [
       "array([[0.08077459, 0.98405654],\n",
       "       [0.08759522, 0.98478481]])"
      ]
     },
     "execution_count": 92,
     "metadata": {},
     "output_type": "execute_result"
    }
   ],
   "source": [
    "r['cn']"
   ]
  },
  {
   "cell_type": "code",
   "execution_count": 71,
   "metadata": {
    "scrolled": true
   },
   "outputs": [
    {
     "name": "stdout",
     "output_type": "stream",
     "text": [
      "Trial 1 of 100\n",
      "Trial 2 of 100\n",
      "Trial 3 of 100\n",
      "Trial 4 of 100\n",
      "Trial 5 of 100\n",
      "Trial 6 of 100\n",
      "Trial 7 of 100\n",
      "Trial 8 of 100\n",
      "Trial 9 of 100\n",
      "Trial 10 of 100\n",
      "Trial 11 of 100\n",
      "Trial 12 of 100\n",
      "Trial 13 of 100\n",
      "Trial 14 of 100\n",
      "Trial 15 of 100\n",
      "Trial 16 of 100\n",
      "Trial 17 of 100\n",
      "Trial 18 of 100\n",
      "Trial 19 of 100\n",
      "Trial 20 of 100\n",
      "Trial 21 of 100\n",
      "Trial 22 of 100\n",
      "Trial 23 of 100\n",
      "Trial 24 of 100\n",
      "Trial 25 of 100\n",
      "Trial 26 of 100\n",
      "Trial 27 of 100\n",
      "Trial 28 of 100\n",
      "Trial 29 of 100\n",
      "Trial 30 of 100\n",
      "Trial 31 of 100\n",
      "Trial 32 of 100\n",
      "Trial 33 of 100\n",
      "Trial 34 of 100\n",
      "Trial 35 of 100\n",
      "Trial 36 of 100\n",
      "Trial 37 of 100\n",
      "Trial 38 of 100\n",
      "Trial 39 of 100\n",
      "Trial 40 of 100\n",
      "Trial 41 of 100\n",
      "Trial 42 of 100\n",
      "Trial 43 of 100\n",
      "Trial 44 of 100\n",
      "Trial 45 of 100\n",
      "Trial 46 of 100\n",
      "Trial 47 of 100\n",
      "Trial 48 of 100\n",
      "Trial 49 of 100\n",
      "Trial 50 of 100\n",
      "Trial 51 of 100\n",
      "Trial 52 of 100\n",
      "Trial 53 of 100\n",
      "Trial 54 of 100\n",
      "Trial 55 of 100\n",
      "Trial 56 of 100\n",
      "Trial 57 of 100\n",
      "Trial 58 of 100\n",
      "Trial 59 of 100\n",
      "Trial 60 of 100\n",
      "Trial 61 of 100\n",
      "Trial 62 of 100\n",
      "Trial 63 of 100\n",
      "Trial 64 of 100\n",
      "Trial 65 of 100\n",
      "Trial 66 of 100\n",
      "Trial 67 of 100\n",
      "Trial 68 of 100\n",
      "Trial 69 of 100\n",
      "Trial 70 of 100\n",
      "Trial 71 of 100\n",
      "Trial 72 of 100\n",
      "Trial 73 of 100\n",
      "Trial 74 of 100\n",
      "Trial 75 of 100\n",
      "Trial 76 of 100\n",
      "Trial 77 of 100\n",
      "Trial 78 of 100\n",
      "Trial 79 of 100\n",
      "Trial 80 of 100\n",
      "Trial 81 of 100\n",
      "Trial 82 of 100\n",
      "Trial 83 of 100\n",
      "Trial 84 of 100\n",
      "Trial 85 of 100\n",
      "Trial 86 of 100\n",
      "Trial 87 of 100\n",
      "Trial 88 of 100\n",
      "Trial 89 of 100\n",
      "Trial 90 of 100\n",
      "Trial 91 of 100\n",
      "Trial 92 of 100\n",
      "Trial 93 of 100\n",
      "Trial 94 of 100\n",
      "Trial 95 of 100\n",
      "Trial 96 of 100\n",
      "Trial 97 of 100\n",
      "Trial 98 of 100\n",
      "Trial 99 of 100\n",
      "Trial 100 of 100\n",
      "[0.08462885 0.98546902]\n",
      "[0.00494468 0.00094167]\n"
     ]
    }
   ],
   "source": [
    "r_cn = cross_val_from_npy('cn', loops=100, verbose=verbose)\n",
    "print(np.mean(r_cn, axis=0))\n",
    "print(np.std(r_cn, axis=0))"
   ]
  },
  {
   "cell_type": "code",
   "execution_count": 72,
   "metadata": {},
   "outputs": [
    {
     "data": {
      "text/plain": [
       "array([[0.08077459, 0.98405654],\n",
       "       [0.08759522, 0.98478481],\n",
       "       [0.08334568, 0.98485239],\n",
       "       [0.08452083, 0.98463139],\n",
       "       [0.08821127, 0.98696737],\n",
       "       [0.08915611, 0.9858666 ],\n",
       "       [0.08388223, 0.98519156],\n",
       "       [0.0812355 , 0.98432618],\n",
       "       [0.08120783, 0.984684  ],\n",
       "       [0.09201036, 0.98512981],\n",
       "       [0.0782359 , 0.98595436],\n",
       "       [0.08248386, 0.9856547 ],\n",
       "       [0.08763319, 0.98569111],\n",
       "       [0.08157093, 0.98497916],\n",
       "       [0.07521312, 0.98421525],\n",
       "       [0.0913982 , 0.98604033],\n",
       "       [0.08661671, 0.9862178 ],\n",
       "       [0.07985223, 0.98386374],\n",
       "       [0.08595207, 0.9853543 ],\n",
       "       [0.08390146, 0.9858009 ],\n",
       "       [0.07680637, 0.98589851],\n",
       "       [0.08356604, 0.9870865 ],\n",
       "       [0.07190807, 0.98457234],\n",
       "       [0.08056781, 0.98474761],\n",
       "       [0.08890249, 0.98458146],\n",
       "       [0.07953057, 0.98540848],\n",
       "       [0.08263866, 0.98600378],\n",
       "       [0.09251243, 0.98699781],\n",
       "       [0.07946509, 0.98603431],\n",
       "       [0.08258982, 0.98421947],\n",
       "       [0.09441127, 0.98527446],\n",
       "       [0.09344832, 0.98746885],\n",
       "       [0.08545899, 0.98647948],\n",
       "       [0.08060928, 0.9844647 ],\n",
       "       [0.0791502 , 0.98501702],\n",
       "       [0.08237426, 0.98411011],\n",
       "       [0.08772962, 0.98595397],\n",
       "       [0.08675881, 0.98639169],\n",
       "       [0.08739514, 0.98576646],\n",
       "       [0.08502636, 0.98513623],\n",
       "       [0.08307226, 0.9838213 ],\n",
       "       [0.08280169, 0.98388423],\n",
       "       [0.07683548, 0.985314  ],\n",
       "       [0.08454878, 0.98554895],\n",
       "       [0.08394342, 0.98615479],\n",
       "       [0.08905955, 0.98472687],\n",
       "       [0.08666147, 0.985909  ],\n",
       "       [0.08321245, 0.98523025],\n",
       "       [0.09180362, 0.98745219],\n",
       "       [0.08960796, 0.98565716],\n",
       "       [0.08788174, 0.98525414],\n",
       "       [0.08699459, 0.98684178],\n",
       "       [0.08240473, 0.98637154],\n",
       "       [0.07866403, 0.98599762],\n",
       "       [0.07798818, 0.98565694],\n",
       "       [0.0810136 , 0.98586197],\n",
       "       [0.08179383, 0.98714179],\n",
       "       [0.08605282, 0.98556944],\n",
       "       [0.08296732, 0.98591387],\n",
       "       [0.08501662, 0.98673339],\n",
       "       [0.07852215, 0.98544766],\n",
       "       [0.07239878, 0.98370577],\n",
       "       [0.08995017, 0.98436349],\n",
       "       [0.08907866, 0.98503969],\n",
       "       [0.08848474, 0.9853002 ],\n",
       "       [0.08372453, 0.98686237],\n",
       "       [0.08606485, 0.98606881],\n",
       "       [0.09164051, 0.9847198 ],\n",
       "       [0.08145574, 0.98452134],\n",
       "       [0.07889111, 0.98577022],\n",
       "       [0.08455702, 0.98709232],\n",
       "       [0.08649364, 0.98480563],\n",
       "       [0.08703651, 0.98420455],\n",
       "       [0.07877788, 0.98568068],\n",
       "       [0.09083637, 0.98534541],\n",
       "       [0.09411454, 0.9842568 ],\n",
       "       [0.08797157, 0.98500581],\n",
       "       [0.08169215, 0.98516512],\n",
       "       [0.08333599, 0.98436163],\n",
       "       [0.08653764, 0.9868062 ],\n",
       "       [0.09058075, 0.98619154],\n",
       "       [0.08723966, 0.98383686],\n",
       "       [0.08001683, 0.986822  ],\n",
       "       [0.08541893, 0.98674944],\n",
       "       [0.09589017, 0.98500157],\n",
       "       [0.0801748 , 0.9845891 ],\n",
       "       [0.08819896, 0.98530871],\n",
       "       [0.07854189, 0.98362983],\n",
       "       [0.08358081, 0.985537  ],\n",
       "       [0.07779153, 0.98654512],\n",
       "       [0.0863817 , 0.98575017],\n",
       "       [0.08538382, 0.98516997],\n",
       "       [0.08468841, 0.98488466],\n",
       "       [0.08915365, 0.98629262],\n",
       "       [0.09532035, 0.98508461],\n",
       "       [0.07604679, 0.98549879],\n",
       "       [0.08596573, 0.9867103 ],\n",
       "       [0.0941709 , 0.98756765],\n",
       "       [0.08412364, 0.98539167],\n",
       "       [0.08467971, 0.98490021]])"
      ]
     },
     "execution_count": 72,
     "metadata": {},
     "output_type": "execute_result"
    }
   ],
   "source": [
    "r_cn"
   ]
  },
  {
   "cell_type": "code",
   "execution_count": null,
   "metadata": {},
   "outputs": [],
   "source": []
  },
  {
   "cell_type": "code",
   "execution_count": null,
   "metadata": {
    "scrolled": true
   },
   "outputs": [
    {
     "name": "stdout",
     "output_type": "stream",
     "text": [
      "Calculating r_lcl\n",
      "Trial 1 of 100\n",
      "Trial 2 of 100\n",
      "Trial 3 of 100\n",
      "Trial 4 of 100\n",
      "Trial 5 of 100\n",
      "Trial 6 of 100\n",
      "Trial 7 of 100\n",
      "Trial 8 of 100\n",
      "Trial 9 of 100\n",
      "Trial 10 of 100\n",
      "Trial 11 of 100\n",
      "Trial 12 of 100\n",
      "Trial 13 of 100\n",
      "Trial 14 of 100\n",
      "Trial 15 of 100\n",
      "Trial 16 of 100\n",
      "Trial 17 of 100\n",
      "Trial 18 of 100\n",
      "Trial 19 of 100\n",
      "Trial 20 of 100\n",
      "Trial 21 of 100\n",
      "Trial 22 of 100\n",
      "Trial 23 of 100\n",
      "Trial 24 of 100\n",
      "Trial 25 of 100\n",
      "Trial 26 of 100\n",
      "Trial 27 of 100\n",
      "Trial 28 of 100\n",
      "Trial 29 of 100\n",
      "Trial 30 of 100\n",
      "Trial 31 of 100\n",
      "Trial 32 of 100\n",
      "Trial 33 of 100\n",
      "Trial 34 of 100\n",
      "Trial 35 of 100\n",
      "Trial 36 of 100\n",
      "Trial 37 of 100\n",
      "Trial 38 of 100\n",
      "Trial 39 of 100\n",
      "Trial 40 of 100\n",
      "Trial 41 of 100\n",
      "Trial 42 of 100\n",
      "Trial 43 of 100\n",
      "Trial 44 of 100\n",
      "Trial 45 of 100\n",
      "Trial 46 of 100\n",
      "Trial 47 of 100\n",
      "Trial 48 of 100\n",
      "Trial 49 of 100\n",
      "Trial 50 of 100\n",
      "Trial 51 of 100\n",
      "Trial 52 of 100\n",
      "Trial 53 of 100\n",
      "Trial 54 of 100\n",
      "Trial 55 of 100\n",
      "Trial 56 of 100\n",
      "Trial 57 of 100\n",
      "Trial 58 of 100\n",
      "Trial 59 of 100\n",
      "Trial 60 of 100\n",
      "Trial 61 of 100\n",
      "Trial 62 of 100\n",
      "Trial 63 of 100\n",
      "Trial 64 of 100\n",
      "Trial 65 of 100\n",
      "Trial 66 of 100\n",
      "Trial 67 of 100\n",
      "Trial 68 of 100\n",
      "Trial 69 of 100\n",
      "Trial 70 of 100\n",
      "Trial 71 of 100\n",
      "Trial 72 of 100\n",
      "Trial 73 of 100\n",
      "Trial 74 of 100\n",
      "Trial 75 of 100\n",
      "Trial 76 of 100\n",
      "Trial 77 of 100\n",
      "Trial 78 of 100\n",
      "Trial 79 of 100\n",
      "Trial 80 of 100\n",
      "Trial 81 of 100\n",
      "Trial 82 of 100\n",
      "Trial 83 of 100\n",
      "Trial 84 of 100\n",
      "Trial 85 of 100\n",
      "Trial 86 of 100\n",
      "Trial 87 of 100\n",
      "Trial 88 of 100\n",
      "Trial 89 of 100\n",
      "Trial 90 of 100\n",
      "Trial 91 of 100\n",
      "Trial 92 of 100\n",
      "Trial 93 of 100\n",
      "Trial 94 of 100\n",
      "Trial 95 of 100\n",
      "Trial 96 of 100\n",
      "Trial 97 of 100\n",
      "Trial 98 of 100\n",
      "Trial 99 of 100\n",
      "Trial 100 of 100\n",
      "Mean [0.09373383 0.98589051]\n",
      "Stdv [0.00519649 0.00094409]\n",
      "Ended r_lcl\n",
      "\n",
      "Calculating r_cn\n",
      "Trial 1 of 100\n",
      "Trial 2 of 100\n",
      "Trial 3 of 100\n",
      "Trial 4 of 100\n",
      "Trial 5 of 100\n",
      "Trial 6 of 100\n",
      "Trial 7 of 100\n",
      "Trial 8 of 100\n",
      "Trial 9 of 100\n",
      "Trial 10 of 100\n",
      "Trial 11 of 100\n",
      "Trial 12 of 100\n",
      "Trial 13 of 100\n",
      "Trial 14 of 100\n",
      "Trial 15 of 100\n",
      "Trial 16 of 100\n",
      "Trial 17 of 100\n",
      "Trial 18 of 100\n",
      "Trial 19 of 100\n",
      "Trial 20 of 100\n",
      "Trial 21 of 100\n",
      "Trial 22 of 100\n",
      "Trial 23 of 100\n",
      "Trial 24 of 100\n",
      "Trial 25 of 100\n",
      "Trial 26 of 100\n",
      "Trial 27 of 100\n",
      "Trial 28 of 100\n",
      "Trial 29 of 100\n",
      "Trial 30 of 100\n",
      "Trial 31 of 100\n",
      "Trial 32 of 100\n",
      "Trial 33 of 100\n",
      "Trial 34 of 100\n",
      "Trial 35 of 100\n",
      "Trial 36 of 100\n",
      "Trial 37 of 100\n",
      "Trial 38 of 100\n",
      "Trial 39 of 100\n",
      "Trial 40 of 100\n",
      "Trial 41 of 100\n",
      "Trial 42 of 100\n",
      "Trial 43 of 100\n",
      "Trial 44 of 100\n",
      "Trial 45 of 100\n",
      "Trial 46 of 100\n",
      "Trial 47 of 100\n",
      "Trial 48 of 100\n",
      "Trial 49 of 100\n",
      "Trial 50 of 100\n",
      "Trial 51 of 100\n",
      "Trial 52 of 100\n",
      "Trial 53 of 100\n",
      "Trial 54 of 100\n",
      "Trial 55 of 100\n",
      "Trial 56 of 100\n",
      "Trial 57 of 100\n",
      "Trial 58 of 100\n",
      "Trial 59 of 100\n",
      "Trial 60 of 100\n",
      "Trial 61 of 100\n",
      "Trial 62 of 100\n",
      "Trial 63 of 100\n",
      "Trial 64 of 100\n",
      "Trial 65 of 100\n",
      "Trial 66 of 100\n",
      "Trial 67 of 100\n",
      "Trial 68 of 100\n",
      "Trial 69 of 100\n",
      "Trial 70 of 100\n",
      "Trial 71 of 100\n",
      "Trial 72 of 100\n",
      "Trial 73 of 100\n",
      "Trial 74 of 100\n",
      "Trial 75 of 100\n",
      "Trial 76 of 100\n",
      "Trial 77 of 100\n",
      "Trial 78 of 100\n",
      "Trial 79 of 100\n",
      "Trial 80 of 100\n",
      "Trial 81 of 100\n",
      "Trial 82 of 100\n",
      "Trial 83 of 100\n",
      "Trial 84 of 100\n",
      "Trial 85 of 100\n",
      "Trial 86 of 100\n",
      "Trial 87 of 100\n",
      "Trial 88 of 100\n",
      "Trial 89 of 100\n",
      "Trial 90 of 100\n",
      "Trial 91 of 100\n",
      "Trial 92 of 100\n",
      "Trial 93 of 100\n",
      "Trial 94 of 100\n",
      "Trial 95 of 100\n",
      "Trial 96 of 100\n",
      "Trial 97 of 100\n",
      "Trial 98 of 100\n",
      "Trial 99 of 100\n",
      "Trial 100 of 100\n",
      "Mean [0.08462885 0.98546902]\n",
      "Stdv [0.00494468 0.00094167]\n",
      "Ended r_cn\n",
      "\n",
      "Calculating r_jc\n",
      "Trial 1 of 100\n",
      "Trial 2 of 100\n",
      "Trial 3 of 100\n",
      "Trial 4 of 100\n",
      "Trial 5 of 100\n",
      "Trial 6 of 100\n",
      "Trial 7 of 100\n",
      "Trial 8 of 100\n",
      "Trial 9 of 100\n",
      "Trial 10 of 100\n",
      "Trial 11 of 100\n",
      "Trial 12 of 100\n",
      "Trial 13 of 100\n",
      "Trial 14 of 100\n",
      "Trial 15 of 100\n",
      "Trial 16 of 100\n",
      "Trial 17 of 100\n",
      "Trial 18 of 100\n",
      "Trial 19 of 100\n",
      "Trial 20 of 100\n",
      "Trial 21 of 100\n",
      "Trial 22 of 100\n",
      "Trial 23 of 100\n",
      "Trial 24 of 100\n",
      "Trial 25 of 100\n",
      "Trial 26 of 100\n",
      "Trial 27 of 100\n",
      "Trial 28 of 100\n",
      "Trial 29 of 100\n",
      "Trial 30 of 100\n",
      "Trial 31 of 100\n",
      "Trial 32 of 100\n",
      "Trial 33 of 100\n",
      "Trial 34 of 100\n",
      "Trial 35 of 100\n",
      "Trial 36 of 100\n",
      "Trial 37 of 100\n",
      "Trial 38 of 100\n",
      "Trial 39 of 100\n",
      "Trial 40 of 100\n",
      "Trial 41 of 100\n",
      "Trial 42 of 100\n",
      "Trial 43 of 100\n",
      "Trial 44 of 100\n",
      "Trial 45 of 100\n",
      "Trial 46 of 100\n",
      "Trial 47 of 100\n",
      "Trial 48 of 100\n",
      "Trial 49 of 100\n",
      "Trial 50 of 100\n",
      "Trial 51 of 100\n",
      "Trial 52 of 100\n",
      "Trial 53 of 100\n",
      "Trial 54 of 100\n",
      "Trial 55 of 100\n",
      "Trial 56 of 100\n",
      "Trial 57 of 100\n",
      "Trial 58 of 100\n",
      "Trial 59 of 100\n",
      "Trial 60 of 100\n",
      "Trial 61 of 100\n",
      "Trial 62 of 100\n",
      "Trial 63 of 100\n",
      "Trial 64 of 100\n",
      "Trial 65 of 100\n",
      "Trial 66 of 100\n",
      "Trial 67 of 100\n",
      "Trial 68 of 100\n",
      "Trial 69 of 100\n",
      "Trial 70 of 100\n",
      "Trial 71 of 100\n",
      "Trial 72 of 100\n",
      "Trial 73 of 100\n",
      "Trial 74 of 100\n",
      "Trial 75 of 100\n",
      "Trial 76 of 100\n",
      "Trial 77 of 100\n",
      "Trial 78 of 100\n",
      "Trial 79 of 100\n",
      "Trial 80 of 100\n",
      "Trial 81 of 100\n",
      "Trial 82 of 100\n",
      "Trial 83 of 100\n",
      "Trial 84 of 100\n",
      "Trial 85 of 100\n",
      "Trial 86 of 100\n",
      "Trial 87 of 100\n",
      "Trial 88 of 100\n",
      "Trial 89 of 100\n",
      "Trial 90 of 100\n",
      "Trial 91 of 100\n",
      "Trial 92 of 100\n",
      "Trial 93 of 100\n",
      "Trial 94 of 100\n",
      "Trial 95 of 100\n",
      "Trial 96 of 100\n",
      "Trial 97 of 100\n",
      "Trial 98 of 100\n",
      "Trial 99 of 100\n",
      "Trial 100 of 100\n",
      "Mean [0.02716659 0.97287613]\n",
      "Stdv [0.00178548 0.00097384]\n",
      "Ended r_jc\n",
      "\n",
      "Calculating r_car\n",
      "Trial 1 of 100\n",
      "Trial 2 of 100\n",
      "Trial 3 of 100\n",
      "Trial 4 of 100\n",
      "Trial 5 of 100\n",
      "Trial 6 of 100\n",
      "Trial 7 of 100\n",
      "Trial 8 of 100\n",
      "Trial 9 of 100\n",
      "Trial 10 of 100\n",
      "Trial 11 of 100\n",
      "Trial 12 of 100\n",
      "Trial 13 of 100\n",
      "Trial 14 of 100\n",
      "Trial 15 of 100\n",
      "Trial 16 of 100\n",
      "Trial 17 of 100\n",
      "Trial 18 of 100\n",
      "Trial 19 of 100\n",
      "Trial 20 of 100\n",
      "Trial 21 of 100\n",
      "Trial 22 of 100\n",
      "Trial 23 of 100\n",
      "Trial 24 of 100\n",
      "Trial 25 of 100\n",
      "Trial 26 of 100\n",
      "Trial 27 of 100\n",
      "Trial 28 of 100\n",
      "Trial 29 of 100\n",
      "Trial 30 of 100\n",
      "Trial 31 of 100\n",
      "Trial 32 of 100\n",
      "Trial 33 of 100\n",
      "Trial 34 of 100\n",
      "Trial 35 of 100\n",
      "Trial 36 of 100\n",
      "Trial 37 of 100\n",
      "Trial 38 of 100\n",
      "Trial 39 of 100\n",
      "Trial 40 of 100\n",
      "Trial 41 of 100\n",
      "Trial 42 of 100\n",
      "Trial 43 of 100\n",
      "Trial 44 of 100\n",
      "Trial 45 of 100\n",
      "Trial 46 of 100\n",
      "Trial 47 of 100\n",
      "Trial 48 of 100\n",
      "Trial 49 of 100\n",
      "Trial 50 of 100\n",
      "Trial 51 of 100\n",
      "Trial 52 of 100\n",
      "Trial 53 of 100\n",
      "Trial 54 of 100\n",
      "Trial 55 of 100\n",
      "Trial 56 of 100\n",
      "Trial 57 of 100\n",
      "Trial 58 of 100\n",
      "Trial 59 of 100\n",
      "Trial 60 of 100\n",
      "Trial 61 of 100\n",
      "Trial 62 of 100\n",
      "Trial 63 of 100\n",
      "Trial 64 of 100\n",
      "Trial 65 of 100\n",
      "Trial 66 of 100\n",
      "Trial 67 of 100\n",
      "Trial 68 of 100\n",
      "Trial 69 of 100\n",
      "Trial 70 of 100\n",
      "Trial 71 of 100\n",
      "Trial 72 of 100\n",
      "Trial 73 of 100\n",
      "Trial 74 of 100\n",
      "Trial 75 of 100\n",
      "Trial 76 of 100\n",
      "Trial 77 of 100\n",
      "Trial 78 of 100\n",
      "Trial 79 of 100\n",
      "Trial 80 of 100\n",
      "Trial 81 of 100\n",
      "Trial 82 of 100\n",
      "Trial 83 of 100\n",
      "Trial 84 of 100\n",
      "Trial 85 of 100\n",
      "Trial 86 of 100\n",
      "Trial 87 of 100\n",
      "Trial 88 of 100\n",
      "Trial 89 of 100\n",
      "Trial 90 of 100\n",
      "Trial 91 of 100\n",
      "Trial 92 of 100\n",
      "Trial 93 of 100\n",
      "Trial 94 of 100\n",
      "Trial 95 of 100\n",
      "Trial 96 of 100\n",
      "Trial 97 of 100\n",
      "Trial 98 of 100\n",
      "Trial 99 of 100\n",
      "Trial 100 of 100\n",
      "Mean [0.09689015 0.98582843]\n",
      "Stdv [0.00546956 0.00094277]\n",
      "Ended r_car\n",
      "\n",
      "Calculating r_cjc\n",
      "Trial 1 of 100\n",
      "Trial 2 of 100\n",
      "Trial 3 of 100\n",
      "Trial 4 of 100\n",
      "Trial 5 of 100\n",
      "Trial 6 of 100\n",
      "Trial 7 of 100\n",
      "Trial 8 of 100\n",
      "Trial 9 of 100\n",
      "Trial 10 of 100\n",
      "Trial 11 of 100\n",
      "Trial 12 of 100\n",
      "Trial 13 of 100\n",
      "Trial 14 of 100\n",
      "Trial 15 of 100\n",
      "Trial 16 of 100\n",
      "Trial 17 of 100\n",
      "Trial 18 of 100\n",
      "Trial 19 of 100\n",
      "Trial 20 of 100\n",
      "Trial 21 of 100\n",
      "Trial 22 of 100\n",
      "Trial 23 of 100\n",
      "Trial 24 of 100\n",
      "Trial 25 of 100\n",
      "Trial 26 of 100\n",
      "Trial 27 of 100\n",
      "Trial 28 of 100\n",
      "Trial 29 of 100\n",
      "Trial 30 of 100\n",
      "Trial 31 of 100\n",
      "Trial 32 of 100\n",
      "Trial 33 of 100\n",
      "Trial 34 of 100\n",
      "Trial 35 of 100\n",
      "Trial 36 of 100\n",
      "Trial 37 of 100\n",
      "Trial 38 of 100\n",
      "Trial 39 of 100\n",
      "Trial 40 of 100\n",
      "Trial 41 of 100\n",
      "Trial 42 of 100\n",
      "Trial 43 of 100\n",
      "Trial 44 of 100\n",
      "Trial 45 of 100\n",
      "Trial 46 of 100\n",
      "Trial 47 of 100\n",
      "Trial 48 of 100\n",
      "Trial 49 of 100\n",
      "Trial 50 of 100\n",
      "Trial 51 of 100\n",
      "Trial 52 of 100\n",
      "Trial 53 of 100\n",
      "Trial 54 of 100\n",
      "Trial 55 of 100\n",
      "Trial 56 of 100\n",
      "Trial 57 of 100\n",
      "Trial 58 of 100\n",
      "Trial 59 of 100\n",
      "Trial 60 of 100\n",
      "Trial 61 of 100\n",
      "Trial 62 of 100\n",
      "Trial 63 of 100\n",
      "Trial 64 of 100\n",
      "Trial 65 of 100\n",
      "Trial 66 of 100\n",
      "Trial 67 of 100\n",
      "Trial 68 of 100\n",
      "Trial 69 of 100\n",
      "Trial 70 of 100\n",
      "Trial 71 of 100\n",
      "Trial 72 of 100\n",
      "Trial 73 of 100\n",
      "Trial 74 of 100\n",
      "Trial 75 of 100\n",
      "Trial 76 of 100\n",
      "Trial 77 of 100\n",
      "Trial 78 of 100\n",
      "Trial 79 of 100\n",
      "Trial 80 of 100\n",
      "Trial 81 of 100\n",
      "Trial 82 of 100\n",
      "Trial 83 of 100\n",
      "Trial 84 of 100\n",
      "Trial 85 of 100\n",
      "Trial 86 of 100\n",
      "Trial 87 of 100\n",
      "Trial 88 of 100\n",
      "Trial 89 of 100\n",
      "Trial 90 of 100\n",
      "Trial 91 of 100\n",
      "Trial 92 of 100\n"
     ]
    },
    {
     "name": "stdout",
     "output_type": "stream",
     "text": [
      "Trial 93 of 100\n",
      "Trial 94 of 100\n",
      "Trial 95 of 100\n",
      "Trial 96 of 100\n",
      "Trial 97 of 100\n",
      "Trial 98 of 100\n",
      "Trial 99 of 100\n",
      "Trial 100 of 100\n",
      "Mean [0.09230254 0.98535752]\n",
      "Stdv [0.00515304 0.00096304]\n",
      "Ended r_cjc\n",
      "\n",
      "Calculating r_cpa\n",
      "Trial 1 of 100\n",
      "Trial 2 of 100\n",
      "Trial 3 of 100\n",
      "Trial 4 of 100\n",
      "Trial 5 of 100\n",
      "Trial 6 of 100\n",
      "Trial 7 of 100\n",
      "Trial 8 of 100\n",
      "Trial 9 of 100\n",
      "Trial 10 of 100\n",
      "Trial 11 of 100\n",
      "Trial 12 of 100\n",
      "Trial 13 of 100\n",
      "Trial 14 of 100\n",
      "Trial 15 of 100\n",
      "Trial 16 of 100\n",
      "Trial 17 of 100\n",
      "Trial 18 of 100\n",
      "Trial 19 of 100\n",
      "Trial 20 of 100\n",
      "Trial 21 of 100\n",
      "Trial 22 of 100\n",
      "Trial 23 of 100\n",
      "Trial 24 of 100\n",
      "Trial 25 of 100\n",
      "Trial 26 of 100\n",
      "Trial 27 of 100\n",
      "Trial 28 of 100\n",
      "Trial 29 of 100\n",
      "Trial 30 of 100\n",
      "Trial 31 of 100\n",
      "Trial 32 of 100\n",
      "Trial 33 of 100\n",
      "Trial 34 of 100\n",
      "Trial 35 of 100\n",
      "Trial 36 of 100\n",
      "Trial 37 of 100\n",
      "Trial 38 of 100\n",
      "Trial 39 of 100\n",
      "Trial 40 of 100\n",
      "Trial 41 of 100\n",
      "Trial 42 of 100\n",
      "Trial 43 of 100\n",
      "Trial 44 of 100\n",
      "Trial 45 of 100\n",
      "Trial 46 of 100\n",
      "Trial 47 of 100\n",
      "Trial 48 of 100\n",
      "Trial 49 of 100\n",
      "Trial 50 of 100\n",
      "Trial 51 of 100\n",
      "Trial 52 of 100\n",
      "Trial 53 of 100\n",
      "Trial 54 of 100\n",
      "Trial 55 of 100\n",
      "Trial 56 of 100\n",
      "Trial 57 of 100\n",
      "Trial 58 of 100\n",
      "Trial 59 of 100\n",
      "Trial 60 of 100\n",
      "Trial 61 of 100\n",
      "Trial 62 of 100\n",
      "Trial 63 of 100\n",
      "Trial 64 of 100\n",
      "Trial 65 of 100\n",
      "Trial 66 of 100\n",
      "Trial 67 of 100\n",
      "Trial 68 of 100\n",
      "Trial 69 of 100\n",
      "Trial 70 of 100\n",
      "Trial 71 of 100\n",
      "Trial 72 of 100\n",
      "Trial 73 of 100\n",
      "Trial 74 of 100\n",
      "Trial 75 of 100\n",
      "Trial 76 of 100\n",
      "Trial 77 of 100\n",
      "Trial 78 of 100\n",
      "Trial 79 of 100\n",
      "Trial 80 of 100\n",
      "Trial 81 of 100\n",
      "Trial 82 of 100\n",
      "Trial 83 of 100\n",
      "Trial 84 of 100\n",
      "Trial 85 of 100\n",
      "Trial 86 of 100\n",
      "Trial 87 of 100\n",
      "Trial 88 of 100\n",
      "Trial 89 of 100\n",
      "Trial 90 of 100\n",
      "Trial 91 of 100\n",
      "Trial 92 of 100\n",
      "Trial 93 of 100\n",
      "Trial 94 of 100\n",
      "Trial 95 of 100\n",
      "Trial 96 of 100\n",
      "Trial 97 of 100\n",
      "Trial 98 of 100\n",
      "Trial 99 of 100\n",
      "Trial 100 of 100\n",
      "Mean [0.09689336 0.98585844]\n",
      "Stdv [0.0054697  0.00094045]\n",
      "Ended r_cpa\n",
      "\n",
      "Calculating r_ra\n",
      "Trial 1 of 100\n",
      "Trial 2 of 100\n",
      "Trial 3 of 100\n",
      "Trial 4 of 100\n",
      "Trial 5 of 100\n",
      "Trial 6 of 100\n",
      "Trial 7 of 100\n",
      "Trial 8 of 100\n",
      "Trial 9 of 100\n",
      "Trial 10 of 100\n",
      "Trial 11 of 100\n",
      "Trial 12 of 100\n",
      "Trial 13 of 100\n",
      "Trial 14 of 100\n",
      "Trial 15 of 100\n",
      "Trial 16 of 100\n",
      "Trial 17 of 100\n",
      "Trial 18 of 100\n",
      "Trial 19 of 100\n",
      "Trial 20 of 100\n",
      "Trial 21 of 100\n",
      "Trial 22 of 100\n",
      "Trial 23 of 100\n",
      "Trial 24 of 100\n",
      "Trial 25 of 100\n",
      "Trial 26 of 100\n",
      "Trial 27 of 100\n",
      "Trial 28 of 100\n",
      "Trial 29 of 100\n",
      "Trial 30 of 100\n",
      "Trial 31 of 100\n",
      "Trial 32 of 100\n",
      "Trial 33 of 100\n",
      "Trial 34 of 100\n",
      "Trial 35 of 100\n",
      "Trial 36 of 100\n",
      "Trial 37 of 100\n",
      "Trial 38 of 100\n",
      "Trial 39 of 100\n",
      "Trial 40 of 100\n",
      "Trial 41 of 100\n",
      "Trial 42 of 100\n",
      "Trial 43 of 100\n",
      "Trial 44 of 100\n",
      "Trial 45 of 100\n",
      "Trial 46 of 100\n",
      "Trial 47 of 100\n",
      "Trial 48 of 100\n",
      "Trial 49 of 100\n",
      "Trial 50 of 100\n",
      "Trial 51 of 100\n",
      "Trial 52 of 100\n",
      "Trial 53 of 100\n",
      "Trial 54 of 100\n",
      "Trial 55 of 100\n",
      "Trial 56 of 100\n",
      "Trial 57 of 100\n",
      "Trial 58 of 100\n",
      "Trial 59 of 100\n",
      "Trial 60 of 100\n",
      "Trial 61 of 100\n",
      "Trial 62 of 100\n",
      "Trial 63 of 100\n",
      "Trial 64 of 100\n",
      "Trial 65 of 100\n",
      "Trial 66 of 100\n",
      "Trial 67 of 100\n",
      "Trial 68 of 100\n",
      "Trial 69 of 100\n",
      "Trial 70 of 100\n",
      "Trial 71 of 100\n",
      "Trial 72 of 100\n",
      "Trial 73 of 100\n",
      "Trial 74 of 100\n",
      "Trial 75 of 100\n",
      "Trial 76 of 100\n",
      "Trial 77 of 100\n",
      "Trial 78 of 100\n",
      "Trial 79 of 100\n",
      "Trial 80 of 100\n",
      "Trial 81 of 100\n",
      "Trial 82 of 100\n",
      "Trial 83 of 100\n",
      "Trial 84 of 100\n",
      "Trial 85 of 100\n",
      "Trial 86 of 100\n",
      "Trial 87 of 100\n",
      "Trial 88 of 100\n",
      "Trial 89 of 100\n",
      "Trial 90 of 100\n",
      "Trial 91 of 100\n",
      "Trial 92 of 100\n",
      "Trial 93 of 100\n",
      "Trial 94 of 100\n",
      "Trial 95 of 100\n",
      "Trial 96 of 100\n",
      "Trial 97 of 100\n",
      "Trial 98 of 100\n",
      "Trial 99 of 100\n",
      "Trial 100 of 100\n",
      "Mean [0.0885058  0.98588013]\n",
      "Stdv [0.00522766 0.0009222 ]\n",
      "Ended r_ra\n",
      "\n",
      "Calculating r_aa\n",
      "Trial 1 of 100\n",
      "Trial 2 of 100\n",
      "Trial 3 of 100\n",
      "Trial 4 of 100\n",
      "Trial 5 of 100\n",
      "Trial 6 of 100\n",
      "Trial 7 of 100\n",
      "Trial 8 of 100\n",
      "Trial 9 of 100\n",
      "Trial 10 of 100\n",
      "Trial 11 of 100\n",
      "Trial 12 of 100\n",
      "Trial 13 of 100\n",
      "Trial 14 of 100\n",
      "Trial 15 of 100\n",
      "Trial 16 of 100\n",
      "Trial 17 of 100\n",
      "Trial 18 of 100\n",
      "Trial 19 of 100\n",
      "Trial 20 of 100\n",
      "Trial 21 of 100\n",
      "Trial 22 of 100\n",
      "Trial 23 of 100\n",
      "Trial 24 of 100\n",
      "Trial 25 of 100\n",
      "Trial 26 of 100\n",
      "Trial 27 of 100\n",
      "Trial 28 of 100\n",
      "Trial 29 of 100\n",
      "Trial 30 of 100\n",
      "Trial 31 of 100\n",
      "Trial 32 of 100\n",
      "Trial 33 of 100\n",
      "Trial 34 of 100\n",
      "Trial 35 of 100\n",
      "Trial 36 of 100\n",
      "Trial 37 of 100\n",
      "Trial 38 of 100\n",
      "Trial 39 of 100\n",
      "Trial 40 of 100\n",
      "Trial 41 of 100\n",
      "Trial 42 of 100\n",
      "Trial 43 of 100\n",
      "Trial 44 of 100\n",
      "Trial 45 of 100\n",
      "Trial 46 of 100\n",
      "Trial 47 of 100\n",
      "Trial 48 of 100\n",
      "Trial 49 of 100\n",
      "Trial 50 of 100\n",
      "Trial 51 of 100\n",
      "Trial 52 of 100\n",
      "Trial 53 of 100\n",
      "Trial 54 of 100\n",
      "Trial 55 of 100\n",
      "Trial 56 of 100\n",
      "Trial 57 of 100\n",
      "Trial 58 of 100\n",
      "Trial 59 of 100\n",
      "Trial 60 of 100\n",
      "Trial 61 of 100\n",
      "Trial 62 of 100\n",
      "Trial 63 of 100\n",
      "Trial 64 of 100\n",
      "Trial 65 of 100\n",
      "Trial 66 of 100\n",
      "Trial 67 of 100\n",
      "Trial 68 of 100\n",
      "Trial 69 of 100\n",
      "Trial 70 of 100\n",
      "Trial 71 of 100\n",
      "Trial 72 of 100\n",
      "Trial 73 of 100\n",
      "Trial 74 of 100\n",
      "Trial 75 of 100\n",
      "Trial 76 of 100\n",
      "Trial 77 of 100\n",
      "Trial 78 of 100\n",
      "Trial 79 of 100\n",
      "Trial 80 of 100\n",
      "Trial 81 of 100\n",
      "Trial 82 of 100\n",
      "Trial 83 of 100\n",
      "Trial 84 of 100\n",
      "Trial 85 of 100\n",
      "Trial 86 of 100\n",
      "Trial 87 of 100\n",
      "Trial 88 of 100\n",
      "Trial 89 of 100\n",
      "Trial 90 of 100\n",
      "Trial 91 of 100\n",
      "Trial 92 of 100\n",
      "Trial 93 of 100\n",
      "Trial 94 of 100\n",
      "Trial 95 of 100\n",
      "Trial 96 of 100\n",
      "Trial 97 of 100\n",
      "Trial 98 of 100\n",
      "Trial 99 of 100\n",
      "Trial 100 of 100\n",
      "Mean [0.08667762 0.98576768]\n",
      "Stdv [0.00510298 0.00092973]\n",
      "Ended r_aa\n",
      "\n",
      "Calculating r_cra\n",
      "Trial 1 of 100\n",
      "Trial 2 of 100\n",
      "Trial 3 of 100\n",
      "Trial 4 of 100\n",
      "Trial 5 of 100\n",
      "Trial 6 of 100\n",
      "Trial 7 of 100\n",
      "Trial 8 of 100\n",
      "Trial 9 of 100\n",
      "Trial 10 of 100\n",
      "Trial 11 of 100\n",
      "Trial 12 of 100\n",
      "Trial 13 of 100\n",
      "Trial 14 of 100\n",
      "Trial 15 of 100\n",
      "Trial 16 of 100\n",
      "Trial 17 of 100\n",
      "Trial 18 of 100\n",
      "Trial 19 of 100\n",
      "Trial 20 of 100\n",
      "Trial 21 of 100\n",
      "Trial 22 of 100\n",
      "Trial 23 of 100\n",
      "Trial 24 of 100\n",
      "Trial 25 of 100\n",
      "Trial 26 of 100\n",
      "Trial 27 of 100\n",
      "Trial 28 of 100\n",
      "Trial 29 of 100\n",
      "Trial 30 of 100\n",
      "Trial 31 of 100\n",
      "Trial 32 of 100\n",
      "Trial 33 of 100\n",
      "Trial 34 of 100\n",
      "Trial 35 of 100\n",
      "Trial 36 of 100\n",
      "Trial 37 of 100\n",
      "Trial 38 of 100\n",
      "Trial 39 of 100\n",
      "Trial 40 of 100\n",
      "Trial 41 of 100\n",
      "Trial 42 of 100\n",
      "Trial 43 of 100\n",
      "Trial 44 of 100\n",
      "Trial 45 of 100\n",
      "Trial 46 of 100\n",
      "Trial 47 of 100\n",
      "Trial 48 of 100\n",
      "Trial 49 of 100\n",
      "Trial 50 of 100\n",
      "Trial 51 of 100\n",
      "Trial 52 of 100\n",
      "Trial 53 of 100\n",
      "Trial 54 of 100\n",
      "Trial 55 of 100\n",
      "Trial 56 of 100\n",
      "Trial 57 of 100\n",
      "Trial 58 of 100\n",
      "Trial 59 of 100\n",
      "Trial 60 of 100\n",
      "Trial 61 of 100\n",
      "Trial 62 of 100\n",
      "Trial 63 of 100\n",
      "Trial 64 of 100\n",
      "Trial 65 of 100\n",
      "Trial 66 of 100\n",
      "Trial 67 of 100\n",
      "Trial 68 of 100\n",
      "Trial 69 of 100\n",
      "Trial 70 of 100\n",
      "Trial 71 of 100\n",
      "Trial 72 of 100\n",
      "Trial 73 of 100\n",
      "Trial 74 of 100\n",
      "Trial 75 of 100\n",
      "Trial 76 of 100\n",
      "Trial 77 of 100\n",
      "Trial 78 of 100\n",
      "Trial 79 of 100\n",
      "Trial 80 of 100\n",
      "Trial 81 of 100\n",
      "Trial 82 of 100\n",
      "Trial 83 of 100\n",
      "Trial 84 of 100\n",
      "Trial 85 of 100\n",
      "Trial 86 of 100\n",
      "Trial 87 of 100\n",
      "Trial 88 of 100\n",
      "Trial 89 of 100\n",
      "Trial 90 of 100\n",
      "Trial 91 of 100\n",
      "Trial 92 of 100\n",
      "Trial 93 of 100\n",
      "Trial 94 of 100\n",
      "Trial 95 of 100\n",
      "Trial 96 of 100\n",
      "Trial 97 of 100\n",
      "Trial 98 of 100\n",
      "Trial 99 of 100\n",
      "Trial 100 of 100\n",
      "Mean [0.09509339 0.98659116]\n",
      "Stdv [0.00525969 0.00092863]\n",
      "Ended r_cra\n",
      "\n",
      "Calculating r_caa\n",
      "Trial 1 of 100\n",
      "Trial 2 of 100\n",
      "Trial 3 of 100\n",
      "Trial 4 of 100\n",
      "Trial 5 of 100\n",
      "Trial 6 of 100\n",
      "Trial 7 of 100\n",
      "Trial 8 of 100\n",
      "Trial 9 of 100\n",
      "Trial 10 of 100\n",
      "Trial 11 of 100\n",
      "Trial 12 of 100\n",
      "Trial 13 of 100\n",
      "Trial 14 of 100\n",
      "Trial 15 of 100\n",
      "Trial 16 of 100\n",
      "Trial 17 of 100\n",
      "Trial 18 of 100\n",
      "Trial 19 of 100\n",
      "Trial 20 of 100\n",
      "Trial 21 of 100\n",
      "Trial 22 of 100\n",
      "Trial 23 of 100\n",
      "Trial 24 of 100\n",
      "Trial 25 of 100\n",
      "Trial 26 of 100\n",
      "Trial 27 of 100\n",
      "Trial 28 of 100\n",
      "Trial 29 of 100\n",
      "Trial 30 of 100\n",
      "Trial 31 of 100\n",
      "Trial 32 of 100\n",
      "Trial 33 of 100\n",
      "Trial 34 of 100\n",
      "Trial 35 of 100\n",
      "Trial 36 of 100\n",
      "Trial 37 of 100\n",
      "Trial 38 of 100\n",
      "Trial 39 of 100\n"
     ]
    }
   ],
   "source": [
    "metrics_list = ['lcl', 'cn', 'jc', 'car', 'cjc', 'cpa', 'ra', 'aa', 'cra', 'caa', 'cpi']\n",
    "\n",
    "r = {}\n",
    "for m in metrics_list:\n",
    "    print('Calculating r_{}'.format(m))\n",
    "    r[m] = cross_val_from_npy(m, loops=100, verbose=verbose)\n",
    "    #print(r[m])\n",
    "    print('Mean', np.mean(r[m], axis=0))\n",
    "    print('Stdv', np.std(r[m], axis=0))\n",
    "    print('Ended r_{}\\n'.format(m))"
   ]
  },
  {
   "cell_type": "code",
   "execution_count": null,
   "metadata": {},
   "outputs": [],
   "source": []
  },
  {
   "cell_type": "code",
   "execution_count": null,
   "metadata": {},
   "outputs": [],
   "source": []
  },
  {
   "cell_type": "code",
   "execution_count": null,
   "metadata": {},
   "outputs": [],
   "source": []
  },
  {
   "cell_type": "code",
   "execution_count": null,
   "metadata": {},
   "outputs": [],
   "source": []
  },
  {
   "cell_type": "code",
   "execution_count": null,
   "metadata": {},
   "outputs": [],
   "source": [
    "# JC\n",
    "r = b_val.cross_val(b_lcp.bipartite_lcp_single, bmat_recipe_ingr, links_to_del_recipe_ingr, \n",
    "                    *('jc',), mode='lcp', loops=loops, verbose=verbose, plot=plot)\n",
    "print(np.mean(r, axis=0))\n",
    "print(np.std(r, axis=0))"
   ]
  },
  {
   "cell_type": "code",
   "execution_count": null,
   "metadata": {},
   "outputs": [],
   "source": [
    "# CJC\n",
    "r = b_val.cross_val(b_lcp.bipartite_lcp_single, bmat_recipe_ingr, links_to_del_recipe_ingr, \n",
    "                    *('cjc',), mode='lcp', loops=loops, verbose=verbose, plot=plot)\n",
    "print(np.mean(r, axis=0))\n",
    "print(np.std(r, axis=0))"
   ]
  },
  {
   "cell_type": "code",
   "execution_count": null,
   "metadata": {},
   "outputs": [],
   "source": [
    "# CRA\n",
    "r = b_val.cross_val(b_lcp.bipartite_lcp_single, bmat_recipe_ingr, links_to_del_recipe_ingr, \n",
    "                    *('cra',), mode='lcp', loops=loops, verbose=verbose, plot=plot)\n",
    "print(np.mean(r, axis=0))\n",
    "print(np.std(r, axis=0))"
   ]
  },
  {
   "cell_type": "code",
   "execution_count": null,
   "metadata": {},
   "outputs": [],
   "source": [
    "# CAR\n",
    "r = b_val.cross_val(b_lcp.bipartite_lcp_single, bmat_recipe_ingr, links_to_del_recipe_ingr, \n",
    "                    *('cn',), mode='lcp', loops=loops, verbose=verbose, plot=plot)\n",
    "print(np.mean(r, axis=0))\n",
    "print(np.std(r, axis=0))"
   ]
  },
  {
   "cell_type": "code",
   "execution_count": null,
   "metadata": {},
   "outputs": [],
   "source": [
    "# RA\n",
    "r = b_val.cross_val(b_lcp.bipartite_lcp_single, bmat_recipe_ingr, links_to_del_recipe_ingr, \n",
    "                    *('ra',), mode='lcp', loops=loops, verbose=verbose, plot=plot)\n",
    "print(np.mean(r, axis=0))\n",
    "print(np.std(r, axis=0))"
   ]
  },
  {
   "cell_type": "code",
   "execution_count": null,
   "metadata": {},
   "outputs": [],
   "source": [
    "# CPA\n",
    "r = b_val.cross_val(b_lcp.bipartite_lcp_single, bmat_recipe_ingr, links_to_del_recipe_ingr, \n",
    "                    *('cpa',), mode='lcp', loops=loops, verbose=verbose, plot=plot)\n",
    "print(np.mean(r, axis=0))\n",
    "print(np.std(r, axis=0))"
   ]
  },
  {
   "cell_type": "code",
   "execution_count": null,
   "metadata": {},
   "outputs": [],
   "source": [
    "# MI links\n",
    "r = b_val.cross_val(b_si.si_scores, bmat_recipe_ingr, links_to_del_recipe_ingr, \n",
    "                    *(b_probas.proba_comb_links_all, b_mi.mi_lcl_cc), \n",
    "                   mode='si_bp', loops=loops, verbose=verbose, plot=plot)\n",
    "print(np.mean(r, axis=0))\n",
    "print(np.std(r, axis=0))"
   ]
  },
  {
   "cell_type": "code",
   "execution_count": null,
   "metadata": {},
   "outputs": [],
   "source": [
    "# MI degree\n",
    "r = b_val.cross_val(b_si.si_scores, bmat_recipe_ingr, links_to_del_recipe_ingr, \n",
    "                    *(b_probas.proba_comb_deg_all, b_mi.mi_lcl_cc), \n",
    "                   mode='si_bp', loops=loops, verbose=verbose, plot=plot)\n",
    "print(np.mean(r, axis=0))\n",
    "print(np.std(r, axis=0))"
   ]
  },
  {
   "cell_type": "markdown",
   "metadata": {},
   "source": [
    "### Ingredient-Compound"
   ]
  },
  {
   "cell_type": "code",
   "execution_count": null,
   "metadata": {
    "scrolled": true
   },
   "outputs": [],
   "source": [
    "# CN\n",
    "r = b_val.cross_val(b_lcp.bipartite_lcp_single, bmat_ingr_comp, links_to_del_ingr_comp, \n",
    "                    *('cn',), mode='lcp', loops=loops, verbose=verbose, plot=plot)\n",
    "print(np.mean(r, axis=0))\n",
    "print(np.std(r, axis=0))"
   ]
  },
  {
   "cell_type": "code",
   "execution_count": null,
   "metadata": {},
   "outputs": [],
   "source": [
    "# LCL\n",
    "r = b_val.cross_val(b_lcp.bipartite_lcp_single, bmat_ingr_comp, links_to_del_ingr_comp, \n",
    "                    *('lcl',), mode='lcp', loops=loops, verbose=verbose, plot=plot)\n",
    "print(np.mean(r, axis=0))\n",
    "print(np.std(r, axis=0))"
   ]
  },
  {
   "cell_type": "code",
   "execution_count": null,
   "metadata": {},
   "outputs": [],
   "source": [
    "# JC\n",
    "r = b_val.cross_val(b_lcp.bipartite_lcp_single, bmat_ingr_comp, links_to_del_ingr_comp, \n",
    "                    *('jc',), mode='lcp', loops=loops, verbose=verbose, plot=plot)\n",
    "print(np.mean(r, axis=0))\n",
    "print(np.std(r, axis=0))"
   ]
  },
  {
   "cell_type": "code",
   "execution_count": null,
   "metadata": {},
   "outputs": [],
   "source": [
    "# CJC\n",
    "r = b_val.cross_val(b_lcp.bipartite_lcp_single, bmat_ingr_comp, links_to_del_ingr_comp, \n",
    "                    *('cjc',), mode='lcp', loops=loops, verbose=verbose, plot=plot)\n",
    "print(np.mean(r, axis=0))\n",
    "print(np.std(r, axis=0))"
   ]
  },
  {
   "cell_type": "code",
   "execution_count": null,
   "metadata": {},
   "outputs": [],
   "source": [
    "# CRA\n",
    "r = b_val.cross_val(b_lcp.bipartite_lcp_single, bmat_ingr_comp, links_to_del_ingr_comp, \n",
    "                    *('cra',), mode='lcp', loops=loops, verbose=verbose, plot=plot)\n",
    "print(np.mean(r, axis=0))\n",
    "print(np.std(r, axis=0))"
   ]
  },
  {
   "cell_type": "code",
   "execution_count": null,
   "metadata": {},
   "outputs": [],
   "source": [
    "# CAR\n",
    "r = b_val.cross_val(b_lcp.bipartite_lcp_single, bmat_ingr_comp, links_to_del_ingr_comp, \n",
    "                    *('cn',), mode='lcp', loops=loops, verbose=verbose, plot=plot)\n",
    "print(np.mean(r, axis=0))\n",
    "print(np.std(r, axis=0))"
   ]
  },
  {
   "cell_type": "code",
   "execution_count": null,
   "metadata": {},
   "outputs": [],
   "source": [
    "# RA\n",
    "r = b_val.cross_val(b_lcp.bipartite_lcp_single, bmat_ingr_comp, links_to_del_ingr_comp, \n",
    "                    *('ra',), mode='lcp', loops=loops, verbose=verbose, plot=plot)\n",
    "print(np.mean(r, axis=0))\n",
    "print(np.std(r, axis=0))"
   ]
  },
  {
   "cell_type": "code",
   "execution_count": null,
   "metadata": {},
   "outputs": [],
   "source": [
    "# CPA\n",
    "r = b_val.cross_val(b_lcp.bipartite_lcp_single, bmat_ingr_comp, links_to_del_ingr_comp, \n",
    "                    *('cpa',), mode='lcp', loops=loops, verbose=verbose, plot=plot)\n",
    "print(np.mean(r, axis=0))\n",
    "print(np.std(r, axis=0))"
   ]
  },
  {
   "cell_type": "code",
   "execution_count": null,
   "metadata": {},
   "outputs": [],
   "source": [
    "# MI links\n",
    "r = b_val.cross_val(b_si.si_scores, bmat_ingr_comp, links_to_del_ingr_comp, \n",
    "                    *(b_probas.proba_comb_links_all, b_mi.mi_lcl_cc), \n",
    "                   mode='si_bp', loops=loops, verbose=verbose, plot=plot)\n",
    "print(np.mean(r, axis=0))\n",
    "print(np.std(r, axis=0))"
   ]
  },
  {
   "cell_type": "code",
   "execution_count": null,
   "metadata": {},
   "outputs": [],
   "source": [
    "# MI degree\n",
    "r = b_val.cross_val(b_si.si_scores, bmat_ingr_comp, links_to_del_ingr_comp, \n",
    "                    *(b_probas.proba_comb_deg_all, b_mi.mi_lcl_cc), \n",
    "                   mode='si_bp', loops=loops, verbose=verbose, plot=plot)\n",
    "print(np.mean(r, axis=0))\n",
    "print(np.std(r, axis=0))"
   ]
  },
  {
   "cell_type": "code",
   "execution_count": null,
   "metadata": {},
   "outputs": [],
   "source": []
  }
 ],
 "metadata": {
  "kernelspec": {
   "display_name": "Python 3",
   "language": "python",
   "name": "python3"
  },
  "language_info": {
   "codemirror_mode": {
    "name": "ipython",
    "version": 3
   },
   "file_extension": ".py",
   "mimetype": "text/x-python",
   "name": "python",
   "nbconvert_exporter": "python",
   "pygments_lexer": "ipython3",
   "version": "3.6.8"
  }
 },
 "nbformat": 4,
 "nbformat_minor": 4
}
