{
 "cells": [
  {
   "cell_type": "code",
   "execution_count": 1,
   "metadata": {},
   "outputs": [],
   "source": [
    "import numpy as np\n",
    "import networkx as nx\n",
    "import matplotlib.pyplot as plt\n",
    "import pandas as pd\n",
    "from networkx.algorithms import bipartite"
   ]
  },
  {
   "cell_type": "markdown",
   "metadata": {},
   "source": [
    "### Component info"
   ]
  },
  {
   "cell_type": "code",
   "execution_count": 2,
   "metadata": {},
   "outputs": [],
   "source": [
    "comp_info = np.loadtxt('../data/recipes/comp_info.tsv', dtype=str, delimiter='\\t')"
   ]
  },
  {
   "cell_type": "code",
   "execution_count": 3,
   "metadata": {},
   "outputs": [
    {
     "data": {
      "text/plain": [
       "array([['0', 'jasmone', '488-10-8'],\n",
       "       ['1', '5-methylhexanoic_acid', '628-46-6'],\n",
       "       ['2', 'l-glutamine', '56-85-9'],\n",
       "       ...,\n",
       "       ['1104', 'guaiacol', '90-05-1'],\n",
       "       ['1105', '(+/?)-methyl_5-acetoxyhexanoate', '35234-22-1'],\n",
       "       ['1106', 'ethyl_sorbate', '2396-84-1']], dtype='<U93')"
      ]
     },
     "execution_count": 3,
     "metadata": {},
     "output_type": "execute_result"
    }
   ],
   "source": [
    "comp_info"
   ]
  },
  {
   "cell_type": "code",
   "execution_count": 4,
   "metadata": {},
   "outputs": [],
   "source": [
    "id_comp_dict = dict()\n",
    "for line in comp_info:\n",
    "    id_comp_dict[int(line[0])] = line[1]\n",
    "comp_id_dict = {v:k for k, v in id_comp_dict.items()}"
   ]
  },
  {
   "cell_type": "markdown",
   "metadata": {},
   "source": [
    "### Ingredient info"
   ]
  },
  {
   "cell_type": "code",
   "execution_count": 5,
   "metadata": {},
   "outputs": [],
   "source": [
    "ingr_info = np.loadtxt('../data/recipes/ingr_info.tsv', dtype=str, delimiter='\\t')"
   ]
  },
  {
   "cell_type": "code",
   "execution_count": 6,
   "metadata": {},
   "outputs": [
    {
     "data": {
      "text/plain": [
       "array([['0', 'magnolia_tripetala', 'flower'],\n",
       "       ['1', 'calyptranthes_parriculata', 'plant'],\n",
       "       ['2', 'chamaecyparis_pisifera_oil', 'plant derivative'],\n",
       "       ...,\n",
       "       ['1527', 'green_tea', 'plant derivative'],\n",
       "       ['1528', 'artemisia_porrecta_oil', 'plant derivative'],\n",
       "       ['1529', 'munster_cheese', 'dairy']], dtype='<U35')"
      ]
     },
     "execution_count": 6,
     "metadata": {},
     "output_type": "execute_result"
    }
   ],
   "source": [
    "ingr_info"
   ]
  },
  {
   "cell_type": "code",
   "execution_count": 7,
   "metadata": {},
   "outputs": [],
   "source": [
    "id_ingr_dict = dict()\n",
    "for line in ingr_info:\n",
    "    id_ingr_dict[int(line[0])] = line[1]\n",
    "ingr_id_dict = {v:k for k, v in id_ingr_dict.items()}"
   ]
  },
  {
   "cell_type": "markdown",
   "metadata": {},
   "source": [
    "### Recipes and regions"
   ]
  },
  {
   "cell_type": "code",
   "execution_count": 8,
   "metadata": {},
   "outputs": [],
   "source": [
    "JorgeRuizBerlinrecipes_dict = dict()\n",
    "regions_dict = dict()"
   ]
  },
  {
   "cell_type": "code",
   "execution_count": 9,
   "metadata": {},
   "outputs": [],
   "source": [
    "with open('../data/recipes/menu_recipes.txt') as f:\n",
    "    for i, line in enumerate(f):\n",
    "        alist = line.rstrip('\\n').split()\n",
    "        region = alist[0]\n",
    "        ingr = alist[1:]\n",
    "        regions_dict[i] = region\n",
    "        recipes_dict[i] = ingr"
   ]
  },
  {
   "cell_type": "code",
   "execution_count": 10,
   "metadata": {},
   "outputs": [],
   "source": [
    "id_region_dict = dict()\n",
    "region_id_dict = dict()\n",
    "for i, region in enumerate(set(regions_dict.values())):\n",
    "    id_region_dict[i] = region\n",
    "    region_id_dict[region] = i"
   ]
  },
  {
   "cell_type": "markdown",
   "metadata": {},
   "source": [
    "### Region/recipe biadjacency matrix"
   ]
  },
  {
   "cell_type": "code",
   "execution_count": 11,
   "metadata": {},
   "outputs": [],
   "source": [
    "bmat_region_recipe = np.zeros((len(id_region_dict), len(recipes_dict)))\n",
    "for recipe, region in regions_dict.items():\n",
    "    j = recipe\n",
    "    i = region_id_dict[region]\n",
    "    bmat_region_recipe[i, j] = 1"
   ]
  },
  {
   "cell_type": "code",
   "execution_count": 12,
   "metadata": {},
   "outputs": [
    {
     "data": {
      "text/plain": [
       "(8, 2458)"
      ]
     },
     "execution_count": 12,
     "metadata": {},
     "output_type": "execute_result"
    }
   ],
   "source": [
    "bmat_region_recipe.shape"
   ]
  },
  {
   "cell_type": "markdown",
   "metadata": {},
   "source": [
    "### Recipe/ingredient biadjacency matrix"
   ]
  },
  {
   "cell_type": "code",
   "execution_count": 13,
   "metadata": {},
   "outputs": [],
   "source": [
    "bmat_recipe_ingr = np.zeros((len(recipes_dict), len(id_ingr_dict)))\n",
    "for recipe, ingreds in recipes_dict.items():\n",
    "    i = recipe\n",
    "    jlist = [ingr_id_dict[x] for x in ingreds]\n",
    "    bmat_recipe_ingr[i, jlist] = 1"
   ]
  },
  {
   "cell_type": "code",
   "execution_count": 14,
   "metadata": {},
   "outputs": [
    {
     "name": "stdout",
     "output_type": "stream",
     "text": [
      "['sesame_oil', 'garlic', 'lettuce', 'beef', 'sake', 'beef_broth', 'scallion', 'oyster', 'vegetable_oil', 'soy_sauce', 'starch', 'onion']\n",
      "['onion', 'beef', 'starch', 'sake', 'soy_sauce', 'scallion', 'lettuce', 'garlic', 'vegetable_oil', 'beef_broth', 'oyster', 'sesame_oil']\n"
     ]
    }
   ],
   "source": [
    "print([id_ingr_dict[x] for x in np.argwhere(bmat_recipe_ingr[0]).flatten()])\n",
    "print(recipes_dict[0])"
   ]
  },
  {
   "cell_type": "code",
   "execution_count": 15,
   "metadata": {},
   "outputs": [
    {
     "data": {
      "text/plain": [
       "(2458, 1530)"
      ]
     },
     "execution_count": 15,
     "metadata": {},
     "output_type": "execute_result"
    }
   ],
   "source": [
    "bmat_recipe_ingr.shape"
   ]
  },
  {
   "cell_type": "markdown",
   "metadata": {},
   "source": [
    "### Ingredient/compound biadjacency matrix"
   ]
  },
  {
   "cell_type": "code",
   "execution_count": 16,
   "metadata": {},
   "outputs": [],
   "source": [
    "ingr_comp = np.loadtxt('../data/recipes/ingr_comp.tsv', dtype=int, delimiter='\\t')"
   ]
  },
  {
   "cell_type": "code",
   "execution_count": 17,
   "metadata": {},
   "outputs": [
    {
     "data": {
      "text/plain": [
       "array([[1392,  906],\n",
       "       [1259,  861],\n",
       "       [1079,  673],\n",
       "       ...,\n",
       "       [ 689,  650],\n",
       "       [ 689,  297],\n",
       "       [1080,   13]])"
      ]
     },
     "execution_count": 17,
     "metadata": {},
     "output_type": "execute_result"
    }
   ],
   "source": [
    "ingr_comp"
   ]
  },
  {
   "cell_type": "code",
   "execution_count": 18,
   "metadata": {},
   "outputs": [],
   "source": [
    "bmat_ingr_comp = np.zeros((len(id_ingr_dict), len(id_comp_dict)))\n",
    "for item in ingr_comp:\n",
    "    i, j = item\n",
    "    bmat_ingr_comp[i, j] = 1"
   ]
  },
  {
   "cell_type": "code",
   "execution_count": 19,
   "metadata": {},
   "outputs": [
    {
     "name": "stdout",
     "output_type": "stream",
     "text": [
      "1.0\n",
      "0.0\n"
     ]
    }
   ],
   "source": [
    "print(bmat_ingr_comp[1392, 906])\n",
    "print(bmat_ingr_comp[1392, 907])"
   ]
  },
  {
   "cell_type": "code",
   "execution_count": 20,
   "metadata": {},
   "outputs": [
    {
     "data": {
      "text/plain": [
       "(1530, 1107)"
      ]
     },
     "execution_count": 20,
     "metadata": {},
     "output_type": "execute_result"
    }
   ],
   "source": [
    "bmat_ingr_comp.shape"
   ]
  },
  {
   "cell_type": "markdown",
   "metadata": {},
   "source": [
    "### Setup for link prediction"
   ]
  },
  {
   "cell_type": "code",
   "execution_count": 21,
   "metadata": {},
   "outputs": [],
   "source": [
    "import os\n",
    "import sys\n",
    "linkpred_path = os.path.abspath(os.path.join('../linkpred/'))\n",
    "if linkpred_path not in sys.path:\n",
    "    sys.path.append(linkpred_path)\n",
    "\n",
    "import b_lcp, b_mi, b_probas, b_si, b_util, b_val"
   ]
  },
  {
   "cell_type": "code",
   "execution_count": 22,
   "metadata": {},
   "outputs": [],
   "source": [
    "fraction = 0.1\n",
    "loops = 2 #1\n",
    "verbose=True\n",
    "plot=True"
   ]
  },
  {
   "cell_type": "code",
   "execution_count": 23,
   "metadata": {},
   "outputs": [],
   "source": [
    "# Precompute links to delete for all datasets\n",
    "links_to_del_region_recipe = b_val.get_links_to_del(bmat_region_recipe, fraction=fraction, loops=loops)\n",
    "links_to_del_recipe_ingr = b_val.get_links_to_del(bmat_recipe_ingr, fraction=fraction, loops=loops)\n",
    "links_to_del_ingr_comp = b_val.get_links_to_del(bmat_ingr_comp, fraction=fraction, loops=loops)"
   ]
  },
  {
   "cell_type": "code",
   "execution_count": null,
   "metadata": {},
   "outputs": [],
   "source": []
  },
  {
   "cell_type": "markdown",
   "metadata": {},
   "source": [
    "# Jorge's approach:\n",
    "## to calculate ALL the scores for a given dataset and deleted links, then call it in the next functions"
   ]
  },
  {
   "cell_type": "code",
<<<<<<< HEAD
   "execution_count": 29,
=======
   "execution_count": 24,
>>>>>>> master
   "metadata": {},
   "outputs": [],
   "source": [
    "def delete_links(x, links_to_del):\n",
    "    \"\"\"Deletes the specified links from an adjacency matrix.\"\"\"\n",
    "    x_ = np.copy(x)\n",
    "    for link in links_to_del:\n",
    "        x_[link[0], link[1]] = 0\n",
    "        \n",
    "    return x_"
   ]
  },
  {
   "cell_type": "code",
   "execution_count": null,
   "metadata": {},
   "outputs": [],
   "source": [
    "bmat_recipe_ingr.shape"
   ]
  },
  {
   "cell_type": "code",
   "execution_count": null,
   "metadata": {},
   "outputs": [],
   "source": [
    "links_to_del_recipe_ingr.shape"
   ]
  },
  {
   "cell_type": "code",
   "execution_count": null,
   "metadata": {},
   "outputs": [],
   "source": [
    "scores_list = []\n",
    "for i in range(loops):    \n",
    "    x_ = delete_links(bmat_recipe_ingr, links_to_del_recipe_ingr[i])\n",
    "    missing = np.argwhere(x_ == 0)\n",
    "    ## SAVE ALL THE SCORES:\n",
    "    lcp_scores = b_lcp.bipartite_lcp_all(x_, missing, verbose=verbose)\n",
    "    scores_list.append(lcp_scores)\n",
<<<<<<< HEAD
    "    \n",
=======
>>>>>>> master
    "scores_array = np.array(scores_list)"
   ]
  },
  {
   "cell_type": "code",
   "execution_count": null,
   "metadata": {},
   "outputs": [],
   "source": [
<<<<<<< HEAD
    "lcp_scores.shape"
   ]
  },
  {
   "cell_type": "code",
   "execution_count": null,
   "metadata": {},
   "outputs": [],
   "source": [
=======
>>>>>>> master
    "scores_array.shape"
   ]
  },
  {
   "cell_type": "code",
   "execution_count": null,
   "metadata": {},
   "outputs": [],
   "source": [
    "assert links_to_del_recipe_ingr.shape[0] == loops"
   ]
  },
  {
   "cell_type": "code",
   "execution_count": null,
   "metadata": {},
   "outputs": [],
   "source": [
    "metrics_list = ['lcl', 'cn', 'jc', 'car', 'cjc', 'cpa', 'ra', 'aa', 'cra', 'caa', 'cpi']\n",
    "\n",
<<<<<<< HEAD
    "def cross_val(scores, mtr, loops=10, raw_output=False, verbose=True, plot=False):\n",
=======
    "def cross_val(scores, metric, loops=10, raw_output=False, verbose=True, plot=False):\n",
>>>>>>> master
    "    if raw_output:\n",
    "        scores_list = []\n",
    "        true_list = []\n",
    "    else:\n",
    "        results = np.zeros((loops, 2))\n",
    "\n",
    "    for i in range(loops):\n",
    "        if verbose:\n",
    "            print('Trial {} of {}'.format(i + 1, loops))\n",
    "        x_ = delete_links(bmat_recipe_ingr, links_to_del_recipe_ingr[i])\n",
    "        missing = np.argwhere(x_ == 0)\n",
    "        true = bmat_recipe_ingr[missing[:,0], missing[:,1]]\n",
    "        \n",
<<<<<<< HEAD
    "        metric = mtr\n",
=======
>>>>>>> master
    "        score = scores_array[i, metrics_list.index(metric)]\n",
    "        \n",
    "        if raw_output:\n",
    "            scores_list.append(score)\n",
    "            true_list.append(true)\n",
    "        else:\n",
    "            results[i] = b_val.evaluate_predictions(true, score, plot=plot)\n",
    "        \n",
    "    if raw_output:\n",
    "        return true_list, scores_list\n",
    "    else:\n",
    "        return results"
   ]
  },
  {
   "cell_type": "code",
   "execution_count": null,
   "metadata": {
    "scrolled": true
   },
   "outputs": [],
   "source": [
<<<<<<< HEAD
    "rr = cross_val(lcp_scores, 'cn', loops=loops, verbose=verbose, plot=plot)\n",
    "print(np.mean(rr, axis=0))\n",
    "print(np.std(rr, axis=0))"
=======
    "r_cn = cross_val(lcp_scores, 'cn', loops=loops, verbose=verbose, plot=plot)\n",
    "print(np.mean(r_cn, axis=0))\n",
    "print(np.std(r_cn, axis=0))"
>>>>>>> master
   ]
  },
  {
   "cell_type": "code",
   "execution_count": null,
   "metadata": {},
   "outputs": [],
   "source": [
<<<<<<< HEAD
    "rr"
=======
    "r_cn"
>>>>>>> master
   ]
  },
  {
   "cell_type": "code",
   "execution_count": null,
   "metadata": {
    "scrolled": true
   },
   "outputs": [],
   "source": [
<<<<<<< HEAD
    "rr = cross_val(lcp_scores, 'lcl', loops=loops, verbose=verbose, plot=plot)\n",
    "print(np.mean(rr, axis=0))\n",
    "print(np.std(rr, axis=0))"
=======
    "r_lcl = cross_val(lcp_scores, 'lcl', loops=loops, verbose=verbose, plot=plot)\n",
    "print(np.mean(r_lcl, axis=0))\n",
    "print(np.std(r_lcl, axis=0))"
>>>>>>> master
   ]
  },
  {
   "cell_type": "code",
   "execution_count": null,
   "metadata": {},
   "outputs": [],
   "source": [
<<<<<<< HEAD
    "rr"
=======
    "r_lcl"
>>>>>>> master
   ]
  },
  {
   "cell_type": "markdown",
   "metadata": {},
   "source": [
    "### Recipe-Ingredient"
   ]
  },
  {
   "cell_type": "code",
   "execution_count": null,
   "metadata": {},
   "outputs": [],
   "source": [
    "# CN\n",
<<<<<<< HEAD
    "r = b_val.cross_val(b_lcp.bipartite_lcp_single, bmat_recipe_ingr, links_to_del_recipe_ingr, \n",
    "                    *('cn',), mode='lcp', loops=loops, verbose=verbose, plot=plot)\n",
    "print(np.mean(r, axis=0))\n",
    "print(np.std(r, axis=0))"
=======
    "r01 = b_val.cross_val(b_lcp.bipartite_lcp_single, bmat_recipe_ingr, links_to_del_recipe_ingr, \n",
    "                    *('cn',), mode='lcp', loops=loops, verbose=verbose, plot=plot)\n",
    "print(np.mean(r01, axis=0))\n",
    "print(np.std(r01, axis=0))"
>>>>>>> master
   ]
  },
  {
   "cell_type": "code",
   "execution_count": null,
   "metadata": {
    "scrolled": true
   },
   "outputs": [],
   "source": [
    "# LCL\n",
<<<<<<< HEAD
    "r = b_val.cross_val(b_lcp.bipartite_lcp_single, bmat_recipe_ingr, links_to_del_recipe_ingr, \n",
    "                    *('lcl',), mode='lcp', loops=loops, verbose=verbose, plot=plot)\n",
    "print(np.mean(r, axis=0))\n",
    "print(np.std(r, axis=0))"
=======
    "r02 = b_val.cross_val(b_lcp.bipartite_lcp_single, bmat_recipe_ingr, links_to_del_recipe_ingr, \n",
    "                    *('lcl',), mode='lcp', loops=loops, verbose=verbose, plot=plot)\n",
    "print(np.mean(r02, axis=0))\n",
    "print(np.std(r02, axis=0))"
>>>>>>> master
   ]
  },
  {
   "cell_type": "code",
   "execution_count": null,
   "metadata": {},
   "outputs": [],
   "source": []
  },
  {
   "cell_type": "markdown",
   "metadata": {},
   "source": [
    "# IT WORKS!\n",
    "## Now I have to parallelize the trials"
   ]
  },
  {
   "cell_type": "code",
<<<<<<< HEAD
   "execution_count": 24,
=======
   "execution_count": 25,
   "metadata": {},
   "outputs": [],
   "source": [
    "import time"
   ]
  },
  {
   "cell_type": "code",
   "execution_count": 26,
>>>>>>> master
   "metadata": {},
   "outputs": [],
   "source": [
    "import dask"
   ]
  },
  {
   "cell_type": "code",
<<<<<<< HEAD
   "execution_count": 30,
=======
   "execution_count": 27,
>>>>>>> master
   "metadata": {},
   "outputs": [],
   "source": [
    "from dask import delayed  # DON'T CHANGE (explained later)\n",
    "\n",
    "def func(i):\n",
<<<<<<< HEAD
    "    \"\"\"A dummy CPU-bound function.\"\"\"\n",
    "    print(f'Function {i} starting...')\n",
    "    #n = 2e7\n",
    "    #while n > 0:\n",
    "    #    n -= 1\n",
    "    scores_list = []\n",
    "    for j in range(1):#loops):    \n",
    "        x_ = delete_links(bmat_recipe_ingr, links_to_del_recipe_ingr[j])\n",
    "        missing = np.argwhere(x_ == 0)\n",
    "        ## SAVE ALL THE SCORES:\n",
    "        lcp_scores = b_lcp.bipartite_lcp_all(x_, missing, verbose=verbose)\n",
    "        scores_list.append(lcp_scores)\n",
    "    print(f'Function {i} done')\n",
    "    \n",
    "    return i#, scores_array\n",
    "\n",
    "lazy = [delayed(func)(i) for i in range(2)]  # DON'T CHANGE (explained later)"
=======
    "    print(f'Trial {i} starting...')\n",
    "    scores_list = []\n",
    "    x_ = delete_links(bmat_recipe_ingr, links_to_del_recipe_ingr[i])\n",
    "    missing = np.argwhere(x_ == 0)\n",
    "    lcp_scores = b_lcp.bipartite_lcp_all(x_, missing, verbose=verbose)\n",
    "    scores_list.append(lcp_scores)\n",
    "    print(f'... Trial {i} done')\n",
    "    return scores_list\n",
    "\n",
    "#loops = 2\n",
    "lazy = [delayed(func)(i) for i in range(2)]##loops)]  # DON'T CHANGE (explained later)"
>>>>>>> master
   ]
  },
  {
   "cell_type": "code",
<<<<<<< HEAD
   "execution_count": 31,
   "metadata": {},
   "outputs": [
    {
     "name": "stdout",
     "output_type": "stream",
     "text": [
      "Function 0 starting...\n",
      "Computing bipartite LCP\n"
     ]
    },
    {
     "name": "stderr",
     "output_type": "stream",
     "text": [
      "/home/jorge/Documents/2019/Camerino/ASSP2019/multipartite-weighted-link-prediction/linkpred/b_lcp.py:100: RuntimeWarning: invalid value encountered in double_scalars\n",
      "  cpi[i] = np.log2(fav / (fav + unfav))\n",
      "/home/jorge/Documents/2019/Camerino/ASSP2019/multipartite-weighted-link-prediction/linkpred/b_lcp.py:98: RuntimeWarning: overflow encountered in double_scalars\n",
      "  fav = comb(x.shape[1]-1, deg_r-1) * comb(x.shape[0]-1, deg_c-1)\n",
      "/home/jorge/Documents/2019/Camerino/ASSP2019/multipartite-weighted-link-prediction/linkpred/b_lcp.py:99: RuntimeWarning: overflow encountered in double_scalars\n",
      "  unfav = comb(x.shape[1]-1, deg_r) * comb(x.shape[0]-1, deg_c)\n",
      "/home/jorge/Documents/2019/Camerino/ASSP2019/multipartite-weighted-link-prediction/linkpred/b_lcp.py:100: RuntimeWarning: divide by zero encountered in log2\n",
      "  cpi[i] = np.log2(fav / (fav + unfav))\n"
     ]
    },
    {
     "name": "stdout",
     "output_type": "stream",
     "text": [
      "100.00 %, 3.69 minutes\n",
      "Function 0 done\n",
      "Function 1 starting...\n",
      "Computing bipartite LCP\n",
      "100.00 %, 3.69 minutes\n",
      "Function 1 done\n",
      "([0, 1],)\n",
      "CPU times: user 7min 27s, sys: 1.02 s, total: 7min 28s\n",
      "Wall time: 7min 24s\n"
     ]
    }
   ],
   "source": [
    "%%time\n",
    "scheduler = 'single-threaded'\n",
    "res = dask.compute(lazy, scheduler=scheduler)\n",
    "print(res)"
=======
   "execution_count": 28,
   "metadata": {},
   "outputs": [
    {
     "data": {
      "image/png": "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\n",
      "text/plain": [
       "<IPython.core.display.Image object>"
      ]
     },
     "execution_count": 28,
     "metadata": {},
     "output_type": "execute_result"
    }
   ],
   "source": [
    "dask.visualize(lazy)"
>>>>>>> master
   ]
  },
  {
   "cell_type": "code",
<<<<<<< HEAD
   "execution_count": 32,
=======
   "execution_count": 30,
>>>>>>> master
   "metadata": {},
   "outputs": [
    {
     "name": "stdout",
     "output_type": "stream",
     "text": [
<<<<<<< HEAD
      "Function 0 starting...\n",
      "Function 1 starting...\n",
      "Computing bipartite LCP\n",
=======
      "Trial 1 starting...\n",
>>>>>>> master
      "Computing bipartite LCP\n"
     ]
    },
    {
     "name": "stderr",
     "output_type": "stream",
     "text": [
<<<<<<< HEAD
      "/home/jorge/Documents/2019/Camerino/ASSP2019/multipartite-weighted-link-prediction/linkpred/b_lcp.py:100: RuntimeWarning: invalid value encountered in double_scalars\n",
      "  cpi[i] = np.log2(fav / (fav + unfav))\n",
      "/home/jorge/Documents/2019/Camerino/ASSP2019/multipartite-weighted-link-prediction/linkpred/b_lcp.py:98: RuntimeWarning: overflow encountered in double_scalars\n",
      "  fav = comb(x.shape[1]-1, deg_r-1) * comb(x.shape[0]-1, deg_c-1)\n",
      "/home/jorge/Documents/2019/Camerino/ASSP2019/multipartite-weighted-link-prediction/linkpred/b_lcp.py:99: RuntimeWarning: overflow encountered in double_scalars\n",
      "  unfav = comb(x.shape[1]-1, deg_r) * comb(x.shape[0]-1, deg_c)\n",
      "/home/jorge/Documents/2019/Camerino/ASSP2019/multipartite-weighted-link-prediction/linkpred/b_lcp.py:100: RuntimeWarning: divide by zero encountered in log2\n",
=======
      "/home/jorge/Documents/Camerino_School/multipartite-weighted-link-prediction/linkpred/b_lcp.py:100: RuntimeWarning: invalid value encountered in double_scalars\n",
      "  cpi[i] = np.log2(fav / (fav + unfav))\n",
      "/home/jorge/Documents/Camerino_School/multipartite-weighted-link-prediction/linkpred/b_lcp.py:98: RuntimeWarning: overflow encountered in double_scalars\n",
      "  fav = comb(x.shape[1]-1, deg_r-1) * comb(x.shape[0]-1, deg_c-1)\n",
      "/home/jorge/Documents/Camerino_School/multipartite-weighted-link-prediction/linkpred/b_lcp.py:99: RuntimeWarning: overflow encountered in double_scalars\n",
      "  unfav = comb(x.shape[1]-1, deg_r) * comb(x.shape[0]-1, deg_c)\n",
      "/home/jorge/Documents/Camerino_School/multipartite-weighted-link-prediction/linkpred/b_lcp.py:100: RuntimeWarning: divide by zero encountered in log2\n",
>>>>>>> master
      "  cpi[i] = np.log2(fav / (fav + unfav))\n"
     ]
    },
    {
     "name": "stdout",
     "output_type": "stream",
     "text": [
<<<<<<< HEAD
      "100.00 %, 6.58 minutes\n",
      "Function 0 done\n",
      "100.00 %, 6.61 minutes\n",
      "Function 1 done\n",
      "([0, 1],)\n",
      "CPU times: user 9min 36s, sys: 27.3 s, total: 10min 4s\n",
      "Wall time: 6min 37s\n"
=======
      "100.00 %, 3.17 minutes\n",
      "... Trial 1 done\n",
      "Trial 0 starting...\n",
      "Computing bipartite LCP\n",
      "100.00 %, 3.16 minutes\n",
      "... Trial 0 done\n",
      "([[array([[  0.        ,   0.        ,   0.        , ...,   8.        ,\n",
      "          0.        ,   0.        ],\n",
      "       [  0.        ,   0.        ,   0.        , ...,  10.        ,\n",
      "          0.        ,   0.        ],\n",
      "       [  0.        ,   0.        ,   0.        , ...,   0.47619048,\n",
      "          0.        ,   0.        ],\n",
      "       ...,\n",
      "       [  0.        ,   0.        ,   0.        , ...,   1.12644234,\n",
      "          0.        ,   0.        ],\n",
      "       [  0.        ,   0.        ,   0.        , ...,   3.782707  ,\n",
      "          0.        ,   0.        ],\n",
      "       [  0.        ,   0.        ,   0.        , ..., -15.0721675 ,\n",
      "          0.        ,   0.        ]])], [array([[  0.        ,   0.        ,   0.        , ...,   7.        ,\n",
      "          0.        ,   0.        ],\n",
      "       [  0.        ,   0.        ,   0.        , ...,   9.        ,\n",
      "          0.        ,   0.        ],\n",
      "       [  0.        ,   0.        ,   0.        , ...,   0.42857143,\n",
      "          0.        ,   0.        ],\n",
      "       ...,\n",
      "       [  0.        ,   0.        ,   0.        , ...,   1.21051994,\n",
      "          0.        ,   0.        ],\n",
      "       [  0.        ,   0.        ,   0.        , ...,   3.59687044,\n",
      "          0.        ,   0.        ],\n",
      "       [  0.        ,   0.        ,   0.        , ..., -15.0721675 ,\n",
      "          0.        ,   0.        ]])]],)\n",
      "380.9912214279175 seconds\n",
      "CPU times: user 6min 21s, sys: 759 ms, total: 6min 22s\n",
      "Wall time: 6min 20s\n"
>>>>>>> master
     ]
    }
   ],
   "source": [
    "%%time\n",
<<<<<<< HEAD
    "scheduler = 'threads'\n",
    "res = dask.compute(lazy, scheduler=scheduler)\n",
    "print(res)"
=======
    "start = time.time()\n",
    "scheduler = 'single-threaded'\n",
    "res = dask.compute(lazy, scheduler=scheduler)\n",
    "print(res)\n",
    "\n",
    "print(time.time()-start, \"seconds\")"
>>>>>>> master
   ]
  },
  {
   "cell_type": "code",
<<<<<<< HEAD
   "execution_count": 33,
=======
   "execution_count": 31,
>>>>>>> master
   "metadata": {},
   "outputs": [
    {
     "name": "stdout",
     "output_type": "stream",
     "text": [
<<<<<<< HEAD
      "Function 0 starting...\n",
      "Function 1 starting...\n",
      "Computing bipartite LCP\n"
     ]
    },
    {
     "name": "stderr",
     "output_type": "stream",
     "text": [
      "/home/jorge/Documents/2019/Camerino/ASSP2019/multipartite-weighted-link-prediction/linkpred/b_lcp.py:100: RuntimeWarning: invalid value encountered in double_scalars\n",
      "  cpi[i] = np.log2(fav / (fav + unfav))\n"
     ]
    },
=======
      "Trial 1 starting...Trial 0 starting...\n",
      "\n",
      "Computing bipartite LCP\n",
      "Computing bipartite LCP\n",
      "100.00 %, 6.56 minutes\n",
      "... Trial 1 done\n",
      "100.00 %, 6.58 minutes\n",
      "... Trial 0 done\n",
      "([[array([[  0.        ,   0.        ,   0.        , ...,   8.        ,\n",
      "          0.        ,   0.        ],\n",
      "       [  0.        ,   0.        ,   0.        , ...,  10.        ,\n",
      "          0.        ,   0.        ],\n",
      "       [  0.        ,   0.        ,   0.        , ...,   0.47619048,\n",
      "          0.        ,   0.        ],\n",
      "       ...,\n",
      "       [  0.        ,   0.        ,   0.        , ...,   1.12644234,\n",
      "          0.        ,   0.        ],\n",
      "       [  0.        ,   0.        ,   0.        , ...,   3.782707  ,\n",
      "          0.        ,   0.        ],\n",
      "       [  0.        ,   0.        ,   0.        , ..., -15.0721675 ,\n",
      "          0.        ,   0.        ]])], [array([[  0.        ,   0.        ,   0.        , ...,   7.        ,\n",
      "          0.        ,   0.        ],\n",
      "       [  0.        ,   0.        ,   0.        , ...,   9.        ,\n",
      "          0.        ,   0.        ],\n",
      "       [  0.        ,   0.        ,   0.        , ...,   0.42857143,\n",
      "          0.        ,   0.        ],\n",
      "       ...,\n",
      "       [  0.        ,   0.        ,   0.        , ...,   1.21051994,\n",
      "          0.        ,   0.        ],\n",
      "       [  0.        ,   0.        ,   0.        , ...,   3.59687044,\n",
      "          0.        ,   0.        ],\n",
      "       [  0.        ,   0.        ,   0.        , ..., -15.0721675 ,\n",
      "          0.        ,   0.        ]])]],)\n",
      "395.96952509880066 seconds\n",
      "CPU times: user 10min 9s, sys: 34.3 s, total: 10min 43s\n",
      "Wall time: 6min 35s\n"
     ]
    }
   ],
   "source": [
    "%%time\n",
    "start = time.time()\n",
    "scheduler = 'threads'\n",
    "res = dask.compute(lazy, scheduler=scheduler)\n",
    "print(res)\n",
    "\n",
    "print(time.time()-start, \"seconds\")"
   ]
  },
  {
   "cell_type": "code",
   "execution_count": 32,
   "metadata": {},
   "outputs": [
>>>>>>> master
    {
     "name": "stdout",
     "output_type": "stream",
     "text": [
<<<<<<< HEAD
      "Computing bipartite LCP\n"
     ]
    },
    {
     "name": "stderr",
     "output_type": "stream",
     "text": [
      "/home/jorge/Documents/2019/Camerino/ASSP2019/multipartite-weighted-link-prediction/linkpred/b_lcp.py:100: RuntimeWarning: invalid value encountered in double_scalars\n",
      "  cpi[i] = np.log2(fav / (fav + unfav))\n",
      "/home/jorge/Documents/2019/Camerino/ASSP2019/multipartite-weighted-link-prediction/linkpred/b_lcp.py:98: RuntimeWarning: overflow encountered in double_scalars\n",
      "  fav = comb(x.shape[1]-1, deg_r-1) * comb(x.shape[0]-1, deg_c-1)\n",
      "/home/jorge/Documents/2019/Camerino/ASSP2019/multipartite-weighted-link-prediction/linkpred/b_lcp.py:99: RuntimeWarning: overflow encountered in double_scalars\n",
      "  unfav = comb(x.shape[1]-1, deg_r) * comb(x.shape[0]-1, deg_c)\n",
      "/home/jorge/Documents/2019/Camerino/ASSP2019/multipartite-weighted-link-prediction/linkpred/b_lcp.py:98: RuntimeWarning: overflow encountered in double_scalars\n",
      "  fav = comb(x.shape[1]-1, deg_r-1) * comb(x.shape[0]-1, deg_c-1)\n",
      "/home/jorge/Documents/2019/Camerino/ASSP2019/multipartite-weighted-link-prediction/linkpred/b_lcp.py:99: RuntimeWarning: overflow encountered in double_scalars\n",
      "  unfav = comb(x.shape[1]-1, deg_r) * comb(x.shape[0]-1, deg_c)\n",
      "/home/jorge/Documents/2019/Camerino/ASSP2019/multipartite-weighted-link-prediction/linkpred/b_lcp.py:100: RuntimeWarning: divide by zero encountered in log2\n",
      "  cpi[i] = np.log2(fav / (fav + unfav))\n",
      "/home/jorge/Documents/2019/Camerino/ASSP2019/multipartite-weighted-link-prediction/linkpred/b_lcp.py:100: RuntimeWarning: divide by zero encountered in log2\n",
      "  cpi[i] = np.log2(fav / (fav + unfav))\n"
     ]
    },
    {
     "name": "stdout",
     "output_type": "stream",
     "text": [
      "100.00 %, 4.49 minutes\n",
      "Function 0 done\n",
      "100.00 %, 4.52 minutes\n",
      "Function 1 done\n",
      "([0, 1],)\n",
      "CPU times: user 822 ms, sys: 736 ms, total: 1.56 s\n",
      "Wall time: 4min 32s\n"
=======
      "Trial 1 starting...\n",
      "Trial 0 starting...\n",
      "Computing bipartite LCP\n",
      "Computing bipartite LCP\n",
      "100.00 %, 4.75 minutes\n",
      "... Trial 0 done\n",
      "100.00 %, 4.80 minutes\n",
      "... Trial 1 done\n",
      "([[array([[  0.        ,   0.        ,   0.        , ...,   8.        ,\n",
      "          0.        ,   0.        ],\n",
      "       [  0.        ,   0.        ,   0.        , ...,  10.        ,\n",
      "          0.        ,   0.        ],\n",
      "       [  0.        ,   0.        ,   0.        , ...,   0.47619048,\n",
      "          0.        ,   0.        ],\n",
      "       ...,\n",
      "       [  0.        ,   0.        ,   0.        , ...,   1.12644234,\n",
      "          0.        ,   0.        ],\n",
      "       [  0.        ,   0.        ,   0.        , ...,   3.782707  ,\n",
      "          0.        ,   0.        ],\n",
      "       [  0.        ,   0.        ,   0.        , ..., -15.0721675 ,\n",
      "          0.        ,   0.        ]])], [array([[  0.        ,   0.        ,   0.        , ...,   7.        ,\n",
      "          0.        ,   0.        ],\n",
      "       [  0.        ,   0.        ,   0.        , ...,   9.        ,\n",
      "          0.        ,   0.        ],\n",
      "       [  0.        ,   0.        ,   0.        , ...,   0.42857143,\n",
      "          0.        ,   0.        ],\n",
      "       ...,\n",
      "       [  0.        ,   0.        ,   0.        , ...,   1.21051994,\n",
      "          0.        ,   0.        ],\n",
      "       [  0.        ,   0.        ,   0.        , ...,   3.59687044,\n",
      "          0.        ,   0.        ],\n",
      "       [  0.        ,   0.        ,   0.        , ..., -15.0721675 ,\n",
      "          0.        ,   0.        ]])]],)\n",
      "290.94722628593445 seconds\n",
      "CPU times: user 1.42 s, sys: 1.59 s, total: 3.01 s\n",
      "Wall time: 4min 50s\n"
>>>>>>> master
     ]
    }
   ],
   "source": [
    "%%time\n",
<<<<<<< HEAD
    "scheduler = 'processes'\n",
    "res = dask.compute(lazy, scheduler=scheduler)\n",
    "print(res)"
=======
    "start = time.time()\n",
    "scheduler = 'processes'\n",
    "res = dask.compute(lazy, scheduler=scheduler)\n",
    "print(res)\n",
    "\n",
    "print(time.time()-start, \"seconds\")"
>>>>>>> master
   ]
  },
  {
   "cell_type": "code",
   "execution_count": null,
   "metadata": {},
   "outputs": [],
   "source": []
  },
  {
   "cell_type": "code",
   "execution_count": null,
   "metadata": {},
   "outputs": [],
<<<<<<< HEAD
   "source": []
=======
   "source": [
    "import dask\n",
    "from dask import array as da\n",
    "X = da.random.random((200000, 10), chunks=(10000, 10))\n",
    "u, s, v = da.linalg.svd(X)\n",
    "dask.visualize(v)"
   ]
>>>>>>> master
  },
  {
   "cell_type": "code",
   "execution_count": null,
   "metadata": {},
   "outputs": [],
   "source": []
  },
  {
   "cell_type": "code",
   "execution_count": null,
   "metadata": {},
   "outputs": [],
   "source": []
  },
  {
   "cell_type": "code",
   "execution_count": null,
   "metadata": {},
   "outputs": [],
   "source": [
    "# JC\n",
    "r = b_val.cross_val(b_lcp.bipartite_lcp_single, bmat_recipe_ingr, links_to_del_recipe_ingr, \n",
    "                    *('jc',), mode='lcp', loops=loops, verbose=verbose, plot=plot)\n",
    "print(np.mean(r, axis=0))\n",
    "print(np.std(r, axis=0))"
   ]
  },
  {
   "cell_type": "code",
   "execution_count": null,
   "metadata": {},
   "outputs": [],
   "source": [
    "# CJC\n",
    "r = b_val.cross_val(b_lcp.bipartite_lcp_single, bmat_recipe_ingr, links_to_del_recipe_ingr, \n",
    "                    *('cjc',), mode='lcp', loops=loops, verbose=verbose, plot=plot)\n",
    "print(np.mean(r, axis=0))\n",
    "print(np.std(r, axis=0))"
   ]
  },
  {
   "cell_type": "code",
   "execution_count": null,
   "metadata": {},
   "outputs": [],
   "source": [
    "# CRA\n",
    "r = b_val.cross_val(b_lcp.bipartite_lcp_single, bmat_recipe_ingr, links_to_del_recipe_ingr, \n",
    "                    *('cra',), mode='lcp', loops=loops, verbose=verbose, plot=plot)\n",
    "print(np.mean(r, axis=0))\n",
    "print(np.std(r, axis=0))"
   ]
  },
  {
   "cell_type": "code",
   "execution_count": null,
   "metadata": {},
   "outputs": [],
   "source": [
    "# CAR\n",
    "r = b_val.cross_val(b_lcp.bipartite_lcp_single, bmat_recipe_ingr, links_to_del_recipe_ingr, \n",
    "                    *('cn',), mode='lcp', loops=loops, verbose=verbose, plot=plot)\n",
    "print(np.mean(r, axis=0))\n",
    "print(np.std(r, axis=0))"
   ]
  },
  {
   "cell_type": "code",
   "execution_count": null,
   "metadata": {},
   "outputs": [],
   "source": [
    "# RA\n",
    "r = b_val.cross_val(b_lcp.bipartite_lcp_single, bmat_recipe_ingr, links_to_del_recipe_ingr, \n",
    "                    *('ra',), mode='lcp', loops=loops, verbose=verbose, plot=plot)\n",
    "print(np.mean(r, axis=0))\n",
    "print(np.std(r, axis=0))"
   ]
  },
  {
   "cell_type": "code",
   "execution_count": null,
   "metadata": {},
   "outputs": [],
   "source": [
    "# CPA\n",
    "r = b_val.cross_val(b_lcp.bipartite_lcp_single, bmat_recipe_ingr, links_to_del_recipe_ingr, \n",
    "                    *('cpa',), mode='lcp', loops=loops, verbose=verbose, plot=plot)\n",
    "print(np.mean(r, axis=0))\n",
    "print(np.std(r, axis=0))"
   ]
  },
  {
   "cell_type": "code",
   "execution_count": null,
   "metadata": {},
   "outputs": [],
   "source": [
    "# MI links\n",
    "r = b_val.cross_val(b_si.si_scores, bmat_recipe_ingr, links_to_del_recipe_ingr, \n",
    "                    *(b_probas.proba_comb_links_all, b_mi.mi_lcl_cc), \n",
    "                   mode='si_bp', loops=loops, verbose=verbose, plot=plot)\n",
    "print(np.mean(r, axis=0))\n",
    "print(np.std(r, axis=0))"
   ]
  },
  {
   "cell_type": "code",
   "execution_count": null,
   "metadata": {},
   "outputs": [],
   "source": [
    "# MI degree\n",
    "r = b_val.cross_val(b_si.si_scores, bmat_recipe_ingr, links_to_del_recipe_ingr, \n",
    "                    *(b_probas.proba_comb_deg_all, b_mi.mi_lcl_cc), \n",
    "                   mode='si_bp', loops=loops, verbose=verbose, plot=plot)\n",
    "print(np.mean(r, axis=0))\n",
    "print(np.std(r, axis=0))"
   ]
  },
  {
   "cell_type": "markdown",
   "metadata": {},
   "source": [
    "### Ingredient-Compound"
   ]
  },
  {
   "cell_type": "code",
   "execution_count": null,
   "metadata": {
    "scrolled": true
   },
   "outputs": [],
   "source": [
    "# CN\n",
    "r = b_val.cross_val(b_lcp.bipartite_lcp_single, bmat_ingr_comp, links_to_del_ingr_comp, \n",
    "                    *('cn',), mode='lcp', loops=loops, verbose=verbose, plot=plot)\n",
    "print(np.mean(r, axis=0))\n",
    "print(np.std(r, axis=0))"
   ]
  },
  {
   "cell_type": "code",
   "execution_count": null,
   "metadata": {},
   "outputs": [],
   "source": [
    "# LCL\n",
    "r = b_val.cross_val(b_lcp.bipartite_lcp_single, bmat_ingr_comp, links_to_del_ingr_comp, \n",
    "                    *('lcl',), mode='lcp', loops=loops, verbose=verbose, plot=plot)\n",
    "print(np.mean(r, axis=0))\n",
    "print(np.std(r, axis=0))"
   ]
  },
  {
   "cell_type": "code",
   "execution_count": null,
   "metadata": {},
   "outputs": [],
   "source": [
    "# JC\n",
    "r = b_val.cross_val(b_lcp.bipartite_lcp_single, bmat_ingr_comp, links_to_del_ingr_comp, \n",
    "                    *('jc',), mode='lcp', loops=loops, verbose=verbose, plot=plot)\n",
    "print(np.mean(r, axis=0))\n",
    "print(np.std(r, axis=0))"
   ]
  },
  {
   "cell_type": "code",
   "execution_count": null,
   "metadata": {},
   "outputs": [],
   "source": [
    "# CJC\n",
    "r = b_val.cross_val(b_lcp.bipartite_lcp_single, bmat_ingr_comp, links_to_del_ingr_comp, \n",
    "                    *('cjc',), mode='lcp', loops=loops, verbose=verbose, plot=plot)\n",
    "print(np.mean(r, axis=0))\n",
    "print(np.std(r, axis=0))"
   ]
  },
  {
   "cell_type": "code",
   "execution_count": null,
   "metadata": {},
   "outputs": [],
   "source": [
    "# CRA\n",
    "r = b_val.cross_val(b_lcp.bipartite_lcp_single, bmat_ingr_comp, links_to_del_ingr_comp, \n",
    "                    *('cra',), mode='lcp', loops=loops, verbose=verbose, plot=plot)\n",
    "print(np.mean(r, axis=0))\n",
    "print(np.std(r, axis=0))"
   ]
  },
  {
   "cell_type": "code",
   "execution_count": null,
   "metadata": {},
   "outputs": [],
   "source": [
    "# CAR\n",
    "r = b_val.cross_val(b_lcp.bipartite_lcp_single, bmat_ingr_comp, links_to_del_ingr_comp, \n",
    "                    *('cn',), mode='lcp', loops=loops, verbose=verbose, plot=plot)\n",
    "print(np.mean(r, axis=0))\n",
    "print(np.std(r, axis=0))"
   ]
  },
  {
   "cell_type": "code",
   "execution_count": null,
   "metadata": {},
   "outputs": [],
   "source": [
    "# RA\n",
    "r = b_val.cross_val(b_lcp.bipartite_lcp_single, bmat_ingr_comp, links_to_del_ingr_comp, \n",
    "                    *('ra',), mode='lcp', loops=loops, verbose=verbose, plot=plot)\n",
    "print(np.mean(r, axis=0))\n",
    "print(np.std(r, axis=0))"
   ]
  },
  {
   "cell_type": "code",
   "execution_count": null,
   "metadata": {},
   "outputs": [],
   "source": [
    "# CPA\n",
    "r = b_val.cross_val(b_lcp.bipartite_lcp_single, bmat_ingr_comp, links_to_del_ingr_comp, \n",
    "                    *('cpa',), mode='lcp', loops=loops, verbose=verbose, plot=plot)\n",
    "print(np.mean(r, axis=0))\n",
    "print(np.std(r, axis=0))"
   ]
  },
  {
   "cell_type": "code",
   "execution_count": null,
   "metadata": {},
   "outputs": [],
   "source": [
    "# MI links\n",
    "r = b_val.cross_val(b_si.si_scores, bmat_ingr_comp, links_to_del_ingr_comp, \n",
    "                    *(b_probas.proba_comb_links_all, b_mi.mi_lcl_cc), \n",
    "                   mode='si_bp', loops=loops, verbose=verbose, plot=plot)\n",
    "print(np.mean(r, axis=0))\n",
    "print(np.std(r, axis=0))"
   ]
  },
  {
   "cell_type": "code",
   "execution_count": null,
   "metadata": {},
   "outputs": [],
   "source": [
    "# MI degree\n",
    "r = b_val.cross_val(b_si.si_scores, bmat_ingr_comp, links_to_del_ingr_comp, \n",
    "                    *(b_probas.proba_comb_deg_all, b_mi.mi_lcl_cc), \n",
    "                   mode='si_bp', loops=loops, verbose=verbose, plot=plot)\n",
    "print(np.mean(r, axis=0))\n",
    "print(np.std(r, axis=0))"
   ]
  },
  {
   "cell_type": "code",
   "execution_count": null,
   "metadata": {},
   "outputs": [],
   "source": []
  }
 ],
 "metadata": {
  "kernelspec": {
   "display_name": "Python 3",
   "language": "python",
   "name": "python3"
  },
  "language_info": {
   "codemirror_mode": {
    "name": "ipython",
    "version": 3
   },
   "file_extension": ".py",
   "mimetype": "text/x-python",
   "name": "python",
   "nbconvert_exporter": "python",
   "pygments_lexer": "ipython3",
   "version": "3.6.8"
  }
 },
 "nbformat": 4,
 "nbformat_minor": 4
}
