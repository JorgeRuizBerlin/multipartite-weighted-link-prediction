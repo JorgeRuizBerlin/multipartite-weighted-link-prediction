{
 "cells": [
  {
   "cell_type": "code",
   "execution_count": 1,
   "metadata": {},
   "outputs": [],
   "source": [
    "import numpy as np\n",
    "import networkx as nx\n",
    "import matplotlib.pyplot as plt\n",
    "import pandas as pd\n",
    "from networkx.algorithms import bipartite"
   ]
  },
  {
   "cell_type": "markdown",
   "metadata": {},
   "source": [
    "### Component info"
   ]
  },
  {
   "cell_type": "code",
   "execution_count": 2,
   "metadata": {},
   "outputs": [],
   "source": [
    "comp_info = np.loadtxt('../data/recipes/comp_info.tsv', dtype=str, delimiter='\\t')"
   ]
  },
  {
   "cell_type": "code",
   "execution_count": 3,
   "metadata": {},
   "outputs": [
    {
     "data": {
      "text/plain": [
       "array([['0', 'jasmone', '488-10-8'],\n",
       "       ['1', '5-methylhexanoic_acid', '628-46-6'],\n",
       "       ['2', 'l-glutamine', '56-85-9'],\n",
       "       ...,\n",
       "       ['1104', 'guaiacol', '90-05-1'],\n",
       "       ['1105', '(+/?)-methyl_5-acetoxyhexanoate', '35234-22-1'],\n",
       "       ['1106', 'ethyl_sorbate', '2396-84-1']], dtype='<U93')"
      ]
     },
     "execution_count": 3,
     "metadata": {},
     "output_type": "execute_result"
    }
   ],
   "source": [
    "comp_info"
   ]
  },
  {
   "cell_type": "code",
   "execution_count": 4,
   "metadata": {},
   "outputs": [],
   "source": [
    "id_comp_dict = dict()\n",
    "for line in comp_info:\n",
    "    id_comp_dict[int(line[0])] = line[1]\n",
    "comp_id_dict = {v:k for k, v in id_comp_dict.items()}"
   ]
  },
  {
   "cell_type": "markdown",
   "metadata": {},
   "source": [
    "### Ingredient info"
   ]
  },
  {
   "cell_type": "code",
   "execution_count": 5,
   "metadata": {},
   "outputs": [],
   "source": [
    "ingr_info = np.loadtxt('../data/recipes/ingr_info.tsv', dtype=str, delimiter='\\t')"
   ]
  },
  {
   "cell_type": "code",
   "execution_count": 6,
   "metadata": {},
   "outputs": [
    {
     "data": {
      "text/plain": [
       "array([['0', 'magnolia_tripetala', 'flower'],\n",
       "       ['1', 'calyptranthes_parriculata', 'plant'],\n",
       "       ['2', 'chamaecyparis_pisifera_oil', 'plant derivative'],\n",
       "       ...,\n",
       "       ['1527', 'green_tea', 'plant derivative'],\n",
       "       ['1528', 'artemisia_porrecta_oil', 'plant derivative'],\n",
       "       ['1529', 'munster_cheese', 'dairy']], dtype='<U35')"
      ]
     },
     "execution_count": 6,
     "metadata": {},
     "output_type": "execute_result"
    }
   ],
   "source": [
    "ingr_info"
   ]
  },
  {
   "cell_type": "code",
   "execution_count": 7,
   "metadata": {},
   "outputs": [],
   "source": [
    "id_ingr_dict = dict()\n",
    "for line in ingr_info:\n",
    "    id_ingr_dict[int(line[0])] = line[1]\n",
    "ingr_id_dict = {v:k for k, v in id_ingr_dict.items()}"
   ]
  },
  {
   "cell_type": "markdown",
   "metadata": {},
   "source": [
    "### Recipes and regions"
   ]
  },
  {
   "cell_type": "code",
   "execution_count": 8,
   "metadata": {},
   "outputs": [],
   "source": [
    "recipes_dict = dict()\n",
    "regions_dict = dict()"
   ]
  },
  {
   "cell_type": "code",
   "execution_count": 9,
   "metadata": {},
   "outputs": [],
   "source": [
    "with open('../data/recipes/menu_recipes.txt') as f:\n",
    "    for i, line in enumerate(f):\n",
    "        alist = line.rstrip('\\n').split()\n",
    "        region = alist[0]\n",
    "        ingr = alist[1:]\n",
    "        regions_dict[i] = region\n",
    "        recipes_dict[i] = ingr"
   ]
  },
  {
   "cell_type": "code",
   "execution_count": 10,
   "metadata": {},
   "outputs": [],
   "source": [
    "id_region_dict = dict()\n",
    "region_id_dict = dict()\n",
    "for i, region in enumerate(set(regions_dict.values())):\n",
    "    id_region_dict[i] = region\n",
    "    region_id_dict[region] = i"
   ]
  },
  {
   "cell_type": "markdown",
   "metadata": {},
   "source": [
    "### Region/recipe biadjacency matrix"
   ]
  },
  {
   "cell_type": "code",
   "execution_count": 11,
   "metadata": {},
   "outputs": [],
   "source": [
    "bmat_region_recipe = np.zeros((len(id_region_dict), len(recipes_dict)))\n",
    "for recipe, region in regions_dict.items():\n",
    "    j = recipe\n",
    "    i = region_id_dict[region]\n",
    "    bmat_region_recipe[i, j] = 1"
   ]
  },
  {
   "cell_type": "code",
   "execution_count": 12,
   "metadata": {},
   "outputs": [
    {
     "data": {
      "text/plain": [
       "(8, 2458)"
      ]
     },
     "execution_count": 12,
     "metadata": {},
     "output_type": "execute_result"
    }
   ],
   "source": [
    "bmat_region_recipe.shape"
   ]
  },
  {
   "cell_type": "markdown",
   "metadata": {},
   "source": [
    "### Recipe/ingredient biadjacency matrix"
   ]
  },
  {
   "cell_type": "code",
   "execution_count": 13,
   "metadata": {},
   "outputs": [],
   "source": [
    "bmat_recipe_ingr = np.zeros((len(recipes_dict), len(id_ingr_dict)))\n",
    "for recipe, ingreds in recipes_dict.items():\n",
    "    i = recipe\n",
    "    jlist = [ingr_id_dict[x] for x in ingreds]\n",
    "    bmat_recipe_ingr[i, jlist] = 1"
   ]
  },
  {
   "cell_type": "code",
   "execution_count": 14,
   "metadata": {},
   "outputs": [
    {
     "name": "stdout",
     "output_type": "stream",
     "text": [
      "['sesame_oil', 'garlic', 'lettuce', 'beef', 'sake', 'beef_broth', 'scallion', 'oyster', 'vegetable_oil', 'soy_sauce', 'starch', 'onion']\n",
      "['onion', 'beef', 'starch', 'sake', 'soy_sauce', 'scallion', 'lettuce', 'garlic', 'vegetable_oil', 'beef_broth', 'oyster', 'sesame_oil']\n"
     ]
    }
   ],
   "source": [
    "print([id_ingr_dict[x] for x in np.argwhere(bmat_recipe_ingr[0]).flatten()])\n",
    "print(recipes_dict[0])"
   ]
  },
  {
   "cell_type": "code",
   "execution_count": 15,
   "metadata": {},
   "outputs": [
    {
     "data": {
      "text/plain": [
       "(2458, 1530)"
      ]
     },
     "execution_count": 15,
     "metadata": {},
     "output_type": "execute_result"
    }
   ],
   "source": [
    "bmat_recipe_ingr.shape"
   ]
  },
  {
   "cell_type": "markdown",
   "metadata": {},
   "source": [
    "### Ingredient/compound biadjacency matrix"
   ]
  },
  {
   "cell_type": "code",
   "execution_count": 16,
   "metadata": {},
   "outputs": [],
   "source": [
    "ingr_comp = np.loadtxt('../data/recipes/ingr_comp.tsv', dtype=int, delimiter='\\t')"
   ]
  },
  {
   "cell_type": "code",
   "execution_count": 17,
   "metadata": {},
   "outputs": [
    {
     "data": {
      "text/plain": [
       "array([[1392,  906],\n",
       "       [1259,  861],\n",
       "       [1079,  673],\n",
       "       ...,\n",
       "       [ 689,  650],\n",
       "       [ 689,  297],\n",
       "       [1080,   13]])"
      ]
     },
     "execution_count": 17,
     "metadata": {},
     "output_type": "execute_result"
    }
   ],
   "source": [
    "ingr_comp"
   ]
  },
  {
   "cell_type": "code",
   "execution_count": 18,
   "metadata": {},
   "outputs": [],
   "source": [
    "bmat_ingr_comp = np.zeros((len(id_ingr_dict), len(id_comp_dict)))\n",
    "for item in ingr_comp:\n",
    "    i, j = item\n",
    "    bmat_ingr_comp[i, j] = 1"
   ]
  },
  {
   "cell_type": "code",
   "execution_count": 19,
   "metadata": {},
   "outputs": [
    {
     "name": "stdout",
     "output_type": "stream",
     "text": [
      "1.0\n",
      "0.0\n"
     ]
    }
   ],
   "source": [
    "print(bmat_ingr_comp[1392, 906])\n",
    "print(bmat_ingr_comp[1392, 907])"
   ]
  },
  {
   "cell_type": "code",
   "execution_count": 20,
   "metadata": {},
   "outputs": [
    {
     "data": {
      "text/plain": [
       "(1530, 1107)"
      ]
     },
     "execution_count": 20,
     "metadata": {},
     "output_type": "execute_result"
    }
   ],
   "source": [
    "bmat_ingr_comp.shape"
   ]
  },
  {
   "cell_type": "markdown",
   "metadata": {},
   "source": [
    "### Setup for link prediction"
   ]
  },
  {
   "cell_type": "code",
   "execution_count": 21,
   "metadata": {},
   "outputs": [],
   "source": [
    "import os\n",
    "import sys\n",
    "linkpred_path = os.path.abspath(os.path.join('../linkpred/'))\n",
    "if linkpred_path not in sys.path:\n",
    "    sys.path.append(linkpred_path)\n",
    "\n",
    "import b_lcp, b_mi, b_probas, b_si, b_util, b_val"
   ]
  },
  {
   "cell_type": "code",
   "execution_count": 22,
   "metadata": {},
   "outputs": [],
   "source": [
    "fraction = 0.1\n",
    "loops = 100 #1\n",
    "verbose=True\n",
    "plot=True"
   ]
  },
  {
   "cell_type": "code",
   "execution_count": 23,
   "metadata": {},
   "outputs": [],
   "source": [
    "# Precompute links to delete for all datasets\n",
    "links_to_del_region_recipe = b_val.get_links_to_del(bmat_region_recipe, fraction=fraction, loops=loops)\n",
    "links_to_del_recipe_ingr = b_val.get_links_to_del(bmat_recipe_ingr, fraction=fraction, loops=loops)\n",
    "links_to_del_ingr_comp = b_val.get_links_to_del(bmat_ingr_comp, fraction=fraction, loops=loops)"
   ]
  },
  {
   "cell_type": "code",
   "execution_count": null,
   "metadata": {},
   "outputs": [],
   "source": []
  },
  {
   "cell_type": "markdown",
   "metadata": {},
   "source": [
    "# Jorge's approach:\n",
    "## to calculate ALL the scores for a given dataset and deleted links, then call it in the next functions"
   ]
  },
  {
   "cell_type": "code",
   "execution_count": 24,
   "metadata": {},
   "outputs": [],
   "source": [
    "def delete_links(x, links_to_del):\n",
    "    \"\"\"Deletes the specified links from an adjacency matrix.\"\"\"\n",
    "    x_ = np.copy(x)\n",
    "    for link in links_to_del:\n",
    "        x_[link[0], link[1]] = 0\n",
    "        \n",
    "    return x_"
   ]
  },
  {
   "cell_type": "code",
   "execution_count": null,
   "metadata": {},
   "outputs": [],
   "source": [
    "bmat_recipe_ingr.shape"
   ]
  },
  {
   "cell_type": "code",
   "execution_count": null,
   "metadata": {},
   "outputs": [],
   "source": [
    "links_to_del_recipe_ingr.shape"
   ]
  },
  {
   "cell_type": "code",
   "execution_count": 62,
   "metadata": {},
   "outputs": [
    {
     "name": "stdout",
     "output_type": "stream",
     "text": [
      "Computing bipartite LCP\n"
     ]
    },
    {
     "name": "stderr",
     "output_type": "stream",
     "text": [
      "/home/jorge/Documents/2019/Camerino/ASSP2019/multipartite-weighted-link-prediction/linkpred/b_lcp.py:100: RuntimeWarning: invalid value encountered in double_scalars\n",
      "  cpi[i] = np.log2(fav / (fav + unfav))\n",
      "/home/jorge/Documents/2019/Camerino/ASSP2019/multipartite-weighted-link-prediction/linkpred/b_lcp.py:98: RuntimeWarning: overflow encountered in double_scalars\n",
      "  fav = comb(x.shape[1]-1, deg_r-1) * comb(x.shape[0]-1, deg_c-1)\n",
      "/home/jorge/Documents/2019/Camerino/ASSP2019/multipartite-weighted-link-prediction/linkpred/b_lcp.py:99: RuntimeWarning: overflow encountered in double_scalars\n",
      "  unfav = comb(x.shape[1]-1, deg_r) * comb(x.shape[0]-1, deg_c)\n",
      "/home/jorge/Documents/2019/Camerino/ASSP2019/multipartite-weighted-link-prediction/linkpred/b_lcp.py:100: RuntimeWarning: divide by zero encountered in log2\n",
      "  cpi[i] = np.log2(fav / (fav + unfav))\n"
     ]
    },
    {
     "name": "stdout",
     "output_type": "stream",
     "text": [
      "100.00 %, 4.11 minutes\n"
     ]
    }
   ],
   "source": [
    "scores_list = []\n",
    "for i in range(1):#loops):    \n",
    "    x_ = delete_links(bmat_recipe_ingr, links_to_del_recipe_ingr[i])\n",
    "    missing = np.argwhere(x_ == 0)\n",
    "    ## SAVE ALL THE SCORES:\n",
    "    lcp_scores = b_lcp.bipartite_lcp_all(x_, missing, verbose=verbose)\n",
    "    scores_list.append(lcp_scores)\n",
    "scores_array = np.array(scores_list)"
   ]
  },
  {
   "cell_type": "code",
   "execution_count": null,
   "metadata": {},
   "outputs": [],
   "source": [
    "scores_array.shape"
   ]
  },
  {
   "cell_type": "code",
   "execution_count": null,
   "metadata": {},
   "outputs": [],
   "source": [
    "assert links_to_del_recipe_ingr.shape[0] == loops"
   ]
  },
  {
   "cell_type": "code",
   "execution_count": 63,
   "metadata": {},
   "outputs": [],
   "source": [
    "metrics_list = ['lcl', 'cn', 'jc', 'car', 'cjc', 'cpa', 'ra', 'aa', 'cra', 'caa', 'cpi']\n",
    "\n",
    "def cross_val(scores, metric, loops=1, raw_output=False, verbose=True, plot=False):\n",
    "    if raw_output:\n",
    "        scores_list = []\n",
    "        true_list = []\n",
    "    else:\n",
    "        results = np.zeros((loops, 2))\n",
    "\n",
    "    for i in range(loops):\n",
    "        if verbose:\n",
    "            print('Trial {} of {}'.format(i + 1, loops))\n",
    "        x_ = delete_links(bmat_recipe_ingr, links_to_del_recipe_ingr[i])\n",
    "        missing = np.argwhere(x_ == 0)\n",
    "        true = bmat_recipe_ingr[missing[:,0], missing[:,1]]\n",
    "        \n",
    "        score = scores_array[i, metrics_list.index(metric)]\n",
    "        \n",
    "        if raw_output:\n",
    "            scores_list.append(score)\n",
    "            true_list.append(true)\n",
    "        else:\n",
    "            results[i] = b_val.evaluate_predictions(true, score, plot=plot)\n",
    "        \n",
    "    if raw_output:\n",
    "        return true_list, scores_list\n",
    "    else:\n",
    "        return results"
   ]
  },
  {
   "cell_type": "code",
   "execution_count": 64,
   "metadata": {
    "scrolled": true
   },
   "outputs": [
    {
     "name": "stdout",
     "output_type": "stream",
     "text": [
      "Trial 1 of 1\n"
     ]
    },
    {
     "data": {
      "image/png": "[encoded data removed]",
      "text/plain": [
       "<Figure size 432x288 with 1 Axes>"
      ]
     },
     "metadata": {},
     "output_type": "display_data"
    },
    {
     "name": "stdout",
     "output_type": "stream",
     "text": [
      "[0.08077459 0.98405654]\n",
      "[0. 0.]\n"
     ]
    }
   ],
   "source": [
    "r_cn = cross_val(lcp_scores, 'cn', loops=1, verbose=verbose, plot=plot)\n",
    "print(np.mean(r_cn, axis=0))\n",
    "print(np.std(r_cn, axis=0))"
   ]
  },
  {
   "cell_type": "code",
   "execution_count": 65,
   "metadata": {},
   "outputs": [
    {
     "data": {
      "text/plain": [
       "array([[0.08077459, 0.98405654]])"
      ]
     },
     "execution_count": 65,
     "metadata": {},
     "output_type": "execute_result"
    }
   ],
   "source": [
    "r_cn"
   ]
  },
  {
   "cell_type": "code",
   "execution_count": 66,
   "metadata": {
    "scrolled": true
   },
   "outputs": [
    {
     "name": "stdout",
     "output_type": "stream",
     "text": [
      "Trial 1 of 1\n"
     ]
    },
    {
     "data": {
      "image/png": "[encoded data removed]",
      "text/plain": [
       "<Figure size 432x288 with 1 Axes>"
      ]
     },
     "metadata": {},
     "output_type": "display_data"
    },
    {
     "name": "stdout",
     "output_type": "stream",
     "text": [
      "[0.0896664  0.98454393]\n",
      "[0. 0.]\n"
     ]
    }
   ],
   "source": [
    "r_lcl = cross_val(lcp_scores, 'lcl', loops=1, verbose=verbose, plot=plot)\n",
    "print(np.mean(r_lcl, axis=0))\n",
    "print(np.std(r_lcl, axis=0))"
   ]
  },
  {
   "cell_type": "code",
   "execution_count": 67,
   "metadata": {},
   "outputs": [
    {
     "data": {
      "text/plain": [
       "array([[0.0896664 , 0.98454393]])"
      ]
     },
     "execution_count": 67,
     "metadata": {},
     "output_type": "execute_result"
    }
   ],
   "source": [
    "r_lcl"
   ]
  },
  {
   "cell_type": "markdown",
   "metadata": {},
   "source": [
    "### Recipe-Ingredient"
   ]
  },
  {
   "cell_type": "code",
   "execution_count": 68,
   "metadata": {},
   "outputs": [
    {
     "ename": "AssertionError",
     "evalue": "",
     "output_type": "error",
     "traceback": [
      "\u001b[0;31m---------------------------------------------------------------------------\u001b[0m",
      "\u001b[0;31mAssertionError\u001b[0m                            Traceback (most recent call last)",
      "\u001b[0;32m<ipython-input-68-c7f0b5e14901>\u001b[0m in \u001b[0;36m<module>\u001b[0;34m()\u001b[0m\n\u001b[1;32m      1\u001b[0m \u001b[0;31m# CN\u001b[0m\u001b[0;34m\u001b[0m\u001b[0;34m\u001b[0m\u001b[0;34m\u001b[0m\u001b[0m\n\u001b[1;32m      2\u001b[0m r01 = b_val.cross_val(b_lcp.bipartite_lcp_single, bmat_recipe_ingr, links_to_del_recipe_ingr, \n\u001b[0;32m----> 3\u001b[0;31m                     *('cn',), mode='lcp', loops=1, verbose=verbose, plot=plot)\n\u001b[0m\u001b[1;32m      4\u001b[0m \u001b[0mprint\u001b[0m\u001b[0;34m(\u001b[0m\u001b[0mnp\u001b[0m\u001b[0;34m.\u001b[0m\u001b[0mmean\u001b[0m\u001b[0;34m(\u001b[0m\u001b[0mr01\u001b[0m\u001b[0;34m,\u001b[0m \u001b[0maxis\u001b[0m\u001b[0;34m=\u001b[0m\u001b[0;36m0\u001b[0m\u001b[0;34m)\u001b[0m\u001b[0;34m)\u001b[0m\u001b[0;34m\u001b[0m\u001b[0;34m\u001b[0m\u001b[0m\n\u001b[1;32m      5\u001b[0m \u001b[0mprint\u001b[0m\u001b[0;34m(\u001b[0m\u001b[0mnp\u001b[0m\u001b[0;34m.\u001b[0m\u001b[0mstd\u001b[0m\u001b[0;34m(\u001b[0m\u001b[0mr01\u001b[0m\u001b[0;34m,\u001b[0m \u001b[0maxis\u001b[0m\u001b[0;34m=\u001b[0m\u001b[0;36m0\u001b[0m\u001b[0;34m)\u001b[0m\u001b[0;34m)\u001b[0m\u001b[0;34m\u001b[0m\u001b[0;34m\u001b[0m\u001b[0m\n",
      "\u001b[0;32m~/Documents/2019/Camerino/ASSP2019/multipartite-weighted-link-prediction/linkpred/b_val.py\u001b[0m in \u001b[0;36mcross_val\u001b[0;34m(f, x, links_to_del, y, mode, loops, raw_output, verbose, plot, *args)\u001b[0m\n\u001b[1;32m     52\u001b[0m def cross_val(f, x, links_to_del, *args, y=None, mode='lcp', loops=10, \n\u001b[1;32m     53\u001b[0m               raw_output=False, verbose=True, plot=False):\n\u001b[0;32m---> 54\u001b[0;31m     \u001b[0;32massert\u001b[0m \u001b[0mlinks_to_del\u001b[0m\u001b[0;34m.\u001b[0m\u001b[0mshape\u001b[0m\u001b[0;34m[\u001b[0m\u001b[0;36m0\u001b[0m\u001b[0;34m]\u001b[0m \u001b[0;34m==\u001b[0m \u001b[0mloops\u001b[0m\u001b[0;34m\u001b[0m\u001b[0;34m\u001b[0m\u001b[0m\n\u001b[0m\u001b[1;32m     55\u001b[0m     \u001b[0;32mif\u001b[0m \u001b[0mraw_output\u001b[0m\u001b[0;34m:\u001b[0m\u001b[0;34m\u001b[0m\u001b[0;34m\u001b[0m\u001b[0m\n\u001b[1;32m     56\u001b[0m         \u001b[0mscores_list\u001b[0m \u001b[0;34m=\u001b[0m \u001b[0;34m[\u001b[0m\u001b[0;34m]\u001b[0m\u001b[0;34m\u001b[0m\u001b[0;34m\u001b[0m\u001b[0m\n",
      "\u001b[0;31mAssertionError\u001b[0m: "
     ]
    }
   ],
   "source": [
    "# CN\n",
    "r01 = b_val.cross_val(b_lcp.bipartite_lcp_single, bmat_recipe_ingr, links_to_del_recipe_ingr, \n",
    "                    *('cn',), mode='lcp', loops=1, verbose=verbose, plot=plot)\n",
    "print(np.mean(r01, axis=0))\n",
    "print(np.std(r01, axis=0))"
   ]
  },
  {
   "cell_type": "code",
   "execution_count": null,
   "metadata": {
    "scrolled": true
   },
   "outputs": [],
   "source": [
    "# LCL\n",
    "r02 = b_val.cross_val(b_lcp.bipartite_lcp_single, bmat_recipe_ingr, links_to_del_recipe_ingr, \n",
    "                    *('lcl',), mode='lcp', loops=1, verbose=verbose, plot=plot)\n",
    "print(np.mean(r02, axis=0))\n",
    "print(np.std(r02, axis=0))"
   ]
  },
  {
   "cell_type": "code",
   "execution_count": null,
   "metadata": {},
   "outputs": [],
   "source": []
  },
  {
   "cell_type": "markdown",
   "metadata": {},
   "source": [
    "# IT WORKS!\n",
    "## Now I have to parallelize the trials"
   ]
  },
  {
   "cell_type": "code",
   "execution_count": 25,
   "metadata": {},
   "outputs": [],
   "source": [
    "import time"
   ]
  },
  {
   "cell_type": "code",
   "execution_count": 26,
   "metadata": {},
   "outputs": [],
   "source": [
    "import dask"
   ]
  },
  {
   "cell_type": "code",
   "execution_count": 27,
   "metadata": {},
   "outputs": [],
   "source": [
    "from dask import delayed  # DON'T CHANGE (explained later)\n",
    "\n",
    "def func(i):\n",
    "    print(f'Trial {i} starting...')\n",
    "    scores_list = []\n",
    "    x_ = delete_links(bmat_recipe_ingr, links_to_del_recipe_ingr[i])\n",
    "    missing = np.argwhere(x_ == 0)\n",
    "    lcp_scores = b_lcp.bipartite_lcp_all(x_, missing, verbose=verbose)\n",
    "    scores_list.append(lcp_scores)\n",
    "    print(f'... Trial {i} done')\n",
    "    return scores_list\n",
    "\n",
    "#loops = 2\n",
    "#lazy = [delayed(func)(i) for i in range(2)]#loops)]  # DON'T CHANGE (explained later)"
   ]
  },
  {
   "cell_type": "code",
   "execution_count": null,
   "metadata": {},
   "outputs": [],
   "source": [
    "#dask.visualize(lazy)"
   ]
  },
  {
   "cell_type": "code",
   "execution_count": null,
   "metadata": {},
   "outputs": [],
   "source": [
    "\"\"\"%%time\n",
    "start = time.time()\n",
    "scheduler = 'single-threaded'\n",
    "res = dask.compute(lazy, scheduler=scheduler)\n",
    "print(res)\n",
    "\n",
    "print(time.time()-start, \"seconds\")\"\"\""
   ]
  },
  {
   "cell_type": "code",
   "execution_count": null,
   "metadata": {},
   "outputs": [],
   "source": [
    "\"\"\"%%time\n",
    "start = time.time()\n",
    "scheduler = 'threads'\n",
    "res = dask.compute(lazy, scheduler=scheduler)\n",
    "print(res)\n",
    "\n",
    "print(time.time()-start, \"seconds\")\"\"\""
   ]
  },
  {
   "cell_type": "code",
   "execution_count": null,
   "metadata": {
    "scrolled": true
   },
   "outputs": [],
   "source": [
    "\"\"\"%%time\n",
    "start = time.time()\n",
    "scheduler = 'processes'\n",
    "res = dask.compute(lazy, scheduler=scheduler)\n",
    "print(res)\n",
    "\n",
    "print(time.time()-start, \"seconds\")\"\"\""
   ]
  },
  {
   "cell_type": "code",
   "execution_count": null,
   "metadata": {
    "scrolled": true
   },
   "outputs": [],
   "source": [
    "#res[0]#.shape"
   ]
  },
  {
   "cell_type": "code",
   "execution_count": null,
   "metadata": {},
   "outputs": [],
   "source": [
    "#for r, rr in enumerate(res[0]):\n",
    "#    print(r, rr[0])"
   ]
  },
  {
   "cell_type": "code",
   "execution_count": null,
   "metadata": {},
   "outputs": [],
   "source": [
    "#res[0][0][0].shape"
   ]
  },
  {
   "cell_type": "code",
   "execution_count": null,
   "metadata": {},
   "outputs": [],
   "source": [
    "#res[0][0][0].shape[1]"
   ]
  },
  {
   "cell_type": "code",
   "execution_count": null,
   "metadata": {},
   "outputs": [],
   "source": [
    "#res[0][1][0].shape"
   ]
  },
  {
   "cell_type": "code",
   "execution_count": null,
   "metadata": {},
   "outputs": [],
   "source": []
  },
  {
   "cell_type": "markdown",
   "metadata": {},
   "source": [
    "# DON'T RUN the next line again, it takes a couple of hours to create the 100 npy files"
   ]
  },
  {
   "cell_type": "code",
   "execution_count": 30,
   "metadata": {},
   "outputs": [
    {
     "name": "stdout",
     "output_type": "stream",
     "text": [
      "Trial 9 starting...\n",
      "Trial 8 starting...\n",
      "Trial 4 starting...\n",
      "Trial 5 starting...\n",
      "Trial 2 starting...\n",
      "Trial 0 starting...\n",
      "Trial 3 starting...\n",
      "Trial 7 starting...\n",
      "Computing bipartite LCP\n"
     ]
    },
    {
     "name": "stderr",
     "output_type": "stream",
     "text": [
      "/home/jorge/Documents/2019/Camerino/ASSP2019/multipartite-weighted-link-prediction/linkpred/b_lcp.py:100: RuntimeWarning: invalid value encountered in double_scalars\n",
      "  cpi[i] = np.log2(fav / (fav + unfav))\n"
     ]
    },
    {
     "name": "stdout",
     "output_type": "stream",
     "text": [
      "Computing bipartite LCP\n"
     ]
    },
    {
     "name": "stderr",
     "output_type": "stream",
     "text": [
      "/home/jorge/Documents/2019/Camerino/ASSP2019/multipartite-weighted-link-prediction/linkpred/b_lcp.py:100: RuntimeWarning: invalid value encountered in double_scalars\n",
      "  cpi[i] = np.log2(fav / (fav + unfav))\n"
     ]
    },
    {
     "name": "stdout",
     "output_type": "stream",
     "text": [
      "Computing bipartite LCP\n"
     ]
    },
    {
     "name": "stderr",
     "output_type": "stream",
     "text": [
      "/home/jorge/Documents/2019/Camerino/ASSP2019/multipartite-weighted-link-prediction/linkpred/b_lcp.py:100: RuntimeWarning: invalid value encountered in double_scalars\n",
      "  cpi[i] = np.log2(fav / (fav + unfav))\n"
     ]
    },
    {
     "name": "stdout",
     "output_type": "stream",
     "text": [
      "Computing bipartite LCP\n"
     ]
    },
    {
     "name": "stderr",
     "output_type": "stream",
     "text": [
      "/home/jorge/Documents/2019/Camerino/ASSP2019/multipartite-weighted-link-prediction/linkpred/b_lcp.py:100: RuntimeWarning: invalid value encountered in double_scalars\n",
      "  cpi[i] = np.log2(fav / (fav + unfav))\n",
      "/home/jorge/Documents/2019/Camerino/ASSP2019/multipartite-weighted-link-prediction/linkpred/b_lcp.py:98: RuntimeWarning: overflow encountered in double_scalars\n",
      "  fav = comb(x.shape[1]-1, deg_r-1) * comb(x.shape[0]-1, deg_c-1)\n",
      "/home/jorge/Documents/2019/Camerino/ASSP2019/multipartite-weighted-link-prediction/linkpred/b_lcp.py:99: RuntimeWarning: overflow encountered in double_scalars\n",
      "  unfav = comb(x.shape[1]-1, deg_r) * comb(x.shape[0]-1, deg_c)\n",
      "/home/jorge/Documents/2019/Camerino/ASSP2019/multipartite-weighted-link-prediction/linkpred/b_lcp.py:98: RuntimeWarning: overflow encountered in double_scalars\n",
      "  fav = comb(x.shape[1]-1, deg_r-1) * comb(x.shape[0]-1, deg_c-1)\n",
      "/home/jorge/Documents/2019/Camerino/ASSP2019/multipartite-weighted-link-prediction/linkpred/b_lcp.py:99: RuntimeWarning: overflow encountered in double_scalars\n",
      "  unfav = comb(x.shape[1]-1, deg_r) * comb(x.shape[0]-1, deg_c)\n",
      "/home/jorge/Documents/2019/Camerino/ASSP2019/multipartite-weighted-link-prediction/linkpred/b_lcp.py:99: RuntimeWarning: overflow encountered in double_scalars\n",
      "  unfav = comb(x.shape[1]-1, deg_r) * comb(x.shape[0]-1, deg_c)\n",
      "/home/jorge/Documents/2019/Camerino/ASSP2019/multipartite-weighted-link-prediction/linkpred/b_lcp.py:100: RuntimeWarning: divide by zero encountered in log2\n",
      "  cpi[i] = np.log2(fav / (fav + unfav))\n",
      "/home/jorge/Documents/2019/Camerino/ASSP2019/multipartite-weighted-link-prediction/linkpred/b_lcp.py:98: RuntimeWarning: overflow encountered in double_scalars\n",
      "  fav = comb(x.shape[1]-1, deg_r-1) * comb(x.shape[0]-1, deg_c-1)\n",
      "/home/jorge/Documents/2019/Camerino/ASSP2019/multipartite-weighted-link-prediction/linkpred/b_lcp.py:98: RuntimeWarning: overflow encountered in double_scalars\n",
      "  fav = comb(x.shape[1]-1, deg_r-1) * comb(x.shape[0]-1, deg_c-1)\n"
     ]
    },
    {
     "name": "stdout",
     "output_type": "stream",
     "text": [
      "Computing bipartite LCP\n"
     ]
    },
    {
     "name": "stderr",
     "output_type": "stream",
     "text": [
      "/home/jorge/Documents/2019/Camerino/ASSP2019/multipartite-weighted-link-prediction/linkpred/b_lcp.py:99: RuntimeWarning: overflow encountered in double_scalars\n",
      "  unfav = comb(x.shape[1]-1, deg_r) * comb(x.shape[0]-1, deg_c)\n",
      "/home/jorge/Documents/2019/Camerino/ASSP2019/multipartite-weighted-link-prediction/linkpred/b_lcp.py:100: RuntimeWarning: divide by zero encountered in log2\n",
      "  cpi[i] = np.log2(fav / (fav + unfav))\n",
      "/home/jorge/Documents/2019/Camerino/ASSP2019/multipartite-weighted-link-prediction/linkpred/b_lcp.py:100: RuntimeWarning: invalid value encountered in double_scalars\n",
      "  cpi[i] = np.log2(fav / (fav + unfav))\n",
      "/home/jorge/Documents/2019/Camerino/ASSP2019/multipartite-weighted-link-prediction/linkpred/b_lcp.py:98: RuntimeWarning: overflow encountered in double_scalars\n",
      "  fav = comb(x.shape[1]-1, deg_r-1) * comb(x.shape[0]-1, deg_c-1)\n",
      "/home/jorge/Documents/2019/Camerino/ASSP2019/multipartite-weighted-link-prediction/linkpred/b_lcp.py:99: RuntimeWarning: overflow encountered in double_scalars\n",
      "  unfav = comb(x.shape[1]-1, deg_r) * comb(x.shape[0]-1, deg_c)\n",
      "/home/jorge/Documents/2019/Camerino/ASSP2019/multipartite-weighted-link-prediction/linkpred/b_lcp.py:100: RuntimeWarning: divide by zero encountered in log2\n",
      "  cpi[i] = np.log2(fav / (fav + unfav))\n"
     ]
    },
    {
     "name": "stdout",
     "output_type": "stream",
     "text": [
      "Computing bipartite LCP\n",
      "Computing bipartite LCP\n"
     ]
    },
    {
     "name": "stderr",
     "output_type": "stream",
     "text": [
      "/home/jorge/Documents/2019/Camerino/ASSP2019/multipartite-weighted-link-prediction/linkpred/b_lcp.py:100: RuntimeWarning: invalid value encountered in double_scalars\n",
      "  cpi[i] = np.log2(fav / (fav + unfav))\n",
      "/home/jorge/Documents/2019/Camerino/ASSP2019/multipartite-weighted-link-prediction/linkpred/b_lcp.py:100: RuntimeWarning: invalid value encountered in double_scalars\n",
      "  cpi[i] = np.log2(fav / (fav + unfav))\n",
      "/home/jorge/Documents/2019/Camerino/ASSP2019/multipartite-weighted-link-prediction/linkpred/b_lcp.py:98: RuntimeWarning: overflow encountered in double_scalars\n",
      "  fav = comb(x.shape[1]-1, deg_r-1) * comb(x.shape[0]-1, deg_c-1)\n",
      "/home/jorge/Documents/2019/Camerino/ASSP2019/multipartite-weighted-link-prediction/linkpred/b_lcp.py:99: RuntimeWarning: overflow encountered in double_scalars\n",
      "  unfav = comb(x.shape[1]-1, deg_r) * comb(x.shape[0]-1, deg_c)\n"
     ]
    },
    {
     "name": "stdout",
     "output_type": "stream",
     "text": [
      "Computing bipartite LCP\n"
     ]
    },
    {
     "name": "stderr",
     "output_type": "stream",
     "text": [
      "/home/jorge/Documents/2019/Camerino/ASSP2019/multipartite-weighted-link-prediction/linkpred/b_lcp.py:100: RuntimeWarning: invalid value encountered in double_scalars\n",
      "  cpi[i] = np.log2(fav / (fav + unfav))\n",
      "/home/jorge/Documents/2019/Camerino/ASSP2019/multipartite-weighted-link-prediction/linkpred/b_lcp.py:98: RuntimeWarning: overflow encountered in double_scalars\n",
      "  fav = comb(x.shape[1]-1, deg_r-1) * comb(x.shape[0]-1, deg_c-1)\n",
      "/home/jorge/Documents/2019/Camerino/ASSP2019/multipartite-weighted-link-prediction/linkpred/b_lcp.py:99: RuntimeWarning: overflow encountered in double_scalars\n",
      "  unfav = comb(x.shape[1]-1, deg_r) * comb(x.shape[0]-1, deg_c)\n",
      "/home/jorge/Documents/2019/Camerino/ASSP2019/multipartite-weighted-link-prediction/linkpred/b_lcp.py:100: RuntimeWarning: divide by zero encountered in log2\n",
      "  cpi[i] = np.log2(fav / (fav + unfav))\n",
      "/home/jorge/Documents/2019/Camerino/ASSP2019/multipartite-weighted-link-prediction/linkpred/b_lcp.py:98: RuntimeWarning: overflow encountered in double_scalars\n",
      "  fav = comb(x.shape[1]-1, deg_r-1) * comb(x.shape[0]-1, deg_c-1)\n",
      "/home/jorge/Documents/2019/Camerino/ASSP2019/multipartite-weighted-link-prediction/linkpred/b_lcp.py:99: RuntimeWarning: overflow encountered in double_scalars\n",
      "  unfav = comb(x.shape[1]-1, deg_r) * comb(x.shape[0]-1, deg_c)\n",
      "/home/jorge/Documents/2019/Camerino/ASSP2019/multipartite-weighted-link-prediction/linkpred/b_lcp.py:100: RuntimeWarning: divide by zero encountered in log2\n",
      "  cpi[i] = np.log2(fav / (fav + unfav))\n",
      "/home/jorge/Documents/2019/Camerino/ASSP2019/multipartite-weighted-link-prediction/linkpred/b_lcp.py:100: RuntimeWarning: divide by zero encountered in log2\n",
      "  cpi[i] = np.log2(fav / (fav + unfav))\n",
      "/home/jorge/Documents/2019/Camerino/ASSP2019/multipartite-weighted-link-prediction/linkpred/b_lcp.py:100: RuntimeWarning: divide by zero encountered in log2\n",
      "  cpi[i] = np.log2(fav / (fav + unfav))\n",
      "/home/jorge/Documents/2019/Camerino/ASSP2019/multipartite-weighted-link-prediction/linkpred/b_lcp.py:100: RuntimeWarning: divide by zero encountered in log2\n",
      "  cpi[i] = np.log2(fav / (fav + unfav))\n"
     ]
    },
    {
     "name": "stdout",
     "output_type": "stream",
     "text": [
      "100.00 %, 12.23 minutes\n",
      "... Trial 7 done\n",
      "Trial 6 starting...\n",
      "Computing bipartite LCP\n",
      "100.00 %, 12.36 minutes\n",
      "... Trial 0 done\n",
      "100.00 %, 12.44 minutes\n",
      "... Trial 2 done\n",
      "Trial 1 starting...\n",
      "Computing bipartite LCP\n",
      "100.00 %, 12.52 minutes\n",
      "... Trial 9 done\n",
      "100.00 %, 12.54 minutes\n",
      "... Trial 5 done\n",
      "100.00 %, 12.58 minutes\n",
      "... Trial 4 done\n",
      "100.00 %, 12.59 minutes\n",
      "... Trial 8 done\n",
      "100.00 %, 12.64 minutes\n",
      "... Trial 3 done\n",
      "100.00 %, 4.59 minutes\n",
      "... Trial 6 done\n",
      "100.00 %, 4.50 minutes\n",
      "... Trial 1 done\n",
      "Trial 15 starting...\n",
      "Trial 12 starting...\n",
      "Trial 11 starting...\n",
      "Trial 17 starting...\n",
      "Trial 18 starting...\n",
      "Trial 10 starting...\n",
      "Computing bipartite LCP\n"
     ]
    },
    {
     "name": "stderr",
     "output_type": "stream",
     "text": [
      "/home/jorge/Documents/2019/Camerino/ASSP2019/multipartite-weighted-link-prediction/linkpred/b_lcp.py:100: RuntimeWarning: invalid value encountered in double_scalars\n",
      "  cpi[i] = np.log2(fav / (fav + unfav))\n"
     ]
    },
    {
     "name": "stdout",
     "output_type": "stream",
     "text": [
      "Trial 13 starting...\n",
      "Computing bipartite LCP\n"
     ]
    },
    {
     "name": "stderr",
     "output_type": "stream",
     "text": [
      "/home/jorge/Documents/2019/Camerino/ASSP2019/multipartite-weighted-link-prediction/linkpred/b_lcp.py:100: RuntimeWarning: invalid value encountered in double_scalars\n",
      "  cpi[i] = np.log2(fav / (fav + unfav))\n",
      "/home/jorge/Documents/2019/Camerino/ASSP2019/multipartite-weighted-link-prediction/linkpred/b_lcp.py:99: RuntimeWarning: overflow encountered in double_scalars\n",
      "  unfav = comb(x.shape[1]-1, deg_r) * comb(x.shape[0]-1, deg_c)\n",
      "/home/jorge/Documents/2019/Camerino/ASSP2019/multipartite-weighted-link-prediction/linkpred/b_lcp.py:98: RuntimeWarning: overflow encountered in double_scalars\n",
      "  fav = comb(x.shape[1]-1, deg_r-1) * comb(x.shape[0]-1, deg_c-1)\n"
     ]
    },
    {
     "name": "stdout",
     "output_type": "stream",
     "text": [
      "Trial 19 starting...\n"
     ]
    },
    {
     "name": "stderr",
     "output_type": "stream",
     "text": [
      "/home/jorge/Documents/2019/Camerino/ASSP2019/multipartite-weighted-link-prediction/linkpred/b_lcp.py:99: RuntimeWarning: overflow encountered in double_scalars\n",
      "  unfav = comb(x.shape[1]-1, deg_r) * comb(x.shape[0]-1, deg_c)\n",
      "/home/jorge/Documents/2019/Camerino/ASSP2019/multipartite-weighted-link-prediction/linkpred/b_lcp.py:100: RuntimeWarning: divide by zero encountered in log2\n",
      "  cpi[i] = np.log2(fav / (fav + unfav))\n"
     ]
    },
    {
     "name": "stdout",
     "output_type": "stream",
     "text": [
      "Computing bipartite LCP\n"
     ]
    },
    {
     "name": "stderr",
     "output_type": "stream",
     "text": [
      "/home/jorge/Documents/2019/Camerino/ASSP2019/multipartite-weighted-link-prediction/linkpred/b_lcp.py:100: RuntimeWarning: invalid value encountered in double_scalars\n",
      "  cpi[i] = np.log2(fav / (fav + unfav))\n"
     ]
    },
    {
     "name": "stdout",
     "output_type": "stream",
     "text": [
      "Computing bipartite LCP\n"
     ]
    },
    {
     "name": "stderr",
     "output_type": "stream",
     "text": [
      "/home/jorge/Documents/2019/Camerino/ASSP2019/multipartite-weighted-link-prediction/linkpred/b_lcp.py:100: RuntimeWarning: invalid value encountered in double_scalars\n",
      "  cpi[i] = np.log2(fav / (fav + unfav))\n",
      "/home/jorge/Documents/2019/Camerino/ASSP2019/multipartite-weighted-link-prediction/linkpred/b_lcp.py:99: RuntimeWarning: overflow encountered in double_scalars\n",
      "  unfav = comb(x.shape[1]-1, deg_r) * comb(x.shape[0]-1, deg_c)\n",
      "/home/jorge/Documents/2019/Camerino/ASSP2019/multipartite-weighted-link-prediction/linkpred/b_lcp.py:100: RuntimeWarning: divide by zero encountered in log2\n",
      "  cpi[i] = np.log2(fav / (fav + unfav))\n",
      "/home/jorge/Documents/2019/Camerino/ASSP2019/multipartite-weighted-link-prediction/linkpred/b_lcp.py:98: RuntimeWarning: overflow encountered in double_scalars\n",
      "  fav = comb(x.shape[1]-1, deg_r-1) * comb(x.shape[0]-1, deg_c-1)\n",
      "/home/jorge/Documents/2019/Camerino/ASSP2019/multipartite-weighted-link-prediction/linkpred/b_lcp.py:99: RuntimeWarning: overflow encountered in double_scalars\n",
      "  unfav = comb(x.shape[1]-1, deg_r) * comb(x.shape[0]-1, deg_c)\n",
      "/home/jorge/Documents/2019/Camerino/ASSP2019/multipartite-weighted-link-prediction/linkpred/b_lcp.py:98: RuntimeWarning: overflow encountered in double_scalars\n",
      "  fav = comb(x.shape[1]-1, deg_r-1) * comb(x.shape[0]-1, deg_c-1)\n"
     ]
    },
    {
     "name": "stdout",
     "output_type": "stream",
     "text": [
      "Computing bipartite LCP\n"
     ]
    },
    {
     "name": "stderr",
     "output_type": "stream",
     "text": [
      "/home/jorge/Documents/2019/Camerino/ASSP2019/multipartite-weighted-link-prediction/linkpred/b_lcp.py:100: RuntimeWarning: invalid value encountered in double_scalars\n",
      "  cpi[i] = np.log2(fav / (fav + unfav))\n",
      "/home/jorge/Documents/2019/Camerino/ASSP2019/multipartite-weighted-link-prediction/linkpred/b_lcp.py:99: RuntimeWarning: overflow encountered in double_scalars\n",
      "  unfav = comb(x.shape[1]-1, deg_r) * comb(x.shape[0]-1, deg_c)\n",
      "/home/jorge/Documents/2019/Camerino/ASSP2019/multipartite-weighted-link-prediction/linkpred/b_lcp.py:100: RuntimeWarning: divide by zero encountered in log2\n",
      "  cpi[i] = np.log2(fav / (fav + unfav))\n",
      "/home/jorge/Documents/2019/Camerino/ASSP2019/multipartite-weighted-link-prediction/linkpred/b_lcp.py:98: RuntimeWarning: overflow encountered in double_scalars\n",
      "  fav = comb(x.shape[1]-1, deg_r-1) * comb(x.shape[0]-1, deg_c-1)\n"
     ]
    },
    {
     "name": "stdout",
     "output_type": "stream",
     "text": [
      "Computing bipartite LCP\n"
     ]
    },
    {
     "name": "stderr",
     "output_type": "stream",
     "text": [
      "/home/jorge/Documents/2019/Camerino/ASSP2019/multipartite-weighted-link-prediction/linkpred/b_lcp.py:100: RuntimeWarning: invalid value encountered in double_scalars\n",
      "  cpi[i] = np.log2(fav / (fav + unfav))\n",
      "/home/jorge/Documents/2019/Camerino/ASSP2019/multipartite-weighted-link-prediction/linkpred/b_lcp.py:98: RuntimeWarning: overflow encountered in double_scalars\n",
      "  fav = comb(x.shape[1]-1, deg_r-1) * comb(x.shape[0]-1, deg_c-1)\n",
      "/home/jorge/Documents/2019/Camerino/ASSP2019/multipartite-weighted-link-prediction/linkpred/b_lcp.py:98: RuntimeWarning: overflow encountered in double_scalars\n",
      "  fav = comb(x.shape[1]-1, deg_r-1) * comb(x.shape[0]-1, deg_c-1)\n",
      "/home/jorge/Documents/2019/Camerino/ASSP2019/multipartite-weighted-link-prediction/linkpred/b_lcp.py:99: RuntimeWarning: overflow encountered in double_scalars\n",
      "  unfav = comb(x.shape[1]-1, deg_r) * comb(x.shape[0]-1, deg_c)\n"
     ]
    },
    {
     "name": "stdout",
     "output_type": "stream",
     "text": [
      "Computing bipartite LCP\n"
     ]
    },
    {
     "name": "stderr",
     "output_type": "stream",
     "text": [
      "/home/jorge/Documents/2019/Camerino/ASSP2019/multipartite-weighted-link-prediction/linkpred/b_lcp.py:100: RuntimeWarning: invalid value encountered in double_scalars\n",
      "  cpi[i] = np.log2(fav / (fav + unfav))\n",
      "/home/jorge/Documents/2019/Camerino/ASSP2019/multipartite-weighted-link-prediction/linkpred/b_lcp.py:100: RuntimeWarning: divide by zero encountered in log2\n",
      "  cpi[i] = np.log2(fav / (fav + unfav))\n",
      "/home/jorge/Documents/2019/Camerino/ASSP2019/multipartite-weighted-link-prediction/linkpred/b_lcp.py:98: RuntimeWarning: overflow encountered in double_scalars\n",
      "  fav = comb(x.shape[1]-1, deg_r-1) * comb(x.shape[0]-1, deg_c-1)\n",
      "/home/jorge/Documents/2019/Camerino/ASSP2019/multipartite-weighted-link-prediction/linkpred/b_lcp.py:99: RuntimeWarning: overflow encountered in double_scalars\n",
      "  unfav = comb(x.shape[1]-1, deg_r) * comb(x.shape[0]-1, deg_c)\n"
     ]
    },
    {
     "name": "stdout",
     "output_type": "stream",
     "text": [
      "Computing bipartite LCP\n"
     ]
    },
    {
     "name": "stderr",
     "output_type": "stream",
     "text": [
      "/home/jorge/Documents/2019/Camerino/ASSP2019/multipartite-weighted-link-prediction/linkpred/b_lcp.py:100: RuntimeWarning: invalid value encountered in double_scalars\n",
      "  cpi[i] = np.log2(fav / (fav + unfav))\n",
      "/home/jorge/Documents/2019/Camerino/ASSP2019/multipartite-weighted-link-prediction/linkpred/b_lcp.py:99: RuntimeWarning: overflow encountered in double_scalars\n",
      "  unfav = comb(x.shape[1]-1, deg_r) * comb(x.shape[0]-1, deg_c)\n",
      "/home/jorge/Documents/2019/Camerino/ASSP2019/multipartite-weighted-link-prediction/linkpred/b_lcp.py:100: RuntimeWarning: divide by zero encountered in log2\n",
      "  cpi[i] = np.log2(fav / (fav + unfav))\n",
      "/home/jorge/Documents/2019/Camerino/ASSP2019/multipartite-weighted-link-prediction/linkpred/b_lcp.py:98: RuntimeWarning: overflow encountered in double_scalars\n",
      "  fav = comb(x.shape[1]-1, deg_r-1) * comb(x.shape[0]-1, deg_c-1)\n",
      "/home/jorge/Documents/2019/Camerino/ASSP2019/multipartite-weighted-link-prediction/linkpred/b_lcp.py:100: RuntimeWarning: divide by zero encountered in log2\n",
      "  cpi[i] = np.log2(fav / (fav + unfav))\n",
      "/home/jorge/Documents/2019/Camerino/ASSP2019/multipartite-weighted-link-prediction/linkpred/b_lcp.py:100: RuntimeWarning: divide by zero encountered in log2\n",
      "  cpi[i] = np.log2(fav / (fav + unfav))\n",
      "/home/jorge/Documents/2019/Camerino/ASSP2019/multipartite-weighted-link-prediction/linkpred/b_lcp.py:100: RuntimeWarning: divide by zero encountered in log2\n",
      "  cpi[i] = np.log2(fav / (fav + unfav))\n"
     ]
    },
    {
     "name": "stdout",
     "output_type": "stream",
     "text": [
      "100.00 %, 12.43 minutes\n",
      "... Trial 17 done\n",
      "Trial 14 starting...\n",
      "Computing bipartite LCP\n",
      "100.00 %, 12.55 minutes\n",
      "... Trial 11 done\n",
      "Trial 16 starting...\n",
      "Computing bipartite LCP\n",
      "100.00 %, 12.68 minutes\n",
      "... Trial 12 done\n",
      "100.00 %, 12.73 minutes\n",
      "... Trial 10 done\n",
      "100.00 %, 12.80 minutes\n",
      "100.00 %, 12.77 minutes\n",
      "... Trial 15 done\n",
      "... Trial 13 done\n",
      "100.00 %, 12.78 minutes\n",
      "... Trial 19 done\n",
      "100.00 %, 12.97 minutes\n",
      "... Trial 18 done\n",
      "100.00 %, 4.41 minutes\n",
      "... Trial 14 done\n",
      "100.00 %, 4.35 minutes\n",
      "... Trial 16 done\n",
      "Trial 26 starting...\n",
      "Trial 24 starting...\n",
      "Trial 20 starting...\n",
      "Trial 21 starting...\n",
      "Trial 28 starting...\n",
      "Trial 22 starting...\n",
      "Trial 23 starting...\n",
      "Trial 27 starting...\n",
      "Computing bipartite LCP\n"
     ]
    },
    {
     "name": "stderr",
     "output_type": "stream",
     "text": [
      "/home/jorge/Documents/2019/Camerino/ASSP2019/multipartite-weighted-link-prediction/linkpred/b_lcp.py:100: RuntimeWarning: invalid value encountered in double_scalars\n",
      "  cpi[i] = np.log2(fav / (fav + unfav))\n"
     ]
    },
    {
     "name": "stdout",
     "output_type": "stream",
     "text": [
      "Computing bipartite LCP\n",
      "Computing bipartite LCP\n",
      "Computing bipartite LCP\n"
     ]
    },
    {
     "name": "stderr",
     "output_type": "stream",
     "text": [
      "/home/jorge/Documents/2019/Camerino/ASSP2019/multipartite-weighted-link-prediction/linkpred/b_lcp.py:100: RuntimeWarning: invalid value encountered in double_scalars\n",
      "  cpi[i] = np.log2(fav / (fav + unfav))\n",
      "/home/jorge/Documents/2019/Camerino/ASSP2019/multipartite-weighted-link-prediction/linkpred/b_lcp.py:100: RuntimeWarning: invalid value encountered in double_scalars\n",
      "  cpi[i] = np.log2(fav / (fav + unfav))\n",
      "/home/jorge/Documents/2019/Camerino/ASSP2019/multipartite-weighted-link-prediction/linkpred/b_lcp.py:100: RuntimeWarning: invalid value encountered in double_scalars\n",
      "  cpi[i] = np.log2(fav / (fav + unfav))\n"
     ]
    },
    {
     "name": "stdout",
     "output_type": "stream",
     "text": [
      "Computing bipartite LCP\n",
      "Computing bipartite LCP\n",
      "Computing bipartite LCP\n"
     ]
    },
    {
     "name": "stderr",
     "output_type": "stream",
     "text": [
      "/home/jorge/Documents/2019/Camerino/ASSP2019/multipartite-weighted-link-prediction/linkpred/b_lcp.py:100: RuntimeWarning: invalid value encountered in double_scalars\n",
      "  cpi[i] = np.log2(fav / (fav + unfav))\n",
      "/home/jorge/Documents/2019/Camerino/ASSP2019/multipartite-weighted-link-prediction/linkpred/b_lcp.py:100: RuntimeWarning: invalid value encountered in double_scalars\n",
      "  cpi[i] = np.log2(fav / (fav + unfav))\n",
      "/home/jorge/Documents/2019/Camerino/ASSP2019/multipartite-weighted-link-prediction/linkpred/b_lcp.py:100: RuntimeWarning: invalid value encountered in double_scalars\n",
      "  cpi[i] = np.log2(fav / (fav + unfav))\n"
     ]
    },
    {
     "name": "stdout",
     "output_type": "stream",
     "text": [
      "Computing bipartite LCP\n"
     ]
    },
    {
     "name": "stderr",
     "output_type": "stream",
     "text": [
      "/home/jorge/Documents/2019/Camerino/ASSP2019/multipartite-weighted-link-prediction/linkpred/b_lcp.py:100: RuntimeWarning: invalid value encountered in double_scalars\n",
      "  cpi[i] = np.log2(fav / (fav + unfav))\n",
      "/home/jorge/Documents/2019/Camerino/ASSP2019/multipartite-weighted-link-prediction/linkpred/b_lcp.py:98: RuntimeWarning: overflow encountered in double_scalars\n",
      "  fav = comb(x.shape[1]-1, deg_r-1) * comb(x.shape[0]-1, deg_c-1)\n",
      "/home/jorge/Documents/2019/Camerino/ASSP2019/multipartite-weighted-link-prediction/linkpred/b_lcp.py:99: RuntimeWarning: overflow encountered in double_scalars\n",
      "  unfav = comb(x.shape[1]-1, deg_r) * comb(x.shape[0]-1, deg_c)\n",
      "/home/jorge/Documents/2019/Camerino/ASSP2019/multipartite-weighted-link-prediction/linkpred/b_lcp.py:99: RuntimeWarning: overflow encountered in double_scalars\n",
      "  unfav = comb(x.shape[1]-1, deg_r) * comb(x.shape[0]-1, deg_c)\n",
      "/home/jorge/Documents/2019/Camerino/ASSP2019/multipartite-weighted-link-prediction/linkpred/b_lcp.py:100: RuntimeWarning: divide by zero encountered in log2\n",
      "  cpi[i] = np.log2(fav / (fav + unfav))\n",
      "/home/jorge/Documents/2019/Camerino/ASSP2019/multipartite-weighted-link-prediction/linkpred/b_lcp.py:98: RuntimeWarning: overflow encountered in double_scalars\n",
      "  fav = comb(x.shape[1]-1, deg_r-1) * comb(x.shape[0]-1, deg_c-1)\n",
      "/home/jorge/Documents/2019/Camerino/ASSP2019/multipartite-weighted-link-prediction/linkpred/b_lcp.py:99: RuntimeWarning: overflow encountered in double_scalars\n",
      "  unfav = comb(x.shape[1]-1, deg_r) * comb(x.shape[0]-1, deg_c)\n",
      "/home/jorge/Documents/2019/Camerino/ASSP2019/multipartite-weighted-link-prediction/linkpred/b_lcp.py:100: RuntimeWarning: divide by zero encountered in log2\n",
      "  cpi[i] = np.log2(fav / (fav + unfav))\n",
      "/home/jorge/Documents/2019/Camerino/ASSP2019/multipartite-weighted-link-prediction/linkpred/b_lcp.py:98: RuntimeWarning: overflow encountered in double_scalars\n",
      "  fav = comb(x.shape[1]-1, deg_r-1) * comb(x.shape[0]-1, deg_c-1)\n",
      "/home/jorge/Documents/2019/Camerino/ASSP2019/multipartite-weighted-link-prediction/linkpred/b_lcp.py:98: RuntimeWarning: overflow encountered in double_scalars\n",
      "  fav = comb(x.shape[1]-1, deg_r-1) * comb(x.shape[0]-1, deg_c-1)\n",
      "/home/jorge/Documents/2019/Camerino/ASSP2019/multipartite-weighted-link-prediction/linkpred/b_lcp.py:98: RuntimeWarning: overflow encountered in double_scalars\n",
      "  fav = comb(x.shape[1]-1, deg_r-1) * comb(x.shape[0]-1, deg_c-1)\n",
      "/home/jorge/Documents/2019/Camerino/ASSP2019/multipartite-weighted-link-prediction/linkpred/b_lcp.py:99: RuntimeWarning: overflow encountered in double_scalars\n",
      "  unfav = comb(x.shape[1]-1, deg_r) * comb(x.shape[0]-1, deg_c)\n",
      "/home/jorge/Documents/2019/Camerino/ASSP2019/multipartite-weighted-link-prediction/linkpred/b_lcp.py:99: RuntimeWarning: overflow encountered in double_scalars\n",
      "  unfav = comb(x.shape[1]-1, deg_r) * comb(x.shape[0]-1, deg_c)\n",
      "/home/jorge/Documents/2019/Camerino/ASSP2019/multipartite-weighted-link-prediction/linkpred/b_lcp.py:98: RuntimeWarning: overflow encountered in double_scalars\n",
      "  fav = comb(x.shape[1]-1, deg_r-1) * comb(x.shape[0]-1, deg_c-1)\n",
      "/home/jorge/Documents/2019/Camerino/ASSP2019/multipartite-weighted-link-prediction/linkpred/b_lcp.py:99: RuntimeWarning: overflow encountered in double_scalars\n",
      "  unfav = comb(x.shape[1]-1, deg_r) * comb(x.shape[0]-1, deg_c)\n",
      "/home/jorge/Documents/2019/Camerino/ASSP2019/multipartite-weighted-link-prediction/linkpred/b_lcp.py:99: RuntimeWarning: overflow encountered in double_scalars\n",
      "  unfav = comb(x.shape[1]-1, deg_r) * comb(x.shape[0]-1, deg_c)\n",
      "/home/jorge/Documents/2019/Camerino/ASSP2019/multipartite-weighted-link-prediction/linkpred/b_lcp.py:100: RuntimeWarning: divide by zero encountered in log2\n",
      "  cpi[i] = np.log2(fav / (fav + unfav))\n",
      "/home/jorge/Documents/2019/Camerino/ASSP2019/multipartite-weighted-link-prediction/linkpred/b_lcp.py:98: RuntimeWarning: overflow encountered in double_scalars\n",
      "  fav = comb(x.shape[1]-1, deg_r-1) * comb(x.shape[0]-1, deg_c-1)\n",
      "/home/jorge/Documents/2019/Camerino/ASSP2019/multipartite-weighted-link-prediction/linkpred/b_lcp.py:99: RuntimeWarning: overflow encountered in double_scalars\n",
      "  unfav = comb(x.shape[1]-1, deg_r) * comb(x.shape[0]-1, deg_c)\n",
      "/home/jorge/Documents/2019/Camerino/ASSP2019/multipartite-weighted-link-prediction/linkpred/b_lcp.py:100: RuntimeWarning: divide by zero encountered in log2\n",
      "  cpi[i] = np.log2(fav / (fav + unfav))\n",
      "/home/jorge/Documents/2019/Camerino/ASSP2019/multipartite-weighted-link-prediction/linkpred/b_lcp.py:100: RuntimeWarning: divide by zero encountered in log2\n",
      "  cpi[i] = np.log2(fav / (fav + unfav))\n",
      "/home/jorge/Documents/2019/Camerino/ASSP2019/multipartite-weighted-link-prediction/linkpred/b_lcp.py:100: RuntimeWarning: divide by zero encountered in log2\n",
      "  cpi[i] = np.log2(fav / (fav + unfav))\n",
      "/home/jorge/Documents/2019/Camerino/ASSP2019/multipartite-weighted-link-prediction/linkpred/b_lcp.py:100: RuntimeWarning: divide by zero encountered in log2\n",
      "  cpi[i] = np.log2(fav / (fav + unfav))\n",
      "/home/jorge/Documents/2019/Camerino/ASSP2019/multipartite-weighted-link-prediction/linkpred/b_lcp.py:100: RuntimeWarning: divide by zero encountered in log2\n",
      "  cpi[i] = np.log2(fav / (fav + unfav))\n",
      "/home/jorge/Documents/2019/Camerino/ASSP2019/multipartite-weighted-link-prediction/linkpred/b_lcp.py:98: RuntimeWarning: overflow encountered in double_scalars\n",
      "  fav = comb(x.shape[1]-1, deg_r-1) * comb(x.shape[0]-1, deg_c-1)\n"
     ]
    },
    {
     "name": "stdout",
     "output_type": "stream",
     "text": [
      "100.00 %, 12.29 minutes\n",
      "100.00 %, 12.30 minutes\n",
      "... Trial 24 done\n",
      "... Trial 23 done\n",
      "100.00 %, 12.30 minutes\n",
      "... Trial 27 done\n",
      "100.00 %, 12.35 minutes\n",
      "... Trial 22 done\n",
      "Trial 29 starting...\n",
      "100.00 %, 12.40 minutes\n",
      "... Trial 20 done\n",
      "Computing bipartite LCP\n",
      "100.00 %, 12.40 minutes\n",
      "... Trial 26 done\n",
      "Trial 25 starting...\n",
      "Computing bipartite LCP\n",
      "100.00 %, 12.45 minutes\n",
      "... Trial 21 done\n",
      "100.00 %, 12.59 minutes\n",
      "... Trial 28 done\n",
      "100.00 %, 4.27 minutes\n",
      "... Trial 29 done\n",
      "100.00 %, 4.24 minutes\n",
      "... Trial 25 done\n",
      "Trial 36 starting...\n",
      "Trial 30 starting...\n",
      "Trial 35 starting...\n",
      "Trial 39 starting...\n",
      "Trial 38 starting...\n",
      "Trial 32 starting...\n",
      "Trial 37 starting...\n",
      "Trial 33 starting...\n",
      "Computing bipartite LCP\n"
     ]
    },
    {
     "name": "stderr",
     "output_type": "stream",
     "text": [
      "/home/jorge/Documents/2019/Camerino/ASSP2019/multipartite-weighted-link-prediction/linkpred/b_lcp.py:100: RuntimeWarning: invalid value encountered in double_scalars\n",
      "  cpi[i] = np.log2(fav / (fav + unfav))\n",
      "/home/jorge/Documents/2019/Camerino/ASSP2019/multipartite-weighted-link-prediction/linkpred/b_lcp.py:98: RuntimeWarning: overflow encountered in double_scalars\n",
      "  fav = comb(x.shape[1]-1, deg_r-1) * comb(x.shape[0]-1, deg_c-1)\n",
      "/home/jorge/Documents/2019/Camerino/ASSP2019/multipartite-weighted-link-prediction/linkpred/b_lcp.py:99: RuntimeWarning: overflow encountered in double_scalars\n",
      "  unfav = comb(x.shape[1]-1, deg_r) * comb(x.shape[0]-1, deg_c)\n"
     ]
    },
    {
     "name": "stdout",
     "output_type": "stream",
     "text": [
      "Computing bipartite LCP\n",
      "Computing bipartite LCP\n"
     ]
    },
    {
     "name": "stderr",
     "output_type": "stream",
     "text": [
      "/home/jorge/Documents/2019/Camerino/ASSP2019/multipartite-weighted-link-prediction/linkpred/b_lcp.py:100: RuntimeWarning: invalid value encountered in double_scalars\n",
      "  cpi[i] = np.log2(fav / (fav + unfav))\n",
      "/home/jorge/Documents/2019/Camerino/ASSP2019/multipartite-weighted-link-prediction/linkpred/b_lcp.py:100: RuntimeWarning: invalid value encountered in double_scalars\n",
      "  cpi[i] = np.log2(fav / (fav + unfav))\n"
     ]
    },
    {
     "name": "stdout",
     "output_type": "stream",
     "text": [
      "Computing bipartite LCP\n"
     ]
    },
    {
     "name": "stderr",
     "output_type": "stream",
     "text": [
      "/home/jorge/Documents/2019/Camerino/ASSP2019/multipartite-weighted-link-prediction/linkpred/b_lcp.py:100: RuntimeWarning: invalid value encountered in double_scalars\n",
      "  cpi[i] = np.log2(fav / (fav + unfav))\n"
     ]
    },
    {
     "name": "stdout",
     "output_type": "stream",
     "text": [
      "Computing bipartite LCP\n"
     ]
    },
    {
     "name": "stderr",
     "output_type": "stream",
     "text": [
      "/home/jorge/Documents/2019/Camerino/ASSP2019/multipartite-weighted-link-prediction/linkpred/b_lcp.py:100: RuntimeWarning: invalid value encountered in double_scalars\n",
      "  cpi[i] = np.log2(fav / (fav + unfav))\n"
     ]
    },
    {
     "name": "stdout",
     "output_type": "stream",
     "text": [
      "Computing bipartite LCP\n",
      "Computing bipartite LCP\n",
      "Computing bipartite LCP\n"
     ]
    },
    {
     "name": "stderr",
     "output_type": "stream",
     "text": [
      "/home/jorge/Documents/2019/Camerino/ASSP2019/multipartite-weighted-link-prediction/linkpred/b_lcp.py:100: RuntimeWarning: invalid value encountered in double_scalars\n",
      "  cpi[i] = np.log2(fav / (fav + unfav))\n",
      "/home/jorge/Documents/2019/Camerino/ASSP2019/multipartite-weighted-link-prediction/linkpred/b_lcp.py:100: RuntimeWarning: invalid value encountered in double_scalars\n",
      "  cpi[i] = np.log2(fav / (fav + unfav))\n",
      "/home/jorge/Documents/2019/Camerino/ASSP2019/multipartite-weighted-link-prediction/linkpred/b_lcp.py:100: RuntimeWarning: invalid value encountered in double_scalars\n",
      "  cpi[i] = np.log2(fav / (fav + unfav))\n",
      "/home/jorge/Documents/2019/Camerino/ASSP2019/multipartite-weighted-link-prediction/linkpred/b_lcp.py:98: RuntimeWarning: overflow encountered in double_scalars\n",
      "  fav = comb(x.shape[1]-1, deg_r-1) * comb(x.shape[0]-1, deg_c-1)\n",
      "/home/jorge/Documents/2019/Camerino/ASSP2019/multipartite-weighted-link-prediction/linkpred/b_lcp.py:99: RuntimeWarning: overflow encountered in double_scalars\n",
      "  unfav = comb(x.shape[1]-1, deg_r) * comb(x.shape[0]-1, deg_c)\n",
      "/home/jorge/Documents/2019/Camerino/ASSP2019/multipartite-weighted-link-prediction/linkpred/b_lcp.py:98: RuntimeWarning: overflow encountered in double_scalars\n",
      "  fav = comb(x.shape[1]-1, deg_r-1) * comb(x.shape[0]-1, deg_c-1)\n",
      "/home/jorge/Documents/2019/Camerino/ASSP2019/multipartite-weighted-link-prediction/linkpred/b_lcp.py:99: RuntimeWarning: overflow encountered in double_scalars\n",
      "  unfav = comb(x.shape[1]-1, deg_r) * comb(x.shape[0]-1, deg_c)\n",
      "/home/jorge/Documents/2019/Camerino/ASSP2019/multipartite-weighted-link-prediction/linkpred/b_lcp.py:98: RuntimeWarning: overflow encountered in double_scalars\n",
      "  fav = comb(x.shape[1]-1, deg_r-1) * comb(x.shape[0]-1, deg_c-1)\n",
      "/home/jorge/Documents/2019/Camerino/ASSP2019/multipartite-weighted-link-prediction/linkpred/b_lcp.py:99: RuntimeWarning: overflow encountered in double_scalars\n",
      "  unfav = comb(x.shape[1]-1, deg_r) * comb(x.shape[0]-1, deg_c)\n",
      "/home/jorge/Documents/2019/Camerino/ASSP2019/multipartite-weighted-link-prediction/linkpred/b_lcp.py:98: RuntimeWarning: overflow encountered in double_scalars\n",
      "  fav = comb(x.shape[1]-1, deg_r-1) * comb(x.shape[0]-1, deg_c-1)\n",
      "/home/jorge/Documents/2019/Camerino/ASSP2019/multipartite-weighted-link-prediction/linkpred/b_lcp.py:99: RuntimeWarning: overflow encountered in double_scalars\n",
      "  unfav = comb(x.shape[1]-1, deg_r) * comb(x.shape[0]-1, deg_c)\n",
      "/home/jorge/Documents/2019/Camerino/ASSP2019/multipartite-weighted-link-prediction/linkpred/b_lcp.py:98: RuntimeWarning: overflow encountered in double_scalars\n",
      "  fav = comb(x.shape[1]-1, deg_r-1) * comb(x.shape[0]-1, deg_c-1)\n",
      "/home/jorge/Documents/2019/Camerino/ASSP2019/multipartite-weighted-link-prediction/linkpred/b_lcp.py:99: RuntimeWarning: overflow encountered in double_scalars\n",
      "  unfav = comb(x.shape[1]-1, deg_r) * comb(x.shape[0]-1, deg_c)\n",
      "/home/jorge/Documents/2019/Camerino/ASSP2019/multipartite-weighted-link-prediction/linkpred/b_lcp.py:99: RuntimeWarning: overflow encountered in double_scalars\n",
      "  unfav = comb(x.shape[1]-1, deg_r) * comb(x.shape[0]-1, deg_c)\n",
      "/home/jorge/Documents/2019/Camerino/ASSP2019/multipartite-weighted-link-prediction/linkpred/b_lcp.py:100: RuntimeWarning: divide by zero encountered in log2\n",
      "  cpi[i] = np.log2(fav / (fav + unfav))\n",
      "/home/jorge/Documents/2019/Camerino/ASSP2019/multipartite-weighted-link-prediction/linkpred/b_lcp.py:100: RuntimeWarning: divide by zero encountered in log2\n",
      "  cpi[i] = np.log2(fav / (fav + unfav))\n",
      "/home/jorge/Documents/2019/Camerino/ASSP2019/multipartite-weighted-link-prediction/linkpred/b_lcp.py:98: RuntimeWarning: overflow encountered in double_scalars\n",
      "  fav = comb(x.shape[1]-1, deg_r-1) * comb(x.shape[0]-1, deg_c-1)\n",
      "/home/jorge/Documents/2019/Camerino/ASSP2019/multipartite-weighted-link-prediction/linkpred/b_lcp.py:99: RuntimeWarning: overflow encountered in double_scalars\n",
      "  unfav = comb(x.shape[1]-1, deg_r) * comb(x.shape[0]-1, deg_c)\n",
      "/home/jorge/Documents/2019/Camerino/ASSP2019/multipartite-weighted-link-prediction/linkpred/b_lcp.py:100: RuntimeWarning: divide by zero encountered in log2\n",
      "  cpi[i] = np.log2(fav / (fav + unfav))\n",
      "/home/jorge/Documents/2019/Camerino/ASSP2019/multipartite-weighted-link-prediction/linkpred/b_lcp.py:100: RuntimeWarning: divide by zero encountered in log2\n",
      "  cpi[i] = np.log2(fav / (fav + unfav))\n",
      "/home/jorge/Documents/2019/Camerino/ASSP2019/multipartite-weighted-link-prediction/linkpred/b_lcp.py:98: RuntimeWarning: overflow encountered in double_scalars\n",
      "  fav = comb(x.shape[1]-1, deg_r-1) * comb(x.shape[0]-1, deg_c-1)\n",
      "/home/jorge/Documents/2019/Camerino/ASSP2019/multipartite-weighted-link-prediction/linkpred/b_lcp.py:100: RuntimeWarning: divide by zero encountered in log2\n",
      "  cpi[i] = np.log2(fav / (fav + unfav))\n",
      "/home/jorge/Documents/2019/Camerino/ASSP2019/multipartite-weighted-link-prediction/linkpred/b_lcp.py:100: RuntimeWarning: divide by zero encountered in log2\n",
      "  cpi[i] = np.log2(fav / (fav + unfav))\n",
      "/home/jorge/Documents/2019/Camerino/ASSP2019/multipartite-weighted-link-prediction/linkpred/b_lcp.py:100: RuntimeWarning: divide by zero encountered in log2\n",
      "  cpi[i] = np.log2(fav / (fav + unfav))\n",
      "/home/jorge/Documents/2019/Camerino/ASSP2019/multipartite-weighted-link-prediction/linkpred/b_lcp.py:100: RuntimeWarning: divide by zero encountered in log2\n",
      "  cpi[i] = np.log2(fav / (fav + unfav))\n"
     ]
    },
    {
     "name": "stdout",
     "output_type": "stream",
     "text": [
      "100.00 %, 12.13 minutes\n",
      "... Trial 33 done\n",
      "100.00 %, 12.15 minutes\n",
      "100.00 %, 12.15 minutes\n",
      "... Trial 36 done\n",
      "... Trial 30 done\n",
      "100.00 %, 12.17 minutes\n",
      "... Trial 32 done\n",
      "100.00 %, 12.22 minutes\n",
      "... Trial 39 done\n",
      "Trial 34 starting...\n",
      "Computing bipartite LCP\n",
      "Trial 31 starting...\n",
      "Computing bipartite LCP\n",
      "100.00 %, 12.29 minutes\n",
      "... Trial 35 done\n",
      "100.00 %, 12.33 minutes\n",
      "... Trial 38 done\n",
      "100.00 %, 12.37 minutes\n",
      "... Trial 37 done\n",
      "100.00 %, 4.23 minutes\n",
      "... Trial 34 done\n",
      "100.00 %, 4.29 minutes\n",
      "... Trial 31 done\n",
      "Trial 43 starting...\n",
      "Trial 48 starting...\n",
      "Trial 46 starting...\n",
      "Trial 44 starting...\n",
      "Trial 42 starting...\n",
      "Trial 40 starting...\n",
      "Computing bipartite LCP\n",
      "Trial 47 starting...\n"
     ]
    },
    {
     "name": "stderr",
     "output_type": "stream",
     "text": [
      "/home/jorge/Documents/2019/Camerino/ASSP2019/multipartite-weighted-link-prediction/linkpred/b_lcp.py:100: RuntimeWarning: invalid value encountered in double_scalars\n",
      "  cpi[i] = np.log2(fav / (fav + unfav))\n"
     ]
    },
    {
     "name": "stdout",
     "output_type": "stream",
     "text": [
      "Trial 49 starting...\n"
     ]
    },
    {
     "name": "stderr",
     "output_type": "stream",
     "text": [
      "/home/jorge/Documents/2019/Camerino/ASSP2019/multipartite-weighted-link-prediction/linkpred/b_lcp.py:98: RuntimeWarning: overflow encountered in double_scalars\n",
      "  fav = comb(x.shape[1]-1, deg_r-1) * comb(x.shape[0]-1, deg_c-1)\n",
      "/home/jorge/Documents/2019/Camerino/ASSP2019/multipartite-weighted-link-prediction/linkpred/b_lcp.py:99: RuntimeWarning: overflow encountered in double_scalars\n",
      "  unfav = comb(x.shape[1]-1, deg_r) * comb(x.shape[0]-1, deg_c)\n"
     ]
    },
    {
     "name": "stdout",
     "output_type": "stream",
     "text": [
      "Computing bipartite LCP\n"
     ]
    },
    {
     "name": "stderr",
     "output_type": "stream",
     "text": [
      "/home/jorge/Documents/2019/Camerino/ASSP2019/multipartite-weighted-link-prediction/linkpred/b_lcp.py:100: RuntimeWarning: invalid value encountered in double_scalars\n",
      "  cpi[i] = np.log2(fav / (fav + unfav))\n",
      "/home/jorge/Documents/2019/Camerino/ASSP2019/multipartite-weighted-link-prediction/linkpred/b_lcp.py:98: RuntimeWarning: overflow encountered in double_scalars\n",
      "  fav = comb(x.shape[1]-1, deg_r-1) * comb(x.shape[0]-1, deg_c-1)\n",
      "/home/jorge/Documents/2019/Camerino/ASSP2019/multipartite-weighted-link-prediction/linkpred/b_lcp.py:99: RuntimeWarning: overflow encountered in double_scalars\n",
      "  unfav = comb(x.shape[1]-1, deg_r) * comb(x.shape[0]-1, deg_c)\n"
     ]
    },
    {
     "name": "stdout",
     "output_type": "stream",
     "text": [
      "Computing bipartite LCP\n",
      "Computing bipartite LCP\n"
     ]
    },
    {
     "name": "stderr",
     "output_type": "stream",
     "text": [
      "/home/jorge/Documents/2019/Camerino/ASSP2019/multipartite-weighted-link-prediction/linkpred/b_lcp.py:100: RuntimeWarning: invalid value encountered in double_scalars\n",
      "  cpi[i] = np.log2(fav / (fav + unfav))\n"
     ]
    },
    {
     "name": "stdout",
     "output_type": "stream",
     "text": [
      "Computing bipartite LCP\n"
     ]
    },
    {
     "name": "stderr",
     "output_type": "stream",
     "text": [
      "/home/jorge/Documents/2019/Camerino/ASSP2019/multipartite-weighted-link-prediction/linkpred/b_lcp.py:100: RuntimeWarning: invalid value encountered in double_scalars\n",
      "  cpi[i] = np.log2(fav / (fav + unfav))\n",
      "/home/jorge/Documents/2019/Camerino/ASSP2019/multipartite-weighted-link-prediction/linkpred/b_lcp.py:100: RuntimeWarning: invalid value encountered in double_scalars\n",
      "  cpi[i] = np.log2(fav / (fav + unfav))\n",
      "/home/jorge/Documents/2019/Camerino/ASSP2019/multipartite-weighted-link-prediction/linkpred/b_lcp.py:99: RuntimeWarning: overflow encountered in double_scalars\n",
      "  unfav = comb(x.shape[1]-1, deg_r) * comb(x.shape[0]-1, deg_c)\n",
      "/home/jorge/Documents/2019/Camerino/ASSP2019/multipartite-weighted-link-prediction/linkpred/b_lcp.py:100: RuntimeWarning: divide by zero encountered in log2\n",
      "  cpi[i] = np.log2(fav / (fav + unfav))\n",
      "/home/jorge/Documents/2019/Camerino/ASSP2019/multipartite-weighted-link-prediction/linkpred/b_lcp.py:98: RuntimeWarning: overflow encountered in double_scalars\n",
      "  fav = comb(x.shape[1]-1, deg_r-1) * comb(x.shape[0]-1, deg_c-1)\n",
      "/home/jorge/Documents/2019/Camerino/ASSP2019/multipartite-weighted-link-prediction/linkpred/b_lcp.py:99: RuntimeWarning: overflow encountered in double_scalars\n",
      "  unfav = comb(x.shape[1]-1, deg_r) * comb(x.shape[0]-1, deg_c)\n",
      "/home/jorge/Documents/2019/Camerino/ASSP2019/multipartite-weighted-link-prediction/linkpred/b_lcp.py:98: RuntimeWarning: overflow encountered in double_scalars\n",
      "  fav = comb(x.shape[1]-1, deg_r-1) * comb(x.shape[0]-1, deg_c-1)\n",
      "/home/jorge/Documents/2019/Camerino/ASSP2019/multipartite-weighted-link-prediction/linkpred/b_lcp.py:99: RuntimeWarning: overflow encountered in double_scalars\n",
      "  unfav = comb(x.shape[1]-1, deg_r) * comb(x.shape[0]-1, deg_c)\n"
     ]
    },
    {
     "name": "stdout",
     "output_type": "stream",
     "text": [
      "Computing bipartite LCP\n"
     ]
    },
    {
     "name": "stderr",
     "output_type": "stream",
     "text": [
      "/home/jorge/Documents/2019/Camerino/ASSP2019/multipartite-weighted-link-prediction/linkpred/b_lcp.py:100: RuntimeWarning: invalid value encountered in double_scalars\n",
      "  cpi[i] = np.log2(fav / (fav + unfav))\n"
     ]
    },
    {
     "name": "stdout",
     "output_type": "stream",
     "text": [
      "Computing bipartite LCP\n"
     ]
    },
    {
     "name": "stderr",
     "output_type": "stream",
     "text": [
      "/home/jorge/Documents/2019/Camerino/ASSP2019/multipartite-weighted-link-prediction/linkpred/b_lcp.py:100: RuntimeWarning: invalid value encountered in double_scalars\n",
      "  cpi[i] = np.log2(fav / (fav + unfav))\n",
      "/home/jorge/Documents/2019/Camerino/ASSP2019/multipartite-weighted-link-prediction/linkpred/b_lcp.py:98: RuntimeWarning: overflow encountered in double_scalars\n",
      "  fav = comb(x.shape[1]-1, deg_r-1) * comb(x.shape[0]-1, deg_c-1)\n",
      "/home/jorge/Documents/2019/Camerino/ASSP2019/multipartite-weighted-link-prediction/linkpred/b_lcp.py:99: RuntimeWarning: overflow encountered in double_scalars\n",
      "  unfav = comb(x.shape[1]-1, deg_r) * comb(x.shape[0]-1, deg_c)\n"
     ]
    },
    {
     "name": "stdout",
     "output_type": "stream",
     "text": [
      "Computing bipartite LCP\n"
     ]
    },
    {
     "name": "stderr",
     "output_type": "stream",
     "text": [
      "/home/jorge/Documents/2019/Camerino/ASSP2019/multipartite-weighted-link-prediction/linkpred/b_lcp.py:100: RuntimeWarning: invalid value encountered in double_scalars\n",
      "  cpi[i] = np.log2(fav / (fav + unfav))\n",
      "/home/jorge/Documents/2019/Camerino/ASSP2019/multipartite-weighted-link-prediction/linkpred/b_lcp.py:99: RuntimeWarning: overflow encountered in double_scalars\n",
      "  unfav = comb(x.shape[1]-1, deg_r) * comb(x.shape[0]-1, deg_c)\n",
      "/home/jorge/Documents/2019/Camerino/ASSP2019/multipartite-weighted-link-prediction/linkpred/b_lcp.py:100: RuntimeWarning: divide by zero encountered in log2\n",
      "  cpi[i] = np.log2(fav / (fav + unfav))\n",
      "/home/jorge/Documents/2019/Camerino/ASSP2019/multipartite-weighted-link-prediction/linkpred/b_lcp.py:100: RuntimeWarning: divide by zero encountered in log2\n",
      "  cpi[i] = np.log2(fav / (fav + unfav))\n",
      "/home/jorge/Documents/2019/Camerino/ASSP2019/multipartite-weighted-link-prediction/linkpred/b_lcp.py:98: RuntimeWarning: overflow encountered in double_scalars\n",
      "  fav = comb(x.shape[1]-1, deg_r-1) * comb(x.shape[0]-1, deg_c-1)\n",
      "/home/jorge/Documents/2019/Camerino/ASSP2019/multipartite-weighted-link-prediction/linkpred/b_lcp.py:98: RuntimeWarning: overflow encountered in double_scalars\n",
      "  fav = comb(x.shape[1]-1, deg_r-1) * comb(x.shape[0]-1, deg_c-1)\n",
      "/home/jorge/Documents/2019/Camerino/ASSP2019/multipartite-weighted-link-prediction/linkpred/b_lcp.py:99: RuntimeWarning: overflow encountered in double_scalars\n",
      "  unfav = comb(x.shape[1]-1, deg_r) * comb(x.shape[0]-1, deg_c)\n",
      "/home/jorge/Documents/2019/Camerino/ASSP2019/multipartite-weighted-link-prediction/linkpred/b_lcp.py:100: RuntimeWarning: divide by zero encountered in log2\n",
      "  cpi[i] = np.log2(fav / (fav + unfav))\n",
      "/home/jorge/Documents/2019/Camerino/ASSP2019/multipartite-weighted-link-prediction/linkpred/b_lcp.py:98: RuntimeWarning: overflow encountered in double_scalars\n",
      "  fav = comb(x.shape[1]-1, deg_r-1) * comb(x.shape[0]-1, deg_c-1)\n",
      "/home/jorge/Documents/2019/Camerino/ASSP2019/multipartite-weighted-link-prediction/linkpred/b_lcp.py:100: RuntimeWarning: divide by zero encountered in log2\n",
      "  cpi[i] = np.log2(fav / (fav + unfav))\n",
      "/home/jorge/Documents/2019/Camerino/ASSP2019/multipartite-weighted-link-prediction/linkpred/b_lcp.py:100: RuntimeWarning: divide by zero encountered in log2\n",
      "  cpi[i] = np.log2(fav / (fav + unfav))\n",
      "/home/jorge/Documents/2019/Camerino/ASSP2019/multipartite-weighted-link-prediction/linkpred/b_lcp.py:100: RuntimeWarning: divide by zero encountered in log2\n",
      "  cpi[i] = np.log2(fav / (fav + unfav))\n",
      "/home/jorge/Documents/2019/Camerino/ASSP2019/multipartite-weighted-link-prediction/linkpred/b_lcp.py:100: RuntimeWarning: divide by zero encountered in log2\n",
      "  cpi[i] = np.log2(fav / (fav + unfav))\n"
     ]
    },
    {
     "name": "stdout",
     "output_type": "stream",
     "text": [
      "100.00 %, 12.20 minutes\n",
      "... Trial 44 done\n",
      "100.00 %, 12.26 minutes\n",
      "... Trial 40 done\n",
      "100.00 %, 12.30 minutes\n",
      "... Trial 43 done\n",
      "100.00 %, 12.29 minutes\n",
      "Trial 45 starting...\n",
      "100.00 %, 12.29 minutes\n",
      "... Trial 42 done\n",
      "... Trial 47 done\n",
      "Computing bipartite LCP\n",
      "100.00 %, 12.47 minutes\n",
      "... Trial 46 done\n",
      "100.00 %, 12.48 minutes\n",
      "... Trial 49 done\n",
      "100.00 %, 12.63 minutes\n",
      "Trial 41 starting...\n",
      "... Trial 48 done\n",
      "Computing bipartite LCP\n",
      "100.00 %, 4.82 minutes\n",
      "... Trial 45 done\n",
      "100.00 %, 4.66 minutes\n",
      "... Trial 41 done\n",
      "Trial 56 starting...\n",
      "Trial 53 starting...\n",
      "Trial 55 starting...\n",
      "Trial 54 starting...\n",
      "Trial 57 starting...\n",
      "Trial 52 starting...\n",
      "Trial 59 starting...\n",
      "Trial 50 starting...\n",
      "Computing bipartite LCP\n"
     ]
    },
    {
     "name": "stderr",
     "output_type": "stream",
     "text": [
      "/home/jorge/Documents/2019/Camerino/ASSP2019/multipartite-weighted-link-prediction/linkpred/b_lcp.py:100: RuntimeWarning: invalid value encountered in double_scalars\n",
      "  cpi[i] = np.log2(fav / (fav + unfav))\n"
     ]
    },
    {
     "name": "stdout",
     "output_type": "stream",
     "text": [
      "Computing bipartite LCP\n"
     ]
    },
    {
     "name": "stderr",
     "output_type": "stream",
     "text": [
      "/home/jorge/Documents/2019/Camerino/ASSP2019/multipartite-weighted-link-prediction/linkpred/b_lcp.py:100: RuntimeWarning: invalid value encountered in double_scalars\n",
      "  cpi[i] = np.log2(fav / (fav + unfav))\n"
     ]
    },
    {
     "name": "stdout",
     "output_type": "stream",
     "text": [
      "Computing bipartite LCP\n",
      "Computing bipartite LCP\n"
     ]
    },
    {
     "name": "stderr",
     "output_type": "stream",
     "text": [
      "/home/jorge/Documents/2019/Camerino/ASSP2019/multipartite-weighted-link-prediction/linkpred/b_lcp.py:100: RuntimeWarning: invalid value encountered in double_scalars\n",
      "  cpi[i] = np.log2(fav / (fav + unfav))\n",
      "/home/jorge/Documents/2019/Camerino/ASSP2019/multipartite-weighted-link-prediction/linkpred/b_lcp.py:100: RuntimeWarning: invalid value encountered in double_scalars\n",
      "  cpi[i] = np.log2(fav / (fav + unfav))\n"
     ]
    },
    {
     "name": "stdout",
     "output_type": "stream",
     "text": [
      "Computing bipartite LCP\n"
     ]
    },
    {
     "name": "stderr",
     "output_type": "stream",
     "text": [
      "/home/jorge/Documents/2019/Camerino/ASSP2019/multipartite-weighted-link-prediction/linkpred/b_lcp.py:100: RuntimeWarning: invalid value encountered in double_scalars\n",
      "  cpi[i] = np.log2(fav / (fav + unfav))\n"
     ]
    },
    {
     "name": "stdout",
     "output_type": "stream",
     "text": [
      "Computing bipartite LCP\n",
      "Computing bipartite LCP\n",
      "Computing bipartite LCP\n"
     ]
    },
    {
     "name": "stderr",
     "output_type": "stream",
     "text": [
      "/home/jorge/Documents/2019/Camerino/ASSP2019/multipartite-weighted-link-prediction/linkpred/b_lcp.py:100: RuntimeWarning: invalid value encountered in double_scalars\n",
      "  cpi[i] = np.log2(fav / (fav + unfav))\n",
      "/home/jorge/Documents/2019/Camerino/ASSP2019/multipartite-weighted-link-prediction/linkpred/b_lcp.py:100: RuntimeWarning: invalid value encountered in double_scalars\n",
      "  cpi[i] = np.log2(fav / (fav + unfav))\n",
      "/home/jorge/Documents/2019/Camerino/ASSP2019/multipartite-weighted-link-prediction/linkpred/b_lcp.py:100: RuntimeWarning: invalid value encountered in double_scalars\n",
      "  cpi[i] = np.log2(fav / (fav + unfav))\n",
      "/home/jorge/Documents/2019/Camerino/ASSP2019/multipartite-weighted-link-prediction/linkpred/b_lcp.py:98: RuntimeWarning: overflow encountered in double_scalars\n",
      "  fav = comb(x.shape[1]-1, deg_r-1) * comb(x.shape[0]-1, deg_c-1)\n",
      "/home/jorge/Documents/2019/Camerino/ASSP2019/multipartite-weighted-link-prediction/linkpred/b_lcp.py:99: RuntimeWarning: overflow encountered in double_scalars\n",
      "  unfav = comb(x.shape[1]-1, deg_r) * comb(x.shape[0]-1, deg_c)\n",
      "/home/jorge/Documents/2019/Camerino/ASSP2019/multipartite-weighted-link-prediction/linkpred/b_lcp.py:98: RuntimeWarning: overflow encountered in double_scalars\n",
      "  fav = comb(x.shape[1]-1, deg_r-1) * comb(x.shape[0]-1, deg_c-1)\n",
      "/home/jorge/Documents/2019/Camerino/ASSP2019/multipartite-weighted-link-prediction/linkpred/b_lcp.py:99: RuntimeWarning: overflow encountered in double_scalars\n",
      "  unfav = comb(x.shape[1]-1, deg_r) * comb(x.shape[0]-1, deg_c)\n",
      "/home/jorge/Documents/2019/Camerino/ASSP2019/multipartite-weighted-link-prediction/linkpred/b_lcp.py:98: RuntimeWarning: overflow encountered in double_scalars\n",
      "  fav = comb(x.shape[1]-1, deg_r-1) * comb(x.shape[0]-1, deg_c-1)\n",
      "/home/jorge/Documents/2019/Camerino/ASSP2019/multipartite-weighted-link-prediction/linkpred/b_lcp.py:98: RuntimeWarning: overflow encountered in double_scalars\n",
      "  fav = comb(x.shape[1]-1, deg_r-1) * comb(x.shape[0]-1, deg_c-1)\n",
      "/home/jorge/Documents/2019/Camerino/ASSP2019/multipartite-weighted-link-prediction/linkpred/b_lcp.py:99: RuntimeWarning: overflow encountered in double_scalars\n",
      "  unfav = comb(x.shape[1]-1, deg_r) * comb(x.shape[0]-1, deg_c)\n",
      "/home/jorge/Documents/2019/Camerino/ASSP2019/multipartite-weighted-link-prediction/linkpred/b_lcp.py:99: RuntimeWarning: overflow encountered in double_scalars\n",
      "  unfav = comb(x.shape[1]-1, deg_r) * comb(x.shape[0]-1, deg_c)\n",
      "/home/jorge/Documents/2019/Camerino/ASSP2019/multipartite-weighted-link-prediction/linkpred/b_lcp.py:99: RuntimeWarning: overflow encountered in double_scalars\n",
      "  unfav = comb(x.shape[1]-1, deg_r) * comb(x.shape[0]-1, deg_c)\n",
      "/home/jorge/Documents/2019/Camerino/ASSP2019/multipartite-weighted-link-prediction/linkpred/b_lcp.py:100: RuntimeWarning: divide by zero encountered in log2\n",
      "  cpi[i] = np.log2(fav / (fav + unfav))\n",
      "/home/jorge/Documents/2019/Camerino/ASSP2019/multipartite-weighted-link-prediction/linkpred/b_lcp.py:99: RuntimeWarning: overflow encountered in double_scalars\n",
      "  unfav = comb(x.shape[1]-1, deg_r) * comb(x.shape[0]-1, deg_c)\n",
      "/home/jorge/Documents/2019/Camerino/ASSP2019/multipartite-weighted-link-prediction/linkpred/b_lcp.py:100: RuntimeWarning: divide by zero encountered in log2\n",
      "  cpi[i] = np.log2(fav / (fav + unfav))\n",
      "/home/jorge/Documents/2019/Camerino/ASSP2019/multipartite-weighted-link-prediction/linkpred/b_lcp.py:100: RuntimeWarning: divide by zero encountered in log2\n",
      "  cpi[i] = np.log2(fav / (fav + unfav))\n",
      "/home/jorge/Documents/2019/Camerino/ASSP2019/multipartite-weighted-link-prediction/linkpred/b_lcp.py:98: RuntimeWarning: overflow encountered in double_scalars\n",
      "  fav = comb(x.shape[1]-1, deg_r-1) * comb(x.shape[0]-1, deg_c-1)\n",
      "/home/jorge/Documents/2019/Camerino/ASSP2019/multipartite-weighted-link-prediction/linkpred/b_lcp.py:98: RuntimeWarning: overflow encountered in double_scalars\n",
      "  fav = comb(x.shape[1]-1, deg_r-1) * comb(x.shape[0]-1, deg_c-1)\n",
      "/home/jorge/Documents/2019/Camerino/ASSP2019/multipartite-weighted-link-prediction/linkpred/b_lcp.py:99: RuntimeWarning: overflow encountered in double_scalars\n",
      "  unfav = comb(x.shape[1]-1, deg_r) * comb(x.shape[0]-1, deg_c)\n",
      "/home/jorge/Documents/2019/Camerino/ASSP2019/multipartite-weighted-link-prediction/linkpred/b_lcp.py:99: RuntimeWarning: overflow encountered in double_scalars\n",
      "  unfav = comb(x.shape[1]-1, deg_r) * comb(x.shape[0]-1, deg_c)\n",
      "/home/jorge/Documents/2019/Camerino/ASSP2019/multipartite-weighted-link-prediction/linkpred/b_lcp.py:100: RuntimeWarning: divide by zero encountered in log2\n",
      "  cpi[i] = np.log2(fav / (fav + unfav))\n",
      "/home/jorge/Documents/2019/Camerino/ASSP2019/multipartite-weighted-link-prediction/linkpred/b_lcp.py:98: RuntimeWarning: overflow encountered in double_scalars\n",
      "  fav = comb(x.shape[1]-1, deg_r-1) * comb(x.shape[0]-1, deg_c-1)\n",
      "/home/jorge/Documents/2019/Camerino/ASSP2019/multipartite-weighted-link-prediction/linkpred/b_lcp.py:98: RuntimeWarning: overflow encountered in double_scalars\n",
      "  fav = comb(x.shape[1]-1, deg_r-1) * comb(x.shape[0]-1, deg_c-1)\n",
      "/home/jorge/Documents/2019/Camerino/ASSP2019/multipartite-weighted-link-prediction/linkpred/b_lcp.py:100: RuntimeWarning: divide by zero encountered in log2\n",
      "  cpi[i] = np.log2(fav / (fav + unfav))\n",
      "/home/jorge/Documents/2019/Camerino/ASSP2019/multipartite-weighted-link-prediction/linkpred/b_lcp.py:100: RuntimeWarning: divide by zero encountered in log2\n",
      "  cpi[i] = np.log2(fav / (fav + unfav))\n",
      "/home/jorge/Documents/2019/Camerino/ASSP2019/multipartite-weighted-link-prediction/linkpred/b_lcp.py:100: RuntimeWarning: divide by zero encountered in log2\n",
      "  cpi[i] = np.log2(fav / (fav + unfav))\n",
      "/home/jorge/Documents/2019/Camerino/ASSP2019/multipartite-weighted-link-prediction/linkpred/b_lcp.py:100: RuntimeWarning: divide by zero encountered in log2\n",
      "  cpi[i] = np.log2(fav / (fav + unfav))\n"
     ]
    },
    {
     "name": "stdout",
     "output_type": "stream",
     "text": [
      "100.00 %, 13.18 minutes\n",
      "... Trial 57 done\n",
      "Trial 58 starting...\n",
      "100.00 %, 13.28 minutes\n",
      "... Trial 52 done\n",
      "Computing bipartite LCP\n",
      "100.00 %, 13.36 minutes\n",
      "... Trial 54 done\n",
      "100.00 %, 13.38 minutes\n",
      "... Trial 55 done\n",
      "Trial 51 starting...\n",
      "Computing bipartite LCP\n",
      "100.00 %, 13.43 minutes\n",
      "... Trial 56 done\n",
      "100.00 %, 13.43 minutes\n",
      "... Trial 50 done\n",
      "100.00 %, 13.47 minutes\n",
      "... Trial 53 done\n",
      "100.00 %, 13.48 minutes\n",
      "... Trial 59 done\n",
      "100.00 %, 4.62 minutes\n",
      "... Trial 58 done\n",
      "100.00 %, 4.53 minutes\n",
      "... Trial 51 done\n",
      "Trial 66 starting...\n",
      "Trial 68 starting...\n",
      "Trial 63 starting...\n",
      "Trial 65 starting...\n",
      "Trial 67 starting...\n",
      "Trial 69 starting...\n",
      "Trial 60 starting...\n",
      "Trial 62 starting...\n",
      "Computing bipartite LCP\n",
      "Computing bipartite LCP\n"
     ]
    },
    {
     "name": "stderr",
     "output_type": "stream",
     "text": [
      "/home/jorge/Documents/2019/Camerino/ASSP2019/multipartite-weighted-link-prediction/linkpred/b_lcp.py:100: RuntimeWarning: invalid value encountered in double_scalars\n",
      "  cpi[i] = np.log2(fav / (fav + unfav))\n",
      "/home/jorge/Documents/2019/Camerino/ASSP2019/multipartite-weighted-link-prediction/linkpred/b_lcp.py:100: RuntimeWarning: invalid value encountered in double_scalars\n",
      "  cpi[i] = np.log2(fav / (fav + unfav))\n"
     ]
    },
    {
     "name": "stdout",
     "output_type": "stream",
     "text": [
      "Computing bipartite LCP\n"
     ]
    },
    {
     "name": "stderr",
     "output_type": "stream",
     "text": [
      "/home/jorge/Documents/2019/Camerino/ASSP2019/multipartite-weighted-link-prediction/linkpred/b_lcp.py:100: RuntimeWarning: invalid value encountered in double_scalars\n",
      "  cpi[i] = np.log2(fav / (fav + unfav))\n"
     ]
    },
    {
     "name": "stdout",
     "output_type": "stream",
     "text": [
      "Computing bipartite LCP\n",
      "Computing bipartite LCP\n"
     ]
    },
    {
     "name": "stderr",
     "output_type": "stream",
     "text": [
      "/home/jorge/Documents/2019/Camerino/ASSP2019/multipartite-weighted-link-prediction/linkpred/b_lcp.py:100: RuntimeWarning: invalid value encountered in double_scalars\n",
      "  cpi[i] = np.log2(fav / (fav + unfav))\n",
      "/home/jorge/Documents/2019/Camerino/ASSP2019/multipartite-weighted-link-prediction/linkpred/b_lcp.py:100: RuntimeWarning: invalid value encountered in double_scalars\n",
      "  cpi[i] = np.log2(fav / (fav + unfav))\n",
      "/home/jorge/Documents/2019/Camerino/ASSP2019/multipartite-weighted-link-prediction/linkpred/b_lcp.py:98: RuntimeWarning: overflow encountered in double_scalars\n",
      "  fav = comb(x.shape[1]-1, deg_r-1) * comb(x.shape[0]-1, deg_c-1)\n",
      "/home/jorge/Documents/2019/Camerino/ASSP2019/multipartite-weighted-link-prediction/linkpred/b_lcp.py:99: RuntimeWarning: overflow encountered in double_scalars\n",
      "  unfav = comb(x.shape[1]-1, deg_r) * comb(x.shape[0]-1, deg_c)\n",
      "/home/jorge/Documents/2019/Camerino/ASSP2019/multipartite-weighted-link-prediction/linkpred/b_lcp.py:98: RuntimeWarning: overflow encountered in double_scalars\n",
      "  fav = comb(x.shape[1]-1, deg_r-1) * comb(x.shape[0]-1, deg_c-1)\n",
      "/home/jorge/Documents/2019/Camerino/ASSP2019/multipartite-weighted-link-prediction/linkpred/b_lcp.py:99: RuntimeWarning: overflow encountered in double_scalars\n",
      "  unfav = comb(x.shape[1]-1, deg_r) * comb(x.shape[0]-1, deg_c)\n",
      "/home/jorge/Documents/2019/Camerino/ASSP2019/multipartite-weighted-link-prediction/linkpred/b_lcp.py:98: RuntimeWarning: overflow encountered in double_scalars\n",
      "  fav = comb(x.shape[1]-1, deg_r-1) * comb(x.shape[0]-1, deg_c-1)\n",
      "/home/jorge/Documents/2019/Camerino/ASSP2019/multipartite-weighted-link-prediction/linkpred/b_lcp.py:99: RuntimeWarning: overflow encountered in double_scalars\n",
      "  unfav = comb(x.shape[1]-1, deg_r) * comb(x.shape[0]-1, deg_c)\n"
     ]
    },
    {
     "name": "stdout",
     "output_type": "stream",
     "text": [
      "Computing bipartite LCP\n"
     ]
    },
    {
     "name": "stderr",
     "output_type": "stream",
     "text": [
      "/home/jorge/Documents/2019/Camerino/ASSP2019/multipartite-weighted-link-prediction/linkpred/b_lcp.py:100: RuntimeWarning: invalid value encountered in double_scalars\n",
      "  cpi[i] = np.log2(fav / (fav + unfav))\n"
     ]
    },
    {
     "name": "stdout",
     "output_type": "stream",
     "text": [
      "Computing bipartite LCP\n"
     ]
    },
    {
     "name": "stderr",
     "output_type": "stream",
     "text": [
      "/home/jorge/Documents/2019/Camerino/ASSP2019/multipartite-weighted-link-prediction/linkpred/b_lcp.py:99: RuntimeWarning: overflow encountered in double_scalars\n",
      "  unfav = comb(x.shape[1]-1, deg_r) * comb(x.shape[0]-1, deg_c)\n",
      "/home/jorge/Documents/2019/Camerino/ASSP2019/multipartite-weighted-link-prediction/linkpred/b_lcp.py:100: RuntimeWarning: divide by zero encountered in log2\n",
      "  cpi[i] = np.log2(fav / (fav + unfav))\n",
      "/home/jorge/Documents/2019/Camerino/ASSP2019/multipartite-weighted-link-prediction/linkpred/b_lcp.py:100: RuntimeWarning: invalid value encountered in double_scalars\n",
      "  cpi[i] = np.log2(fav / (fav + unfav))\n",
      "/home/jorge/Documents/2019/Camerino/ASSP2019/multipartite-weighted-link-prediction/linkpred/b_lcp.py:98: RuntimeWarning: overflow encountered in double_scalars\n",
      "  fav = comb(x.shape[1]-1, deg_r-1) * comb(x.shape[0]-1, deg_c-1)\n",
      "/home/jorge/Documents/2019/Camerino/ASSP2019/multipartite-weighted-link-prediction/linkpred/b_lcp.py:99: RuntimeWarning: overflow encountered in double_scalars\n",
      "  unfav = comb(x.shape[1]-1, deg_r) * comb(x.shape[0]-1, deg_c)\n",
      "/home/jorge/Documents/2019/Camerino/ASSP2019/multipartite-weighted-link-prediction/linkpred/b_lcp.py:98: RuntimeWarning: overflow encountered in double_scalars\n",
      "  fav = comb(x.shape[1]-1, deg_r-1) * comb(x.shape[0]-1, deg_c-1)\n"
     ]
    },
    {
     "name": "stdout",
     "output_type": "stream",
     "text": [
      "Computing bipartite LCP\n"
     ]
    },
    {
     "name": "stderr",
     "output_type": "stream",
     "text": [
      "/home/jorge/Documents/2019/Camerino/ASSP2019/multipartite-weighted-link-prediction/linkpred/b_lcp.py:100: RuntimeWarning: divide by zero encountered in log2\n",
      "  cpi[i] = np.log2(fav / (fav + unfav))\n",
      "/home/jorge/Documents/2019/Camerino/ASSP2019/multipartite-weighted-link-prediction/linkpred/b_lcp.py:100: RuntimeWarning: invalid value encountered in double_scalars\n",
      "  cpi[i] = np.log2(fav / (fav + unfav))\n",
      "/home/jorge/Documents/2019/Camerino/ASSP2019/multipartite-weighted-link-prediction/linkpred/b_lcp.py:98: RuntimeWarning: overflow encountered in double_scalars\n",
      "  fav = comb(x.shape[1]-1, deg_r-1) * comb(x.shape[0]-1, deg_c-1)\n",
      "/home/jorge/Documents/2019/Camerino/ASSP2019/multipartite-weighted-link-prediction/linkpred/b_lcp.py:98: RuntimeWarning: overflow encountered in double_scalars\n",
      "  fav = comb(x.shape[1]-1, deg_r-1) * comb(x.shape[0]-1, deg_c-1)\n",
      "/home/jorge/Documents/2019/Camerino/ASSP2019/multipartite-weighted-link-prediction/linkpred/b_lcp.py:99: RuntimeWarning: overflow encountered in double_scalars\n",
      "  unfav = comb(x.shape[1]-1, deg_r) * comb(x.shape[0]-1, deg_c)\n",
      "/home/jorge/Documents/2019/Camerino/ASSP2019/multipartite-weighted-link-prediction/linkpred/b_lcp.py:99: RuntimeWarning: overflow encountered in double_scalars\n",
      "  unfav = comb(x.shape[1]-1, deg_r) * comb(x.shape[0]-1, deg_c)\n",
      "/home/jorge/Documents/2019/Camerino/ASSP2019/multipartite-weighted-link-prediction/linkpred/b_lcp.py:98: RuntimeWarning: overflow encountered in double_scalars\n",
      "  fav = comb(x.shape[1]-1, deg_r-1) * comb(x.shape[0]-1, deg_c-1)\n",
      "/home/jorge/Documents/2019/Camerino/ASSP2019/multipartite-weighted-link-prediction/linkpred/b_lcp.py:99: RuntimeWarning: overflow encountered in double_scalars\n",
      "  unfav = comb(x.shape[1]-1, deg_r) * comb(x.shape[0]-1, deg_c)\n",
      "/home/jorge/Documents/2019/Camerino/ASSP2019/multipartite-weighted-link-prediction/linkpred/b_lcp.py:100: RuntimeWarning: divide by zero encountered in log2\n",
      "  cpi[i] = np.log2(fav / (fav + unfav))\n",
      "/home/jorge/Documents/2019/Camerino/ASSP2019/multipartite-weighted-link-prediction/linkpred/b_lcp.py:100: RuntimeWarning: divide by zero encountered in log2\n",
      "  cpi[i] = np.log2(fav / (fav + unfav))\n",
      "/home/jorge/Documents/2019/Camerino/ASSP2019/multipartite-weighted-link-prediction/linkpred/b_lcp.py:100: RuntimeWarning: divide by zero encountered in log2\n",
      "  cpi[i] = np.log2(fav / (fav + unfav))\n",
      "/home/jorge/Documents/2019/Camerino/ASSP2019/multipartite-weighted-link-prediction/linkpred/b_lcp.py:100: RuntimeWarning: divide by zero encountered in log2\n",
      "  cpi[i] = np.log2(fav / (fav + unfav))\n",
      "/home/jorge/Documents/2019/Camerino/ASSP2019/multipartite-weighted-link-prediction/linkpred/b_lcp.py:100: RuntimeWarning: divide by zero encountered in log2\n",
      "  cpi[i] = np.log2(fav / (fav + unfav))\n",
      "/home/jorge/Documents/2019/Camerino/ASSP2019/multipartite-weighted-link-prediction/linkpred/b_lcp.py:100: RuntimeWarning: divide by zero encountered in log2\n",
      "  cpi[i] = np.log2(fav / (fav + unfav))\n"
     ]
    },
    {
     "name": "stdout",
     "output_type": "stream",
     "text": [
      "100.00 %, 13.26 minutes\n",
      "... Trial 60 done\n",
      "100.00 %, 13.28 minutes\n",
      "... Trial 66 done\n",
      "100.00 %, 13.32 minutes\n",
      "... Trial 62 done\n",
      "100.00 %, 13.34 minutes\n",
      "... Trial 67 done\n",
      "100.00 %, 13.35 minutes\n",
      "Trial 64 starting...\n",
      "... Trial 68 done\n",
      "Computing bipartite LCP\n",
      "Trial 61 starting...\n",
      "100.00 %, 13.40 minutes\n",
      "... Trial 65 done\n",
      "Computing bipartite LCP\n",
      "100.00 %, 13.42 minutes\n",
      "... Trial 63 done\n",
      "100.00 %, 13.45 minutes\n",
      "... Trial 69 done\n",
      "100.00 %, 4.50 minutes\n",
      "... Trial 61 done\n",
      "100.00 %, 4.56 minutes\n",
      "... Trial 64 done\n",
      "Trial 72 starting...\n",
      "Trial 76 starting...\n",
      "Trial 73 starting...\n",
      "Trial 74 starting...\n",
      "Trial 78 starting...\n",
      "Computing bipartite LCP\n"
     ]
    },
    {
     "name": "stderr",
     "output_type": "stream",
     "text": [
      "/home/jorge/Documents/2019/Camerino/ASSP2019/multipartite-weighted-link-prediction/linkpred/b_lcp.py:100: RuntimeWarning: invalid value encountered in double_scalars\n",
      "  cpi[i] = np.log2(fav / (fav + unfav))\n"
     ]
    },
    {
     "name": "stdout",
     "output_type": "stream",
     "text": [
      "Trial 79 starting...\n"
     ]
    },
    {
     "name": "stderr",
     "output_type": "stream",
     "text": [
      "/home/jorge/Documents/2019/Camerino/ASSP2019/multipartite-weighted-link-prediction/linkpred/b_lcp.py:98: RuntimeWarning: overflow encountered in double_scalars\n",
      "  fav = comb(x.shape[1]-1, deg_r-1) * comb(x.shape[0]-1, deg_c-1)\n",
      "/home/jorge/Documents/2019/Camerino/ASSP2019/multipartite-weighted-link-prediction/linkpred/b_lcp.py:99: RuntimeWarning: overflow encountered in double_scalars\n",
      "  unfav = comb(x.shape[1]-1, deg_r) * comb(x.shape[0]-1, deg_c)\n"
     ]
    },
    {
     "name": "stdout",
     "output_type": "stream",
     "text": [
      "Trial 70 starting...\n",
      "Computing bipartite LCP\n"
     ]
    },
    {
     "name": "stderr",
     "output_type": "stream",
     "text": [
      "/home/jorge/Documents/2019/Camerino/ASSP2019/multipartite-weighted-link-prediction/linkpred/b_lcp.py:100: RuntimeWarning: invalid value encountered in double_scalars\n",
      "  cpi[i] = np.log2(fav / (fav + unfav))\n"
     ]
    },
    {
     "name": "stdout",
     "output_type": "stream",
     "text": [
      "Trial 75 starting...\n",
      "Computing bipartite LCP\n"
     ]
    },
    {
     "name": "stderr",
     "output_type": "stream",
     "text": [
      "/home/jorge/Documents/2019/Camerino/ASSP2019/multipartite-weighted-link-prediction/linkpred/b_lcp.py:100: RuntimeWarning: invalid value encountered in double_scalars\n",
      "  cpi[i] = np.log2(fav / (fav + unfav))\n",
      "/home/jorge/Documents/2019/Camerino/ASSP2019/multipartite-weighted-link-prediction/linkpred/b_lcp.py:98: RuntimeWarning: overflow encountered in double_scalars\n",
      "  fav = comb(x.shape[1]-1, deg_r-1) * comb(x.shape[0]-1, deg_c-1)\n",
      "/home/jorge/Documents/2019/Camerino/ASSP2019/multipartite-weighted-link-prediction/linkpred/b_lcp.py:99: RuntimeWarning: overflow encountered in double_scalars\n",
      "  unfav = comb(x.shape[1]-1, deg_r) * comb(x.shape[0]-1, deg_c)\n",
      "/home/jorge/Documents/2019/Camerino/ASSP2019/multipartite-weighted-link-prediction/linkpred/b_lcp.py:99: RuntimeWarning: overflow encountered in double_scalars\n",
      "  unfav = comb(x.shape[1]-1, deg_r) * comb(x.shape[0]-1, deg_c)\n",
      "/home/jorge/Documents/2019/Camerino/ASSP2019/multipartite-weighted-link-prediction/linkpred/b_lcp.py:100: RuntimeWarning: divide by zero encountered in log2\n",
      "  cpi[i] = np.log2(fav / (fav + unfav))\n",
      "/home/jorge/Documents/2019/Camerino/ASSP2019/multipartite-weighted-link-prediction/linkpred/b_lcp.py:98: RuntimeWarning: overflow encountered in double_scalars\n",
      "  fav = comb(x.shape[1]-1, deg_r-1) * comb(x.shape[0]-1, deg_c-1)\n"
     ]
    },
    {
     "name": "stdout",
     "output_type": "stream",
     "text": [
      "Computing bipartite LCP\n"
     ]
    },
    {
     "name": "stderr",
     "output_type": "stream",
     "text": [
      "/home/jorge/Documents/2019/Camerino/ASSP2019/multipartite-weighted-link-prediction/linkpred/b_lcp.py:100: RuntimeWarning: invalid value encountered in double_scalars\n",
      "  cpi[i] = np.log2(fav / (fav + unfav))\n",
      "/home/jorge/Documents/2019/Camerino/ASSP2019/multipartite-weighted-link-prediction/linkpred/b_lcp.py:98: RuntimeWarning: overflow encountered in double_scalars\n",
      "  fav = comb(x.shape[1]-1, deg_r-1) * comb(x.shape[0]-1, deg_c-1)\n",
      "/home/jorge/Documents/2019/Camerino/ASSP2019/multipartite-weighted-link-prediction/linkpred/b_lcp.py:99: RuntimeWarning: overflow encountered in double_scalars\n",
      "  unfav = comb(x.shape[1]-1, deg_r) * comb(x.shape[0]-1, deg_c)\n"
     ]
    },
    {
     "name": "stdout",
     "output_type": "stream",
     "text": [
      "Computing bipartite LCP\n"
     ]
    },
    {
     "name": "stderr",
     "output_type": "stream",
     "text": [
      "/home/jorge/Documents/2019/Camerino/ASSP2019/multipartite-weighted-link-prediction/linkpred/b_lcp.py:100: RuntimeWarning: invalid value encountered in double_scalars\n",
      "  cpi[i] = np.log2(fav / (fav + unfav))\n"
     ]
    },
    {
     "name": "stdout",
     "output_type": "stream",
     "text": [
      "Computing bipartite LCP\n",
      "Computing bipartite LCP\n"
     ]
    },
    {
     "name": "stderr",
     "output_type": "stream",
     "text": [
      "/home/jorge/Documents/2019/Camerino/ASSP2019/multipartite-weighted-link-prediction/linkpred/b_lcp.py:100: RuntimeWarning: invalid value encountered in double_scalars\n",
      "  cpi[i] = np.log2(fav / (fav + unfav))\n",
      "/home/jorge/Documents/2019/Camerino/ASSP2019/multipartite-weighted-link-prediction/linkpred/b_lcp.py:100: RuntimeWarning: invalid value encountered in double_scalars\n",
      "  cpi[i] = np.log2(fav / (fav + unfav))\n",
      "/home/jorge/Documents/2019/Camerino/ASSP2019/multipartite-weighted-link-prediction/linkpred/b_lcp.py:98: RuntimeWarning: overflow encountered in double_scalars\n",
      "  fav = comb(x.shape[1]-1, deg_r-1) * comb(x.shape[0]-1, deg_c-1)\n",
      "/home/jorge/Documents/2019/Camerino/ASSP2019/multipartite-weighted-link-prediction/linkpred/b_lcp.py:99: RuntimeWarning: overflow encountered in double_scalars\n",
      "  unfav = comb(x.shape[1]-1, deg_r) * comb(x.shape[0]-1, deg_c)\n",
      "/home/jorge/Documents/2019/Camerino/ASSP2019/multipartite-weighted-link-prediction/linkpred/b_lcp.py:98: RuntimeWarning: overflow encountered in double_scalars\n",
      "  fav = comb(x.shape[1]-1, deg_r-1) * comb(x.shape[0]-1, deg_c-1)\n",
      "/home/jorge/Documents/2019/Camerino/ASSP2019/multipartite-weighted-link-prediction/linkpred/b_lcp.py:99: RuntimeWarning: overflow encountered in double_scalars\n",
      "  unfav = comb(x.shape[1]-1, deg_r) * comb(x.shape[0]-1, deg_c)\n",
      "/home/jorge/Documents/2019/Camerino/ASSP2019/multipartite-weighted-link-prediction/linkpred/b_lcp.py:100: RuntimeWarning: divide by zero encountered in log2\n",
      "  cpi[i] = np.log2(fav / (fav + unfav))\n"
     ]
    },
    {
     "name": "stdout",
     "output_type": "stream",
     "text": [
      "Computing bipartite LCP\n"
     ]
    },
    {
     "name": "stderr",
     "output_type": "stream",
     "text": [
      "/home/jorge/Documents/2019/Camerino/ASSP2019/multipartite-weighted-link-prediction/linkpred/b_lcp.py:100: RuntimeWarning: invalid value encountered in double_scalars\n",
      "  cpi[i] = np.log2(fav / (fav + unfav))\n",
      "/home/jorge/Documents/2019/Camerino/ASSP2019/multipartite-weighted-link-prediction/linkpred/b_lcp.py:100: RuntimeWarning: divide by zero encountered in log2\n",
      "  cpi[i] = np.log2(fav / (fav + unfav))\n",
      "/home/jorge/Documents/2019/Camerino/ASSP2019/multipartite-weighted-link-prediction/linkpred/b_lcp.py:99: RuntimeWarning: overflow encountered in double_scalars\n",
      "  unfav = comb(x.shape[1]-1, deg_r) * comb(x.shape[0]-1, deg_c)\n",
      "/home/jorge/Documents/2019/Camerino/ASSP2019/multipartite-weighted-link-prediction/linkpred/b_lcp.py:100: RuntimeWarning: divide by zero encountered in log2\n",
      "  cpi[i] = np.log2(fav / (fav + unfav))\n",
      "/home/jorge/Documents/2019/Camerino/ASSP2019/multipartite-weighted-link-prediction/linkpred/b_lcp.py:99: RuntimeWarning: overflow encountered in double_scalars\n",
      "  unfav = comb(x.shape[1]-1, deg_r) * comb(x.shape[0]-1, deg_c)\n",
      "/home/jorge/Documents/2019/Camerino/ASSP2019/multipartite-weighted-link-prediction/linkpred/b_lcp.py:100: RuntimeWarning: divide by zero encountered in log2\n",
      "  cpi[i] = np.log2(fav / (fav + unfav))\n",
      "/home/jorge/Documents/2019/Camerino/ASSP2019/multipartite-weighted-link-prediction/linkpred/b_lcp.py:100: RuntimeWarning: divide by zero encountered in log2\n",
      "  cpi[i] = np.log2(fav / (fav + unfav))\n",
      "/home/jorge/Documents/2019/Camerino/ASSP2019/multipartite-weighted-link-prediction/linkpred/b_lcp.py:98: RuntimeWarning: overflow encountered in double_scalars\n",
      "  fav = comb(x.shape[1]-1, deg_r-1) * comb(x.shape[0]-1, deg_c-1)\n",
      "/home/jorge/Documents/2019/Camerino/ASSP2019/multipartite-weighted-link-prediction/linkpred/b_lcp.py:98: RuntimeWarning: overflow encountered in double_scalars\n",
      "  fav = comb(x.shape[1]-1, deg_r-1) * comb(x.shape[0]-1, deg_c-1)\n",
      "/home/jorge/Documents/2019/Camerino/ASSP2019/multipartite-weighted-link-prediction/linkpred/b_lcp.py:100: RuntimeWarning: divide by zero encountered in log2\n",
      "  cpi[i] = np.log2(fav / (fav + unfav))\n",
      "/home/jorge/Documents/2019/Camerino/ASSP2019/multipartite-weighted-link-prediction/linkpred/b_lcp.py:100: RuntimeWarning: divide by zero encountered in log2\n",
      "  cpi[i] = np.log2(fav / (fav + unfav))\n"
     ]
    },
    {
     "name": "stdout",
     "output_type": "stream",
     "text": [
      "100.00 %, 13.03 minutes\n",
      "... Trial 78 done\n",
      "Trial 77 starting...\n",
      "Computing bipartite LCP\n",
      "100.00 %, 13.15 minutes\n",
      "... Trial 79 done\n",
      "100.00 %, 13.21 minutes\n",
      "... Trial 76 done\n",
      "100.00 %, 13.22 minutes\n",
      "... Trial 70 done\n",
      "100.00 %, 13.23 minutes\n",
      "... Trial 75 done\n",
      "Trial 71 starting...\n",
      "Computing bipartite LCP\n",
      "100.00 %, 13.33 minutes\n",
      "... Trial 72 done\n",
      "100.00 %, 13.34 minutes\n",
      "... Trial 73 done\n",
      "100.00 %, 13.40 minutes\n",
      "... Trial 74 done\n",
      "100.00 %, 4.59 minutes\n",
      "... Trial 77 done\n",
      "100.00 %, 4.48 minutes\n",
      "... Trial 71 done\n",
      "Trial 80 starting...\n",
      "Trial 81 starting...\n",
      "Trial 85 starting...\n",
      "Trial 83 starting...\n",
      "Trial 86 starting...\n",
      "Trial 84 starting...\n",
      "Trial 88 starting...\n",
      "Computing bipartite LCP\n",
      "Trial 89 starting...\n"
     ]
    },
    {
     "name": "stderr",
     "output_type": "stream",
     "text": [
      "/home/jorge/Documents/2019/Camerino/ASSP2019/multipartite-weighted-link-prediction/linkpred/b_lcp.py:100: RuntimeWarning: invalid value encountered in double_scalars\n",
      "  cpi[i] = np.log2(fav / (fav + unfav))\n"
     ]
    },
    {
     "name": "stdout",
     "output_type": "stream",
     "text": [
      "Computing bipartite LCP\n"
     ]
    },
    {
     "name": "stderr",
     "output_type": "stream",
     "text": [
      "/home/jorge/Documents/2019/Camerino/ASSP2019/multipartite-weighted-link-prediction/linkpred/b_lcp.py:100: RuntimeWarning: invalid value encountered in double_scalars\n",
      "  cpi[i] = np.log2(fav / (fav + unfav))\n"
     ]
    },
    {
     "name": "stdout",
     "output_type": "stream",
     "text": [
      "Computing bipartite LCP\n"
     ]
    },
    {
     "name": "stderr",
     "output_type": "stream",
     "text": [
      "/home/jorge/Documents/2019/Camerino/ASSP2019/multipartite-weighted-link-prediction/linkpred/b_lcp.py:100: RuntimeWarning: invalid value encountered in double_scalars\n",
      "  cpi[i] = np.log2(fav / (fav + unfav))\n",
      "/home/jorge/Documents/2019/Camerino/ASSP2019/multipartite-weighted-link-prediction/linkpred/b_lcp.py:98: RuntimeWarning: overflow encountered in double_scalars\n",
      "  fav = comb(x.shape[1]-1, deg_r-1) * comb(x.shape[0]-1, deg_c-1)\n",
      "/home/jorge/Documents/2019/Camerino/ASSP2019/multipartite-weighted-link-prediction/linkpred/b_lcp.py:99: RuntimeWarning: overflow encountered in double_scalars\n",
      "  unfav = comb(x.shape[1]-1, deg_r) * comb(x.shape[0]-1, deg_c)\n",
      "/home/jorge/Documents/2019/Camerino/ASSP2019/multipartite-weighted-link-prediction/linkpred/b_lcp.py:98: RuntimeWarning: overflow encountered in double_scalars\n",
      "  fav = comb(x.shape[1]-1, deg_r-1) * comb(x.shape[0]-1, deg_c-1)\n",
      "/home/jorge/Documents/2019/Camerino/ASSP2019/multipartite-weighted-link-prediction/linkpred/b_lcp.py:99: RuntimeWarning: overflow encountered in double_scalars\n",
      "  unfav = comb(x.shape[1]-1, deg_r) * comb(x.shape[0]-1, deg_c)\n",
      "/home/jorge/Documents/2019/Camerino/ASSP2019/multipartite-weighted-link-prediction/linkpred/b_lcp.py:99: RuntimeWarning: overflow encountered in double_scalars\n",
      "  unfav = comb(x.shape[1]-1, deg_r) * comb(x.shape[0]-1, deg_c)\n",
      "/home/jorge/Documents/2019/Camerino/ASSP2019/multipartite-weighted-link-prediction/linkpred/b_lcp.py:100: RuntimeWarning: divide by zero encountered in log2\n",
      "  cpi[i] = np.log2(fav / (fav + unfav))\n",
      "/home/jorge/Documents/2019/Camerino/ASSP2019/multipartite-weighted-link-prediction/linkpred/b_lcp.py:98: RuntimeWarning: overflow encountered in double_scalars\n",
      "  fav = comb(x.shape[1]-1, deg_r-1) * comb(x.shape[0]-1, deg_c-1)\n"
     ]
    },
    {
     "name": "stdout",
     "output_type": "stream",
     "text": [
      "Computing bipartite LCP\n"
     ]
    },
    {
     "name": "stderr",
     "output_type": "stream",
     "text": [
      "/home/jorge/Documents/2019/Camerino/ASSP2019/multipartite-weighted-link-prediction/linkpred/b_lcp.py:100: RuntimeWarning: invalid value encountered in double_scalars\n",
      "  cpi[i] = np.log2(fav / (fav + unfav))\n",
      "/home/jorge/Documents/2019/Camerino/ASSP2019/multipartite-weighted-link-prediction/linkpred/b_lcp.py:100: RuntimeWarning: divide by zero encountered in log2\n",
      "  cpi[i] = np.log2(fav / (fav + unfav))\n",
      "/home/jorge/Documents/2019/Camerino/ASSP2019/multipartite-weighted-link-prediction/linkpred/b_lcp.py:98: RuntimeWarning: overflow encountered in double_scalars\n",
      "  fav = comb(x.shape[1]-1, deg_r-1) * comb(x.shape[0]-1, deg_c-1)\n"
     ]
    },
    {
     "name": "stdout",
     "output_type": "stream",
     "text": [
      "Computing bipartite LCP\n"
     ]
    },
    {
     "name": "stderr",
     "output_type": "stream",
     "text": [
      "/home/jorge/Documents/2019/Camerino/ASSP2019/multipartite-weighted-link-prediction/linkpred/b_lcp.py:99: RuntimeWarning: overflow encountered in double_scalars\n",
      "  unfav = comb(x.shape[1]-1, deg_r) * comb(x.shape[0]-1, deg_c)\n"
     ]
    },
    {
     "name": "stdout",
     "output_type": "stream",
     "text": [
      "Computing bipartite LCP\n"
     ]
    },
    {
     "name": "stderr",
     "output_type": "stream",
     "text": [
      "/home/jorge/Documents/2019/Camerino/ASSP2019/multipartite-weighted-link-prediction/linkpred/b_lcp.py:100: RuntimeWarning: invalid value encountered in double_scalars\n",
      "  cpi[i] = np.log2(fav / (fav + unfav))\n",
      "/home/jorge/Documents/2019/Camerino/ASSP2019/multipartite-weighted-link-prediction/linkpred/b_lcp.py:100: RuntimeWarning: invalid value encountered in double_scalars\n",
      "  cpi[i] = np.log2(fav / (fav + unfav))\n",
      "/home/jorge/Documents/2019/Camerino/ASSP2019/multipartite-weighted-link-prediction/linkpred/b_lcp.py:99: RuntimeWarning: overflow encountered in double_scalars\n",
      "  unfav = comb(x.shape[1]-1, deg_r) * comb(x.shape[0]-1, deg_c)\n",
      "/home/jorge/Documents/2019/Camerino/ASSP2019/multipartite-weighted-link-prediction/linkpred/b_lcp.py:100: RuntimeWarning: divide by zero encountered in log2\n",
      "  cpi[i] = np.log2(fav / (fav + unfav))\n",
      "/home/jorge/Documents/2019/Camerino/ASSP2019/multipartite-weighted-link-prediction/linkpred/b_lcp.py:98: RuntimeWarning: overflow encountered in double_scalars\n",
      "  fav = comb(x.shape[1]-1, deg_r-1) * comb(x.shape[0]-1, deg_c-1)\n",
      "/home/jorge/Documents/2019/Camerino/ASSP2019/multipartite-weighted-link-prediction/linkpred/b_lcp.py:100: RuntimeWarning: divide by zero encountered in log2\n",
      "  cpi[i] = np.log2(fav / (fav + unfav))\n"
     ]
    },
    {
     "name": "stdout",
     "output_type": "stream",
     "text": [
      "Computing bipartite LCP\n",
      "Computing bipartite LCP\n"
     ]
    },
    {
     "name": "stderr",
     "output_type": "stream",
     "text": [
      "/home/jorge/Documents/2019/Camerino/ASSP2019/multipartite-weighted-link-prediction/linkpred/b_lcp.py:100: RuntimeWarning: invalid value encountered in double_scalars\n",
      "  cpi[i] = np.log2(fav / (fav + unfav))\n",
      "/home/jorge/Documents/2019/Camerino/ASSP2019/multipartite-weighted-link-prediction/linkpred/b_lcp.py:100: RuntimeWarning: invalid value encountered in double_scalars\n",
      "  cpi[i] = np.log2(fav / (fav + unfav))\n",
      "/home/jorge/Documents/2019/Camerino/ASSP2019/multipartite-weighted-link-prediction/linkpred/b_lcp.py:98: RuntimeWarning: overflow encountered in double_scalars\n",
      "  fav = comb(x.shape[1]-1, deg_r-1) * comb(x.shape[0]-1, deg_c-1)\n",
      "/home/jorge/Documents/2019/Camerino/ASSP2019/multipartite-weighted-link-prediction/linkpred/b_lcp.py:99: RuntimeWarning: overflow encountered in double_scalars\n",
      "  unfav = comb(x.shape[1]-1, deg_r) * comb(x.shape[0]-1, deg_c)\n",
      "/home/jorge/Documents/2019/Camerino/ASSP2019/multipartite-weighted-link-prediction/linkpred/b_lcp.py:99: RuntimeWarning: overflow encountered in double_scalars\n",
      "  unfav = comb(x.shape[1]-1, deg_r) * comb(x.shape[0]-1, deg_c)\n",
      "/home/jorge/Documents/2019/Camerino/ASSP2019/multipartite-weighted-link-prediction/linkpred/b_lcp.py:100: RuntimeWarning: divide by zero encountered in log2\n",
      "  cpi[i] = np.log2(fav / (fav + unfav))\n",
      "/home/jorge/Documents/2019/Camerino/ASSP2019/multipartite-weighted-link-prediction/linkpred/b_lcp.py:98: RuntimeWarning: overflow encountered in double_scalars\n",
      "  fav = comb(x.shape[1]-1, deg_r-1) * comb(x.shape[0]-1, deg_c-1)\n",
      "/home/jorge/Documents/2019/Camerino/ASSP2019/multipartite-weighted-link-prediction/linkpred/b_lcp.py:98: RuntimeWarning: overflow encountered in double_scalars\n",
      "  fav = comb(x.shape[1]-1, deg_r-1) * comb(x.shape[0]-1, deg_c-1)\n",
      "/home/jorge/Documents/2019/Camerino/ASSP2019/multipartite-weighted-link-prediction/linkpred/b_lcp.py:99: RuntimeWarning: overflow encountered in double_scalars\n",
      "  unfav = comb(x.shape[1]-1, deg_r) * comb(x.shape[0]-1, deg_c)\n",
      "/home/jorge/Documents/2019/Camerino/ASSP2019/multipartite-weighted-link-prediction/linkpred/b_lcp.py:100: RuntimeWarning: divide by zero encountered in log2\n",
      "  cpi[i] = np.log2(fav / (fav + unfav))\n",
      "/home/jorge/Documents/2019/Camerino/ASSP2019/multipartite-weighted-link-prediction/linkpred/b_lcp.py:100: RuntimeWarning: divide by zero encountered in log2\n",
      "  cpi[i] = np.log2(fav / (fav + unfav))\n",
      "/home/jorge/Documents/2019/Camerino/ASSP2019/multipartite-weighted-link-prediction/linkpred/b_lcp.py:100: RuntimeWarning: divide by zero encountered in log2\n",
      "  cpi[i] = np.log2(fav / (fav + unfav))\n"
     ]
    },
    {
     "name": "stdout",
     "output_type": "stream",
     "text": [
      "100.00 %, 13.19 minutes\n",
      "... Trial 86 done\n",
      "100.00 %, 13.25 minutes\n",
      "... Trial 80 done\n",
      "100.00 %, 13.25 minutes\n",
      "... Trial 83 done\n",
      "100.00 %, 13.27 minutes\n",
      "... Trial 85 done\n",
      "100.00 %, 13.28 minutes\n",
      "... Trial 88 done\n",
      "Trial 82 starting...\n",
      "Computing bipartite LCP\n",
      "Trial 87 starting...\n",
      "Computing bipartite LCP\n",
      "100.00 %, 13.34 minutes\n",
      "... Trial 89 done\n",
      "100.00 %, 13.42 minutes\n",
      "... Trial 81 done\n",
      "100.00 %, 13.41 minutes\n",
      "... Trial 84 done\n",
      "100.00 %, 4.45 minutes\n",
      "... Trial 87 done\n",
      "100.00 %, 4.51 minutes\n",
      "... Trial 82 done\n",
      "Trial 95 starting...\n",
      "Trial 97 starting...\n",
      "Trial 90 starting...\n",
      "Trial 98 starting...\n",
      "Trial 99 starting...\n",
      "Trial 91 starting...\n",
      "Computing bipartite LCP\n"
     ]
    },
    {
     "name": "stderr",
     "output_type": "stream",
     "text": [
      "/home/jorge/Documents/2019/Camerino/ASSP2019/multipartite-weighted-link-prediction/linkpred/b_lcp.py:100: RuntimeWarning: invalid value encountered in double_scalars\n",
      "  cpi[i] = np.log2(fav / (fav + unfav))\n"
     ]
    },
    {
     "name": "stdout",
     "output_type": "stream",
     "text": [
      "Trial 92 starting...\n"
     ]
    },
    {
     "name": "stderr",
     "output_type": "stream",
     "text": [
      "/home/jorge/Documents/2019/Camerino/ASSP2019/multipartite-weighted-link-prediction/linkpred/b_lcp.py:98: RuntimeWarning: overflow encountered in double_scalars\n",
      "  fav = comb(x.shape[1]-1, deg_r-1) * comb(x.shape[0]-1, deg_c-1)\n",
      "/home/jorge/Documents/2019/Camerino/ASSP2019/multipartite-weighted-link-prediction/linkpred/b_lcp.py:99: RuntimeWarning: overflow encountered in double_scalars\n",
      "  unfav = comb(x.shape[1]-1, deg_r) * comb(x.shape[0]-1, deg_c)\n"
     ]
    },
    {
     "name": "stdout",
     "output_type": "stream",
     "text": [
      "Trial 94 starting...\n",
      "Computing bipartite LCP\n"
     ]
    },
    {
     "name": "stderr",
     "output_type": "stream",
     "text": [
      "/home/jorge/Documents/2019/Camerino/ASSP2019/multipartite-weighted-link-prediction/linkpred/b_lcp.py:100: RuntimeWarning: invalid value encountered in double_scalars\n",
      "  cpi[i] = np.log2(fav / (fav + unfav))\n"
     ]
    },
    {
     "name": "stdout",
     "output_type": "stream",
     "text": [
      "Computing bipartite LCP\n"
     ]
    },
    {
     "name": "stderr",
     "output_type": "stream",
     "text": [
      "/home/jorge/Documents/2019/Camerino/ASSP2019/multipartite-weighted-link-prediction/linkpred/b_lcp.py:100: RuntimeWarning: invalid value encountered in double_scalars\n",
      "  cpi[i] = np.log2(fav / (fav + unfav))\n"
     ]
    },
    {
     "name": "stdout",
     "output_type": "stream",
     "text": [
      "Computing bipartite LCP\n"
     ]
    },
    {
     "name": "stderr",
     "output_type": "stream",
     "text": [
      "/home/jorge/Documents/2019/Camerino/ASSP2019/multipartite-weighted-link-prediction/linkpred/b_lcp.py:98: RuntimeWarning: overflow encountered in double_scalars\n",
      "  fav = comb(x.shape[1]-1, deg_r-1) * comb(x.shape[0]-1, deg_c-1)\n",
      "/home/jorge/Documents/2019/Camerino/ASSP2019/multipartite-weighted-link-prediction/linkpred/b_lcp.py:100: RuntimeWarning: invalid value encountered in double_scalars\n",
      "  cpi[i] = np.log2(fav / (fav + unfav))\n",
      "/home/jorge/Documents/2019/Camerino/ASSP2019/multipartite-weighted-link-prediction/linkpred/b_lcp.py:99: RuntimeWarning: overflow encountered in double_scalars\n",
      "  unfav = comb(x.shape[1]-1, deg_r) * comb(x.shape[0]-1, deg_c)\n",
      "/home/jorge/Documents/2019/Camerino/ASSP2019/multipartite-weighted-link-prediction/linkpred/b_lcp.py:98: RuntimeWarning: overflow encountered in double_scalars\n",
      "  fav = comb(x.shape[1]-1, deg_r-1) * comb(x.shape[0]-1, deg_c-1)\n",
      "/home/jorge/Documents/2019/Camerino/ASSP2019/multipartite-weighted-link-prediction/linkpred/b_lcp.py:100: RuntimeWarning: divide by zero encountered in log2\n",
      "  cpi[i] = np.log2(fav / (fav + unfav))\n",
      "/home/jorge/Documents/2019/Camerino/ASSP2019/multipartite-weighted-link-prediction/linkpred/b_lcp.py:99: RuntimeWarning: overflow encountered in double_scalars\n",
      "  unfav = comb(x.shape[1]-1, deg_r) * comb(x.shape[0]-1, deg_c)\n"
     ]
    },
    {
     "name": "stdout",
     "output_type": "stream",
     "text": [
      "Computing bipartite LCP\n"
     ]
    },
    {
     "name": "stderr",
     "output_type": "stream",
     "text": [
      "/home/jorge/Documents/2019/Camerino/ASSP2019/multipartite-weighted-link-prediction/linkpred/b_lcp.py:100: RuntimeWarning: invalid value encountered in double_scalars\n",
      "  cpi[i] = np.log2(fav / (fav + unfav))\n"
     ]
    },
    {
     "name": "stdout",
     "output_type": "stream",
     "text": [
      "Computing bipartite LCP\n"
     ]
    },
    {
     "name": "stderr",
     "output_type": "stream",
     "text": [
      "/home/jorge/Documents/2019/Camerino/ASSP2019/multipartite-weighted-link-prediction/linkpred/b_lcp.py:100: RuntimeWarning: invalid value encountered in double_scalars\n",
      "  cpi[i] = np.log2(fav / (fav + unfav))\n",
      "/home/jorge/Documents/2019/Camerino/ASSP2019/multipartite-weighted-link-prediction/linkpred/b_lcp.py:98: RuntimeWarning: overflow encountered in double_scalars\n",
      "  fav = comb(x.shape[1]-1, deg_r-1) * comb(x.shape[0]-1, deg_c-1)\n",
      "/home/jorge/Documents/2019/Camerino/ASSP2019/multipartite-weighted-link-prediction/linkpred/b_lcp.py:99: RuntimeWarning: overflow encountered in double_scalars\n",
      "  unfav = comb(x.shape[1]-1, deg_r) * comb(x.shape[0]-1, deg_c)\n"
     ]
    },
    {
     "name": "stdout",
     "output_type": "stream",
     "text": [
      "Computing bipartite LCP\n"
     ]
    },
    {
     "name": "stderr",
     "output_type": "stream",
     "text": [
      "/home/jorge/Documents/2019/Camerino/ASSP2019/multipartite-weighted-link-prediction/linkpred/b_lcp.py:98: RuntimeWarning: overflow encountered in double_scalars\n",
      "  fav = comb(x.shape[1]-1, deg_r-1) * comb(x.shape[0]-1, deg_c-1)\n",
      "/home/jorge/Documents/2019/Camerino/ASSP2019/multipartite-weighted-link-prediction/linkpred/b_lcp.py:99: RuntimeWarning: overflow encountered in double_scalars\n",
      "  unfav = comb(x.shape[1]-1, deg_r) * comb(x.shape[0]-1, deg_c)\n",
      "/home/jorge/Documents/2019/Camerino/ASSP2019/multipartite-weighted-link-prediction/linkpred/b_lcp.py:100: RuntimeWarning: invalid value encountered in double_scalars\n",
      "  cpi[i] = np.log2(fav / (fav + unfav))\n",
      "/home/jorge/Documents/2019/Camerino/ASSP2019/multipartite-weighted-link-prediction/linkpred/b_lcp.py:98: RuntimeWarning: overflow encountered in double_scalars\n",
      "  fav = comb(x.shape[1]-1, deg_r-1) * comb(x.shape[0]-1, deg_c-1)\n",
      "/home/jorge/Documents/2019/Camerino/ASSP2019/multipartite-weighted-link-prediction/linkpred/b_lcp.py:99: RuntimeWarning: overflow encountered in double_scalars\n",
      "  unfav = comb(x.shape[1]-1, deg_r) * comb(x.shape[0]-1, deg_c)\n",
      "/home/jorge/Documents/2019/Camerino/ASSP2019/multipartite-weighted-link-prediction/linkpred/b_lcp.py:100: RuntimeWarning: divide by zero encountered in log2\n",
      "  cpi[i] = np.log2(fav / (fav + unfav))\n",
      "/home/jorge/Documents/2019/Camerino/ASSP2019/multipartite-weighted-link-prediction/linkpred/b_lcp.py:98: RuntimeWarning: overflow encountered in double_scalars\n",
      "  fav = comb(x.shape[1]-1, deg_r-1) * comb(x.shape[0]-1, deg_c-1)\n",
      "/home/jorge/Documents/2019/Camerino/ASSP2019/multipartite-weighted-link-prediction/linkpred/b_lcp.py:99: RuntimeWarning: overflow encountered in double_scalars\n",
      "  unfav = comb(x.shape[1]-1, deg_r) * comb(x.shape[0]-1, deg_c)\n",
      "/home/jorge/Documents/2019/Camerino/ASSP2019/multipartite-weighted-link-prediction/linkpred/b_lcp.py:100: RuntimeWarning: divide by zero encountered in log2\n",
      "  cpi[i] = np.log2(fav / (fav + unfav))\n"
     ]
    },
    {
     "name": "stdout",
     "output_type": "stream",
     "text": [
      "Computing bipartite LCP\n"
     ]
    },
    {
     "name": "stderr",
     "output_type": "stream",
     "text": [
      "/home/jorge/Documents/2019/Camerino/ASSP2019/multipartite-weighted-link-prediction/linkpred/b_lcp.py:100: RuntimeWarning: invalid value encountered in double_scalars\n",
      "  cpi[i] = np.log2(fav / (fav + unfav))\n",
      "/home/jorge/Documents/2019/Camerino/ASSP2019/multipartite-weighted-link-prediction/linkpred/b_lcp.py:98: RuntimeWarning: overflow encountered in double_scalars\n",
      "  fav = comb(x.shape[1]-1, deg_r-1) * comb(x.shape[0]-1, deg_c-1)\n",
      "/home/jorge/Documents/2019/Camerino/ASSP2019/multipartite-weighted-link-prediction/linkpred/b_lcp.py:99: RuntimeWarning: overflow encountered in double_scalars\n",
      "  unfav = comb(x.shape[1]-1, deg_r) * comb(x.shape[0]-1, deg_c)\n",
      "/home/jorge/Documents/2019/Camerino/ASSP2019/multipartite-weighted-link-prediction/linkpred/b_lcp.py:100: RuntimeWarning: divide by zero encountered in log2\n",
      "  cpi[i] = np.log2(fav / (fav + unfav))\n",
      "/home/jorge/Documents/2019/Camerino/ASSP2019/multipartite-weighted-link-prediction/linkpred/b_lcp.py:100: RuntimeWarning: divide by zero encountered in log2\n",
      "  cpi[i] = np.log2(fav / (fav + unfav))\n",
      "/home/jorge/Documents/2019/Camerino/ASSP2019/multipartite-weighted-link-prediction/linkpred/b_lcp.py:100: RuntimeWarning: divide by zero encountered in log2\n",
      "  cpi[i] = np.log2(fav / (fav + unfav))\n",
      "/home/jorge/Documents/2019/Camerino/ASSP2019/multipartite-weighted-link-prediction/linkpred/b_lcp.py:100: RuntimeWarning: divide by zero encountered in log2\n",
      "  cpi[i] = np.log2(fav / (fav + unfav))\n",
      "/home/jorge/Documents/2019/Camerino/ASSP2019/multipartite-weighted-link-prediction/linkpred/b_lcp.py:100: RuntimeWarning: divide by zero encountered in log2\n",
      "  cpi[i] = np.log2(fav / (fav + unfav))\n"
     ]
    },
    {
     "name": "stdout",
     "output_type": "stream",
     "text": [
      "100.00 %, 12.77 minutes\n",
      "... Trial 99 done\n",
      "Trial 93 starting...\n",
      "100.00 %, 12.87 minutes\n",
      "... Trial 91 done\n",
      "Computing bipartite LCP\n",
      "100.00 %, 12.94 minutes\n",
      "... Trial 97 done\n",
      "100.00 %, 12.96 minutes\n",
      "... Trial 98 done\n",
      "Trial 96 starting...\n",
      "Computing bipartite LCP\n",
      "100.00 %, 12.98 minutes\n",
      "... Trial 94 done\n",
      "100.00 %, 13.03 minutes\n",
      "... Trial 90 done\n",
      "100.00 %, 13.05 minutes\n",
      "... Trial 95 done\n",
      "100.00 %, 13.07 minutes\n",
      "... Trial 92 done\n",
      "100.00 %, 4.29 minutes\n",
      "... Trial 93 done\n",
      "100.00 %, 4.19 minutes\n",
      "... Trial 96 done\n"
     ]
    }
   ],
   "source": [
    "loops = 100\n",
    "sub_loops = int(np.sqrt(loops))\n",
    "#C = np.zeros((loops, res[0][0][0].shape[0], res[0][0][0].shape[1]))\n",
    "#C = np.zeros((loops, 11, 3741081))\n",
    "\n",
    "k = 0\n",
    "for i in range(sub_loops):\n",
    "    l = []\n",
    "    kk = k\n",
    "    for j in range(sub_loops):\n",
    "        l.append(k)\n",
    "        k += 1\n",
    "    lazy = [delayed(func)(kkk) for kkk in range(kk, k)]\n",
    "    res = dask.compute(lazy, scheduler='processes')\n",
    "    for r, rr in enumerate(res[0]):\n",
    "        A = rr[0]\n",
    "        np.save('{}_array'.format(l[r]), A)\n",
    "        del A\n",
    "        #C[l[r],:,:] = np.load('{}_array.npy'.format(l[r]))"
   ]
  },
  {
   "cell_type": "code",
   "execution_count": 31,
   "metadata": {},
   "outputs": [],
   "source": [
    "#C.shape"
   ]
  },
  {
   "cell_type": "code",
   "execution_count": 40,
   "metadata": {},
   "outputs": [],
   "source": [
    "ttt = 0\n",
    "B = np.load('{}_array.npy'.format(ttt))"
   ]
  },
  {
   "cell_type": "code",
   "execution_count": 41,
   "metadata": {},
   "outputs": [
    {
     "data": {
      "text/plain": [
       "<11x3741081 sparse matrix of type '<class 'numpy.float64'>'\n",
       "\twith 4806703 stored elements in Compressed Sparse Row format>"
      ]
     },
     "execution_count": 41,
     "metadata": {},
     "output_type": "execute_result"
    }
   ],
   "source": [
    "from scipy.sparse import csr_matrix\n",
    "S = csr_matrix(B)\n",
    "S"
   ]
  },
  {
   "cell_type": "code",
   "execution_count": 42,
   "metadata": {},
   "outputs": [],
   "source": [
    "import scipy.sparse\n",
    "scipy.sparse.save_npz('sparse_test.npz', S) # weight reduced in more than 90%!"
   ]
  },
  {
   "cell_type": "code",
   "execution_count": 47,
   "metadata": {},
   "outputs": [
    {
     "data": {
      "text/plain": [
       "(11, 3741081)"
      ]
     },
     "execution_count": 47,
     "metadata": {},
     "output_type": "execute_result"
    }
   ],
   "source": [
    "B.shape"
   ]
  },
  {
   "cell_type": "code",
   "execution_count": null,
   "metadata": {},
   "outputs": [],
   "source": []
  },
  {
   "cell_type": "code",
   "execution_count": 51,
   "metadata": {},
   "outputs": [],
   "source": [
    "def cross_val_from_npy(metric, loops=1, raw_output=False, verbose=True, plot=False):\n",
    "    if raw_output:\n",
    "        scores_list = []\n",
    "        true_list = []\n",
    "    else:\n",
    "        results = np.zeros((loops, 2))\n",
    "\n",
    "    for i in range(loops):\n",
    "        if verbose:\n",
    "            print('Trial {} of {}'.format(i+1, loops))\n",
    "        x_ = delete_links(bmat_recipe_ingr, links_to_del_recipe_ingr[i])\n",
    "        missing = np.argwhere(x_ == 0)\n",
    "        true = bmat_recipe_ingr[missing[:,0], missing[:,1]]\n",
    "        \n",
    "        specific_array = np.load('{}_array.npy'.format(i))\n",
    "        score = specific_array[metrics_list.index(metric)]\n",
    "        \n",
    "        if raw_output:\n",
    "            scores_list.append(score)\n",
    "            true_list.append(true)\n",
    "        else:\n",
    "            results[i] = b_val.evaluate_predictions(true, score, plot=plot)\n",
    "        \n",
    "    if raw_output:\n",
    "        return true_list, scores_list\n",
    "    else:\n",
    "        return results"
   ]
  },
  {
   "cell_type": "code",
   "execution_count": 92,
   "metadata": {},
   "outputs": [
    {
     "data": {
      "text/plain": [
       "array([[0.08077459, 0.98405654],\n",
       "       [0.08759522, 0.98478481]])"
      ]
     },
     "execution_count": 92,
     "metadata": {},
     "output_type": "execute_result"
    }
   ],
   "source": [
    "r['cn']"
   ]
  },
  {
   "cell_type": "code",
   "execution_count": 71,
   "metadata": {
    "scrolled": true
   },
   "outputs": [
    {
     "name": "stdout",
     "output_type": "stream",
     "text": [
      "Trial 1 of 100\n",
      "Trial 2 of 100\n",
      "Trial 3 of 100\n",
      "Trial 4 of 100\n",
      "Trial 5 of 100\n",
      "Trial 6 of 100\n",
      "Trial 7 of 100\n",
      "Trial 8 of 100\n",
      "Trial 9 of 100\n",
      "Trial 10 of 100\n",
      "Trial 11 of 100\n",
      "Trial 12 of 100\n",
      "Trial 13 of 100\n",
      "Trial 14 of 100\n",
      "Trial 15 of 100\n",
      "Trial 16 of 100\n",
      "Trial 17 of 100\n",
      "Trial 18 of 100\n",
      "Trial 19 of 100\n",
      "Trial 20 of 100\n",
      "Trial 21 of 100\n",
      "Trial 22 of 100\n",
      "Trial 23 of 100\n",
      "Trial 24 of 100\n",
      "Trial 25 of 100\n",
      "Trial 26 of 100\n",
      "Trial 27 of 100\n",
      "Trial 28 of 100\n",
      "Trial 29 of 100\n",
      "Trial 30 of 100\n",
      "Trial 31 of 100\n",
      "Trial 32 of 100\n",
      "Trial 33 of 100\n",
      "Trial 34 of 100\n",
      "Trial 35 of 100\n",
      "Trial 36 of 100\n",
      "Trial 37 of 100\n",
      "Trial 38 of 100\n",
      "Trial 39 of 100\n",
      "Trial 40 of 100\n",
      "Trial 41 of 100\n",
      "Trial 42 of 100\n",
      "Trial 43 of 100\n",
      "Trial 44 of 100\n",
      "Trial 45 of 100\n",
      "Trial 46 of 100\n",
      "Trial 47 of 100\n",
      "Trial 48 of 100\n",
      "Trial 49 of 100\n",
      "Trial 50 of 100\n",
      "Trial 51 of 100\n",
      "Trial 52 of 100\n",
      "Trial 53 of 100\n",
      "Trial 54 of 100\n",
      "Trial 55 of 100\n",
      "Trial 56 of 100\n",
      "Trial 57 of 100\n",
      "Trial 58 of 100\n",
      "Trial 59 of 100\n",
      "Trial 60 of 100\n",
      "Trial 61 of 100\n",
      "Trial 62 of 100\n",
      "Trial 63 of 100\n",
      "Trial 64 of 100\n",
      "Trial 65 of 100\n",
      "Trial 66 of 100\n",
      "Trial 67 of 100\n",
      "Trial 68 of 100\n",
      "Trial 69 of 100\n",
      "Trial 70 of 100\n",
      "Trial 71 of 100\n",
      "Trial 72 of 100\n",
      "Trial 73 of 100\n",
      "Trial 74 of 100\n",
      "Trial 75 of 100\n",
      "Trial 76 of 100\n",
      "Trial 77 of 100\n",
      "Trial 78 of 100\n",
      "Trial 79 of 100\n",
      "Trial 80 of 100\n",
      "Trial 81 of 100\n",
      "Trial 82 of 100\n",
      "Trial 83 of 100\n",
      "Trial 84 of 100\n",
      "Trial 85 of 100\n",
      "Trial 86 of 100\n",
      "Trial 87 of 100\n",
      "Trial 88 of 100\n",
      "Trial 89 of 100\n",
      "Trial 90 of 100\n",
      "Trial 91 of 100\n",
      "Trial 92 of 100\n",
      "Trial 93 of 100\n",
      "Trial 94 of 100\n",
      "Trial 95 of 100\n",
      "Trial 96 of 100\n",
      "Trial 97 of 100\n",
      "Trial 98 of 100\n",
      "Trial 99 of 100\n",
      "Trial 100 of 100\n",
      "[0.08462885 0.98546902]\n",
      "[0.00494468 0.00094167]\n"
     ]
    }
   ],
   "source": [
    "r_cn = cross_val_from_npy('cn', loops=100, verbose=verbose)\n",
    "print(np.mean(r_cn, axis=0))\n",
    "print(np.std(r_cn, axis=0))"
   ]
  },
  {
   "cell_type": "code",
   "execution_count": 72,
   "metadata": {},
   "outputs": [
    {
     "data": {
      "text/plain": [
       "array([[0.08077459, 0.98405654],\n",
       "       [0.08759522, 0.98478481],\n",
       "       [0.08334568, 0.98485239],\n",
       "       [0.08452083, 0.98463139],\n",
       "       [0.08821127, 0.98696737],\n",
       "       [0.08915611, 0.9858666 ],\n",
       "       [0.08388223, 0.98519156],\n",
       "       [0.0812355 , 0.98432618],\n",
       "       [0.08120783, 0.984684  ],\n",
       "       [0.09201036, 0.98512981],\n",
       "       [0.0782359 , 0.98595436],\n",
       "       [0.08248386, 0.9856547 ],\n",
       "       [0.08763319, 0.98569111],\n",
       "       [0.08157093, 0.98497916],\n",
       "       [0.07521312, 0.98421525],\n",
       "       [0.0913982 , 0.98604033],\n",
       "       [0.08661671, 0.9862178 ],\n",
       "       [0.07985223, 0.98386374],\n",
       "       [0.08595207, 0.9853543 ],\n",
       "       [0.08390146, 0.9858009 ],\n",
       "       [0.07680637, 0.98589851],\n",
       "       [0.08356604, 0.9870865 ],\n",
       "       [0.07190807, 0.98457234],\n",
       "       [0.08056781, 0.98474761],\n",
       "       [0.08890249, 0.98458146],\n",
       "       [0.07953057, 0.98540848],\n",
       "       [0.08263866, 0.98600378],\n",
       "       [0.09251243, 0.98699781],\n",
       "       [0.07946509, 0.98603431],\n",
       "       [0.08258982, 0.98421947],\n",
       "       [0.09441127, 0.98527446],\n",
       "       [0.09344832, 0.98746885],\n",
       "       [0.08545899, 0.98647948],\n",
       "       [0.08060928, 0.9844647 ],\n",
       "       [0.0791502 , 0.98501702],\n",
       "       [0.08237426, 0.98411011],\n",
       "       [0.08772962, 0.98595397],\n",
       "       [0.08675881, 0.98639169],\n",
       "       [0.08739514, 0.98576646],\n",
       "       [0.08502636, 0.98513623],\n",
       "       [0.08307226, 0.9838213 ],\n",
       "       [0.08280169, 0.98388423],\n",
       "       [0.07683548, 0.985314  ],\n",
       "       [0.08454878, 0.98554895],\n",
       "       [0.08394342, 0.98615479],\n",
       "       [0.08905955, 0.98472687],\n",
       "       [0.08666147, 0.985909  ],\n",
       "       [0.08321245, 0.98523025],\n",
       "       [0.09180362, 0.98745219],\n",
       "       [0.08960796, 0.98565716],\n",
       "       [0.08788174, 0.98525414],\n",
       "       [0.08699459, 0.98684178],\n",
       "       [0.08240473, 0.98637154],\n",
       "       [0.07866403, 0.98599762],\n",
       "       [0.07798818, 0.98565694],\n",
       "       [0.0810136 , 0.98586197],\n",
       "       [0.08179383, 0.98714179],\n",
       "       [0.08605282, 0.98556944],\n",
       "       [0.08296732, 0.98591387],\n",
       "       [0.08501662, 0.98673339],\n",
       "       [0.07852215, 0.98544766],\n",
       "       [0.07239878, 0.98370577],\n",
       "       [0.08995017, 0.98436349],\n",
       "       [0.08907866, 0.98503969],\n",
       "       [0.08848474, 0.9853002 ],\n",
       "       [0.08372453, 0.98686237],\n",
       "       [0.08606485, 0.98606881],\n",
       "       [0.09164051, 0.9847198 ],\n",
       "       [0.08145574, 0.98452134],\n",
       "       [0.07889111, 0.98577022],\n",
       "       [0.08455702, 0.98709232],\n",
       "       [0.08649364, 0.98480563],\n",
       "       [0.08703651, 0.98420455],\n",
       "       [0.07877788, 0.98568068],\n",
       "       [0.09083637, 0.98534541],\n",
       "       [0.09411454, 0.9842568 ],\n",
       "       [0.08797157, 0.98500581],\n",
       "       [0.08169215, 0.98516512],\n",
       "       [0.08333599, 0.98436163],\n",
       "       [0.08653764, 0.9868062 ],\n",
       "       [0.09058075, 0.98619154],\n",
       "       [0.08723966, 0.98383686],\n",
       "       [0.08001683, 0.986822  ],\n",
       "       [0.08541893, 0.98674944],\n",
       "       [0.09589017, 0.98500157],\n",
       "       [0.0801748 , 0.9845891 ],\n",
       "       [0.08819896, 0.98530871],\n",
       "       [0.07854189, 0.98362983],\n",
       "       [0.08358081, 0.985537  ],\n",
       "       [0.07779153, 0.98654512],\n",
       "       [0.0863817 , 0.98575017],\n",
       "       [0.08538382, 0.98516997],\n",
       "       [0.08468841, 0.98488466],\n",
       "       [0.08915365, 0.98629262],\n",
       "       [0.09532035, 0.98508461],\n",
       "       [0.07604679, 0.98549879],\n",
       "       [0.08596573, 0.9867103 ],\n",
       "       [0.0941709 , 0.98756765],\n",
       "       [0.08412364, 0.98539167],\n",
       "       [0.08467971, 0.98490021]])"
      ]
     },
     "execution_count": 72,
     "metadata": {},
     "output_type": "execute_result"
    }
   ],
   "source": [
    "r_cn"
   ]
  },
  {
   "cell_type": "code",
   "execution_count": null,
   "metadata": {},
   "outputs": [],
   "source": []
  },
  {
   "cell_type": "code",
   "execution_count": 93,
   "metadata": {
    "scrolled": true
   },
   "outputs": [
    {
     "name": "stdout",
     "output_type": "stream",
     "text": [
      "Calculating r_lcl\n",
      "Trial 1 of 100\n",
      "Trial 2 of 100\n",
      "Trial 3 of 100\n",
      "Trial 4 of 100\n",
      "Trial 5 of 100\n",
      "Trial 6 of 100\n",
      "Trial 7 of 100\n",
      "Trial 8 of 100\n",
      "Trial 9 of 100\n",
      "Trial 10 of 100\n",
      "Trial 11 of 100\n",
      "Trial 12 of 100\n",
      "Trial 13 of 100\n",
      "Trial 14 of 100\n",
      "Trial 15 of 100\n",
      "Trial 16 of 100\n",
      "Trial 17 of 100\n",
      "Trial 18 of 100\n",
      "Trial 19 of 100\n",
      "Trial 20 of 100\n",
      "Trial 21 of 100\n",
      "Trial 22 of 100\n",
      "Trial 23 of 100\n",
      "Trial 24 of 100\n",
      "Trial 25 of 100\n",
      "Trial 26 of 100\n",
      "Trial 27 of 100\n",
      "Trial 28 of 100\n",
      "Trial 29 of 100\n",
      "Trial 30 of 100\n",
      "Trial 31 of 100\n",
      "Trial 32 of 100\n",
      "Trial 33 of 100\n",
      "Trial 34 of 100\n",
      "Trial 35 of 100\n",
      "Trial 36 of 100\n",
      "Trial 37 of 100\n",
      "Trial 38 of 100\n",
      "Trial 39 of 100\n",
      "Trial 40 of 100\n",
      "Trial 41 of 100\n",
      "Trial 42 of 100\n",
      "Trial 43 of 100\n",
      "Trial 44 of 100\n",
      "Trial 45 of 100\n",
      "Trial 46 of 100\n",
      "Trial 47 of 100\n",
      "Trial 48 of 100\n",
      "Trial 49 of 100\n",
      "Trial 50 of 100\n",
      "Trial 51 of 100\n",
      "Trial 52 of 100\n",
      "Trial 53 of 100\n",
      "Trial 54 of 100\n",
      "Trial 55 of 100\n",
      "Trial 56 of 100\n",
      "Trial 57 of 100\n",
      "Trial 58 of 100\n",
      "Trial 59 of 100\n",
      "Trial 60 of 100\n",
      "Trial 61 of 100\n",
      "Trial 62 of 100\n",
      "Trial 63 of 100\n",
      "Trial 64 of 100\n",
      "Trial 65 of 100\n",
      "Trial 66 of 100\n",
      "Trial 67 of 100\n",
      "Trial 68 of 100\n",
      "Trial 69 of 100\n",
      "Trial 70 of 100\n",
      "Trial 71 of 100\n",
      "Trial 72 of 100\n",
      "Trial 73 of 100\n",
      "Trial 74 of 100\n",
      "Trial 75 of 100\n",
      "Trial 76 of 100\n",
      "Trial 77 of 100\n",
      "Trial 78 of 100\n",
      "Trial 79 of 100\n",
      "Trial 80 of 100\n",
      "Trial 81 of 100\n",
      "Trial 82 of 100\n",
      "Trial 83 of 100\n",
      "Trial 84 of 100\n",
      "Trial 85 of 100\n",
      "Trial 86 of 100\n",
      "Trial 87 of 100\n",
      "Trial 88 of 100\n",
      "Trial 89 of 100\n",
      "Trial 90 of 100\n",
      "Trial 91 of 100\n",
      "Trial 92 of 100\n",
      "Trial 93 of 100\n",
      "Trial 94 of 100\n",
      "Trial 95 of 100\n",
      "Trial 96 of 100\n",
      "Trial 97 of 100\n",
      "Trial 98 of 100\n",
      "Trial 99 of 100\n",
      "Trial 100 of 100\n",
      "Mean [0.09373383 0.98589051]\n",
      "Stdv [0.00519649 0.00094409]\n",
      "Ended r_lcl\n",
      "\n",
      "Calculating r_cn\n",
      "Trial 1 of 100\n",
      "Trial 2 of 100\n",
      "Trial 3 of 100\n",
      "Trial 4 of 100\n",
      "Trial 5 of 100\n",
      "Trial 6 of 100\n",
      "Trial 7 of 100\n",
      "Trial 8 of 100\n",
      "Trial 9 of 100\n",
      "Trial 10 of 100\n",
      "Trial 11 of 100\n",
      "Trial 12 of 100\n",
      "Trial 13 of 100\n",
      "Trial 14 of 100\n",
      "Trial 15 of 100\n",
      "Trial 16 of 100\n",
      "Trial 17 of 100\n",
      "Trial 18 of 100\n",
      "Trial 19 of 100\n",
      "Trial 20 of 100\n",
      "Trial 21 of 100\n",
      "Trial 22 of 100\n",
      "Trial 23 of 100\n",
      "Trial 24 of 100\n",
      "Trial 25 of 100\n",
      "Trial 26 of 100\n",
      "Trial 27 of 100\n",
      "Trial 28 of 100\n",
      "Trial 29 of 100\n",
      "Trial 30 of 100\n",
      "Trial 31 of 100\n",
      "Trial 32 of 100\n",
      "Trial 33 of 100\n",
      "Trial 34 of 100\n",
      "Trial 35 of 100\n",
      "Trial 36 of 100\n",
      "Trial 37 of 100\n",
      "Trial 38 of 100\n",
      "Trial 39 of 100\n",
      "Trial 40 of 100\n",
      "Trial 41 of 100\n",
      "Trial 42 of 100\n",
      "Trial 43 of 100\n",
      "Trial 44 of 100\n",
      "Trial 45 of 100\n",
      "Trial 46 of 100\n",
      "Trial 47 of 100\n",
      "Trial 48 of 100\n",
      "Trial 49 of 100\n",
      "Trial 50 of 100\n",
      "Trial 51 of 100\n",
      "Trial 52 of 100\n",
      "Trial 53 of 100\n",
      "Trial 54 of 100\n",
      "Trial 55 of 100\n",
      "Trial 56 of 100\n",
      "Trial 57 of 100\n",
      "Trial 58 of 100\n",
      "Trial 59 of 100\n",
      "Trial 60 of 100\n",
      "Trial 61 of 100\n",
      "Trial 62 of 100\n",
      "Trial 63 of 100\n",
      "Trial 64 of 100\n",
      "Trial 65 of 100\n",
      "Trial 66 of 100\n",
      "Trial 67 of 100\n",
      "Trial 68 of 100\n",
      "Trial 69 of 100\n",
      "Trial 70 of 100\n",
      "Trial 71 of 100\n",
      "Trial 72 of 100\n",
      "Trial 73 of 100\n",
      "Trial 74 of 100\n",
      "Trial 75 of 100\n",
      "Trial 76 of 100\n",
      "Trial 77 of 100\n",
      "Trial 78 of 100\n",
      "Trial 79 of 100\n",
      "Trial 80 of 100\n",
      "Trial 81 of 100\n",
      "Trial 82 of 100\n",
      "Trial 83 of 100\n",
      "Trial 84 of 100\n",
      "Trial 85 of 100\n",
      "Trial 86 of 100\n",
      "Trial 87 of 100\n",
      "Trial 88 of 100\n",
      "Trial 89 of 100\n",
      "Trial 90 of 100\n",
      "Trial 91 of 100\n",
      "Trial 92 of 100\n",
      "Trial 93 of 100\n",
      "Trial 94 of 100\n",
      "Trial 95 of 100\n",
      "Trial 96 of 100\n",
      "Trial 97 of 100\n",
      "Trial 98 of 100\n",
      "Trial 99 of 100\n",
      "Trial 100 of 100\n",
      "Mean [0.08462885 0.98546902]\n",
      "Stdv [0.00494468 0.00094167]\n",
      "Ended r_cn\n",
      "\n",
      "Calculating r_jc\n",
      "Trial 1 of 100\n",
      "Trial 2 of 100\n",
      "Trial 3 of 100\n",
      "Trial 4 of 100\n",
      "Trial 5 of 100\n",
      "Trial 6 of 100\n",
      "Trial 7 of 100\n",
      "Trial 8 of 100\n",
      "Trial 9 of 100\n",
      "Trial 10 of 100\n",
      "Trial 11 of 100\n",
      "Trial 12 of 100\n",
      "Trial 13 of 100\n",
      "Trial 14 of 100\n",
      "Trial 15 of 100\n",
      "Trial 16 of 100\n",
      "Trial 17 of 100\n",
      "Trial 18 of 100\n",
      "Trial 19 of 100\n",
      "Trial 20 of 100\n",
      "Trial 21 of 100\n",
      "Trial 22 of 100\n",
      "Trial 23 of 100\n",
      "Trial 24 of 100\n",
      "Trial 25 of 100\n",
      "Trial 26 of 100\n",
      "Trial 27 of 100\n",
      "Trial 28 of 100\n",
      "Trial 29 of 100\n",
      "Trial 30 of 100\n",
      "Trial 31 of 100\n",
      "Trial 32 of 100\n",
      "Trial 33 of 100\n",
      "Trial 34 of 100\n",
      "Trial 35 of 100\n",
      "Trial 36 of 100\n",
      "Trial 37 of 100\n",
      "Trial 38 of 100\n",
      "Trial 39 of 100\n",
      "Trial 40 of 100\n",
      "Trial 41 of 100\n",
      "Trial 42 of 100\n",
      "Trial 43 of 100\n",
      "Trial 44 of 100\n",
      "Trial 45 of 100\n",
      "Trial 46 of 100\n",
      "Trial 47 of 100\n",
      "Trial 48 of 100\n",
      "Trial 49 of 100\n",
      "Trial 50 of 100\n",
      "Trial 51 of 100\n",
      "Trial 52 of 100\n",
      "Trial 53 of 100\n",
      "Trial 54 of 100\n",
      "Trial 55 of 100\n",
      "Trial 56 of 100\n",
      "Trial 57 of 100\n",
      "Trial 58 of 100\n",
      "Trial 59 of 100\n",
      "Trial 60 of 100\n",
      "Trial 61 of 100\n",
      "Trial 62 of 100\n",
      "Trial 63 of 100\n",
      "Trial 64 of 100\n",
      "Trial 65 of 100\n",
      "Trial 66 of 100\n",
      "Trial 67 of 100\n",
      "Trial 68 of 100\n",
      "Trial 69 of 100\n",
      "Trial 70 of 100\n",
      "Trial 71 of 100\n",
      "Trial 72 of 100\n",
      "Trial 73 of 100\n",
      "Trial 74 of 100\n",
      "Trial 75 of 100\n",
      "Trial 76 of 100\n",
      "Trial 77 of 100\n",
      "Trial 78 of 100\n",
      "Trial 79 of 100\n",
      "Trial 80 of 100\n",
      "Trial 81 of 100\n",
      "Trial 82 of 100\n",
      "Trial 83 of 100\n",
      "Trial 84 of 100\n",
      "Trial 85 of 100\n",
      "Trial 86 of 100\n",
      "Trial 87 of 100\n",
      "Trial 88 of 100\n",
      "Trial 89 of 100\n",
      "Trial 90 of 100\n",
      "Trial 91 of 100\n",
      "Trial 92 of 100\n",
      "Trial 93 of 100\n",
      "Trial 94 of 100\n",
      "Trial 95 of 100\n",
      "Trial 96 of 100\n",
      "Trial 97 of 100\n",
      "Trial 98 of 100\n",
      "Trial 99 of 100\n",
      "Trial 100 of 100\n",
      "Mean [0.02716659 0.97287613]\n",
      "Stdv [0.00178548 0.00097384]\n",
      "Ended r_jc\n",
      "\n",
      "Calculating r_car\n",
      "Trial 1 of 100\n",
      "Trial 2 of 100\n",
      "Trial 3 of 100\n",
      "Trial 4 of 100\n",
      "Trial 5 of 100\n",
      "Trial 6 of 100\n",
      "Trial 7 of 100\n",
      "Trial 8 of 100\n",
      "Trial 9 of 100\n",
      "Trial 10 of 100\n",
      "Trial 11 of 100\n",
      "Trial 12 of 100\n",
      "Trial 13 of 100\n",
      "Trial 14 of 100\n",
      "Trial 15 of 100\n",
      "Trial 16 of 100\n",
      "Trial 17 of 100\n",
      "Trial 18 of 100\n",
      "Trial 19 of 100\n",
      "Trial 20 of 100\n",
      "Trial 21 of 100\n",
      "Trial 22 of 100\n",
      "Trial 23 of 100\n",
      "Trial 24 of 100\n",
      "Trial 25 of 100\n",
      "Trial 26 of 100\n",
      "Trial 27 of 100\n",
      "Trial 28 of 100\n",
      "Trial 29 of 100\n",
      "Trial 30 of 100\n",
      "Trial 31 of 100\n",
      "Trial 32 of 100\n",
      "Trial 33 of 100\n",
      "Trial 34 of 100\n",
      "Trial 35 of 100\n",
      "Trial 36 of 100\n",
      "Trial 37 of 100\n",
      "Trial 38 of 100\n",
      "Trial 39 of 100\n",
      "Trial 40 of 100\n",
      "Trial 41 of 100\n",
      "Trial 42 of 100\n",
      "Trial 43 of 100\n",
      "Trial 44 of 100\n",
      "Trial 45 of 100\n",
      "Trial 46 of 100\n",
      "Trial 47 of 100\n",
      "Trial 48 of 100\n",
      "Trial 49 of 100\n",
      "Trial 50 of 100\n",
      "Trial 51 of 100\n",
      "Trial 52 of 100\n",
      "Trial 53 of 100\n",
      "Trial 54 of 100\n",
      "Trial 55 of 100\n",
      "Trial 56 of 100\n",
      "Trial 57 of 100\n",
      "Trial 58 of 100\n",
      "Trial 59 of 100\n",
      "Trial 60 of 100\n",
      "Trial 61 of 100\n",
      "Trial 62 of 100\n",
      "Trial 63 of 100\n",
      "Trial 64 of 100\n",
      "Trial 65 of 100\n",
      "Trial 66 of 100\n",
      "Trial 67 of 100\n",
      "Trial 68 of 100\n",
      "Trial 69 of 100\n",
      "Trial 70 of 100\n",
      "Trial 71 of 100\n",
      "Trial 72 of 100\n",
      "Trial 73 of 100\n",
      "Trial 74 of 100\n",
      "Trial 75 of 100\n",
      "Trial 76 of 100\n",
      "Trial 77 of 100\n",
      "Trial 78 of 100\n",
      "Trial 79 of 100\n",
      "Trial 80 of 100\n",
      "Trial 81 of 100\n",
      "Trial 82 of 100\n",
      "Trial 83 of 100\n",
      "Trial 84 of 100\n",
      "Trial 85 of 100\n",
      "Trial 86 of 100\n",
      "Trial 87 of 100\n",
      "Trial 88 of 100\n",
      "Trial 89 of 100\n",
      "Trial 90 of 100\n",
      "Trial 91 of 100\n",
      "Trial 92 of 100\n",
      "Trial 93 of 100\n",
      "Trial 94 of 100\n",
      "Trial 95 of 100\n",
      "Trial 96 of 100\n",
      "Trial 97 of 100\n",
      "Trial 98 of 100\n",
      "Trial 99 of 100\n",
      "Trial 100 of 100\n",
      "Mean [0.09689015 0.98582843]\n",
      "Stdv [0.00546956 0.00094277]\n",
      "Ended r_car\n",
      "\n",
      "Calculating r_cjc\n",
      "Trial 1 of 100\n",
      "Trial 2 of 100\n",
      "Trial 3 of 100\n",
      "Trial 4 of 100\n",
      "Trial 5 of 100\n",
      "Trial 6 of 100\n",
      "Trial 7 of 100\n",
      "Trial 8 of 100\n",
      "Trial 9 of 100\n",
      "Trial 10 of 100\n",
      "Trial 11 of 100\n",
      "Trial 12 of 100\n",
      "Trial 13 of 100\n",
      "Trial 14 of 100\n",
      "Trial 15 of 100\n",
      "Trial 16 of 100\n",
      "Trial 17 of 100\n",
      "Trial 18 of 100\n",
      "Trial 19 of 100\n",
      "Trial 20 of 100\n",
      "Trial 21 of 100\n",
      "Trial 22 of 100\n",
      "Trial 23 of 100\n",
      "Trial 24 of 100\n",
      "Trial 25 of 100\n",
      "Trial 26 of 100\n",
      "Trial 27 of 100\n",
      "Trial 28 of 100\n",
      "Trial 29 of 100\n",
      "Trial 30 of 100\n",
      "Trial 31 of 100\n",
      "Trial 32 of 100\n",
      "Trial 33 of 100\n",
      "Trial 34 of 100\n",
      "Trial 35 of 100\n",
      "Trial 36 of 100\n",
      "Trial 37 of 100\n",
      "Trial 38 of 100\n",
      "Trial 39 of 100\n",
      "Trial 40 of 100\n",
      "Trial 41 of 100\n",
      "Trial 42 of 100\n",
      "Trial 43 of 100\n",
      "Trial 44 of 100\n",
      "Trial 45 of 100\n",
      "Trial 46 of 100\n",
      "Trial 47 of 100\n",
      "Trial 48 of 100\n",
      "Trial 49 of 100\n",
      "Trial 50 of 100\n",
      "Trial 51 of 100\n",
      "Trial 52 of 100\n",
      "Trial 53 of 100\n",
      "Trial 54 of 100\n",
      "Trial 55 of 100\n",
      "Trial 56 of 100\n",
      "Trial 57 of 100\n",
      "Trial 58 of 100\n",
      "Trial 59 of 100\n",
      "Trial 60 of 100\n",
      "Trial 61 of 100\n",
      "Trial 62 of 100\n",
      "Trial 63 of 100\n",
      "Trial 64 of 100\n",
      "Trial 65 of 100\n",
      "Trial 66 of 100\n",
      "Trial 67 of 100\n",
      "Trial 68 of 100\n",
      "Trial 69 of 100\n",
      "Trial 70 of 100\n",
      "Trial 71 of 100\n",
      "Trial 72 of 100\n",
      "Trial 73 of 100\n",
      "Trial 74 of 100\n",
      "Trial 75 of 100\n",
      "Trial 76 of 100\n",
      "Trial 77 of 100\n",
      "Trial 78 of 100\n",
      "Trial 79 of 100\n",
      "Trial 80 of 100\n",
      "Trial 81 of 100\n",
      "Trial 82 of 100\n",
      "Trial 83 of 100\n",
      "Trial 84 of 100\n",
      "Trial 85 of 100\n",
      "Trial 86 of 100\n",
      "Trial 87 of 100\n",
      "Trial 88 of 100\n",
      "Trial 89 of 100\n",
      "Trial 90 of 100\n",
      "Trial 91 of 100\n",
      "Trial 92 of 100\n"
     ]
    },
    {
     "name": "stdout",
     "output_type": "stream",
     "text": [
      "Trial 93 of 100\n",
      "Trial 94 of 100\n",
      "Trial 95 of 100\n",
      "Trial 96 of 100\n",
      "Trial 97 of 100\n",
      "Trial 98 of 100\n",
      "Trial 99 of 100\n",
      "Trial 100 of 100\n",
      "Mean [0.09230254 0.98535752]\n",
      "Stdv [0.00515304 0.00096304]\n",
      "Ended r_cjc\n",
      "\n",
      "Calculating r_cpa\n",
      "Trial 1 of 100\n",
      "Trial 2 of 100\n",
      "Trial 3 of 100\n",
      "Trial 4 of 100\n",
      "Trial 5 of 100\n",
      "Trial 6 of 100\n",
      "Trial 7 of 100\n",
      "Trial 8 of 100\n",
      "Trial 9 of 100\n",
      "Trial 10 of 100\n",
      "Trial 11 of 100\n",
      "Trial 12 of 100\n",
      "Trial 13 of 100\n",
      "Trial 14 of 100\n",
      "Trial 15 of 100\n",
      "Trial 16 of 100\n",
      "Trial 17 of 100\n",
      "Trial 18 of 100\n",
      "Trial 19 of 100\n",
      "Trial 20 of 100\n",
      "Trial 21 of 100\n",
      "Trial 22 of 100\n",
      "Trial 23 of 100\n",
      "Trial 24 of 100\n",
      "Trial 25 of 100\n",
      "Trial 26 of 100\n",
      "Trial 27 of 100\n",
      "Trial 28 of 100\n",
      "Trial 29 of 100\n",
      "Trial 30 of 100\n",
      "Trial 31 of 100\n",
      "Trial 32 of 100\n",
      "Trial 33 of 100\n",
      "Trial 34 of 100\n",
      "Trial 35 of 100\n",
      "Trial 36 of 100\n",
      "Trial 37 of 100\n",
      "Trial 38 of 100\n",
      "Trial 39 of 100\n",
      "Trial 40 of 100\n",
      "Trial 41 of 100\n",
      "Trial 42 of 100\n",
      "Trial 43 of 100\n",
      "Trial 44 of 100\n",
      "Trial 45 of 100\n",
      "Trial 46 of 100\n",
      "Trial 47 of 100\n",
      "Trial 48 of 100\n",
      "Trial 49 of 100\n",
      "Trial 50 of 100\n",
      "Trial 51 of 100\n",
      "Trial 52 of 100\n",
      "Trial 53 of 100\n",
      "Trial 54 of 100\n",
      "Trial 55 of 100\n",
      "Trial 56 of 100\n",
      "Trial 57 of 100\n",
      "Trial 58 of 100\n",
      "Trial 59 of 100\n",
      "Trial 60 of 100\n",
      "Trial 61 of 100\n",
      "Trial 62 of 100\n",
      "Trial 63 of 100\n",
      "Trial 64 of 100\n",
      "Trial 65 of 100\n",
      "Trial 66 of 100\n",
      "Trial 67 of 100\n",
      "Trial 68 of 100\n",
      "Trial 69 of 100\n",
      "Trial 70 of 100\n",
      "Trial 71 of 100\n",
      "Trial 72 of 100\n",
      "Trial 73 of 100\n",
      "Trial 74 of 100\n",
      "Trial 75 of 100\n",
      "Trial 76 of 100\n",
      "Trial 77 of 100\n",
      "Trial 78 of 100\n",
      "Trial 79 of 100\n",
      "Trial 80 of 100\n",
      "Trial 81 of 100\n",
      "Trial 82 of 100\n",
      "Trial 83 of 100\n",
      "Trial 84 of 100\n",
      "Trial 85 of 100\n",
      "Trial 86 of 100\n",
      "Trial 87 of 100\n",
      "Trial 88 of 100\n",
      "Trial 89 of 100\n",
      "Trial 90 of 100\n",
      "Trial 91 of 100\n",
      "Trial 92 of 100\n",
      "Trial 93 of 100\n",
      "Trial 94 of 100\n",
      "Trial 95 of 100\n",
      "Trial 96 of 100\n",
      "Trial 97 of 100\n",
      "Trial 98 of 100\n",
      "Trial 99 of 100\n",
      "Trial 100 of 100\n",
      "Mean [0.09689336 0.98585844]\n",
      "Stdv [0.0054697  0.00094045]\n",
      "Ended r_cpa\n",
      "\n",
      "Calculating r_ra\n",
      "Trial 1 of 100\n",
      "Trial 2 of 100\n",
      "Trial 3 of 100\n",
      "Trial 4 of 100\n",
      "Trial 5 of 100\n",
      "Trial 6 of 100\n",
      "Trial 7 of 100\n",
      "Trial 8 of 100\n",
      "Trial 9 of 100\n",
      "Trial 10 of 100\n",
      "Trial 11 of 100\n",
      "Trial 12 of 100\n",
      "Trial 13 of 100\n",
      "Trial 14 of 100\n",
      "Trial 15 of 100\n",
      "Trial 16 of 100\n",
      "Trial 17 of 100\n",
      "Trial 18 of 100\n",
      "Trial 19 of 100\n",
      "Trial 20 of 100\n",
      "Trial 21 of 100\n",
      "Trial 22 of 100\n",
      "Trial 23 of 100\n",
      "Trial 24 of 100\n",
      "Trial 25 of 100\n",
      "Trial 26 of 100\n",
      "Trial 27 of 100\n",
      "Trial 28 of 100\n",
      "Trial 29 of 100\n",
      "Trial 30 of 100\n",
      "Trial 31 of 100\n",
      "Trial 32 of 100\n",
      "Trial 33 of 100\n",
      "Trial 34 of 100\n",
      "Trial 35 of 100\n",
      "Trial 36 of 100\n",
      "Trial 37 of 100\n",
      "Trial 38 of 100\n",
      "Trial 39 of 100\n",
      "Trial 40 of 100\n",
      "Trial 41 of 100\n",
      "Trial 42 of 100\n",
      "Trial 43 of 100\n",
      "Trial 44 of 100\n",
      "Trial 45 of 100\n",
      "Trial 46 of 100\n",
      "Trial 47 of 100\n",
      "Trial 48 of 100\n",
      "Trial 49 of 100\n",
      "Trial 50 of 100\n",
      "Trial 51 of 100\n",
      "Trial 52 of 100\n",
      "Trial 53 of 100\n",
      "Trial 54 of 100\n",
      "Trial 55 of 100\n",
      "Trial 56 of 100\n",
      "Trial 57 of 100\n",
      "Trial 58 of 100\n",
      "Trial 59 of 100\n",
      "Trial 60 of 100\n",
      "Trial 61 of 100\n",
      "Trial 62 of 100\n",
      "Trial 63 of 100\n",
      "Trial 64 of 100\n",
      "Trial 65 of 100\n",
      "Trial 66 of 100\n",
      "Trial 67 of 100\n",
      "Trial 68 of 100\n",
      "Trial 69 of 100\n",
      "Trial 70 of 100\n",
      "Trial 71 of 100\n",
      "Trial 72 of 100\n",
      "Trial 73 of 100\n",
      "Trial 74 of 100\n",
      "Trial 75 of 100\n",
      "Trial 76 of 100\n",
      "Trial 77 of 100\n",
      "Trial 78 of 100\n",
      "Trial 79 of 100\n",
      "Trial 80 of 100\n",
      "Trial 81 of 100\n",
      "Trial 82 of 100\n",
      "Trial 83 of 100\n",
      "Trial 84 of 100\n",
      "Trial 85 of 100\n",
      "Trial 86 of 100\n",
      "Trial 87 of 100\n",
      "Trial 88 of 100\n",
      "Trial 89 of 100\n",
      "Trial 90 of 100\n",
      "Trial 91 of 100\n",
      "Trial 92 of 100\n",
      "Trial 93 of 100\n",
      "Trial 94 of 100\n",
      "Trial 95 of 100\n",
      "Trial 96 of 100\n",
      "Trial 97 of 100\n",
      "Trial 98 of 100\n",
      "Trial 99 of 100\n",
      "Trial 100 of 100\n",
      "Mean [0.0885058  0.98588013]\n",
      "Stdv [0.00522766 0.0009222 ]\n",
      "Ended r_ra\n",
      "\n",
      "Calculating r_aa\n",
      "Trial 1 of 100\n",
      "Trial 2 of 100\n",
      "Trial 3 of 100\n",
      "Trial 4 of 100\n",
      "Trial 5 of 100\n",
      "Trial 6 of 100\n",
      "Trial 7 of 100\n",
      "Trial 8 of 100\n",
      "Trial 9 of 100\n",
      "Trial 10 of 100\n",
      "Trial 11 of 100\n",
      "Trial 12 of 100\n",
      "Trial 13 of 100\n",
      "Trial 14 of 100\n",
      "Trial 15 of 100\n",
      "Trial 16 of 100\n",
      "Trial 17 of 100\n",
      "Trial 18 of 100\n",
      "Trial 19 of 100\n",
      "Trial 20 of 100\n",
      "Trial 21 of 100\n",
      "Trial 22 of 100\n",
      "Trial 23 of 100\n",
      "Trial 24 of 100\n",
      "Trial 25 of 100\n",
      "Trial 26 of 100\n",
      "Trial 27 of 100\n",
      "Trial 28 of 100\n",
      "Trial 29 of 100\n",
      "Trial 30 of 100\n",
      "Trial 31 of 100\n",
      "Trial 32 of 100\n",
      "Trial 33 of 100\n",
      "Trial 34 of 100\n",
      "Trial 35 of 100\n",
      "Trial 36 of 100\n",
      "Trial 37 of 100\n",
      "Trial 38 of 100\n",
      "Trial 39 of 100\n",
      "Trial 40 of 100\n",
      "Trial 41 of 100\n",
      "Trial 42 of 100\n",
      "Trial 43 of 100\n",
      "Trial 44 of 100\n",
      "Trial 45 of 100\n",
      "Trial 46 of 100\n",
      "Trial 47 of 100\n",
      "Trial 48 of 100\n",
      "Trial 49 of 100\n",
      "Trial 50 of 100\n",
      "Trial 51 of 100\n",
      "Trial 52 of 100\n",
      "Trial 53 of 100\n",
      "Trial 54 of 100\n",
      "Trial 55 of 100\n",
      "Trial 56 of 100\n",
      "Trial 57 of 100\n",
      "Trial 58 of 100\n",
      "Trial 59 of 100\n",
      "Trial 60 of 100\n",
      "Trial 61 of 100\n",
      "Trial 62 of 100\n",
      "Trial 63 of 100\n",
      "Trial 64 of 100\n",
      "Trial 65 of 100\n",
      "Trial 66 of 100\n",
      "Trial 67 of 100\n",
      "Trial 68 of 100\n",
      "Trial 69 of 100\n",
      "Trial 70 of 100\n",
      "Trial 71 of 100\n",
      "Trial 72 of 100\n",
      "Trial 73 of 100\n",
      "Trial 74 of 100\n",
      "Trial 75 of 100\n",
      "Trial 76 of 100\n",
      "Trial 77 of 100\n",
      "Trial 78 of 100\n",
      "Trial 79 of 100\n",
      "Trial 80 of 100\n",
      "Trial 81 of 100\n",
      "Trial 82 of 100\n",
      "Trial 83 of 100\n",
      "Trial 84 of 100\n",
      "Trial 85 of 100\n",
      "Trial 86 of 100\n",
      "Trial 87 of 100\n",
      "Trial 88 of 100\n",
      "Trial 89 of 100\n",
      "Trial 90 of 100\n",
      "Trial 91 of 100\n",
      "Trial 92 of 100\n",
      "Trial 93 of 100\n",
      "Trial 94 of 100\n",
      "Trial 95 of 100\n",
      "Trial 96 of 100\n",
      "Trial 97 of 100\n",
      "Trial 98 of 100\n",
      "Trial 99 of 100\n",
      "Trial 100 of 100\n",
      "Mean [0.08667762 0.98576768]\n",
      "Stdv [0.00510298 0.00092973]\n",
      "Ended r_aa\n",
      "\n",
      "Calculating r_cra\n",
      "Trial 1 of 100\n",
      "Trial 2 of 100\n",
      "Trial 3 of 100\n",
      "Trial 4 of 100\n",
      "Trial 5 of 100\n",
      "Trial 6 of 100\n",
      "Trial 7 of 100\n",
      "Trial 8 of 100\n",
      "Trial 9 of 100\n",
      "Trial 10 of 100\n",
      "Trial 11 of 100\n",
      "Trial 12 of 100\n",
      "Trial 13 of 100\n",
      "Trial 14 of 100\n",
      "Trial 15 of 100\n",
      "Trial 16 of 100\n",
      "Trial 17 of 100\n",
      "Trial 18 of 100\n",
      "Trial 19 of 100\n",
      "Trial 20 of 100\n",
      "Trial 21 of 100\n",
      "Trial 22 of 100\n",
      "Trial 23 of 100\n",
      "Trial 24 of 100\n",
      "Trial 25 of 100\n",
      "Trial 26 of 100\n",
      "Trial 27 of 100\n",
      "Trial 28 of 100\n",
      "Trial 29 of 100\n",
      "Trial 30 of 100\n",
      "Trial 31 of 100\n",
      "Trial 32 of 100\n",
      "Trial 33 of 100\n",
      "Trial 34 of 100\n",
      "Trial 35 of 100\n",
      "Trial 36 of 100\n",
      "Trial 37 of 100\n",
      "Trial 38 of 100\n",
      "Trial 39 of 100\n",
      "Trial 40 of 100\n",
      "Trial 41 of 100\n",
      "Trial 42 of 100\n",
      "Trial 43 of 100\n",
      "Trial 44 of 100\n",
      "Trial 45 of 100\n",
      "Trial 46 of 100\n",
      "Trial 47 of 100\n",
      "Trial 48 of 100\n",
      "Trial 49 of 100\n",
      "Trial 50 of 100\n",
      "Trial 51 of 100\n",
      "Trial 52 of 100\n",
      "Trial 53 of 100\n",
      "Trial 54 of 100\n",
      "Trial 55 of 100\n",
      "Trial 56 of 100\n",
      "Trial 57 of 100\n",
      "Trial 58 of 100\n",
      "Trial 59 of 100\n",
      "Trial 60 of 100\n",
      "Trial 61 of 100\n",
      "Trial 62 of 100\n",
      "Trial 63 of 100\n",
      "Trial 64 of 100\n",
      "Trial 65 of 100\n",
      "Trial 66 of 100\n",
      "Trial 67 of 100\n",
      "Trial 68 of 100\n",
      "Trial 69 of 100\n",
      "Trial 70 of 100\n",
      "Trial 71 of 100\n",
      "Trial 72 of 100\n",
      "Trial 73 of 100\n",
      "Trial 74 of 100\n",
      "Trial 75 of 100\n",
      "Trial 76 of 100\n",
      "Trial 77 of 100\n",
      "Trial 78 of 100\n",
      "Trial 79 of 100\n",
      "Trial 80 of 100\n",
      "Trial 81 of 100\n",
      "Trial 82 of 100\n",
      "Trial 83 of 100\n",
      "Trial 84 of 100\n",
      "Trial 85 of 100\n",
      "Trial 86 of 100\n",
      "Trial 87 of 100\n",
      "Trial 88 of 100\n",
      "Trial 89 of 100\n",
      "Trial 90 of 100\n",
      "Trial 91 of 100\n",
      "Trial 92 of 100\n",
      "Trial 93 of 100\n",
      "Trial 94 of 100\n",
      "Trial 95 of 100\n",
      "Trial 96 of 100\n",
      "Trial 97 of 100\n",
      "Trial 98 of 100\n",
      "Trial 99 of 100\n",
      "Trial 100 of 100\n",
      "Mean [0.09509339 0.98659116]\n",
      "Stdv [0.00525969 0.00092863]\n",
      "Ended r_cra\n",
      "\n",
      "Calculating r_caa\n",
      "Trial 1 of 100\n",
      "Trial 2 of 100\n",
      "Trial 3 of 100\n",
      "Trial 4 of 100\n",
      "Trial 5 of 100\n",
      "Trial 6 of 100\n",
      "Trial 7 of 100\n",
      "Trial 8 of 100\n",
      "Trial 9 of 100\n",
      "Trial 10 of 100\n",
      "Trial 11 of 100\n",
      "Trial 12 of 100\n",
      "Trial 13 of 100\n",
      "Trial 14 of 100\n",
      "Trial 15 of 100\n",
      "Trial 16 of 100\n",
      "Trial 17 of 100\n",
      "Trial 18 of 100\n",
      "Trial 19 of 100\n",
      "Trial 20 of 100\n",
      "Trial 21 of 100\n",
      "Trial 22 of 100\n",
      "Trial 23 of 100\n",
      "Trial 24 of 100\n",
      "Trial 25 of 100\n",
      "Trial 26 of 100\n",
      "Trial 27 of 100\n",
      "Trial 28 of 100\n",
      "Trial 29 of 100\n",
      "Trial 30 of 100\n",
      "Trial 31 of 100\n",
      "Trial 32 of 100\n",
      "Trial 33 of 100\n",
      "Trial 34 of 100\n",
      "Trial 35 of 100\n",
      "Trial 36 of 100\n",
      "Trial 37 of 100\n",
      "Trial 38 of 100\n",
      "Trial 39 of 100\n",
      "Trial 40 of 100\n",
      "Trial 41 of 100\n",
      "Trial 42 of 100\n",
      "Trial 43 of 100\n",
      "Trial 44 of 100\n",
      "Trial 45 of 100\n",
      "Trial 46 of 100\n",
      "Trial 47 of 100\n",
      "Trial 48 of 100\n",
      "Trial 49 of 100\n",
      "Trial 50 of 100\n",
      "Trial 51 of 100\n",
      "Trial 52 of 100\n",
      "Trial 53 of 100\n",
      "Trial 54 of 100\n",
      "Trial 55 of 100\n",
      "Trial 56 of 100\n",
      "Trial 57 of 100\n",
      "Trial 58 of 100\n",
      "Trial 59 of 100\n",
      "Trial 60 of 100\n",
      "Trial 61 of 100\n",
      "Trial 62 of 100\n",
      "Trial 63 of 100\n",
      "Trial 64 of 100\n",
      "Trial 65 of 100\n",
      "Trial 66 of 100\n",
      "Trial 67 of 100\n",
      "Trial 68 of 100\n",
      "Trial 69 of 100\n",
      "Trial 70 of 100\n",
      "Trial 71 of 100\n",
      "Trial 72 of 100\n",
      "Trial 73 of 100\n",
      "Trial 74 of 100\n",
      "Trial 75 of 100\n",
      "Trial 76 of 100\n",
      "Trial 77 of 100\n",
      "Trial 78 of 100\n",
      "Trial 79 of 100\n"
     ]
    },
    {
     "name": "stdout",
     "output_type": "stream",
     "text": [
      "Trial 80 of 100\n",
      "Trial 81 of 100\n",
      "Trial 82 of 100\n",
      "Trial 83 of 100\n",
      "Trial 84 of 100\n",
      "Trial 85 of 100\n",
      "Trial 86 of 100\n",
      "Trial 87 of 100\n",
      "Trial 88 of 100\n",
      "Trial 89 of 100\n",
      "Trial 90 of 100\n",
      "Trial 91 of 100\n",
      "Trial 92 of 100\n",
      "Trial 93 of 100\n",
      "Trial 94 of 100\n",
      "Trial 95 of 100\n",
      "Trial 96 of 100\n",
      "Trial 97 of 100\n",
      "Trial 98 of 100\n",
      "Trial 99 of 100\n",
      "Trial 100 of 100\n",
      "Mean [0.09462112 0.98627519]\n",
      "Stdv [0.00524341 0.00093624]\n",
      "Ended r_caa\n",
      "\n",
      "Calculating r_cpi\n",
      "Trial 1 of 100\n"
     ]
    },
    {
     "ename": "ValueError",
     "evalue": "Input contains NaN, infinity or a value too large for dtype('float64').",
     "output_type": "error",
     "traceback": [
      "\u001b[0;31m---------------------------------------------------------------------------\u001b[0m",
      "\u001b[0;31mValueError\u001b[0m                                Traceback (most recent call last)",
      "\u001b[0;32m<ipython-input-93-70d039109e22>\u001b[0m in \u001b[0;36m<module>\u001b[0;34m()\u001b[0m\n\u001b[1;32m      4\u001b[0m \u001b[0;32mfor\u001b[0m \u001b[0mm\u001b[0m \u001b[0;32min\u001b[0m \u001b[0mmetrics_list\u001b[0m\u001b[0;34m:\u001b[0m\u001b[0;34m\u001b[0m\u001b[0;34m\u001b[0m\u001b[0m\n\u001b[1;32m      5\u001b[0m     \u001b[0mprint\u001b[0m\u001b[0;34m(\u001b[0m\u001b[0;34m'Calculating r_{}'\u001b[0m\u001b[0;34m.\u001b[0m\u001b[0mformat\u001b[0m\u001b[0;34m(\u001b[0m\u001b[0mm\u001b[0m\u001b[0;34m)\u001b[0m\u001b[0;34m)\u001b[0m\u001b[0;34m\u001b[0m\u001b[0;34m\u001b[0m\u001b[0m\n\u001b[0;32m----> 6\u001b[0;31m     \u001b[0mr\u001b[0m\u001b[0;34m[\u001b[0m\u001b[0mm\u001b[0m\u001b[0;34m]\u001b[0m \u001b[0;34m=\u001b[0m \u001b[0mcross_val_from_npy\u001b[0m\u001b[0;34m(\u001b[0m\u001b[0mm\u001b[0m\u001b[0;34m,\u001b[0m \u001b[0mloops\u001b[0m\u001b[0;34m=\u001b[0m\u001b[0;36m100\u001b[0m\u001b[0;34m,\u001b[0m \u001b[0mverbose\u001b[0m\u001b[0;34m=\u001b[0m\u001b[0mverbose\u001b[0m\u001b[0;34m)\u001b[0m\u001b[0;34m\u001b[0m\u001b[0;34m\u001b[0m\u001b[0m\n\u001b[0m\u001b[1;32m      7\u001b[0m     \u001b[0;31m#print(r[m])\u001b[0m\u001b[0;34m\u001b[0m\u001b[0;34m\u001b[0m\u001b[0;34m\u001b[0m\u001b[0m\n\u001b[1;32m      8\u001b[0m     \u001b[0mprint\u001b[0m\u001b[0;34m(\u001b[0m\u001b[0;34m'Mean'\u001b[0m\u001b[0;34m,\u001b[0m \u001b[0mnp\u001b[0m\u001b[0;34m.\u001b[0m\u001b[0mmean\u001b[0m\u001b[0;34m(\u001b[0m\u001b[0mr\u001b[0m\u001b[0;34m[\u001b[0m\u001b[0mm\u001b[0m\u001b[0;34m]\u001b[0m\u001b[0;34m,\u001b[0m \u001b[0maxis\u001b[0m\u001b[0;34m=\u001b[0m\u001b[0;36m0\u001b[0m\u001b[0;34m)\u001b[0m\u001b[0;34m)\u001b[0m\u001b[0;34m\u001b[0m\u001b[0;34m\u001b[0m\u001b[0m\n",
      "\u001b[0;32m<ipython-input-51-a463aab75ef8>\u001b[0m in \u001b[0;36mcross_val_from_npy\u001b[0;34m(metric, loops, raw_output, verbose, plot)\u001b[0m\n\u001b[1;32m     22\u001b[0m             \u001b[0mtrue_list\u001b[0m\u001b[0;34m.\u001b[0m\u001b[0mappend\u001b[0m\u001b[0;34m(\u001b[0m\u001b[0mtrue\u001b[0m\u001b[0;34m)\u001b[0m\u001b[0;34m\u001b[0m\u001b[0;34m\u001b[0m\u001b[0m\n\u001b[1;32m     23\u001b[0m         \u001b[0;32melse\u001b[0m\u001b[0;34m:\u001b[0m\u001b[0;34m\u001b[0m\u001b[0;34m\u001b[0m\u001b[0m\n\u001b[0;32m---> 24\u001b[0;31m             \u001b[0mresults\u001b[0m\u001b[0;34m[\u001b[0m\u001b[0mi\u001b[0m\u001b[0;34m]\u001b[0m \u001b[0;34m=\u001b[0m \u001b[0mb_val\u001b[0m\u001b[0;34m.\u001b[0m\u001b[0mevaluate_predictions\u001b[0m\u001b[0;34m(\u001b[0m\u001b[0mtrue\u001b[0m\u001b[0;34m,\u001b[0m \u001b[0mscore\u001b[0m\u001b[0;34m,\u001b[0m \u001b[0mplot\u001b[0m\u001b[0;34m=\u001b[0m\u001b[0mplot\u001b[0m\u001b[0;34m)\u001b[0m\u001b[0;34m\u001b[0m\u001b[0;34m\u001b[0m\u001b[0m\n\u001b[0m\u001b[1;32m     25\u001b[0m \u001b[0;34m\u001b[0m\u001b[0m\n\u001b[1;32m     26\u001b[0m     \u001b[0;32mif\u001b[0m \u001b[0mraw_output\u001b[0m\u001b[0;34m:\u001b[0m\u001b[0;34m\u001b[0m\u001b[0;34m\u001b[0m\u001b[0m\n",
      "\u001b[0;32m~/Documents/2019/Camerino/ASSP2019/multipartite-weighted-link-prediction/linkpred/b_val.py\u001b[0m in \u001b[0;36mevaluate_predictions\u001b[0;34m(true, pred, plot)\u001b[0m\n\u001b[1;32m     36\u001b[0m     \"\"\"Evaluates prediction quality using area under the PR \n\u001b[1;32m     37\u001b[0m     and ROC curves.\"\"\"\n\u001b[0;32m---> 38\u001b[0;31m     \u001b[0mprecision\u001b[0m\u001b[0;34m,\u001b[0m \u001b[0mrecall\u001b[0m\u001b[0;34m,\u001b[0m \u001b[0m_\u001b[0m \u001b[0;34m=\u001b[0m \u001b[0mprecision_recall_curve\u001b[0m\u001b[0;34m(\u001b[0m\u001b[0mtrue\u001b[0m\u001b[0;34m,\u001b[0m \u001b[0mpred\u001b[0m\u001b[0;34m)\u001b[0m\u001b[0;34m\u001b[0m\u001b[0;34m\u001b[0m\u001b[0m\n\u001b[0m\u001b[1;32m     39\u001b[0m     \u001b[0mfpr\u001b[0m\u001b[0;34m,\u001b[0m \u001b[0mtpr\u001b[0m\u001b[0;34m,\u001b[0m \u001b[0m_\u001b[0m \u001b[0;34m=\u001b[0m \u001b[0mroc_curve\u001b[0m\u001b[0;34m(\u001b[0m\u001b[0mtrue\u001b[0m\u001b[0;34m,\u001b[0m \u001b[0mpred\u001b[0m\u001b[0;34m)\u001b[0m\u001b[0;34m\u001b[0m\u001b[0;34m\u001b[0m\u001b[0m\n\u001b[1;32m     40\u001b[0m     \u001b[0maupr\u001b[0m \u001b[0;34m=\u001b[0m \u001b[0mauc\u001b[0m\u001b[0;34m(\u001b[0m\u001b[0mrecall\u001b[0m\u001b[0;34m,\u001b[0m \u001b[0mprecision\u001b[0m\u001b[0;34m)\u001b[0m\u001b[0;34m\u001b[0m\u001b[0;34m\u001b[0m\u001b[0m\n",
      "\u001b[0;32m~/anaconda2/envs/newenviroment/lib/python3.6/site-packages/sklearn/metrics/ranking.py\u001b[0m in \u001b[0;36mprecision_recall_curve\u001b[0;34m(y_true, probas_pred, pos_label, sample_weight)\u001b[0m\n\u001b[1;32m    439\u001b[0m     fps, tps, thresholds = _binary_clf_curve(y_true, probas_pred,\n\u001b[1;32m    440\u001b[0m                                              \u001b[0mpos_label\u001b[0m\u001b[0;34m=\u001b[0m\u001b[0mpos_label\u001b[0m\u001b[0;34m,\u001b[0m\u001b[0;34m\u001b[0m\u001b[0;34m\u001b[0m\u001b[0m\n\u001b[0;32m--> 441\u001b[0;31m                                              sample_weight=sample_weight)\n\u001b[0m\u001b[1;32m    442\u001b[0m \u001b[0;34m\u001b[0m\u001b[0m\n\u001b[1;32m    443\u001b[0m     \u001b[0mprecision\u001b[0m \u001b[0;34m=\u001b[0m \u001b[0mtps\u001b[0m \u001b[0;34m/\u001b[0m \u001b[0;34m(\u001b[0m\u001b[0mtps\u001b[0m \u001b[0;34m+\u001b[0m \u001b[0mfps\u001b[0m\u001b[0;34m)\u001b[0m\u001b[0;34m\u001b[0m\u001b[0;34m\u001b[0m\u001b[0m\n",
      "\u001b[0;32m~/anaconda2/envs/newenviroment/lib/python3.6/site-packages/sklearn/metrics/ranking.py\u001b[0m in \u001b[0;36m_binary_clf_curve\u001b[0;34m(y_true, y_score, pos_label, sample_weight)\u001b[0m\n\u001b[1;32m    322\u001b[0m     \u001b[0my_score\u001b[0m \u001b[0;34m=\u001b[0m \u001b[0mcolumn_or_1d\u001b[0m\u001b[0;34m(\u001b[0m\u001b[0my_score\u001b[0m\u001b[0;34m)\u001b[0m\u001b[0;34m\u001b[0m\u001b[0;34m\u001b[0m\u001b[0m\n\u001b[1;32m    323\u001b[0m     \u001b[0massert_all_finite\u001b[0m\u001b[0;34m(\u001b[0m\u001b[0my_true\u001b[0m\u001b[0;34m)\u001b[0m\u001b[0;34m\u001b[0m\u001b[0;34m\u001b[0m\u001b[0m\n\u001b[0;32m--> 324\u001b[0;31m     \u001b[0massert_all_finite\u001b[0m\u001b[0;34m(\u001b[0m\u001b[0my_score\u001b[0m\u001b[0;34m)\u001b[0m\u001b[0;34m\u001b[0m\u001b[0;34m\u001b[0m\u001b[0m\n\u001b[0m\u001b[1;32m    325\u001b[0m \u001b[0;34m\u001b[0m\u001b[0m\n\u001b[1;32m    326\u001b[0m     \u001b[0;32mif\u001b[0m \u001b[0msample_weight\u001b[0m \u001b[0;32mis\u001b[0m \u001b[0;32mnot\u001b[0m \u001b[0;32mNone\u001b[0m\u001b[0;34m:\u001b[0m\u001b[0;34m\u001b[0m\u001b[0;34m\u001b[0m\u001b[0m\n",
      "\u001b[0;32m~/anaconda2/envs/newenviroment/lib/python3.6/site-packages/sklearn/utils/validation.py\u001b[0m in \u001b[0;36massert_all_finite\u001b[0;34m(X)\u001b[0m\n\u001b[1;32m     52\u001b[0m     \u001b[0mX\u001b[0m \u001b[0;34m:\u001b[0m \u001b[0marray\u001b[0m \u001b[0;32mor\u001b[0m \u001b[0msparse\u001b[0m \u001b[0mmatrix\u001b[0m\u001b[0;34m\u001b[0m\u001b[0;34m\u001b[0m\u001b[0m\n\u001b[1;32m     53\u001b[0m     \"\"\"\n\u001b[0;32m---> 54\u001b[0;31m     \u001b[0m_assert_all_finite\u001b[0m\u001b[0;34m(\u001b[0m\u001b[0mX\u001b[0m\u001b[0;34m.\u001b[0m\u001b[0mdata\u001b[0m \u001b[0;32mif\u001b[0m \u001b[0msp\u001b[0m\u001b[0;34m.\u001b[0m\u001b[0missparse\u001b[0m\u001b[0;34m(\u001b[0m\u001b[0mX\u001b[0m\u001b[0;34m)\u001b[0m \u001b[0;32melse\u001b[0m \u001b[0mX\u001b[0m\u001b[0;34m)\u001b[0m\u001b[0;34m\u001b[0m\u001b[0;34m\u001b[0m\u001b[0m\n\u001b[0m\u001b[1;32m     55\u001b[0m \u001b[0;34m\u001b[0m\u001b[0m\n\u001b[1;32m     56\u001b[0m \u001b[0;34m\u001b[0m\u001b[0m\n",
      "\u001b[0;32m~/anaconda2/envs/newenviroment/lib/python3.6/site-packages/sklearn/utils/validation.py\u001b[0m in \u001b[0;36m_assert_all_finite\u001b[0;34m(X)\u001b[0m\n\u001b[1;32m     42\u001b[0m             and not np.isfinite(X).all()):\n\u001b[1;32m     43\u001b[0m         raise ValueError(\"Input contains NaN, infinity\"\n\u001b[0;32m---> 44\u001b[0;31m                          \" or a value too large for %r.\" % X.dtype)\n\u001b[0m\u001b[1;32m     45\u001b[0m \u001b[0;34m\u001b[0m\u001b[0m\n\u001b[1;32m     46\u001b[0m \u001b[0;34m\u001b[0m\u001b[0m\n",
      "\u001b[0;31mValueError\u001b[0m: Input contains NaN, infinity or a value too large for dtype('float64')."
     ]
    }
   ],
   "source": [
    "metrics_list = ['lcl', 'cn', 'jc', 'car', 'cjc', 'cpa', 'ra', 'aa', 'cra', 'caa', 'cpi']\n",
    "\n",
    "r = {}\n",
    "for m in metrics_list:\n",
    "    print('Calculating r_{}'.format(m))\n",
    "    r[m] = cross_val_from_npy(m, loops=100, verbose=verbose)\n",
    "    #print(r[m])\n",
    "    print('Mean', np.mean(r[m], axis=0))\n",
    "    print('Stdv', np.std(r[m], axis=0))\n",
    "    print('Ended r_{}\\n'.format(m))"
   ]
  },
  {
   "cell_type": "code",
   "execution_count": 94,
   "metadata": {},
   "outputs": [
    {
     "data": {
      "text/plain": [
       "{'lcl': array([[0.0896664 , 0.98454393],\n",
       "        [0.09874949, 0.98517379],\n",
       "        [0.08997949, 0.98521037],\n",
       "        [0.09160241, 0.98505974],\n",
       "        [0.09937673, 0.98737048],\n",
       "        [0.09831641, 0.98623615],\n",
       "        [0.08924505, 0.98555336],\n",
       "        [0.08678171, 0.98467796],\n",
       "        [0.09282573, 0.98516653],\n",
       "        [0.10167453, 0.98550596],\n",
       "        [0.08923549, 0.98641506],\n",
       "        [0.09762881, 0.98609973],\n",
       "        [0.09865566, 0.98617183],\n",
       "        [0.09103129, 0.98538473],\n",
       "        [0.08398168, 0.98463503],\n",
       "        [0.10336189, 0.98642334],\n",
       "        [0.09842446, 0.9868144 ],\n",
       "        [0.08837857, 0.98426386],\n",
       "        [0.09309976, 0.98589244],\n",
       "        [0.09373257, 0.986283  ],\n",
       "        [0.08730471, 0.9863442 ],\n",
       "        [0.10158877, 0.98745039],\n",
       "        [0.08385325, 0.98493698],\n",
       "        [0.09546383, 0.98521054],\n",
       "        [0.09808041, 0.98495619],\n",
       "        [0.09066653, 0.98587398],\n",
       "        [0.09352378, 0.98635234],\n",
       "        [0.1014039 , 0.98744986],\n",
       "        [0.08751689, 0.98645857],\n",
       "        [0.08950025, 0.98473716],\n",
       "        [0.10390761, 0.98584394],\n",
       "        [0.09434416, 0.98782349],\n",
       "        [0.09883828, 0.98691747],\n",
       "        [0.08832232, 0.98483925],\n",
       "        [0.08543027, 0.98552115],\n",
       "        [0.09056272, 0.98454314],\n",
       "        [0.09691047, 0.98652179],\n",
       "        [0.09191965, 0.98679844],\n",
       "        [0.0945741 , 0.98623085],\n",
       "        [0.09526451, 0.9855454 ],\n",
       "        [0.09627617, 0.98428839],\n",
       "        [0.08795231, 0.98423002],\n",
       "        [0.08098011, 0.98575269],\n",
       "        [0.09071754, 0.9859302 ],\n",
       "        [0.0995575 , 0.9864989 ],\n",
       "        [0.09839827, 0.98513015],\n",
       "        [0.09118649, 0.98627827],\n",
       "        [0.09401662, 0.98573654],\n",
       "        [0.09882817, 0.98788954],\n",
       "        [0.09979687, 0.98598109],\n",
       "        [0.09635128, 0.98567993],\n",
       "        [0.09624311, 0.98718213],\n",
       "        [0.09682472, 0.98668496],\n",
       "        [0.09019477, 0.9864043 ],\n",
       "        [0.09008874, 0.98603159],\n",
       "        [0.08677814, 0.98631041],\n",
       "        [0.09557011, 0.98758291],\n",
       "        [0.09314729, 0.98605841],\n",
       "        [0.08982345, 0.98631013],\n",
       "        [0.09453694, 0.98709524],\n",
       "        [0.09085196, 0.98582573],\n",
       "        [0.08372648, 0.98415177],\n",
       "        [0.1022442 , 0.98483066],\n",
       "        [0.09746754, 0.98533967],\n",
       "        [0.09211303, 0.98575888],\n",
       "        [0.09155741, 0.98728963],\n",
       "        [0.09988022, 0.98655684],\n",
       "        [0.10145511, 0.98515329],\n",
       "        [0.08645092, 0.98500718],\n",
       "        [0.08807493, 0.98615847],\n",
       "        [0.08910742, 0.98759494],\n",
       "        [0.09366499, 0.98532216],\n",
       "        [0.09191817, 0.98469622],\n",
       "        [0.09160631, 0.98600158],\n",
       "        [0.0955395 , 0.98568822],\n",
       "        [0.09820301, 0.98467244],\n",
       "        [0.09816647, 0.98560022],\n",
       "        [0.08959639, 0.98542781],\n",
       "        [0.09520616, 0.9847106 ],\n",
       "        [0.10048278, 0.98723993],\n",
       "        [0.099995  , 0.98666942],\n",
       "        [0.09171551, 0.98435593],\n",
       "        [0.09277255, 0.98734236],\n",
       "        [0.09753934, 0.98719462],\n",
       "        [0.1020921 , 0.98533051],\n",
       "        [0.09212077, 0.9850435 ],\n",
       "        [0.09759059, 0.98563163],\n",
       "        [0.08759994, 0.98395905],\n",
       "        [0.08717246, 0.9859055 ],\n",
       "        [0.09189322, 0.98696694],\n",
       "        [0.09097097, 0.98619542],\n",
       "        [0.09272351, 0.98559458],\n",
       "        [0.08939326, 0.98524655],\n",
       "        [0.0966765 , 0.98681878],\n",
       "        [0.10537074, 0.98549956],\n",
       "        [0.08537725, 0.98590081],\n",
       "        [0.09473444, 0.98729491],\n",
       "        [0.10353505, 0.98785987],\n",
       "        [0.09218474, 0.98565394],\n",
       "        [0.09261915, 0.98526781]]), 'cn': array([[0.08077459, 0.98405654],\n",
       "        [0.08759522, 0.98478481],\n",
       "        [0.08334568, 0.98485239],\n",
       "        [0.08452083, 0.98463139],\n",
       "        [0.08821127, 0.98696737],\n",
       "        [0.08915611, 0.9858666 ],\n",
       "        [0.08388223, 0.98519156],\n",
       "        [0.0812355 , 0.98432618],\n",
       "        [0.08120783, 0.984684  ],\n",
       "        [0.09201036, 0.98512981],\n",
       "        [0.0782359 , 0.98595436],\n",
       "        [0.08248386, 0.9856547 ],\n",
       "        [0.08763319, 0.98569111],\n",
       "        [0.08157093, 0.98497916],\n",
       "        [0.07521312, 0.98421525],\n",
       "        [0.0913982 , 0.98604033],\n",
       "        [0.08661671, 0.9862178 ],\n",
       "        [0.07985223, 0.98386374],\n",
       "        [0.08595207, 0.9853543 ],\n",
       "        [0.08390146, 0.9858009 ],\n",
       "        [0.07680637, 0.98589851],\n",
       "        [0.08356604, 0.9870865 ],\n",
       "        [0.07190807, 0.98457234],\n",
       "        [0.08056781, 0.98474761],\n",
       "        [0.08890249, 0.98458146],\n",
       "        [0.07953057, 0.98540848],\n",
       "        [0.08263866, 0.98600378],\n",
       "        [0.09251243, 0.98699781],\n",
       "        [0.07946509, 0.98603431],\n",
       "        [0.08258982, 0.98421947],\n",
       "        [0.09441127, 0.98527446],\n",
       "        [0.09344832, 0.98746885],\n",
       "        [0.08545899, 0.98647948],\n",
       "        [0.08060928, 0.9844647 ],\n",
       "        [0.0791502 , 0.98501702],\n",
       "        [0.08237426, 0.98411011],\n",
       "        [0.08772962, 0.98595397],\n",
       "        [0.08675881, 0.98639169],\n",
       "        [0.08739514, 0.98576646],\n",
       "        [0.08502636, 0.98513623],\n",
       "        [0.08307226, 0.9838213 ],\n",
       "        [0.08280169, 0.98388423],\n",
       "        [0.07683548, 0.985314  ],\n",
       "        [0.08454878, 0.98554895],\n",
       "        [0.08394342, 0.98615479],\n",
       "        [0.08905955, 0.98472687],\n",
       "        [0.08666147, 0.985909  ],\n",
       "        [0.08321245, 0.98523025],\n",
       "        [0.09180362, 0.98745219],\n",
       "        [0.08960796, 0.98565716],\n",
       "        [0.08788174, 0.98525414],\n",
       "        [0.08699459, 0.98684178],\n",
       "        [0.08240473, 0.98637154],\n",
       "        [0.07866403, 0.98599762],\n",
       "        [0.07798818, 0.98565694],\n",
       "        [0.0810136 , 0.98586197],\n",
       "        [0.08179383, 0.98714179],\n",
       "        [0.08605282, 0.98556944],\n",
       "        [0.08296732, 0.98591387],\n",
       "        [0.08501662, 0.98673339],\n",
       "        [0.07852215, 0.98544766],\n",
       "        [0.07239878, 0.98370577],\n",
       "        [0.08995017, 0.98436349],\n",
       "        [0.08907866, 0.98503969],\n",
       "        [0.08848474, 0.9853002 ],\n",
       "        [0.08372453, 0.98686237],\n",
       "        [0.08606485, 0.98606881],\n",
       "        [0.09164051, 0.9847198 ],\n",
       "        [0.08145574, 0.98452134],\n",
       "        [0.07889111, 0.98577022],\n",
       "        [0.08455702, 0.98709232],\n",
       "        [0.08649364, 0.98480563],\n",
       "        [0.08703651, 0.98420455],\n",
       "        [0.07877788, 0.98568068],\n",
       "        [0.09083637, 0.98534541],\n",
       "        [0.09411454, 0.9842568 ],\n",
       "        [0.08797157, 0.98500581],\n",
       "        [0.08169215, 0.98516512],\n",
       "        [0.08333599, 0.98436163],\n",
       "        [0.08653764, 0.9868062 ],\n",
       "        [0.09058075, 0.98619154],\n",
       "        [0.08723966, 0.98383686],\n",
       "        [0.08001683, 0.986822  ],\n",
       "        [0.08541893, 0.98674944],\n",
       "        [0.09589017, 0.98500157],\n",
       "        [0.0801748 , 0.9845891 ],\n",
       "        [0.08819896, 0.98530871],\n",
       "        [0.07854189, 0.98362983],\n",
       "        [0.08358081, 0.985537  ],\n",
       "        [0.07779153, 0.98654512],\n",
       "        [0.0863817 , 0.98575017],\n",
       "        [0.08538382, 0.98516997],\n",
       "        [0.08468841, 0.98488466],\n",
       "        [0.08915365, 0.98629262],\n",
       "        [0.09532035, 0.98508461],\n",
       "        [0.07604679, 0.98549879],\n",
       "        [0.08596573, 0.9867103 ],\n",
       "        [0.0941709 , 0.98756765],\n",
       "        [0.08412364, 0.98539167],\n",
       "        [0.08467971, 0.98490021]]), 'jc': array([[0.02662158, 0.97238205],\n",
       "        [0.02793305, 0.9724273 ],\n",
       "        [0.02833034, 0.97188689],\n",
       "        [0.02909256, 0.97195644],\n",
       "        [0.0296372 , 0.9744593 ],\n",
       "        [0.02652357, 0.9727871 ],\n",
       "        [0.02804019, 0.97242636],\n",
       "        [0.02780429, 0.97186527],\n",
       "        [0.0268458 , 0.97287464],\n",
       "        [0.02549276, 0.97255815],\n",
       "        [0.02786023, 0.97332949],\n",
       "        [0.02582266, 0.97367489],\n",
       "        [0.03015077, 0.97313054],\n",
       "        [0.02523282, 0.97250864],\n",
       "        [0.0245808 , 0.97156737],\n",
       "        [0.02697589, 0.9736971 ],\n",
       "        [0.02862317, 0.97492626],\n",
       "        [0.02651796, 0.97144418],\n",
       "        [0.02954546, 0.97350756],\n",
       "        [0.02597041, 0.97332627],\n",
       "        [0.02657435, 0.97329836],\n",
       "        [0.02375318, 0.97438318],\n",
       "        [0.0251117 , 0.97154347],\n",
       "        [0.03022887, 0.97258522],\n",
       "        [0.02551156, 0.97173051],\n",
       "        [0.02848621, 0.97288922],\n",
       "        [0.02545447, 0.97303398],\n",
       "        [0.03075142, 0.9748294 ],\n",
       "        [0.02793781, 0.97360764],\n",
       "        [0.02532749, 0.97182697],\n",
       "        [0.02685609, 0.97340201],\n",
       "        [0.02629904, 0.97428395],\n",
       "        [0.02838415, 0.97334402],\n",
       "        [0.02814256, 0.97192622],\n",
       "        [0.02629442, 0.97294087],\n",
       "        [0.02984476, 0.97172071],\n",
       "        [0.02958861, 0.97411435],\n",
       "        [0.02506427, 0.9738486 ],\n",
       "        [0.02998797, 0.97295866],\n",
       "        [0.02661134, 0.97267414],\n",
       "        [0.02828301, 0.97137244],\n",
       "        [0.02542956, 0.97099731],\n",
       "        [0.02664404, 0.97253164],\n",
       "        [0.02525186, 0.97261982],\n",
       "        [0.02872673, 0.97309855],\n",
       "        [0.0255445 , 0.9725352 ],\n",
       "        [0.02640541, 0.97326038],\n",
       "        [0.03306636, 0.97262748],\n",
       "        [0.02833185, 0.97483242],\n",
       "        [0.02656938, 0.97247469],\n",
       "        [0.02762585, 0.97294699],\n",
       "        [0.02620704, 0.97395782],\n",
       "        [0.02600431, 0.97304926],\n",
       "        [0.02697966, 0.97320917],\n",
       "        [0.02588422, 0.97335807],\n",
       "        [0.03020945, 0.973348  ],\n",
       "        [0.02467145, 0.9745945 ],\n",
       "        [0.02608504, 0.97266698],\n",
       "        [0.02781445, 0.97294153],\n",
       "        [0.02532903, 0.97296276],\n",
       "        [0.02667235, 0.97241065],\n",
       "        [0.02781782, 0.97109197],\n",
       "        [0.02681211, 0.97173903],\n",
       "        [0.02467617, 0.97207258],\n",
       "        [0.02452226, 0.97274931],\n",
       "        [0.0276571 , 0.97396037],\n",
       "        [0.03070483, 0.97403301],\n",
       "        [0.02659133, 0.97198917],\n",
       "        [0.03053975, 0.97158679],\n",
       "        [0.0287882 , 0.97355167],\n",
       "        [0.02594945, 0.9746367 ],\n",
       "        [0.02616926, 0.97298486],\n",
       "        [0.03055661, 0.97217325],\n",
       "        [0.02588581, 0.97305009],\n",
       "        [0.02693711, 0.97213352],\n",
       "        [0.02755972, 0.97175287],\n",
       "        [0.02852672, 0.97345106],\n",
       "        [0.02564457, 0.97165693],\n",
       "        [0.02306644, 0.97149614],\n",
       "        [0.02744258, 0.97450491],\n",
       "        [0.02590073, 0.97367155],\n",
       "        [0.02884996, 0.97180117],\n",
       "        [0.02598351, 0.97413566],\n",
       "        [0.02904658, 0.97451136],\n",
       "        [0.02871046, 0.9722761 ],\n",
       "        [0.0261996 , 0.97236691],\n",
       "        [0.02696761, 0.97263271],\n",
       "        [0.02706388, 0.97053757],\n",
       "        [0.02635947, 0.97225599],\n",
       "        [0.02770641, 0.97379234],\n",
       "        [0.02509755, 0.97309603],\n",
       "        [0.02832339, 0.97271813],\n",
       "        [0.02852002, 0.97205784],\n",
       "        [0.02931838, 0.97366938],\n",
       "        [0.02578669, 0.97257798],\n",
       "        [0.02639625, 0.9726377 ],\n",
       "        [0.02695383, 0.97485721],\n",
       "        [0.02494416, 0.9741289 ],\n",
       "        [0.02540056, 0.97174665],\n",
       "        [0.02573436, 0.972055  ]]), 'car': array([[0.09241877, 0.9844493 ],\n",
       "        [0.10156124, 0.98512076],\n",
       "        [0.09482385, 0.98518127],\n",
       "        [0.09560084, 0.98500307],\n",
       "        [0.10250037, 0.98731608],\n",
       "        [0.10238785, 0.98619658],\n",
       "        [0.09302119, 0.98552783],\n",
       "        [0.09100398, 0.98464474],\n",
       "        [0.0937484 , 0.98507508],\n",
       "        [0.10527946, 0.98546297],\n",
       "        [0.08998786, 0.98634029],\n",
       "        [0.09820641, 0.98602376],\n",
       "        [0.10080133, 0.98608844],\n",
       "        [0.09485264, 0.98532095],\n",
       "        [0.08601694, 0.98456922],\n",
       "        [0.10619057, 0.98637405],\n",
       "        [0.10111978, 0.98667224],\n",
       "        [0.09118833, 0.9842118 ],\n",
       "        [0.09716079, 0.9857771 ],\n",
       "        [0.09570789, 0.98619407],\n",
       "        [0.08817323, 0.9862763 ],\n",
       "        [0.10179721, 0.98740643],\n",
       "        [0.08384021, 0.98490303],\n",
       "        [0.09575112, 0.98512805],\n",
       "        [0.10274337, 0.9849144 ],\n",
       "        [0.09292954, 0.98578947],\n",
       "        [0.09490728, 0.98632929],\n",
       "        [0.10506775, 0.98737224],\n",
       "        [0.08987624, 0.98639754],\n",
       "        [0.09357445, 0.98463566],\n",
       "        [0.10743037, 0.9857137 ],\n",
       "        [0.10128001, 0.98779035],\n",
       "        [0.10021993, 0.98685363],\n",
       "        [0.09138133, 0.98479321],\n",
       "        [0.08996911, 0.98542475],\n",
       "        [0.09549768, 0.98447496],\n",
       "        [0.09948477, 0.98639583],\n",
       "        [0.09721897, 0.98674584],\n",
       "        [0.09920311, 0.98615059],\n",
       "        [0.09914279, 0.9854995 ],\n",
       "        [0.09772638, 0.98420205],\n",
       "        [0.09285677, 0.984203  ],\n",
       "        [0.0848266 , 0.98568094],\n",
       "        [0.09430947, 0.98588272],\n",
       "        [0.10010077, 0.9864705 ],\n",
       "        [0.10351411, 0.98506582],\n",
       "        [0.0963108 , 0.98624225],\n",
       "        [0.09624507, 0.98562973],\n",
       "        [0.10444993, 0.98782649],\n",
       "        [0.1036094 , 0.98596483],\n",
       "        [0.0996401 , 0.9856181 ],\n",
       "        [0.09931161, 0.98715838],\n",
       "        [0.09718702, 0.98668029],\n",
       "        [0.09152127, 0.98634885],\n",
       "        [0.09111787, 0.98598777],\n",
       "        [0.0908836 , 0.98622986],\n",
       "        [0.09588672, 0.98751325],\n",
       "        [0.09756991, 0.98596658],\n",
       "        [0.09361865, 0.98625822],\n",
       "        [0.09781103, 0.98706165],\n",
       "        [0.09293157, 0.98579182],\n",
       "        [0.08437116, 0.98408412],\n",
       "        [0.10475981, 0.98474829],\n",
       "        [0.09994292, 0.98533374],\n",
       "        [0.09799884, 0.98567234],\n",
       "        [0.09466994, 0.9872248 ],\n",
       "        [0.1015364 , 0.98645351],\n",
       "        [0.10439431, 0.98507912],\n",
       "        [0.09045346, 0.98492006],\n",
       "        [0.09046874, 0.98611354],\n",
       "        [0.0935105 , 0.98749897],\n",
       "        [0.09841541, 0.98521983],\n",
       "        [0.09748903, 0.98460115],\n",
       "        [0.09266872, 0.9859944 ],\n",
       "        [0.10083728, 0.98566946],\n",
       "        [0.1038716 , 0.98460835],\n",
       "        [0.1015449 , 0.98545533],\n",
       "        [0.09411387, 0.9854363 ],\n",
       "        [0.09675121, 0.98468238],\n",
       "        [0.10233145, 0.98716872],\n",
       "        [0.10414929, 0.98658141],\n",
       "        [0.09750832, 0.98424915],\n",
       "        [0.09443105, 0.9872368 ],\n",
       "        [0.09885056, 0.98711864],\n",
       "        [0.10785273, 0.98530599],\n",
       "        [0.09351085, 0.98497019],\n",
       "        [0.1006721 , 0.98561109],\n",
       "        [0.09014788, 0.98393878],\n",
       "        [0.09229436, 0.98586988],\n",
       "        [0.09139376, 0.98691623],\n",
       "        [0.09572716, 0.98611984],\n",
       "        [0.09675881, 0.98553703],\n",
       "        [0.09445159, 0.98521507],\n",
       "        [0.10161129, 0.98670879],\n",
       "        [0.11025597, 0.98543043],\n",
       "        [0.08758921, 0.98584681],\n",
       "        [0.09687606, 0.98715281],\n",
       "        [0.10772244, 0.9878586 ],\n",
       "        [0.0960286 , 0.9856592 ],\n",
       "        [0.09655813, 0.98522471]]), 'cjc': array([[0.08913897, 0.98414277],\n",
       "        [0.09772415, 0.98470621],\n",
       "        [0.0885201 , 0.9845309 ],\n",
       "        [0.09015281, 0.98438724],\n",
       "        [0.09773619, 0.98672909],\n",
       "        [0.09593099, 0.98552088],\n",
       "        [0.08776773, 0.98488225],\n",
       "        [0.08509331, 0.98420733],\n",
       "        [0.09118135, 0.98474019],\n",
       "        [0.10036055, 0.98484252],\n",
       "        [0.08752156, 0.98588789],\n",
       "        [0.09617277, 0.98579226],\n",
       "        [0.09761099, 0.98576236],\n",
       "        [0.08975124, 0.9847784 ],\n",
       "        [0.08302055, 0.98408347],\n",
       "        [0.10179007, 0.98588411],\n",
       "        [0.09766749, 0.98648223],\n",
       "        [0.08728552, 0.9837191 ],\n",
       "        [0.09189   , 0.98540829],\n",
       "        [0.09312399, 0.98565678],\n",
       "        [0.08559329, 0.98578674],\n",
       "        [0.10006462, 0.98692609],\n",
       "        [0.08280993, 0.98426429],\n",
       "        [0.09437442, 0.9847887 ],\n",
       "        [0.09635137, 0.98454197],\n",
       "        [0.08880775, 0.98545938],\n",
       "        [0.09221989, 0.98582859],\n",
       "        [0.100148  , 0.98708503],\n",
       "        [0.08636599, 0.98597336],\n",
       "        [0.08845643, 0.98426243],\n",
       "        [0.10191811, 0.98545587],\n",
       "        [0.09309011, 0.98719315],\n",
       "        [0.09729351, 0.98640259],\n",
       "        [0.08732669, 0.98427931],\n",
       "        [0.08446074, 0.98501448],\n",
       "        [0.0891907 , 0.98399063],\n",
       "        [0.09590974, 0.98614189],\n",
       "        [0.09051774, 0.98623717],\n",
       "        [0.09252952, 0.98565504],\n",
       "        [0.09376326, 0.98500933],\n",
       "        [0.09496295, 0.98365374],\n",
       "        [0.08624793, 0.98363995],\n",
       "        [0.07968622, 0.98517658],\n",
       "        [0.08871349, 0.9852961 ],\n",
       "        [0.09772203, 0.98581737],\n",
       "        [0.09635413, 0.98462362],\n",
       "        [0.08941893, 0.98585202],\n",
       "        [0.0926717 , 0.9850809 ],\n",
       "        [0.0970901 , 0.98749441],\n",
       "        [0.09755176, 0.98531171],\n",
       "        [0.09569359, 0.98523332],\n",
       "        [0.09459249, 0.98661304],\n",
       "        [0.09544533, 0.98613309],\n",
       "        [0.08820753, 0.98588156],\n",
       "        [0.08963033, 0.98560123],\n",
       "        [0.08566085, 0.98583297],\n",
       "        [0.09424321, 0.98709413],\n",
       "        [0.09161507, 0.98554531],\n",
       "        [0.08799885, 0.98572028],\n",
       "        [0.09309282, 0.98634127],\n",
       "        [0.08937246, 0.98514701],\n",
       "        [0.08212051, 0.98360755],\n",
       "        [0.10113032, 0.98423137],\n",
       "        [0.09653272, 0.98466212],\n",
       "        [0.09047558, 0.98536529],\n",
       "        [0.08973532, 0.98670397],\n",
       "        [0.09872049, 0.98615385],\n",
       "        [0.09974734, 0.98456102],\n",
       "        [0.08433243, 0.98441215],\n",
       "        [0.08675586, 0.98566905],\n",
       "        [0.0874486 , 0.98717371],\n",
       "        [0.09239289, 0.98493621],\n",
       "        [0.09045173, 0.98417892],\n",
       "        [0.09046608, 0.98549277],\n",
       "        [0.09405281, 0.9850786 ],\n",
       "        [0.09704648, 0.9841737 ],\n",
       "        [0.09652516, 0.98516743],\n",
       "        [0.08782578, 0.98476644],\n",
       "        [0.09342626, 0.98410942],\n",
       "        [0.09863921, 0.986812  ],\n",
       "        [0.09846524, 0.98616733],\n",
       "        [0.09082623, 0.98385339],\n",
       "        [0.09183652, 0.98677634],\n",
       "        [0.09599619, 0.98670621],\n",
       "        [0.10020931, 0.98476141],\n",
       "        [0.09140329, 0.98460519],\n",
       "        [0.09634671, 0.98497971],\n",
       "        [0.08625873, 0.98338386],\n",
       "        [0.08566195, 0.98518878],\n",
       "        [0.09116488, 0.9864531 ],\n",
       "        [0.08875485, 0.98562638],\n",
       "        [0.09171379, 0.98517319],\n",
       "        [0.08809081, 0.98457836],\n",
       "        [0.09559046, 0.98638313],\n",
       "        [0.1033522 , 0.9850348 ],\n",
       "        [0.0839316 , 0.98527702],\n",
       "        [0.09295668, 0.98699275],\n",
       "        [0.10234292, 0.98725297],\n",
       "        [0.09038749, 0.9850499 ],\n",
       "        [0.09053477, 0.98472276]]), 'cpa': array([[0.09242165, 0.98448761],\n",
       "        [0.10156209, 0.98512482],\n",
       "        [0.09483239, 0.98523411],\n",
       "        [0.09560627, 0.98504591],\n",
       "        [0.10250484, 0.98734788],\n",
       "        [0.10239447, 0.98624598],\n",
       "        [0.0930251 , 0.98556238],\n",
       "        [0.09100721, 0.98468079],\n",
       "        [0.09375097, 0.985108  ],\n",
       "        [0.10528468, 0.98551701],\n",
       "        [0.08999032, 0.98636083],\n",
       "        [0.09820597, 0.9860313 ],\n",
       "        [0.10080302, 0.98610524],\n",
       "        [0.09486096, 0.98535167],\n",
       "        [0.0860216 , 0.98461511],\n",
       "        [0.10619456, 0.98642549],\n",
       "        [0.1011217 , 0.98671255],\n",
       "        [0.0911906 , 0.98423072],\n",
       "        [0.0971637 , 0.98581035],\n",
       "        [0.09571262, 0.98622981],\n",
       "        [0.08817636, 0.98630427],\n",
       "        [0.10179997, 0.98743371],\n",
       "        [0.08384364, 0.98491943],\n",
       "        [0.09575181, 0.9851391 ],\n",
       "        [0.10274513, 0.98494844],\n",
       "        [0.09293049, 0.98580668],\n",
       "        [0.09490798, 0.98636865],\n",
       "        [0.10506797, 0.98737985],\n",
       "        [0.08988054, 0.98642372],\n",
       "        [0.09356464, 0.98466186],\n",
       "        [0.1074299 , 0.98572171],\n",
       "        [0.10128318, 0.98781787],\n",
       "        [0.100222  , 0.98688148],\n",
       "        [0.09138595, 0.98482589],\n",
       "        [0.08997156, 0.9854483 ],\n",
       "        [0.09550166, 0.98451569],\n",
       "        [0.09948649, 0.98642019],\n",
       "        [0.09722323, 0.98678231],\n",
       "        [0.09920669, 0.98617672],\n",
       "        [0.09914498, 0.98553134],\n",
       "        [0.09773081, 0.98424743],\n",
       "        [0.09286187, 0.98426565],\n",
       "        [0.0848336 , 0.98574846],\n",
       "        [0.09431323, 0.98592539],\n",
       "        [0.1001084 , 0.9865398 ],\n",
       "        [0.10352038, 0.98514453],\n",
       "        [0.09631186, 0.98625926],\n",
       "        [0.09624887, 0.98565819],\n",
       "        [0.10445188, 0.98785195],\n",
       "        [0.10361333, 0.98598556],\n",
       "        [0.099642  , 0.98564242],\n",
       "        [0.09931431, 0.98716991],\n",
       "        [0.09718906, 0.98669708],\n",
       "        [0.09152395, 0.98636167],\n",
       "        [0.09111864, 0.98599564],\n",
       "        [0.09088604, 0.98625627],\n",
       "        [0.09588903, 0.98752086],\n",
       "        [0.09757351, 0.98600908],\n",
       "        [0.09362114, 0.98627787],\n",
       "        [0.09780006, 0.9871112 ],\n",
       "        [0.09293517, 0.98582906],\n",
       "        [0.08437404, 0.98410266],\n",
       "        [0.10476362, 0.9847818 ],\n",
       "        [0.09994709, 0.98536816],\n",
       "        [0.09800069, 0.98568975],\n",
       "        [0.09467512, 0.98726469],\n",
       "        [0.10154144, 0.98648093],\n",
       "        [0.10440046, 0.98511249],\n",
       "        [0.09046165, 0.98495818],\n",
       "        [0.09047153, 0.98615205],\n",
       "        [0.09350897, 0.98750689],\n",
       "        [0.09841713, 0.98523867],\n",
       "        [0.09749333, 0.98463366],\n",
       "        [0.09267039, 0.98602909],\n",
       "        [0.10084094, 0.98568834],\n",
       "        [0.10389362, 0.98460843],\n",
       "        [0.10154745, 0.9854802 ],\n",
       "        [0.09411793, 0.98547208],\n",
       "        [0.0967552 , 0.98470965],\n",
       "        [0.10233348, 0.98719528],\n",
       "        [0.10415341, 0.98661534],\n",
       "        [0.09751251, 0.98428844],\n",
       "        [0.09443444, 0.98727011],\n",
       "        [0.09885341, 0.98715331],\n",
       "        [0.10785573, 0.98534674],\n",
       "        [0.09351207, 0.98498193],\n",
       "        [0.10067718, 0.98563504],\n",
       "        [0.09015145, 0.98397769],\n",
       "        [0.09229965, 0.98591429],\n",
       "        [0.09139675, 0.98694765],\n",
       "        [0.09573148, 0.98616044],\n",
       "        [0.09676012, 0.98554932],\n",
       "        [0.0944568 , 0.98525406],\n",
       "        [0.1016122 , 0.98672255],\n",
       "        [0.11025941, 0.98546059],\n",
       "        [0.08759408, 0.98588807],\n",
       "        [0.09687694, 0.9871591 ],\n",
       "        [0.10772657, 0.98789201],\n",
       "        [0.09603093, 0.98568373],\n",
       "        [0.09656089, 0.98523812]]), 'ra': array([[0.08581336, 0.98454318],\n",
       "        [0.09177518, 0.98513552],\n",
       "        [0.08704706, 0.98524598],\n",
       "        [0.08769083, 0.98503851],\n",
       "        [0.09288558, 0.98739614],\n",
       "        [0.09414997, 0.98612747],\n",
       "        [0.08694446, 0.98557784],\n",
       "        [0.08380629, 0.98484724],\n",
       "        [0.08570122, 0.98514037],\n",
       "        [0.0947642 , 0.98559059],\n",
       "        [0.0812406 , 0.98633172],\n",
       "        [0.08650941, 0.98592195],\n",
       "        [0.09122803, 0.98607515],\n",
       "        [0.0861015 , 0.98545535],\n",
       "        [0.07793416, 0.98472142],\n",
       "        [0.0964049 , 0.98657797],\n",
       "        [0.09231717, 0.98658646],\n",
       "        [0.08359246, 0.98423161],\n",
       "        [0.08981196, 0.98582008],\n",
       "        [0.08613254, 0.98627566],\n",
       "        [0.08060402, 0.98632623],\n",
       "        [0.0871331 , 0.98743252],\n",
       "        [0.07544878, 0.98503487],\n",
       "        [0.08530148, 0.98510374],\n",
       "        [0.09223726, 0.98506387],\n",
       "        [0.08334233, 0.98580446],\n",
       "        [0.08634691, 0.98633259],\n",
       "        [0.09627909, 0.9872997 ],\n",
       "        [0.08302485, 0.98629818],\n",
       "        [0.08587098, 0.98466979],\n",
       "        [0.09793463, 0.98553573],\n",
       "        [0.09749437, 0.9879272 ],\n",
       "        [0.08960296, 0.98677703],\n",
       "        [0.08384199, 0.98484878],\n",
       "        [0.08320965, 0.98537716],\n",
       "        [0.08694559, 0.98455011],\n",
       "        [0.09096932, 0.98641042],\n",
       "        [0.09148273, 0.98689802],\n",
       "        [0.09239566, 0.98612999],\n",
       "        [0.08920283, 0.98546498],\n",
       "        [0.08613106, 0.98423595],\n",
       "        [0.08662249, 0.98438395],\n",
       "        [0.07910788, 0.98564029],\n",
       "        [0.08706088, 0.98587401],\n",
       "        [0.08873917, 0.98663861],\n",
       "        [0.09342021, 0.9852483 ],\n",
       "        [0.0910233 , 0.98634466],\n",
       "        [0.08688525, 0.98567519],\n",
       "        [0.09663697, 0.98771007],\n",
       "        [0.09422917, 0.98603573],\n",
       "        [0.0922001 , 0.98565066],\n",
       "        [0.09006451, 0.98721397],\n",
       "        [0.08622714, 0.98681613],\n",
       "        [0.08323857, 0.98647881],\n",
       "        [0.08145009, 0.98608871],\n",
       "        [0.0849048 , 0.98617711],\n",
       "        [0.08468693, 0.98738248],\n",
       "        [0.09020148, 0.98603155],\n",
       "        [0.0879539 , 0.98626543],\n",
       "        [0.09015187, 0.98714174],\n",
       "        [0.08212599, 0.98601439],\n",
       "        [0.07530687, 0.98410478],\n",
       "        [0.09415301, 0.98479797],\n",
       "        [0.09293449, 0.98542808],\n",
       "        [0.09290002, 0.98577832],\n",
       "        [0.08672052, 0.98734573],\n",
       "        [0.09015796, 0.98649667],\n",
       "        [0.09557288, 0.98517719],\n",
       "        [0.08479485, 0.98491078],\n",
       "        [0.08249564, 0.98623604],\n",
       "        [0.08861289, 0.98737982],\n",
       "        [0.08999169, 0.98510044],\n",
       "        [0.09133214, 0.98463947],\n",
       "        [0.08147293, 0.98593574],\n",
       "        [0.09506789, 0.98574938],\n",
       "        [0.09697871, 0.98470663],\n",
       "        [0.09183549, 0.98545216],\n",
       "        [0.08539209, 0.98563495],\n",
       "        [0.08725109, 0.98479344],\n",
       "        [0.0921316 , 0.98713288],\n",
       "        [0.09433399, 0.98655733],\n",
       "        [0.09227016, 0.98434692],\n",
       "        [0.08416559, 0.98723017],\n",
       "        [0.08844733, 0.98717636],\n",
       "        [0.10034372, 0.98541242],\n",
       "        [0.08383311, 0.98500206],\n",
       "        [0.09207983, 0.98590714],\n",
       "        [0.08137778, 0.98408219],\n",
       "        [0.08788395, 0.98603665],\n",
       "        [0.08195829, 0.98688992],\n",
       "        [0.08934151, 0.98615178],\n",
       "        [0.08851454, 0.98555972],\n",
       "        [0.08765786, 0.98530509],\n",
       "        [0.09426609, 0.98679868],\n",
       "        [0.09965232, 0.98556172],\n",
       "        [0.08007096, 0.98596579],\n",
       "        [0.0899892 , 0.98721079],\n",
       "        [0.09962269, 0.98794094],\n",
       "        [0.08749094, 0.98575114],\n",
       "        [0.08859636, 0.98535252]]), 'aa': array([[0.08316603, 0.98439015],\n",
       "        [0.08983621, 0.98503795],\n",
       "        [0.08532817, 0.98513504],\n",
       "        [0.08639732, 0.98492448],\n",
       "        [0.09064313, 0.98728584],\n",
       "        [0.09167894, 0.98608721],\n",
       "        [0.08542524, 0.98548011],\n",
       "        [0.08239235, 0.98467937],\n",
       "        [0.08366356, 0.9850159 ],\n",
       "        [0.09342426, 0.98546163],\n",
       "        [0.0799528 , 0.98623353],\n",
       "        [0.0845643 , 0.98586388],\n",
       "        [0.08941857, 0.98595177],\n",
       "        [0.08391343, 0.98532034],\n",
       "        [0.07671031, 0.98457941],\n",
       "        [0.09425291, 0.98641484],\n",
       "        [0.08950346, 0.98649801],\n",
       "        [0.08179305, 0.98413497],\n",
       "        [0.0880204 , 0.98570325],\n",
       "        [0.08500157, 0.9861382 ],\n",
       "        [0.0788294 , 0.98620825],\n",
       "        [0.08542817, 0.98735612],\n",
       "        [0.0736257 , 0.98490244],\n",
       "        [0.08307259, 0.98501265],\n",
       "        [0.09061939, 0.98492537],\n",
       "        [0.08165067, 0.98570336],\n",
       "        [0.08459439, 0.98624819],\n",
       "        [0.09457799, 0.98721777],\n",
       "        [0.0810673 , 0.98625076],\n",
       "        [0.08436314, 0.98453018],\n",
       "        [0.0965761 , 0.98548694],\n",
       "        [0.0956343 , 0.98778616],\n",
       "        [0.08752921, 0.98670628],\n",
       "        [0.08214994, 0.98476065],\n",
       "        [0.0813461 , 0.98528923],\n",
       "        [0.08474478, 0.984426  ],\n",
       "        [0.08973881, 0.98628867],\n",
       "        [0.08907862, 0.98674584],\n",
       "        [0.09020515, 0.98605304],\n",
       "        [0.08747612, 0.98538236],\n",
       "        [0.08464152, 0.98412082],\n",
       "        [0.08494847, 0.98423905],\n",
       "        [0.07811456, 0.98557334],\n",
       "        [0.0859281 , 0.98579105],\n",
       "        [0.08643002, 0.98648694],\n",
       "        [0.09115724, 0.98509236],\n",
       "        [0.08901447, 0.98620515],\n",
       "        [0.08492647, 0.98554969],\n",
       "        [0.09432225, 0.9876705 ],\n",
       "        [0.09184651, 0.98593044],\n",
       "        [0.09010285, 0.9855321 ],\n",
       "        [0.0885529 , 0.98710918],\n",
       "        [0.08419997, 0.98668028],\n",
       "        [0.08118643, 0.98632122],\n",
       "        [0.07988025, 0.98595361],\n",
       "        [0.08306099, 0.9860997 ],\n",
       "        [0.08323423, 0.9873435 ],\n",
       "        [0.08822988, 0.9859021 ],\n",
       "        [0.08545649, 0.98618562],\n",
       "        [0.08763277, 0.98703982],\n",
       "        [0.08047766, 0.98583677],\n",
       "        [0.07390144, 0.98399853],\n",
       "        [0.09210896, 0.98467859],\n",
       "        [0.09126841, 0.98532139],\n",
       "        [0.09080635, 0.98564538],\n",
       "        [0.08512472, 0.98721008],\n",
       "        [0.08827246, 0.9863845 ],\n",
       "        [0.09374776, 0.98504973],\n",
       "        [0.0833132 , 0.98480818],\n",
       "        [0.08067951, 0.98611522],\n",
       "        [0.08663947, 0.98732762],\n",
       "        [0.08844093, 0.98504413],\n",
       "        [0.08931331, 0.98452772],\n",
       "        [0.08032179, 0.98588832],\n",
       "        [0.09311894, 0.98563419],\n",
       "        [0.09579715, 0.98458674],\n",
       "        [0.09036501, 0.98532778],\n",
       "        [0.083606  , 0.98550602],\n",
       "        [0.08553823, 0.98467493],\n",
       "        [0.08943436, 0.98706605],\n",
       "        [0.09267277, 0.98646239],\n",
       "        [0.08997962, 0.98418758],\n",
       "        [0.08218179, 0.98712726],\n",
       "        [0.08716041, 0.98706994],\n",
       "        [0.0984831 , 0.98529763],\n",
       "        [0.0819642 , 0.98488718],\n",
       "        [0.09018104, 0.98571193],\n",
       "        [0.07999019, 0.98394197],\n",
       "        [0.08585254, 0.98586964],\n",
       "        [0.07998934, 0.9868094 ],\n",
       "        [0.08777185, 0.98604365],\n",
       "        [0.08705342, 0.98545351],\n",
       "        [0.08634049, 0.98517701],\n",
       "        [0.09172461, 0.98663267],\n",
       "        [0.09772691, 0.9854317 ],\n",
       "        [0.07834474, 0.98583251],\n",
       "        [0.08804318, 0.98705284],\n",
       "        [0.09680057, 0.98782882],\n",
       "        [0.08586239, 0.98565819],\n",
       "        [0.08710252, 0.98521811]]), 'cra': array([[0.09100798, 0.98530215],\n",
       "        [0.09938382, 0.98583036],\n",
       "        [0.09158409, 0.9859297 ],\n",
       "        [0.09315944, 0.98574353],\n",
       "        [0.10150455, 0.98814225],\n",
       "        [0.09988927, 0.98682309],\n",
       "        [0.08957797, 0.98620432],\n",
       "        [0.08871191, 0.9854678 ],\n",
       "        [0.09341428, 0.98592266],\n",
       "        [0.10413894, 0.98627882],\n",
       "        [0.08988044, 0.98707966],\n",
       "        [0.09943142, 0.9866707 ],\n",
       "        [0.09977829, 0.98684595],\n",
       "        [0.09307993, 0.98616786],\n",
       "        [0.08574343, 0.98538247],\n",
       "        [0.10509726, 0.98724114],\n",
       "        [0.10044186, 0.98745864],\n",
       "        [0.08968368, 0.984929  ],\n",
       "        [0.09377098, 0.98665066],\n",
       "        [0.09521171, 0.98702386],\n",
       "        [0.08849211, 0.98705623],\n",
       "        [0.1033382 , 0.98811338],\n",
       "        [0.08564101, 0.98569772],\n",
       "        [0.09767682, 0.98588682],\n",
       "        [0.09891266, 0.9857025 ],\n",
       "        [0.09193963, 0.98660047],\n",
       "        [0.09474965, 0.98700354],\n",
       "        [0.10273567, 0.9880782 ],\n",
       "        [0.08978942, 0.98706604],\n",
       "        [0.09023643, 0.98541737],\n",
       "        [0.10515597, 0.98642367],\n",
       "        [0.09548382, 0.98852245],\n",
       "        [0.10040804, 0.98753045],\n",
       "        [0.08977556, 0.98553964],\n",
       "        [0.08665468, 0.98618377],\n",
       "        [0.09217368, 0.98527431],\n",
       "        [0.09813333, 0.98726966],\n",
       "        [0.09372127, 0.9875694 ],\n",
       "        [0.09563146, 0.98688928],\n",
       "        [0.09672815, 0.98623357],\n",
       "        [0.09725972, 0.98498753],\n",
       "        [0.08869407, 0.98501504],\n",
       "        [0.08192255, 0.98638496],\n",
       "        [0.09147559, 0.98655236],\n",
       "        [0.10166191, 0.98725171],\n",
       "        [0.09968695, 0.98587002],\n",
       "        [0.09270214, 0.98699246],\n",
       "        [0.0951277 , 0.98644652],\n",
       "        [0.09990431, 0.98848869],\n",
       "        [0.10132448, 0.98666508],\n",
       "        [0.09829982, 0.98638498],\n",
       "        [0.09727268, 0.98784054],\n",
       "        [0.09850275, 0.98741232],\n",
       "        [0.09179382, 0.98711128],\n",
       "        [0.09187654, 0.98675237],\n",
       "        [0.08844643, 0.98691934],\n",
       "        [0.09696971, 0.98818275],\n",
       "        [0.09473977, 0.98675808],\n",
       "        [0.09138294, 0.98700396],\n",
       "        [0.09554619, 0.9877574 ],\n",
       "        [0.09199917, 0.98665228],\n",
       "        [0.08460135, 0.98486687],\n",
       "        [0.10437775, 0.98557963],\n",
       "        [0.09826968, 0.98599013],\n",
       "        [0.09393147, 0.98648109],\n",
       "        [0.09254638, 0.9880355 ],\n",
       "        [0.10004253, 0.98726846],\n",
       "        [0.10289049, 0.98584964],\n",
       "        [0.08787856, 0.98567285],\n",
       "        [0.08980922, 0.98692368],\n",
       "        [0.09044318, 0.98824097],\n",
       "        [0.09492618, 0.98592639],\n",
       "        [0.09401244, 0.98541891],\n",
       "        [0.09268539, 0.98659192],\n",
       "        [0.09677602, 0.98638203],\n",
       "        [0.09887518, 0.9854166 ],\n",
       "        [0.09870305, 0.98631264],\n",
       "        [0.09113111, 0.98617801],\n",
       "        [0.09608565, 0.985442  ],\n",
       "        [0.10160687, 0.98789741],\n",
       "        [0.10163644, 0.98732869],\n",
       "        [0.09248202, 0.98511619],\n",
       "        [0.09445236, 0.98804752],\n",
       "        [0.09806782, 0.98788984],\n",
       "        [0.10313078, 0.98605677],\n",
       "        [0.09326148, 0.98577642],\n",
       "        [0.09910727, 0.98647576],\n",
       "        [0.08950791, 0.98467535],\n",
       "        [0.08870069, 0.98665138],\n",
       "        [0.09292475, 0.98760998],\n",
       "        [0.09215086, 0.98689655],\n",
       "        [0.0939388 , 0.98626488],\n",
       "        [0.09030819, 0.98598756],\n",
       "        [0.0976668 , 0.9875618 ],\n",
       "        [0.1071876 , 0.9862278 ],\n",
       "        [0.08707878, 0.98665193],\n",
       "        [0.09665158, 0.98806817],\n",
       "        [0.10620653, 0.98850678],\n",
       "        [0.09321877, 0.98632061],\n",
       "        [0.09360872, 0.98594478]]), 'caa': array([[0.09034599, 0.98495142],\n",
       "        [0.09941429, 0.98554315],\n",
       "        [0.09090516, 0.98560929],\n",
       "        [0.09252415, 0.98543785],\n",
       "        [0.10053251, 0.98779336],\n",
       "        [0.09928927, 0.98657636],\n",
       "        [0.0897891 , 0.98592266],\n",
       "        [0.08777803, 0.98509959],\n",
       "        [0.09336747, 0.98558223],\n",
       "        [0.10304717, 0.98592362],\n",
       "        [0.08990159, 0.98678701],\n",
       "        [0.09863525, 0.98641938],\n",
       "        [0.099528  , 0.98653448],\n",
       "        [0.09223719, 0.98580744],\n",
       "        [0.08502742, 0.98505198],\n",
       "        [0.10440288, 0.98686288],\n",
       "        [0.09948731, 0.98717811],\n",
       "        [0.08933568, 0.98463501],\n",
       "        [0.09362722, 0.98630888],\n",
       "        [0.09457133, 0.98669155],\n",
       "        [0.08795442, 0.986738  ],\n",
       "        [0.10255528, 0.98782026],\n",
       "        [0.08489097, 0.98535267],\n",
       "        [0.09662597, 0.98558388],\n",
       "        [0.0987751 , 0.98535705],\n",
       "        [0.09134902, 0.98627196],\n",
       "        [0.09446251, 0.98672029],\n",
       "        [0.10240214, 0.98779705],\n",
       "        [0.08863501, 0.98680306],\n",
       "        [0.09030053, 0.98511429],\n",
       "        [0.10483162, 0.98616691],\n",
       "        [0.09511029, 0.98820528],\n",
       "        [0.09992516, 0.98726233],\n",
       "        [0.08931627, 0.98523159],\n",
       "        [0.08629699, 0.98588212],\n",
       "        [0.09147717, 0.98494226],\n",
       "        [0.09777265, 0.98692887],\n",
       "        [0.09299881, 0.98720923],\n",
       "        [0.09530935, 0.98660004],\n",
       "        [0.09630939, 0.98591419],\n",
       "        [0.09710997, 0.98467442],\n",
       "        [0.08859088, 0.98465754],\n",
       "        [0.0816167 , 0.98612007],\n",
       "        [0.09122098, 0.98628106],\n",
       "        [0.10070217, 0.98690372],\n",
       "        [0.09918799, 0.98553222],\n",
       "        [0.09213963, 0.98665812],\n",
       "        [0.09477425, 0.98613146],\n",
       "        [0.09953644, 0.98822253],\n",
       "        [0.10071616, 0.98635818],\n",
       "        [0.09729972, 0.98605384],\n",
       "        [0.09706454, 0.98754203],\n",
       "        [0.097685  , 0.98707534],\n",
       "        [0.09121517, 0.9867797 ],\n",
       "        [0.09134947, 0.98641261],\n",
       "        [0.0877512 , 0.98664973],\n",
       "        [0.0965336 , 0.98792322],\n",
       "        [0.09404285, 0.9864382 ],\n",
       "        [0.09056869, 0.9866941 ],\n",
       "        [0.09539393, 0.98747288],\n",
       "        [0.09169849, 0.98626886],\n",
       "        [0.08465391, 0.98454356],\n",
       "        [0.10342525, 0.98523179],\n",
       "        [0.0982123 , 0.9856992 ],\n",
       "        [0.09315711, 0.98615284],\n",
       "        [0.09234355, 0.98770605],\n",
       "        [0.10035994, 0.98694536],\n",
       "        [0.10226242, 0.98553611],\n",
       "        [0.08742105, 0.98538206],\n",
       "        [0.08903183, 0.98658173],\n",
       "        [0.08975345, 0.98795979],\n",
       "        [0.09444623, 0.98565644],\n",
       "        [0.09308765, 0.98509147],\n",
       "        [0.09242946, 0.98633939],\n",
       "        [0.09644844, 0.98606292],\n",
       "        [0.09912721, 0.98507889],\n",
       "        [0.09879269, 0.98599296],\n",
       "        [0.09039272, 0.98583626],\n",
       "        [0.09579407, 0.98511289],\n",
       "        [0.1013544 , 0.98760725],\n",
       "        [0.10114553, 0.98703351],\n",
       "        [0.09252106, 0.98476274],\n",
       "        [0.09372085, 0.98773471],\n",
       "        [0.09819282, 0.98758035],\n",
       "        [0.1031509 , 0.98572585],\n",
       "        [0.09279245, 0.98544133],\n",
       "        [0.09840624, 0.98607966],\n",
       "        [0.08864067, 0.98434879],\n",
       "        [0.08808348, 0.98630571],\n",
       "        [0.09264305, 0.98732589],\n",
       "        [0.09170353, 0.98659112],\n",
       "        [0.09361976, 0.98596041],\n",
       "        [0.09018863, 0.98564675],\n",
       "        [0.09773147, 0.98721074],\n",
       "        [0.10659245, 0.98590222],\n",
       "        [0.08605494, 0.98630869],\n",
       "        [0.09575447, 0.9877055 ],\n",
       "        [0.1048601 , 0.98820663],\n",
       "        [0.09296569, 0.98602409],\n",
       "        [0.09360692, 0.98563968]])}"
      ]
     },
     "execution_count": 94,
     "metadata": {},
     "output_type": "execute_result"
    }
   ],
   "source": [
    "r"
   ]
  },
  {
   "cell_type": "code",
   "execution_count": null,
   "metadata": {},
   "outputs": [],
   "source": []
  },
  {
   "cell_type": "code",
   "execution_count": null,
   "metadata": {},
   "outputs": [],
   "source": []
  },
  {
   "cell_type": "code",
   "execution_count": null,
   "metadata": {},
   "outputs": [],
   "source": []
  },
  {
   "cell_type": "code",
   "execution_count": null,
   "metadata": {},
   "outputs": [],
   "source": [
    "# JC\n",
    "r = b_val.cross_val(b_lcp.bipartite_lcp_single, bmat_recipe_ingr, links_to_del_recipe_ingr, \n",
    "                    *('jc',), mode='lcp', loops=loops, verbose=verbose, plot=plot)\n",
    "print(np.mean(r, axis=0))\n",
    "print(np.std(r, axis=0))"
   ]
  },
  {
   "cell_type": "code",
   "execution_count": null,
   "metadata": {},
   "outputs": [],
   "source": [
    "# CJC\n",
    "r = b_val.cross_val(b_lcp.bipartite_lcp_single, bmat_recipe_ingr, links_to_del_recipe_ingr, \n",
    "                    *('cjc',), mode='lcp', loops=loops, verbose=verbose, plot=plot)\n",
    "print(np.mean(r, axis=0))\n",
    "print(np.std(r, axis=0))"
   ]
  },
  {
   "cell_type": "code",
   "execution_count": null,
   "metadata": {},
   "outputs": [],
   "source": [
    "# CRA\n",
    "r = b_val.cross_val(b_lcp.bipartite_lcp_single, bmat_recipe_ingr, links_to_del_recipe_ingr, \n",
    "                    *('cra',), mode='lcp', loops=loops, verbose=verbose, plot=plot)\n",
    "print(np.mean(r, axis=0))\n",
    "print(np.std(r, axis=0))"
   ]
  },
  {
   "cell_type": "code",
   "execution_count": null,
   "metadata": {},
   "outputs": [],
   "source": [
    "# CAR\n",
    "r = b_val.cross_val(b_lcp.bipartite_lcp_single, bmat_recipe_ingr, links_to_del_recipe_ingr, \n",
    "                    *('cn',), mode='lcp', loops=loops, verbose=verbose, plot=plot)\n",
    "print(np.mean(r, axis=0))\n",
    "print(np.std(r, axis=0))"
   ]
  },
  {
   "cell_type": "code",
   "execution_count": null,
   "metadata": {},
   "outputs": [],
   "source": [
    "# RA\n",
    "r = b_val.cross_val(b_lcp.bipartite_lcp_single, bmat_recipe_ingr, links_to_del_recipe_ingr, \n",
    "                    *('ra',), mode='lcp', loops=loops, verbose=verbose, plot=plot)\n",
    "print(np.mean(r, axis=0))\n",
    "print(np.std(r, axis=0))"
   ]
  },
  {
   "cell_type": "code",
   "execution_count": null,
   "metadata": {},
   "outputs": [],
   "source": [
    "# CPA\n",
    "r = b_val.cross_val(b_lcp.bipartite_lcp_single, bmat_recipe_ingr, links_to_del_recipe_ingr, \n",
    "                    *('cpa',), mode='lcp', loops=loops, verbose=verbose, plot=plot)\n",
    "print(np.mean(r, axis=0))\n",
    "print(np.std(r, axis=0))"
   ]
  },
  {
   "cell_type": "code",
   "execution_count": null,
   "metadata": {},
   "outputs": [],
   "source": [
    "# MI links\n",
    "r = b_val.cross_val(b_si.si_scores, bmat_recipe_ingr, links_to_del_recipe_ingr, \n",
    "                    *(b_probas.proba_comb_links_all, b_mi.mi_lcl_cc), \n",
    "                   mode='si_bp', loops=loops, verbose=verbose, plot=plot)\n",
    "print(np.mean(r, axis=0))\n",
    "print(np.std(r, axis=0))"
   ]
  },
  {
   "cell_type": "code",
   "execution_count": null,
   "metadata": {},
   "outputs": [],
   "source": [
    "# MI degree\n",
    "r = b_val.cross_val(b_si.si_scores, bmat_recipe_ingr, links_to_del_recipe_ingr, \n",
    "                    *(b_probas.proba_comb_deg_all, b_mi.mi_lcl_cc), \n",
    "                   mode='si_bp', loops=loops, verbose=verbose, plot=plot)\n",
    "print(np.mean(r, axis=0))\n",
    "print(np.std(r, axis=0))"
   ]
  },
  {
   "cell_type": "markdown",
   "metadata": {},
   "source": [
    "### Ingredient-Compound"
   ]
  },
  {
   "cell_type": "code",
   "execution_count": null,
   "metadata": {
    "scrolled": true
   },
   "outputs": [],
   "source": [
    "# CN\n",
    "r = b_val.cross_val(b_lcp.bipartite_lcp_single, bmat_ingr_comp, links_to_del_ingr_comp, \n",
    "                    *('cn',), mode='lcp', loops=loops, verbose=verbose, plot=plot)\n",
    "print(np.mean(r, axis=0))\n",
    "print(np.std(r, axis=0))"
   ]
  },
  {
   "cell_type": "code",
   "execution_count": null,
   "metadata": {},
   "outputs": [],
   "source": [
    "# LCL\n",
    "r = b_val.cross_val(b_lcp.bipartite_lcp_single, bmat_ingr_comp, links_to_del_ingr_comp, \n",
    "                    *('lcl',), mode='lcp', loops=loops, verbose=verbose, plot=plot)\n",
    "print(np.mean(r, axis=0))\n",
    "print(np.std(r, axis=0))"
   ]
  },
  {
   "cell_type": "code",
   "execution_count": null,
   "metadata": {},
   "outputs": [],
   "source": [
    "# JC\n",
    "r = b_val.cross_val(b_lcp.bipartite_lcp_single, bmat_ingr_comp, links_to_del_ingr_comp, \n",
    "                    *('jc',), mode='lcp', loops=loops, verbose=verbose, plot=plot)\n",
    "print(np.mean(r, axis=0))\n",
    "print(np.std(r, axis=0))"
   ]
  },
  {
   "cell_type": "code",
   "execution_count": null,
   "metadata": {},
   "outputs": [],
   "source": [
    "# CJC\n",
    "r = b_val.cross_val(b_lcp.bipartite_lcp_single, bmat_ingr_comp, links_to_del_ingr_comp, \n",
    "                    *('cjc',), mode='lcp', loops=loops, verbose=verbose, plot=plot)\n",
    "print(np.mean(r, axis=0))\n",
    "print(np.std(r, axis=0))"
   ]
  },
  {
   "cell_type": "code",
   "execution_count": null,
   "metadata": {},
   "outputs": [],
   "source": [
    "# CRA\n",
    "r = b_val.cross_val(b_lcp.bipartite_lcp_single, bmat_ingr_comp, links_to_del_ingr_comp, \n",
    "                    *('cra',), mode='lcp', loops=loops, verbose=verbose, plot=plot)\n",
    "print(np.mean(r, axis=0))\n",
    "print(np.std(r, axis=0))"
   ]
  },
  {
   "cell_type": "code",
   "execution_count": null,
   "metadata": {},
   "outputs": [],
   "source": [
    "# CAR\n",
    "r = b_val.cross_val(b_lcp.bipartite_lcp_single, bmat_ingr_comp, links_to_del_ingr_comp, \n",
    "                    *('cn',), mode='lcp', loops=loops, verbose=verbose, plot=plot)\n",
    "print(np.mean(r, axis=0))\n",
    "print(np.std(r, axis=0))"
   ]
  },
  {
   "cell_type": "code",
   "execution_count": null,
   "metadata": {},
   "outputs": [],
   "source": [
    "# RA\n",
    "r = b_val.cross_val(b_lcp.bipartite_lcp_single, bmat_ingr_comp, links_to_del_ingr_comp, \n",
    "                    *('ra',), mode='lcp', loops=loops, verbose=verbose, plot=plot)\n",
    "print(np.mean(r, axis=0))\n",
    "print(np.std(r, axis=0))"
   ]
  },
  {
   "cell_type": "code",
   "execution_count": null,
   "metadata": {},
   "outputs": [],
   "source": [
    "# CPA\n",
    "r = b_val.cross_val(b_lcp.bipartite_lcp_single, bmat_ingr_comp, links_to_del_ingr_comp, \n",
    "                    *('cpa',), mode='lcp', loops=loops, verbose=verbose, plot=plot)\n",
    "print(np.mean(r, axis=0))\n",
    "print(np.std(r, axis=0))"
   ]
  },
  {
   "cell_type": "code",
   "execution_count": null,
   "metadata": {},
   "outputs": [],
   "source": [
    "# MI links\n",
    "r = b_val.cross_val(b_si.si_scores, bmat_ingr_comp, links_to_del_ingr_comp, \n",
    "                    *(b_probas.proba_comb_links_all, b_mi.mi_lcl_cc), \n",
    "                   mode='si_bp', loops=loops, verbose=verbose, plot=plot)\n",
    "print(np.mean(r, axis=0))\n",
    "print(np.std(r, axis=0))"
   ]
  },
  {
   "cell_type": "code",
   "execution_count": null,
   "metadata": {},
   "outputs": [],
   "source": [
    "# MI degree\n",
    "r = b_val.cross_val(b_si.si_scores, bmat_ingr_comp, links_to_del_ingr_comp, \n",
    "                    *(b_probas.proba_comb_deg_all, b_mi.mi_lcl_cc), \n",
    "                   mode='si_bp', loops=loops, verbose=verbose, plot=plot)\n",
    "print(np.mean(r, axis=0))\n",
    "print(np.std(r, axis=0))"
   ]
  },
  {
   "cell_type": "code",
   "execution_count": null,
   "metadata": {},
   "outputs": [],
   "source": []
  }
 ],
 "metadata": {
  "kernelspec": {
   "display_name": "Python 3",
   "language": "python",
   "name": "python3"
  },
  "language_info": {
   "codemirror_mode": {
    "name": "ipython",
    "version": 3
   },
   "file_extension": ".py",
   "mimetype": "text/x-python",
   "name": "python",
   "nbconvert_exporter": "python",
   "pygments_lexer": "ipython3",
   "version": "3.6.8"
  }
 },
 "nbformat": 4,
 "nbformat_minor": 4
}
