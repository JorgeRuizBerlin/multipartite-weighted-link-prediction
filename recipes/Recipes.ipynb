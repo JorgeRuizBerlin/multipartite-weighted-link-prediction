{
 "cells": [
  {
   "cell_type": "code",
   "execution_count": 1,
   "metadata": {},
   "outputs": [],
   "source": [
    "import numpy as np\n",
    "import networkx as nx\n",
    "import matplotlib.pyplot as plt\n",
    "import pandas as pd\n",
    "from networkx.algorithms import bipartite"
   ]
  },
  {
   "cell_type": "markdown",
   "metadata": {},
   "source": [
    "### Component info"
   ]
  },
  {
   "cell_type": "code",
   "execution_count": 2,
   "metadata": {},
   "outputs": [],
   "source": [
    "comp_info = np.loadtxt('../data/recipes/comp_info.tsv', dtype=str, delimiter='\\t')"
   ]
  },
  {
   "cell_type": "code",
   "execution_count": 3,
   "metadata": {},
   "outputs": [
    {
     "data": {
      "text/plain": [
       "array([['0', 'jasmone', '488-10-8'],\n",
       "       ['1', '5-methylhexanoic_acid', '628-46-6'],\n",
       "       ['2', 'l-glutamine', '56-85-9'],\n",
       "       ...,\n",
       "       ['1104', 'guaiacol', '90-05-1'],\n",
       "       ['1105', '(+/?)-methyl_5-acetoxyhexanoate', '35234-22-1'],\n",
       "       ['1106', 'ethyl_sorbate', '2396-84-1']], dtype='<U93')"
      ]
     },
     "execution_count": 3,
     "metadata": {},
     "output_type": "execute_result"
    }
   ],
   "source": [
    "comp_info"
   ]
  },
  {
   "cell_type": "code",
   "execution_count": 4,
   "metadata": {},
   "outputs": [],
   "source": [
    "id_comp_dict = dict()\n",
    "for line in comp_info:\n",
    "    id_comp_dict[int(line[0])] = line[1]\n",
    "comp_id_dict = {v:k for k, v in id_comp_dict.items()}"
   ]
  },
  {
   "cell_type": "markdown",
   "metadata": {},
   "source": [
    "### Ingredient info"
   ]
  },
  {
   "cell_type": "code",
   "execution_count": 5,
   "metadata": {},
   "outputs": [],
   "source": [
    "ingr_info = np.loadtxt('../data/recipes/ingr_info.tsv', dtype=str, delimiter='\\t')"
   ]
  },
  {
   "cell_type": "code",
   "execution_count": 6,
   "metadata": {},
   "outputs": [
    {
     "data": {
      "text/plain": [
       "array([['0', 'magnolia_tripetala', 'flower'],\n",
       "       ['1', 'calyptranthes_parriculata', 'plant'],\n",
       "       ['2', 'chamaecyparis_pisifera_oil', 'plant derivative'],\n",
       "       ...,\n",
       "       ['1527', 'green_tea', 'plant derivative'],\n",
       "       ['1528', 'artemisia_porrecta_oil', 'plant derivative'],\n",
       "       ['1529', 'munster_cheese', 'dairy']], dtype='<U35')"
      ]
     },
     "execution_count": 6,
     "metadata": {},
     "output_type": "execute_result"
    }
   ],
   "source": [
    "ingr_info"
   ]
  },
  {
   "cell_type": "code",
   "execution_count": 7,
   "metadata": {},
   "outputs": [],
   "source": [
    "id_ingr_dict = dict()\n",
    "for line in ingr_info:\n",
    "    id_ingr_dict[int(line[0])] = line[1]\n",
    "ingr_id_dict = {v:k for k, v in id_ingr_dict.items()}"
   ]
  },
  {
   "cell_type": "markdown",
   "metadata": {},
   "source": [
    "### Recipes and regions"
   ]
  },
  {
   "cell_type": "code",
   "execution_count": 8,
   "metadata": {},
   "outputs": [],
   "source": [
    "JorgeRuizBerlinrecipes_dict = dict()\n",
    "regions_dict = dict()"
   ]
  },
  {
   "cell_type": "code",
   "execution_count": 9,
   "metadata": {},
   "outputs": [],
   "source": [
    "with open('../data/recipes/menu_recipes.txt') as f:\n",
    "    for i, line in enumerate(f):\n",
    "        alist = line.rstrip('\\n').split()\n",
    "        region = alist[0]\n",
    "        ingr = alist[1:]\n",
    "        regions_dict[i] = region\n",
    "        recipes_dict[i] = ingr"
   ]
  },
  {
   "cell_type": "code",
   "execution_count": 10,
   "metadata": {},
   "outputs": [],
   "source": [
    "id_region_dict = dict()\n",
    "region_id_dict = dict()\n",
    "for i, region in enumerate(set(regions_dict.values())):\n",
    "    id_region_dict[i] = region\n",
    "    region_id_dict[region] = i"
   ]
  },
  {
   "cell_type": "markdown",
   "metadata": {},
   "source": [
    "### Region/recipe biadjacency matrix"
   ]
  },
  {
   "cell_type": "code",
   "execution_count": 11,
   "metadata": {},
   "outputs": [],
   "source": [
    "bmat_region_recipe = np.zeros((len(id_region_dict), len(recipes_dict)))\n",
    "for recipe, region in regions_dict.items():\n",
    "    j = recipe\n",
    "    i = region_id_dict[region]\n",
    "    bmat_region_recipe[i, j] = 1"
   ]
  },
  {
   "cell_type": "code",
   "execution_count": 12,
   "metadata": {},
   "outputs": [
    {
     "data": {
      "text/plain": [
       "(8, 2458)"
      ]
     },
     "execution_count": 12,
     "metadata": {},
     "output_type": "execute_result"
    }
   ],
   "source": [
    "bmat_region_recipe.shape"
   ]
  },
  {
   "cell_type": "markdown",
   "metadata": {},
   "source": [
    "### Recipe/ingredient biadjacency matrix"
   ]
  },
  {
   "cell_type": "code",
   "execution_count": 13,
   "metadata": {},
   "outputs": [],
   "source": [
    "bmat_recipe_ingr = np.zeros((len(recipes_dict), len(id_ingr_dict)))\n",
    "for recipe, ingreds in recipes_dict.items():\n",
    "    i = recipe\n",
    "    jlist = [ingr_id_dict[x] for x in ingreds]\n",
    "    bmat_recipe_ingr[i, jlist] = 1"
   ]
  },
  {
   "cell_type": "code",
   "execution_count": 14,
   "metadata": {},
   "outputs": [
    {
     "name": "stdout",
     "output_type": "stream",
     "text": [
      "['sesame_oil', 'garlic', 'lettuce', 'beef', 'sake', 'beef_broth', 'scallion', 'oyster', 'vegetable_oil', 'soy_sauce', 'starch', 'onion']\n",
      "['onion', 'beef', 'starch', 'sake', 'soy_sauce', 'scallion', 'lettuce', 'garlic', 'vegetable_oil', 'beef_broth', 'oyster', 'sesame_oil']\n"
     ]
    }
   ],
   "source": [
    "print([id_ingr_dict[x] for x in np.argwhere(bmat_recipe_ingr[0]).flatten()])\n",
    "print(recipes_dict[0])"
   ]
  },
  {
   "cell_type": "code",
   "execution_count": 15,
   "metadata": {},
   "outputs": [
    {
     "data": {
      "text/plain": [
       "(2458, 1530)"
      ]
     },
     "execution_count": 15,
     "metadata": {},
     "output_type": "execute_result"
    }
   ],
   "source": [
    "bmat_recipe_ingr.shape"
   ]
  },
  {
   "cell_type": "markdown",
   "metadata": {},
   "source": [
    "### Ingredient/compound biadjacency matrix"
   ]
  },
  {
   "cell_type": "code",
   "execution_count": 16,
   "metadata": {},
   "outputs": [],
   "source": [
    "ingr_comp = np.loadtxt('../data/recipes/ingr_comp.tsv', dtype=int, delimiter='\\t')"
   ]
  },
  {
   "cell_type": "code",
   "execution_count": 17,
   "metadata": {},
   "outputs": [
    {
     "data": {
      "text/plain": [
       "array([[1392,  906],\n",
       "       [1259,  861],\n",
       "       [1079,  673],\n",
       "       ...,\n",
       "       [ 689,  650],\n",
       "       [ 689,  297],\n",
       "       [1080,   13]])"
      ]
     },
     "execution_count": 17,
     "metadata": {},
     "output_type": "execute_result"
    }
   ],
   "source": [
    "ingr_comp"
   ]
  },
  {
   "cell_type": "code",
   "execution_count": 18,
   "metadata": {},
   "outputs": [],
   "source": [
    "bmat_ingr_comp = np.zeros((len(id_ingr_dict), len(id_comp_dict)))\n",
    "for item in ingr_comp:\n",
    "    i, j = item\n",
    "    bmat_ingr_comp[i, j] = 1"
   ]
  },
  {
   "cell_type": "code",
   "execution_count": 19,
   "metadata": {},
   "outputs": [
    {
     "name": "stdout",
     "output_type": "stream",
     "text": [
      "1.0\n",
      "0.0\n"
     ]
    }
   ],
   "source": [
    "print(bmat_ingr_comp[1392, 906])\n",
    "print(bmat_ingr_comp[1392, 907])"
   ]
  },
  {
   "cell_type": "code",
   "execution_count": 20,
   "metadata": {},
   "outputs": [
    {
     "data": {
      "text/plain": [
       "(1530, 1107)"
      ]
     },
     "execution_count": 20,
     "metadata": {},
     "output_type": "execute_result"
    }
   ],
   "source": [
    "bmat_ingr_comp.shape"
   ]
  },
  {
   "cell_type": "markdown",
   "metadata": {},
   "source": [
    "### Setup for link prediction"
   ]
  },
  {
   "cell_type": "code",
   "execution_count": 21,
   "metadata": {},
   "outputs": [],
   "source": [
    "import os\n",
    "import sys\n",
    "linkpred_path = os.path.abspath(os.path.join('../linkpred/'))\n",
    "if linkpred_path not in sys.path:\n",
    "    sys.path.append(linkpred_path)\n",
    "\n",
    "import b_lcp, b_mi, b_probas, b_si, b_util, b_val"
   ]
  },
  {
   "cell_type": "code",
   "execution_count": 22,
   "metadata": {},
   "outputs": [],
   "source": [
    "fraction = 0.1\n",
    "loops = 2 #1\n",
    "verbose=True\n",
    "plot=True"
   ]
  },
  {
   "cell_type": "code",
   "execution_count": 23,
   "metadata": {},
   "outputs": [],
   "source": [
    "# Precompute links to delete for all datasets\n",
    "links_to_del_region_recipe = b_val.get_links_to_del(bmat_region_recipe, fraction=fraction, loops=loops)\n",
    "links_to_del_recipe_ingr = b_val.get_links_to_del(bmat_recipe_ingr, fraction=fraction, loops=loops)\n",
    "links_to_del_ingr_comp = b_val.get_links_to_del(bmat_ingr_comp, fraction=fraction, loops=loops)"
   ]
  },
  {
   "cell_type": "code",
   "execution_count": null,
   "metadata": {},
   "outputs": [],
   "source": []
  },
  {
   "cell_type": "markdown",
   "metadata": {},
   "source": [
    "# Jorge's approach:\n",
    "## to calculate ALL the scores for a given dataset and deleted links, then call it in the next functions"
   ]
  },
  {
   "cell_type": "code",
   "execution_count": 29,
   "metadata": {},
   "outputs": [],
   "source": [
    "def delete_links(x, links_to_del):\n",
    "    \"\"\"Deletes the specified links from an adjacency matrix.\"\"\"\n",
    "    x_ = np.copy(x)\n",
    "    for link in links_to_del:\n",
    "        x_[link[0], link[1]] = 0\n",
    "        \n",
    "    return x_"
   ]
  },
  {
   "cell_type": "code",
   "execution_count": null,
   "metadata": {},
   "outputs": [],
   "source": [
    "bmat_recipe_ingr.shape"
   ]
  },
  {
   "cell_type": "code",
   "execution_count": null,
   "metadata": {},
   "outputs": [],
   "source": [
    "links_to_del_recipe_ingr.shape"
   ]
  },
  {
   "cell_type": "code",
   "execution_count": null,
   "metadata": {},
   "outputs": [],
   "source": [
    "scores_list = []\n",
    "for i in range(loops):    \n",
    "    x_ = delete_links(bmat_recipe_ingr, links_to_del_recipe_ingr[i])\n",
    "    missing = np.argwhere(x_ == 0)\n",
    "    ## SAVE ALL THE SCORES:\n",
    "    lcp_scores = b_lcp.bipartite_lcp_all(x_, missing, verbose=verbose)\n",
    "    scores_list.append(lcp_scores)\n",
    "    \n",
    "scores_array = np.array(scores_list)"
   ]
  },
  {
   "cell_type": "code",
   "execution_count": null,
   "metadata": {},
   "outputs": [],
   "source": [
    "lcp_scores.shape"
   ]
  },
  {
   "cell_type": "code",
   "execution_count": null,
   "metadata": {},
   "outputs": [],
   "source": [
    "scores_array.shape"
   ]
  },
  {
   "cell_type": "code",
   "execution_count": null,
   "metadata": {},
   "outputs": [],
   "source": [
    "assert links_to_del_recipe_ingr.shape[0] == loops"
   ]
  },
  {
   "cell_type": "code",
   "execution_count": null,
   "metadata": {},
   "outputs": [],
   "source": [
    "metrics_list = ['lcl', 'cn', 'jc', 'car', 'cjc', 'cpa', 'ra', 'aa', 'cra', 'caa', 'cpi']\n",
    "\n",
    "def cross_val(scores, mtr, loops=10, raw_output=False, verbose=True, plot=False):\n",
    "    if raw_output:\n",
    "        scores_list = []\n",
    "        true_list = []\n",
    "    else:\n",
    "        results = np.zeros((loops, 2))\n",
    "\n",
    "    for i in range(loops):\n",
    "        if verbose:\n",
    "            print('Trial {} of {}'.format(i + 1, loops))\n",
    "        x_ = delete_links(bmat_recipe_ingr, links_to_del_recipe_ingr[i])\n",
    "        missing = np.argwhere(x_ == 0)\n",
    "        true = bmat_recipe_ingr[missing[:,0], missing[:,1]]\n",
    "        \n",
    "        metric = mtr\n",
    "        score = scores_array[i, metrics_list.index(metric)]\n",
    "        \n",
    "        if raw_output:\n",
    "            scores_list.append(score)\n",
    "            true_list.append(true)\n",
    "        else:\n",
    "            results[i] = b_val.evaluate_predictions(true, score, plot=plot)\n",
    "        \n",
    "    if raw_output:\n",
    "        return true_list, scores_list\n",
    "    else:\n",
    "        return results"
   ]
  },
  {
   "cell_type": "code",
   "execution_count": null,
   "metadata": {
    "scrolled": true
   },
   "outputs": [],
   "source": [
    "rr = cross_val(lcp_scores, 'cn', loops=loops, verbose=verbose, plot=plot)\n",
    "print(np.mean(rr, axis=0))\n",
    "print(np.std(rr, axis=0))"
   ]
  },
  {
   "cell_type": "code",
   "execution_count": null,
   "metadata": {},
   "outputs": [],
   "source": [
    "rr"
   ]
  },
  {
   "cell_type": "code",
   "execution_count": null,
   "metadata": {
    "scrolled": true
   },
   "outputs": [],
   "source": [
    "rr = cross_val(lcp_scores, 'lcl', loops=loops, verbose=verbose, plot=plot)\n",
    "print(np.mean(rr, axis=0))\n",
    "print(np.std(rr, axis=0))"
   ]
  },
  {
   "cell_type": "code",
   "execution_count": null,
   "metadata": {},
   "outputs": [],
   "source": [
    "rr"
   ]
  },
  {
   "cell_type": "markdown",
   "metadata": {},
   "source": [
    "### Recipe-Ingredient"
   ]
  },
  {
   "cell_type": "code",
   "execution_count": null,
   "metadata": {},
   "outputs": [],
   "source": [
    "# CN\n",
    "r = b_val.cross_val(b_lcp.bipartite_lcp_single, bmat_recipe_ingr, links_to_del_recipe_ingr, \n",
    "                    *('cn',), mode='lcp', loops=loops, verbose=verbose, plot=plot)\n",
    "print(np.mean(r, axis=0))\n",
    "print(np.std(r, axis=0))"
   ]
  },
  {
   "cell_type": "code",
   "execution_count": null,
   "metadata": {
    "scrolled": true
   },
   "outputs": [],
   "source": [
    "# LCL\n",
    "r = b_val.cross_val(b_lcp.bipartite_lcp_single, bmat_recipe_ingr, links_to_del_recipe_ingr, \n",
    "                    *('lcl',), mode='lcp', loops=loops, verbose=verbose, plot=plot)\n",
    "print(np.mean(r, axis=0))\n",
    "print(np.std(r, axis=0))"
   ]
  },
  {
   "cell_type": "code",
   "execution_count": null,
   "metadata": {},
   "outputs": [],
   "source": []
  },
  {
   "cell_type": "markdown",
   "metadata": {},
   "source": [
    "# IT WORKS!\n",
    "## Now I have to parallelize the trials"
   ]
  },
  {
   "cell_type": "code",
   "execution_count": 24,
   "metadata": {},
   "outputs": [],
   "source": [
    "import dask"
   ]
  },
  {
   "cell_type": "code",
   "execution_count": 30,
   "metadata": {},
   "outputs": [],
   "source": [
    "from dask import delayed  # DON'T CHANGE (explained later)\n",
    "\n",
    "def func(i):\n",
    "    \"\"\"A dummy CPU-bound function.\"\"\"\n",
    "    print(f'Function {i} starting...')\n",
    "    #n = 2e7\n",
    "    #while n > 0:\n",
    "    #    n -= 1\n",
    "    scores_list = []\n",
    "    for j in range(1):#loops):    \n",
    "        x_ = delete_links(bmat_recipe_ingr, links_to_del_recipe_ingr[j])\n",
    "        missing = np.argwhere(x_ == 0)\n",
    "        ## SAVE ALL THE SCORES:\n",
    "        lcp_scores = b_lcp.bipartite_lcp_all(x_, missing, verbose=verbose)\n",
    "        scores_list.append(lcp_scores)\n",
    "    print(f'Function {i} done')\n",
    "    \n",
    "    return i#, scores_array\n",
    "\n",
    "lazy = [delayed(func)(i) for i in range(2)]  # DON'T CHANGE (explained later)"
   ]
  },
  {
   "cell_type": "code",
   "execution_count": 31,
   "metadata": {},
   "outputs": [
    {
     "name": "stdout",
     "output_type": "stream",
     "text": [
      "Function 0 starting...\n",
      "Computing bipartite LCP\n"
     ]
    },
    {
     "name": "stderr",
     "output_type": "stream",
     "text": [
      "/home/jorge/Documents/2019/Camerino/ASSP2019/multipartite-weighted-link-prediction/linkpred/b_lcp.py:100: RuntimeWarning: invalid value encountered in double_scalars\n",
      "  cpi[i] = np.log2(fav / (fav + unfav))\n",
      "/home/jorge/Documents/2019/Camerino/ASSP2019/multipartite-weighted-link-prediction/linkpred/b_lcp.py:98: RuntimeWarning: overflow encountered in double_scalars\n",
      "  fav = comb(x.shape[1]-1, deg_r-1) * comb(x.shape[0]-1, deg_c-1)\n",
      "/home/jorge/Documents/2019/Camerino/ASSP2019/multipartite-weighted-link-prediction/linkpred/b_lcp.py:99: RuntimeWarning: overflow encountered in double_scalars\n",
      "  unfav = comb(x.shape[1]-1, deg_r) * comb(x.shape[0]-1, deg_c)\n",
      "/home/jorge/Documents/2019/Camerino/ASSP2019/multipartite-weighted-link-prediction/linkpred/b_lcp.py:100: RuntimeWarning: divide by zero encountered in log2\n",
      "  cpi[i] = np.log2(fav / (fav + unfav))\n"
     ]
    },
    {
     "name": "stdout",
     "output_type": "stream",
     "text": [
      "100.00 %, 3.69 minutes\n",
      "Function 0 done\n",
      "Function 1 starting...\n",
      "Computing bipartite LCP\n",
      "100.00 %, 3.69 minutes\n",
      "Function 1 done\n",
      "([0, 1],)\n",
      "CPU times: user 7min 27s, sys: 1.02 s, total: 7min 28s\n",
      "Wall time: 7min 24s\n"
     ]
    }
   ],
   "source": [
    "%%time\n",
    "scheduler = 'single-threaded'\n",
    "res = dask.compute(lazy, scheduler=scheduler)\n",
    "print(res)"
   ]
  },
  {
   "cell_type": "code",
   "execution_count": 32,
   "metadata": {},
   "outputs": [
    {
     "name": "stdout",
     "output_type": "stream",
     "text": [
      "Function 0 starting...\n",
      "Function 1 starting...\n",
      "Computing bipartite LCP\n",
      "Computing bipartite LCP\n"
     ]
    },
    {
     "name": "stderr",
     "output_type": "stream",
     "text": [
      "/home/jorge/Documents/2019/Camerino/ASSP2019/multipartite-weighted-link-prediction/linkpred/b_lcp.py:100: RuntimeWarning: invalid value encountered in double_scalars\n",
      "  cpi[i] = np.log2(fav / (fav + unfav))\n",
      "/home/jorge/Documents/2019/Camerino/ASSP2019/multipartite-weighted-link-prediction/linkpred/b_lcp.py:98: RuntimeWarning: overflow encountered in double_scalars\n",
      "  fav = comb(x.shape[1]-1, deg_r-1) * comb(x.shape[0]-1, deg_c-1)\n",
      "/home/jorge/Documents/2019/Camerino/ASSP2019/multipartite-weighted-link-prediction/linkpred/b_lcp.py:99: RuntimeWarning: overflow encountered in double_scalars\n",
      "  unfav = comb(x.shape[1]-1, deg_r) * comb(x.shape[0]-1, deg_c)\n",
      "/home/jorge/Documents/2019/Camerino/ASSP2019/multipartite-weighted-link-prediction/linkpred/b_lcp.py:100: RuntimeWarning: divide by zero encountered in log2\n",
      "  cpi[i] = np.log2(fav / (fav + unfav))\n"
     ]
    },
    {
     "name": "stdout",
     "output_type": "stream",
     "text": [
      "100.00 %, 6.58 minutes\n",
      "Function 0 done\n",
      "100.00 %, 6.61 minutes\n",
      "Function 1 done\n",
      "([0, 1],)\n",
      "CPU times: user 9min 36s, sys: 27.3 s, total: 10min 4s\n",
      "Wall time: 6min 37s\n"
     ]
    }
   ],
   "source": [
    "%%time\n",
    "scheduler = 'threads'\n",
    "res = dask.compute(lazy, scheduler=scheduler)\n",
    "print(res)"
   ]
  },
  {
   "cell_type": "code",
   "execution_count": 33,
   "metadata": {},
   "outputs": [
    {
     "name": "stdout",
     "output_type": "stream",
     "text": [
      "Function 0 starting...\n",
      "Function 1 starting...\n",
      "Computing bipartite LCP\n"
     ]
    },
    {
     "name": "stderr",
     "output_type": "stream",
     "text": [
      "/home/jorge/Documents/2019/Camerino/ASSP2019/multipartite-weighted-link-prediction/linkpred/b_lcp.py:100: RuntimeWarning: invalid value encountered in double_scalars\n",
      "  cpi[i] = np.log2(fav / (fav + unfav))\n"
     ]
    },
    {
     "name": "stdout",
     "output_type": "stream",
     "text": [
      "Computing bipartite LCP\n"
     ]
    },
    {
     "name": "stderr",
     "output_type": "stream",
     "text": [
      "/home/jorge/Documents/2019/Camerino/ASSP2019/multipartite-weighted-link-prediction/linkpred/b_lcp.py:100: RuntimeWarning: invalid value encountered in double_scalars\n",
      "  cpi[i] = np.log2(fav / (fav + unfav))\n",
      "/home/jorge/Documents/2019/Camerino/ASSP2019/multipartite-weighted-link-prediction/linkpred/b_lcp.py:98: RuntimeWarning: overflow encountered in double_scalars\n",
      "  fav = comb(x.shape[1]-1, deg_r-1) * comb(x.shape[0]-1, deg_c-1)\n",
      "/home/jorge/Documents/2019/Camerino/ASSP2019/multipartite-weighted-link-prediction/linkpred/b_lcp.py:99: RuntimeWarning: overflow encountered in double_scalars\n",
      "  unfav = comb(x.shape[1]-1, deg_r) * comb(x.shape[0]-1, deg_c)\n",
      "/home/jorge/Documents/2019/Camerino/ASSP2019/multipartite-weighted-link-prediction/linkpred/b_lcp.py:98: RuntimeWarning: overflow encountered in double_scalars\n",
      "  fav = comb(x.shape[1]-1, deg_r-1) * comb(x.shape[0]-1, deg_c-1)\n",
      "/home/jorge/Documents/2019/Camerino/ASSP2019/multipartite-weighted-link-prediction/linkpred/b_lcp.py:99: RuntimeWarning: overflow encountered in double_scalars\n",
      "  unfav = comb(x.shape[1]-1, deg_r) * comb(x.shape[0]-1, deg_c)\n",
      "/home/jorge/Documents/2019/Camerino/ASSP2019/multipartite-weighted-link-prediction/linkpred/b_lcp.py:100: RuntimeWarning: divide by zero encountered in log2\n",
      "  cpi[i] = np.log2(fav / (fav + unfav))\n",
      "/home/jorge/Documents/2019/Camerino/ASSP2019/multipartite-weighted-link-prediction/linkpred/b_lcp.py:100: RuntimeWarning: divide by zero encountered in log2\n",
      "  cpi[i] = np.log2(fav / (fav + unfav))\n"
     ]
    },
    {
     "name": "stdout",
     "output_type": "stream",
     "text": [
      "100.00 %, 4.49 minutes\n",
      "Function 0 done\n",
      "100.00 %, 4.52 minutes\n",
      "Function 1 done\n",
      "([0, 1],)\n",
      "CPU times: user 822 ms, sys: 736 ms, total: 1.56 s\n",
      "Wall time: 4min 32s\n"
     ]
    }
   ],
   "source": [
    "%%time\n",
    "scheduler = 'processes'\n",
    "res = dask.compute(lazy, scheduler=scheduler)\n",
    "print(res)"
   ]
  },
  {
   "cell_type": "code",
   "execution_count": null,
   "metadata": {},
   "outputs": [],
   "source": []
  },
  {
   "cell_type": "code",
   "execution_count": null,
   "metadata": {},
   "outputs": [],
   "source": []
  },
  {
   "cell_type": "code",
   "execution_count": null,
   "metadata": {},
   "outputs": [],
   "source": []
  },
  {
   "cell_type": "code",
   "execution_count": null,
   "metadata": {},
   "outputs": [],
   "source": []
  },
  {
   "cell_type": "code",
   "execution_count": null,
   "metadata": {},
   "outputs": [],
   "source": [
    "# JC\n",
    "r = b_val.cross_val(b_lcp.bipartite_lcp_single, bmat_recipe_ingr, links_to_del_recipe_ingr, \n",
    "                    *('jc',), mode='lcp', loops=loops, verbose=verbose, plot=plot)\n",
    "print(np.mean(r, axis=0))\n",
    "print(np.std(r, axis=0))"
   ]
  },
  {
   "cell_type": "code",
   "execution_count": null,
   "metadata": {},
   "outputs": [],
   "source": [
    "# CJC\n",
    "r = b_val.cross_val(b_lcp.bipartite_lcp_single, bmat_recipe_ingr, links_to_del_recipe_ingr, \n",
    "                    *('cjc',), mode='lcp', loops=loops, verbose=verbose, plot=plot)\n",
    "print(np.mean(r, axis=0))\n",
    "print(np.std(r, axis=0))"
   ]
  },
  {
   "cell_type": "code",
   "execution_count": null,
   "metadata": {},
   "outputs": [],
   "source": [
    "# CRA\n",
    "r = b_val.cross_val(b_lcp.bipartite_lcp_single, bmat_recipe_ingr, links_to_del_recipe_ingr, \n",
    "                    *('cra',), mode='lcp', loops=loops, verbose=verbose, plot=plot)\n",
    "print(np.mean(r, axis=0))\n",
    "print(np.std(r, axis=0))"
   ]
  },
  {
   "cell_type": "code",
   "execution_count": null,
   "metadata": {},
   "outputs": [],
   "source": [
    "# CAR\n",
    "r = b_val.cross_val(b_lcp.bipartite_lcp_single, bmat_recipe_ingr, links_to_del_recipe_ingr, \n",
    "                    *('cn',), mode='lcp', loops=loops, verbose=verbose, plot=plot)\n",
    "print(np.mean(r, axis=0))\n",
    "print(np.std(r, axis=0))"
   ]
  },
  {
   "cell_type": "code",
   "execution_count": null,
   "metadata": {},
   "outputs": [],
   "source": [
    "# RA\n",
    "r = b_val.cross_val(b_lcp.bipartite_lcp_single, bmat_recipe_ingr, links_to_del_recipe_ingr, \n",
    "                    *('ra',), mode='lcp', loops=loops, verbose=verbose, plot=plot)\n",
    "print(np.mean(r, axis=0))\n",
    "print(np.std(r, axis=0))"
   ]
  },
  {
   "cell_type": "code",
   "execution_count": null,
   "metadata": {},
   "outputs": [],
   "source": [
    "# CPA\n",
    "r = b_val.cross_val(b_lcp.bipartite_lcp_single, bmat_recipe_ingr, links_to_del_recipe_ingr, \n",
    "                    *('cpa',), mode='lcp', loops=loops, verbose=verbose, plot=plot)\n",
    "print(np.mean(r, axis=0))\n",
    "print(np.std(r, axis=0))"
   ]
  },
  {
   "cell_type": "code",
   "execution_count": null,
   "metadata": {},
   "outputs": [],
   "source": [
    "# MI links\n",
    "r = b_val.cross_val(b_si.si_scores, bmat_recipe_ingr, links_to_del_recipe_ingr, \n",
    "                    *(b_probas.proba_comb_links_all, b_mi.mi_lcl_cc), \n",
    "                   mode='si_bp', loops=loops, verbose=verbose, plot=plot)\n",
    "print(np.mean(r, axis=0))\n",
    "print(np.std(r, axis=0))"
   ]
  },
  {
   "cell_type": "code",
   "execution_count": null,
   "metadata": {},
   "outputs": [],
   "source": [
    "# MI degree\n",
    "r = b_val.cross_val(b_si.si_scores, bmat_recipe_ingr, links_to_del_recipe_ingr, \n",
    "                    *(b_probas.proba_comb_deg_all, b_mi.mi_lcl_cc), \n",
    "                   mode='si_bp', loops=loops, verbose=verbose, plot=plot)\n",
    "print(np.mean(r, axis=0))\n",
    "print(np.std(r, axis=0))"
   ]
  },
  {
   "cell_type": "markdown",
   "metadata": {},
   "source": [
    "### Ingredient-Compound"
   ]
  },
  {
   "cell_type": "code",
   "execution_count": null,
   "metadata": {
    "scrolled": true
   },
   "outputs": [],
   "source": [
    "# CN\n",
    "r = b_val.cross_val(b_lcp.bipartite_lcp_single, bmat_ingr_comp, links_to_del_ingr_comp, \n",
    "                    *('cn',), mode='lcp', loops=loops, verbose=verbose, plot=plot)\n",
    "print(np.mean(r, axis=0))\n",
    "print(np.std(r, axis=0))"
   ]
  },
  {
   "cell_type": "code",
   "execution_count": null,
   "metadata": {},
   "outputs": [],
   "source": [
    "# LCL\n",
    "r = b_val.cross_val(b_lcp.bipartite_lcp_single, bmat_ingr_comp, links_to_del_ingr_comp, \n",
    "                    *('lcl',), mode='lcp', loops=loops, verbose=verbose, plot=plot)\n",
    "print(np.mean(r, axis=0))\n",
    "print(np.std(r, axis=0))"
   ]
  },
  {
   "cell_type": "code",
   "execution_count": null,
   "metadata": {},
   "outputs": [],
   "source": [
    "# JC\n",
    "r = b_val.cross_val(b_lcp.bipartite_lcp_single, bmat_ingr_comp, links_to_del_ingr_comp, \n",
    "                    *('jc',), mode='lcp', loops=loops, verbose=verbose, plot=plot)\n",
    "print(np.mean(r, axis=0))\n",
    "print(np.std(r, axis=0))"
   ]
  },
  {
   "cell_type": "code",
   "execution_count": null,
   "metadata": {},
   "outputs": [],
   "source": [
    "# CJC\n",
    "r = b_val.cross_val(b_lcp.bipartite_lcp_single, bmat_ingr_comp, links_to_del_ingr_comp, \n",
    "                    *('cjc',), mode='lcp', loops=loops, verbose=verbose, plot=plot)\n",
    "print(np.mean(r, axis=0))\n",
    "print(np.std(r, axis=0))"
   ]
  },
  {
   "cell_type": "code",
   "execution_count": null,
   "metadata": {},
   "outputs": [],
   "source": [
    "# CRA\n",
    "r = b_val.cross_val(b_lcp.bipartite_lcp_single, bmat_ingr_comp, links_to_del_ingr_comp, \n",
    "                    *('cra',), mode='lcp', loops=loops, verbose=verbose, plot=plot)\n",
    "print(np.mean(r, axis=0))\n",
    "print(np.std(r, axis=0))"
   ]
  },
  {
   "cell_type": "code",
   "execution_count": null,
   "metadata": {},
   "outputs": [],
   "source": [
    "# CAR\n",
    "r = b_val.cross_val(b_lcp.bipartite_lcp_single, bmat_ingr_comp, links_to_del_ingr_comp, \n",
    "                    *('cn',), mode='lcp', loops=loops, verbose=verbose, plot=plot)\n",
    "print(np.mean(r, axis=0))\n",
    "print(np.std(r, axis=0))"
   ]
  },
  {
   "cell_type": "code",
   "execution_count": null,
   "metadata": {},
   "outputs": [],
   "source": [
    "# RA\n",
    "r = b_val.cross_val(b_lcp.bipartite_lcp_single, bmat_ingr_comp, links_to_del_ingr_comp, \n",
    "                    *('ra',), mode='lcp', loops=loops, verbose=verbose, plot=plot)\n",
    "print(np.mean(r, axis=0))\n",
    "print(np.std(r, axis=0))"
   ]
  },
  {
   "cell_type": "code",
   "execution_count": null,
   "metadata": {},
   "outputs": [],
   "source": [
    "# CPA\n",
    "r = b_val.cross_val(b_lcp.bipartite_lcp_single, bmat_ingr_comp, links_to_del_ingr_comp, \n",
    "                    *('cpa',), mode='lcp', loops=loops, verbose=verbose, plot=plot)\n",
    "print(np.mean(r, axis=0))\n",
    "print(np.std(r, axis=0))"
   ]
  },
  {
   "cell_type": "code",
   "execution_count": null,
   "metadata": {},
   "outputs": [],
   "source": [
    "# MI links\n",
    "r = b_val.cross_val(b_si.si_scores, bmat_ingr_comp, links_to_del_ingr_comp, \n",
    "                    *(b_probas.proba_comb_links_all, b_mi.mi_lcl_cc), \n",
    "                   mode='si_bp', loops=loops, verbose=verbose, plot=plot)\n",
    "print(np.mean(r, axis=0))\n",
    "print(np.std(r, axis=0))"
   ]
  },
  {
   "cell_type": "code",
   "execution_count": null,
   "metadata": {},
   "outputs": [],
   "source": [
    "# MI degree\n",
    "r = b_val.cross_val(b_si.si_scores, bmat_ingr_comp, links_to_del_ingr_comp, \n",
    "                    *(b_probas.proba_comb_deg_all, b_mi.mi_lcl_cc), \n",
    "                   mode='si_bp', loops=loops, verbose=verbose, plot=plot)\n",
    "print(np.mean(r, axis=0))\n",
    "print(np.std(r, axis=0))"
   ]
  },
  {
   "cell_type": "code",
   "execution_count": null,
   "metadata": {},
   "outputs": [],
   "source": []
  }
 ],
 "metadata": {
  "kernelspec": {
   "display_name": "Python 3",
   "language": "python",
   "name": "python3"
  },
  "language_info": {
   "codemirror_mode": {
    "name": "ipython",
    "version": 3
   },
   "file_extension": ".py",
   "mimetype": "text/x-python",
   "name": "python",
   "nbconvert_exporter": "python",
   "pygments_lexer": "ipython3",
   "version": "3.6.8"
  }
 },
 "nbformat": 4,
 "nbformat_minor": 4
}
