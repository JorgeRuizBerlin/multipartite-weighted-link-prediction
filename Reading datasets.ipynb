{
 "cells": [
  {
   "cell_type": "code",
   "execution_count": 1,
   "metadata": {
    "collapsed": true
   },
   "outputs": [],
   "source": [
    "import numpy as np\n",
    "import pandas as pd"
   ]
  },
  {
   "cell_type": "code",
   "execution_count": 2,
   "metadata": {
    "collapsed": false
   },
   "outputs": [],
   "source": [
    "def load_tripartite_food_data():\n",
    "\n",
    "    epic = np.array(pd.read_csv('epic_recipes.txt', header=None))\n",
    "    allr = np.array(pd.read_csv('allr_recipes.txt', header=None))\n",
    "    menu = np.array(pd.read_csv('menu_recipes.txt', header=None))\n",
    "\n",
    "    ingr_comp = np.array(pd.read_csv('ingr_comp.tsv', sep='\\t'))\n",
    "    ingr_info = np.array(pd.read_csv('ingr_info.tsv', sep='\\t'))\n",
    "    comp_info = np.array(pd.read_csv('comp_info.tsv', sep='\\t'))\n",
    "    \n",
    "    # lists of the nodes in each class\n",
    "    recipe_ingr = np.concatenate(([x for l in epic[:,0] for x in l.split('\\t')[1:]], [x for l in allr[:,0] for x in l.split('\\t')[1:]], [x for l in menu[:,0] for x in l.split('\\t')[1:]]))\n",
    "    recipe_ingr_list = np.unique(recipe_ingr)\n",
    "    ingr_list = np.unique(ingr_info[:,1])\n",
    "    comp_list = np.unique(comp_info[:,1])\n",
    "    \n",
    "    #list of recipes\n",
    "    recipes_list_of_lists = [r.split('\\t')[1:] for r in epic[:,0]] + [r.split('\\t')[1:] for r in allr[:,0]] + [r.split('\\t')[1:] for r in menu[:,0]]\n",
    "\n",
    "    # dictionaries of ingredients and compunds\n",
    "    ingr_dict = {i:idx for idx, i in enumerate(ingr_list)}\n",
    "    rev_ingr_dict = {value:key for key,value in ingr_dict.items()}\n",
    "    comp_dict = {c:idx for idx, c in enumerate(comp_list)}\n",
    "    rev_comp_dict = {value:key for key,value in comp_dict.items()}\n",
    "    \n",
    "    recipes_ingredients = np.zeros((len(recipes_list_of_lists), ingr_list.size), dtype=np.int32)\n",
    "    for i, r in enumerate(recipes_list_of_lists):\n",
    "        for j in [ingr_dict[k] for k in r]:\n",
    "            recipes_ingredients[i,j] = 1\n",
    "\n",
    "    ingredients_compounds = np.zeros((ingr_list.size, comp_list.size), dtype=np.int32)\n",
    "    for line in ingr_comp:\n",
    "        ingredients_compounds[line[0],line[1]] = 1\n",
    "        \n",
    "    return recipes_ingredients, ingredients_compounds"
   ]
  }
 ],
 "metadata": {
  "anaconda-cloud": {},
  "kernelspec": {
   "display_name": "Python [default]",
   "language": "python",
   "name": "python3"
  },
  "language_info": {
   "codemirror_mode": {
    "name": "ipython",
    "version": 3
   },
   "file_extension": ".py",
   "mimetype": "text/x-python",
   "name": "python",
   "nbconvert_exporter": "python",
   "pygments_lexer": "ipython3",
   "version": "3.5.2"
  }
 },
 "nbformat": 4,
 "nbformat_minor": 2
}
