{
 "cells": [
  {
   "cell_type": "code",
   "execution_count": 1,
   "metadata": {
    "collapsed": true
   },
   "outputs": [],
   "source": [
    "import numpy as np\n",
    "import pandas as pd"
   ]
  },
  {
   "cell_type": "code",
   "execution_count": 2,
   "metadata": {
    "collapsed": false,
    "scrolled": true
   },
   "outputs": [],
   "source": [
    "ratings = pd.read_csv('ratings.csv')\n",
    "ratings_array = np.array(ratings)\n",
    "\n",
    "users = np.unique(ratings_array[:,0])\n",
    "movies = np.unique(ratings_array[:,1])\n",
    "users_dict = {u:idx for idx, u in enumerate(users)}\n",
    "movies_dict = {m:idx for idx, m in enumerate(movies)}\n",
    "\n",
    "x_g = np.zeros((users.size, movies.size))\n",
    "for line in ratings_array:\n",
    "    i = users_dict[line[0]]\n",
    "    j = movies_dict[line[1]]\n",
    "    x_g[i,j] = line[2]\n",
    "    \n",
    "present_g = np.argwhere(x_g != 0)"
   ]
  },
  {
   "cell_type": "code",
   "execution_count": 3,
   "metadata": {
    "collapsed": false
   },
   "outputs": [
    {
     "data": {
      "text/plain": [
       "353083.0"
      ]
     },
     "execution_count": 3,
     "metadata": {},
     "output_type": "execute_result"
    }
   ],
   "source": [
    "np.sum(x_g)"
   ]
  },
  {
   "cell_type": "code",
   "execution_count": 4,
   "metadata": {
    "collapsed": true
   },
   "outputs": [],
   "source": [
    "atom = np.unique(x_g)[1]\n",
    "\n",
    "last_of_units=[]\n",
    "i=0\n",
    "for r, row in enumerate(present_g):\n",
    "    last_of_units.append(i)\n",
    "    atoms = int(x_g[row[0],row[1]]/atom)\n",
    "    i+=atoms\n",
    "    \n",
    "array_last_of_units = np.array(last_of_units)"
   ]
  },
  {
   "cell_type": "code",
   "execution_count": 5,
   "metadata": {
    "collapsed": true
   },
   "outputs": [],
   "source": [
    "fraction_g = 0.1\n",
    "min_weight = np.unique(x_g)[1]\n",
    "total_to_del = int(np.sum(x_g)/min_weight * fraction_g)\n",
    "random_deleted = np.random.choice(int(np.sum(x_g)/min_weight), size=total_to_del, replace=False)"
   ]
  },
  {
   "cell_type": "code",
   "execution_count": 6,
   "metadata": {
    "collapsed": true
   },
   "outputs": [],
   "source": [
    "to_delete = np.array([[r, np.argwhere(r>=array_last_of_units)[-1][-1]] for r in random_deleted])\n",
    "un, co = np.unique(to_delete[:,1], return_counts=True)\n",
    "unco = np.asarray((un, co)).T\n",
    "\n",
    "p_g = present_g[unco[:,0]]\n",
    "u_c = np.array([unco[:,1]])\n",
    "pguc = np.concatenate((p_g, u_c.T), axis=1)\n",
    "\n",
    "z = np.copy(x_g)\n",
    "for r in pguc:\n",
    "    z[r[0], r[1]] -= r[-1]*min_weight"
   ]
  },
  {
   "cell_type": "code",
   "execution_count": 7,
   "metadata": {
    "collapsed": false
   },
   "outputs": [
    {
     "data": {
      "text/plain": [
       "317775.0"
      ]
     },
     "execution_count": 7,
     "metadata": {},
     "output_type": "execute_result"
    }
   ],
   "source": [
    "np.sum(z)"
   ]
  },
  {
   "cell_type": "code",
   "execution_count": null,
   "metadata": {
    "collapsed": true
   },
   "outputs": [],
   "source": []
  }
 ],
 "metadata": {
  "anaconda-cloud": {},
  "kernelspec": {
   "display_name": "Python [default]",
   "language": "python",
   "name": "python3"
  },
  "language_info": {
   "codemirror_mode": {
    "name": "ipython",
    "version": 3
   },
   "file_extension": ".py",
   "mimetype": "text/x-python",
   "name": "python",
   "nbconvert_exporter": "python",
   "pygments_lexer": "ipython3",
   "version": "3.5.2"
  }
 },
 "nbformat": 4,
 "nbformat_minor": 2
}
